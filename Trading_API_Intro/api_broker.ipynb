{
 "cells": [
  {
   "cell_type": "code",
   "execution_count": 1,
   "metadata": {},
   "outputs": [
    {
     "name": "stdout",
     "output_type": "stream",
     "text": [
      "Collecting ib_insync\n",
      "  Downloading ib_insync-0.9.86-py3-none-any.whl (72 kB)\n",
      "     ---------------------------------------- 0.0/73.0 kB ? eta -:--:--\n",
      "     ---------------- ----------------------- 30.7/73.0 kB ? eta -:--:--\n",
      "     ---------------- ----------------------- 30.7/73.0 kB ? eta -:--:--\n",
      "     ---------------- ----------------------- 30.7/73.0 kB ? eta -:--:--\n",
      "     ---------------- ----------------------- 30.7/73.0 kB ? eta -:--:--\n",
      "     ---------------- ----------------------- 30.7/73.0 kB ? eta -:--:--\n",
      "     ---------------- ----------------------- 30.7/73.0 kB ? eta -:--:--\n",
      "     ---------------- ----------------------- 30.7/73.0 kB ? eta -:--:--\n",
      "     ---------------- ----------------------- 30.7/73.0 kB ? eta -:--:--\n",
      "     ---------------- ----------------------- 30.7/73.0 kB ? eta -:--:--\n",
      "     ---------------- ----------------------- 30.7/73.0 kB ? eta -:--:--\n",
      "     ---------------- ----------------------- 30.7/73.0 kB ? eta -:--:--\n",
      "     --------------------- ----------------- 41.0/73.0 kB 59.6 kB/s eta 0:00:01\n",
      "     --------------------- ----------------- 41.0/73.0 kB 59.6 kB/s eta 0:00:01\n",
      "     --------------------- ----------------- 41.0/73.0 kB 59.6 kB/s eta 0:00:01\n",
      "     -------------------------------- ------ 61.4/73.0 kB 78.0 kB/s eta 0:00:01\n",
      "     --------------------------------------  71.7/73.0 kB 83.7 kB/s eta 0:00:01\n",
      "     --------------------------------------- 73.0/73.0 kB 83.7 kB/s eta 0:00:00\n",
      "Collecting eventkit\n",
      "  Downloading eventkit-1.0.1-py3-none-any.whl (31 kB)\n",
      "Requirement already satisfied: nest-asyncio in c:\\users\\97250\\desktop\\sample_project_1\\env\\lib\\site-packages (from ib_insync) (1.5.6)\n",
      "Requirement already satisfied: numpy in c:\\users\\97250\\desktop\\sample_project_1\\env\\lib\\site-packages (from eventkit->ib_insync) (1.23.5)\n",
      "Installing collected packages: eventkit, ib_insync\n",
      "Successfully installed eventkit-1.0.1 ib_insync-0.9.86\n"
     ]
    }
   ],
   "source": [
    "# !pip install ib_insync"
   ]
  },
  {
   "cell_type": "code",
   "execution_count": 1,
   "metadata": {},
   "outputs": [],
   "source": [
    "from ib_insync import * \n",
    "import pandas as pd\n",
    "import numpy as np\n",
    "import matplotlib.pyplot as plt"
   ]
  },
  {
   "cell_type": "markdown",
   "metadata": {},
   "source": [
    "# API Connection"
   ]
  },
  {
   "cell_type": "code",
   "execution_count": 3,
   "metadata": {},
   "outputs": [],
   "source": [
    "# create an instance of the interactive broker\n",
    "ib = IB()\n",
    "util.startLoop() # required in Jupyter (interactive environments), not in scripts \n",
    "ib.disconnect()"
   ]
  },
  {
   "cell_type": "code",
   "execution_count": 4,
   "metadata": {},
   "outputs": [
    {
     "data": {
      "text/plain": [
       "<IB connected to 127.0.0.1:7497 clientId=1>"
      ]
     },
     "execution_count": 4,
     "metadata": {},
     "output_type": "execute_result"
    }
   ],
   "source": [
    "# Start a connection\n",
    "ib.connect()"
   ]
  },
  {
   "cell_type": "code",
   "execution_count": null,
   "metadata": {},
   "outputs": [
    {
     "data": {
      "text/plain": [
       "[Position(account='DU8048713', contract=Stock(conId=43645865, symbol='IBKR', exchange='NASDAQ', currency='USD', localSymbol='IBKR', tradingClass='NMS'), position=10.0, avgCost=80.89)]"
      ]
     },
     "execution_count": 30,
     "metadata": {},
     "output_type": "execute_result"
    }
   ],
   "source": [
    "# Check the positions...\n",
    "ib.positions()"
   ]
  },
  {
   "cell_type": "code",
   "execution_count": null,
   "metadata": {},
   "outputs": [],
   "source": [
    "ib.disconnect()"
   ]
  },
  {
   "cell_type": "markdown",
   "metadata": {},
   "source": [
    "# Contracts"
   ]
  },
  {
   "cell_type": "code",
   "execution_count": 5,
   "metadata": {},
   "outputs": [],
   "source": [
    "# Get a contract\n",
    "contract = Forex(\"EURUSD\")"
   ]
  },
  {
   "cell_type": "code",
   "execution_count": 6,
   "metadata": {},
   "outputs": [
    {
     "data": {
      "text/plain": [
       "Forex('EURUSD', exchange='IDEALPRO')"
      ]
     },
     "execution_count": 6,
     "metadata": {},
     "output_type": "execute_result"
    }
   ],
   "source": [
    "contract"
   ]
  },
  {
   "cell_type": "code",
   "execution_count": 7,
   "metadata": {},
   "outputs": [
    {
     "data": {
      "text/plain": [
       "[Forex('EURUSD', conId=12087792, exchange='IDEALPRO', localSymbol='EUR.USD', tradingClass='EUR.USD')]"
      ]
     },
     "execution_count": 7,
     "metadata": {},
     "output_type": "execute_result"
    }
   ],
   "source": [
    "# get more inrormation on the contract\n",
    "contract = ib.qualifyContracts(contract)\n",
    "contract"
   ]
  },
  {
   "cell_type": "code",
   "execution_count": 8,
   "metadata": {},
   "outputs": [
    {
     "data": {
      "text/plain": [
       "list"
      ]
     },
     "execution_count": 8,
     "metadata": {},
     "output_type": "execute_result"
    }
   ],
   "source": [
    "type(contract)"
   ]
  },
  {
   "cell_type": "code",
   "execution_count": 9,
   "metadata": {},
   "outputs": [
    {
     "data": {
      "text/plain": [
       "1"
      ]
     },
     "execution_count": 9,
     "metadata": {},
     "output_type": "execute_result"
    }
   ],
   "source": [
    "len(contract)"
   ]
  },
  {
   "cell_type": "markdown",
   "metadata": {},
   "source": [
    "**Contracts by assest class**"
   ]
  },
  {
   "cell_type": "code",
   "execution_count": 10,
   "metadata": {},
   "outputs": [],
   "source": [
    "# AAPL -> the stock name.\n",
    "# SMART -> the exchange.\n",
    "# USD -> in USD format.\n",
    "contract = Stock(\"AAPL\",\"SMART\",\"USD\")"
   ]
  },
  {
   "cell_type": "code",
   "execution_count": 11,
   "metadata": {},
   "outputs": [
    {
     "data": {
      "text/plain": [
       "[Stock(conId=265598, symbol='AAPL', exchange='SMART', primaryExchange='NASDAQ', currency='USD', localSymbol='AAPL', tradingClass='NMS')]"
      ]
     },
     "execution_count": 11,
     "metadata": {},
     "output_type": "execute_result"
    }
   ],
   "source": [
    "# get more inrormation on AAPL\n",
    "contract = ib.qualifyContracts(contract)\n",
    "contract"
   ]
  },
  {
   "cell_type": "code",
   "execution_count": 12,
   "metadata": {},
   "outputs": [],
   "source": [
    "contract = Forex(\"EURUSD\")"
   ]
  },
  {
   "cell_type": "code",
   "execution_count": 13,
   "metadata": {},
   "outputs": [
    {
     "data": {
      "text/plain": [
       "Ticker(contract=Forex('EURUSD', exchange='IDEALPRO'))"
      ]
     },
     "execution_count": 13,
     "metadata": {},
     "output_type": "execute_result"
    }
   ],
   "source": [
    "data1 = ib.reqMktData(contract)\n",
    "data1"
   ]
  },
  {
   "cell_type": "code",
   "execution_count": 14,
   "metadata": {},
   "outputs": [
    {
     "data": {
      "text/plain": [
       "nan"
      ]
     },
     "execution_count": 14,
     "metadata": {},
     "output_type": "execute_result"
    }
   ],
   "source": [
    "# ask price (the lowest price at which a seller will sell the stock)\n",
    "data1.ask"
   ]
  },
  {
   "cell_type": "code",
   "execution_count": 15,
   "metadata": {},
   "outputs": [
    {
     "data": {
      "text/plain": [
       "3500000.0"
      ]
     },
     "execution_count": 15,
     "metadata": {},
     "output_type": "execute_result"
    }
   ],
   "source": [
    "data1.askSize"
   ]
  },
  {
   "cell_type": "code",
   "execution_count": 16,
   "metadata": {},
   "outputs": [
    {
     "data": {
      "text/plain": [
       "1.05368"
      ]
     },
     "execution_count": 16,
     "metadata": {},
     "output_type": "execute_result"
    }
   ],
   "source": [
    "# Get the market price\n",
    "data1.marketPrice()"
   ]
  },
  {
   "cell_type": "code",
   "execution_count": 17,
   "metadata": {},
   "outputs": [
    {
     "data": {
      "text/plain": [
       "datetime.datetime(2023, 11, 1, 16, 34, 23, 799654, tzinfo=datetime.timezone.utc)"
      ]
     },
     "execution_count": 17,
     "metadata": {},
     "output_type": "execute_result"
    }
   ],
   "source": [
    "# date time information\n",
    "data1.time"
   ]
  },
  {
   "cell_type": "markdown",
   "metadata": {},
   "source": [
    "Make the same with AAPL stock"
   ]
  },
  {
   "cell_type": "code",
   "execution_count": 18,
   "metadata": {},
   "outputs": [
    {
     "data": {
      "text/plain": [
       "Stock(symbol='AAPL', exchange='SMART', currency='USD')"
      ]
     },
     "execution_count": 18,
     "metadata": {},
     "output_type": "execute_result"
    }
   ],
   "source": [
    "contract = Stock(\"AAPL\",\"SMART\",\"USD\")\n",
    "contract"
   ]
  },
  {
   "cell_type": "code",
   "execution_count": 19,
   "metadata": {},
   "outputs": [
    {
     "name": "stderr",
     "output_type": "stream",
     "text": [
      "Error 10168, reqId 6: Requested market data is not subscribed. Delayed market data is not enabled., contract: Stock(symbol='AAPL', exchange='SMART', currency='USD')\n"
     ]
    }
   ],
   "source": [
    "data2 = ib.reqMktData(contract)"
   ]
  },
  {
   "cell_type": "code",
   "execution_count": 21,
   "metadata": {},
   "outputs": [],
   "source": [
    "# Error , becase we can get real time data, so: "
   ]
  },
  {
   "cell_type": "code",
   "execution_count": 23,
   "metadata": {},
   "outputs": [],
   "source": [
    "# 3 = Delayed by 15 min\n",
    "ib.reqMarketDataType(3)"
   ]
  },
  {
   "cell_type": "code",
   "execution_count": 24,
   "metadata": {},
   "outputs": [],
   "source": [
    "# Now its work!\n",
    "data2 = ib.reqMktData(contract)"
   ]
  },
  {
   "cell_type": "code",
   "execution_count": 25,
   "metadata": {},
   "outputs": [
    {
     "data": {
      "text/plain": [
       "Ticker(contract=Stock(symbol='AAPL', exchange='SMART', currency='USD'), time=datetime.datetime(2023, 11, 1, 16, 36, 9, 449981, tzinfo=datetime.timezone.utc), marketDataType=3, minTick=0.01, bid=171.75, bidSize=700.0, ask=171.76, askSize=3200.0, last=171.76, lastSize=300.0, volume=200460.0, open=171.0, high=172.08, low=170.12, close=170.77)"
      ]
     },
     "execution_count": 25,
     "metadata": {},
     "output_type": "execute_result"
    },
    {
     "name": "stderr",
     "output_type": "stream",
     "text": [
      "Error 1100, reqId -1: Connectivity between IBKR and Trader Workstation has been lost.\n",
      "Error 1100, reqId -1: Connectivity between IBKR and Trader Workstation has been lost.\n",
      "Error 1102, reqId -1: Connectivity between IBKR and Trader Workstation has been restored - data maintained. All data farms are connected: cashfarm; usfarm; cashhmds; ushmds; secdefil.\n",
      "Peer closed connection.\n"
     ]
    }
   ],
   "source": [
    "data2"
   ]
  },
  {
   "cell_type": "markdown",
   "metadata": {},
   "source": [
    "#  Data Streaming for Multiple Tickers"
   ]
  },
  {
   "cell_type": "code",
   "execution_count": 1,
   "metadata": {},
   "outputs": [],
   "source": [
    "import pandas as pd\n",
    "from ib_insync import * \n",
    "util.startLoop()"
   ]
  },
  {
   "cell_type": "code",
   "execution_count": 2,
   "metadata": {},
   "outputs": [],
   "source": [
    "ib = IB()"
   ]
  },
  {
   "cell_type": "code",
   "execution_count": 3,
   "metadata": {},
   "outputs": [
    {
     "data": {
      "text/plain": [
       "<IB connected to 127.0.0.1:7497 clientId=1>"
      ]
     },
     "execution_count": 3,
     "metadata": {},
     "output_type": "execute_result"
    }
   ],
   "source": [
    "ib.connect()"
   ]
  },
  {
   "cell_type": "code",
   "execution_count": 4,
   "metadata": {},
   "outputs": [
    {
     "data": {
      "text/plain": [
       "Forex('EURUSD', exchange='IDEALPRO')"
      ]
     },
     "execution_count": 4,
     "metadata": {},
     "output_type": "execute_result"
    }
   ],
   "source": [
    "contract = Forex(\"EURUSD\")\n",
    "contract"
   ]
  },
  {
   "cell_type": "code",
   "execution_count": 6,
   "metadata": {},
   "outputs": [
    {
     "data": {
      "text/plain": [
       "Ticker(contract=Forex('EURUSD', exchange='IDEALPRO'))"
      ]
     },
     "execution_count": 6,
     "metadata": {},
     "output_type": "execute_result"
    }
   ],
   "source": [
    "data1 = ib.reqMktData(contract)\n",
    "data1"
   ]
  },
  {
   "cell_type": "code",
   "execution_count": 7,
   "metadata": {},
   "outputs": [
    {
     "data": {
      "text/plain": [
       "Ticker(contract=Forex('EURUSD', exchange='IDEALPRO'), time=datetime.datetime(2023, 11, 2, 9, 19, 26, 33015, tzinfo=datetime.timezone.utc), minTick=1e-05, bid=1.06099, bidSize=4000000.0, ask=1.06102, askSize=4000000.0, prevBid=1.061, prevBidSize=2000000.0, prevAsk=1.06101, prevAskSize=3000000.0, high=1.06125, low=1.0568, close=1.057, halted=0.0, ticks=[TickData(time=datetime.datetime(2023, 11, 2, 9, 19, 26, 33015, tzinfo=datetime.timezone.utc), tickType=0, price=1.06099, size=4000000.0), TickData(time=datetime.datetime(2023, 11, 2, 9, 19, 26, 33015, tzinfo=datetime.timezone.utc), tickType=3, price=1.06102, size=4000000.0)])"
      ]
     },
     "execution_count": 7,
     "metadata": {},
     "output_type": "execute_result"
    }
   ],
   "source": [
    "data1"
   ]
  },
  {
   "cell_type": "code",
   "execution_count": 8,
   "metadata": {},
   "outputs": [
    {
     "data": {
      "text/plain": [
       "1.06101"
      ]
     },
     "execution_count": 8,
     "metadata": {},
     "output_type": "execute_result"
    }
   ],
   "source": [
    "data1.ask"
   ]
  },
  {
   "cell_type": "code",
   "execution_count": 9,
   "metadata": {},
   "outputs": [
    {
     "data": {
      "text/plain": [
       "1.061"
      ]
     },
     "execution_count": 9,
     "metadata": {},
     "output_type": "execute_result"
    }
   ],
   "source": [
    "data1.bid"
   ]
  },
  {
   "cell_type": "code",
   "execution_count": 10,
   "metadata": {},
   "outputs": [
    {
     "data": {
      "text/plain": [
       "2000000.0"
      ]
     },
     "execution_count": 10,
     "metadata": {},
     "output_type": "execute_result"
    }
   ],
   "source": [
    "data1.askSize"
   ]
  },
  {
   "cell_type": "code",
   "execution_count": 11,
   "metadata": {},
   "outputs": [
    {
     "data": {
      "text/plain": [
       "1.060895"
      ]
     },
     "execution_count": 11,
     "metadata": {},
     "output_type": "execute_result"
    }
   ],
   "source": [
    "data1.marketPrice()"
   ]
  },
  {
   "cell_type": "code",
   "execution_count": 12,
   "metadata": {},
   "outputs": [
    {
     "data": {
      "text/plain": [
       "datetime.datetime(2023, 11, 2, 9, 20, 3, 293948, tzinfo=datetime.timezone.utc)"
      ]
     },
     "execution_count": 12,
     "metadata": {},
     "output_type": "execute_result"
    }
   ],
   "source": [
    "data1.time"
   ]
  },
  {
   "cell_type": "markdown",
   "metadata": {},
   "source": [
    "**Data Streaming for Multiple Tickers**"
   ]
  },
  {
   "cell_type": "code",
   "execution_count": 14,
   "metadata": {},
   "outputs": [
    {
     "name": "stdout",
     "output_type": "stream",
     "text": [
      "1.06136\n",
      "1.06137\n",
      "1.0614\n",
      "1.0614\n",
      "1.0614\n",
      "1.0614\n",
      "1.0614\n",
      "1.0614\n",
      "1.06142\n",
      "1.06142\n"
     ]
    }
   ],
   "source": [
    "for i in range(10):\n",
    "    print(round(data1.marketPrice(),5))\n",
    "    ib.sleep(1)"
   ]
  },
  {
   "cell_type": "markdown",
   "metadata": {},
   "source": [
    "# Contracts (advanced)"
   ]
  },
  {
   "cell_type": "markdown",
   "metadata": {},
   "source": [
    "**Case  (1): unambiguous (one contract exsist)**"
   ]
  },
  {
   "cell_type": "code",
   "execution_count": 17,
   "metadata": {},
   "outputs": [],
   "source": [
    "contract = Stock(\"AAPL\",\"SMART\",\"USD\")"
   ]
  },
  {
   "cell_type": "code",
   "execution_count": 18,
   "metadata": {},
   "outputs": [
    {
     "data": {
      "text/plain": [
       "Stock(symbol='AAPL', exchange='SMART', currency='USD')"
      ]
     },
     "execution_count": 18,
     "metadata": {},
     "output_type": "execute_result"
    }
   ],
   "source": [
    "contract"
   ]
  },
  {
   "cell_type": "code",
   "execution_count": 20,
   "metadata": {},
   "outputs": [],
   "source": [
    "cds = ib.reqContractDetails(contract)"
   ]
  },
  {
   "cell_type": "code",
   "execution_count": 21,
   "metadata": {},
   "outputs": [
    {
     "data": {
      "text/plain": [
       "[ContractDetails(contract=Contract(secType='STK', conId=265598, symbol='AAPL', exchange='SMART', primaryExchange='NASDAQ', currency='USD', localSymbol='AAPL', tradingClass='NMS'), marketName='NMS', minTick=0.01, orderTypes='ACTIVETIM,AD,ADJUST,ALERT,ALGO,ALLOC,AON,AVGCOST,BASKET,BENCHPX,CASHQTY,COND,CONDORDER,DARKONLY,DARKPOLL,DAY,DEACT,DEACTDIS,DEACTEOD,DIS,DUR,GAT,GTC,GTD,GTT,HID,IBKRATS,ICE,IMB,IOC,LIT,LMT,LOC,MIDPX,MIT,MKT,MOC,MTL,NGCOMB,NODARK,NONALGO,OCA,OPG,OPGREROUT,PEGBENCH,PEGMID,POSTATS,POSTONLY,PREOPGRTH,PRICECHK,REL,REL2MID,RELPCTOFS,RPI,RTH,SCALE,SCALEODD,SCALERST,SIZECHK,SMARTSTG,SNAPMID,SNAPMKT,SNAPREL,STP,STPLMT,SWEEP,TRAIL,TRAILLIT,TRAILLMT,TRAILMIT,WHATIF', validExchanges='SMART,AMEX,NYSE,CBOE,PHLX,ISE,CHX,ARCA,ISLAND,DRCTEDGE,BEX,BATS,EDGEA,JEFFALGO,BYX,IEX,EDGX,FOXRIVER,PEARL,NYSENAT,LTSE,MEMX,IBEOS,OVERNIGHT,PSX', priceMagnifier=1, underConId=0, longName='APPLE INC', contractMonth='', industry='Technology', category='Computers', subcategory='Computers', timeZoneId='US/Eastern', tradingHours='20231102:0400-20231102:2000;20231103:0400-20231103:2000;20231104:CLOSED;20231105:CLOSED;20231106:0400-20231106:2000;20231107:0400-20231107:2000', liquidHours='20231102:0930-20231102:1600;20231103:0930-20231103:1600;20231104:CLOSED;20231105:CLOSED;20231106:0930-20231106:1600;20231107:0930-20231107:1600', evRule='', evMultiplier=0, mdSizeMultiplier=1, aggGroup=1, underSymbol='', underSecType='', marketRuleIds='26,26,26,26,26,26,26,26,26,26,26,26,26,26,26,26,26,26,26,26,26,26,26,26,26', secIdList=[TagValue(tag='ISIN', value='US0378331005')], realExpirationDate='', lastTradeTime='', stockType='COMMON', minSize=0.0001, sizeIncrement=0.0001, suggestedSizeIncrement=100.0, cusip='', ratings='', descAppend='', bondType='', couponType='', callable=False, putable=False, coupon=0, convertible=False, maturity='', issueDate='', nextOptionDate='', nextOptionType='', nextOptionPartial=False, notes='')]"
      ]
     },
     "execution_count": 21,
     "metadata": {},
     "output_type": "execute_result"
    }
   ],
   "source": [
    "cds"
   ]
  },
  {
   "cell_type": "code",
   "execution_count": 22,
   "metadata": {},
   "outputs": [
    {
     "data": {
      "text/plain": [
       "1"
      ]
     },
     "execution_count": 22,
     "metadata": {},
     "output_type": "execute_result"
    }
   ],
   "source": [
    "len(cds)"
   ]
  },
  {
   "cell_type": "code",
   "execution_count": 24,
   "metadata": {},
   "outputs": [
    {
     "data": {
      "text/plain": [
       "(Contract(secType='STK', conId=265598, symbol='AAPL', exchange='SMART', primaryExchange='NASDAQ', currency='USD', localSymbol='AAPL', tradingClass='NMS'),\n",
       " 265598)"
      ]
     },
     "execution_count": 24,
     "metadata": {},
     "output_type": "execute_result"
    }
   ],
   "source": [
    "cds[0].contract, cds[0].contract.conId"
   ]
  },
  {
   "cell_type": "markdown",
   "metadata": {},
   "source": [
    "**Case (2): ambiguous (nuktiple contracts)**"
   ]
  },
  {
   "cell_type": "code",
   "execution_count": 25,
   "metadata": {},
   "outputs": [],
   "source": [
    "contract = Stock(\"AAPL\")"
   ]
  },
  {
   "cell_type": "code",
   "execution_count": 26,
   "metadata": {},
   "outputs": [
    {
     "data": {
      "text/plain": [
       "Stock(symbol='AAPL')"
      ]
     },
     "execution_count": 26,
     "metadata": {},
     "output_type": "execute_result"
    }
   ],
   "source": [
    "contract"
   ]
  },
  {
   "cell_type": "code",
   "execution_count": 27,
   "metadata": {},
   "outputs": [],
   "source": [
    "cds = ib.reqContractDetails(contract)"
   ]
  },
  {
   "cell_type": "code",
   "execution_count": 30,
   "metadata": {},
   "outputs": [
    {
     "data": {
      "text/plain": [
       "31"
      ]
     },
     "execution_count": 30,
     "metadata": {},
     "output_type": "execute_result"
    }
   ],
   "source": [
    "len(cds)"
   ]
  },
  {
   "cell_type": "code",
   "execution_count": 31,
   "metadata": {},
   "outputs": [
    {
     "data": {
      "text/plain": [
       "[ContractDetails(contract=Contract(secType='STK', conId=265598, symbol='AAPL', exchange='SMART', primaryExchange='NASDAQ', currency='USD', localSymbol='AAPL', tradingClass='NMS'), marketName='NMS', minTick=0.01, orderTypes='ACTIVETIM,AD,ADJUST,ALERT,ALGO,ALLOC,AON,AVGCOST,BASKET,BENCHPX,CASHQTY,COND,CONDORDER,DARKONLY,DARKPOLL,DAY,DEACT,DEACTDIS,DEACTEOD,DIS,DUR,GAT,GTC,GTD,GTT,HID,IBKRATS,ICE,IMB,IOC,LIT,LMT,LOC,MIDPX,MIT,MKT,MOC,MTL,NGCOMB,NODARK,NONALGO,OCA,OPG,OPGREROUT,PEGBENCH,PEGMID,POSTATS,POSTONLY,PREOPGRTH,PRICECHK,REL,REL2MID,RELPCTOFS,RPI,RTH,SCALE,SCALEODD,SCALERST,SIZECHK,SMARTSTG,SNAPMID,SNAPMKT,SNAPREL,STP,STPLMT,SWEEP,TRAIL,TRAILLIT,TRAILLMT,TRAILMIT,WHATIF', validExchanges='SMART,AMEX,NYSE,CBOE,PHLX,ISE,CHX,ARCA,ISLAND,DRCTEDGE,BEX,BATS,EDGEA,JEFFALGO,BYX,IEX,EDGX,FOXRIVER,PEARL,NYSENAT,LTSE,MEMX,IBEOS,OVERNIGHT,PSX', priceMagnifier=1, underConId=0, longName='APPLE INC', contractMonth='', industry='Technology', category='Computers', subcategory='Computers', timeZoneId='US/Eastern', tradingHours='20231102:0400-20231102:2000;20231103:0400-20231103:2000;20231104:CLOSED;20231105:CLOSED;20231106:0400-20231106:2000;20231107:0400-20231107:2000', liquidHours='20231102:0930-20231102:1600;20231103:0930-20231103:1600;20231104:CLOSED;20231105:CLOSED;20231106:0930-20231106:1600;20231107:0930-20231107:1600', evRule='', evMultiplier=0, mdSizeMultiplier=1, aggGroup=1, underSymbol='', underSecType='', marketRuleIds='26,26,26,26,26,26,26,26,26,26,26,26,26,26,26,26,26,26,26,26,26,26,26,26,26', secIdList=[TagValue(tag='ISIN', value='US0378331005')], realExpirationDate='', lastTradeTime='', stockType='COMMON', minSize=0.0001, sizeIncrement=0.0001, suggestedSizeIncrement=100.0, cusip='', ratings='', descAppend='', bondType='', couponType='', callable=False, putable=False, coupon=0, convertible=False, maturity='', issueDate='', nextOptionDate='', nextOptionType='', nextOptionPartial=False, notes=''),\n",
       " ContractDetails(contract=Contract(secType='STK', conId=273982664, symbol='AAPL', exchange='SMART', primaryExchange='EBS', currency='CHF', localSymbol='AAPL', tradingClass='AAPL'), marketName='AAPL', minTick=0.001, orderTypes='ACTIVETIM,AD,ADJUST,ALERT,ALGO,ALGOLTH,ALLOC,AVGCOST,BASKET,BENCHPX,CASHQTY,COND,CONDORDER,DAY,DEACT,DEACTDIS,DEACTEOD,GAT,GTC,GTD,GTT,HID,IOC,LIT,LMT,LOC,MIT,MKT,MKT2BBO,MOC,MTL,NGCOMB,NODARK,NONALGO,OCA,OPG,PEGBENCH,REL,RELPCTOFS,RTH,RTH4MKT,SCALE,SCALERST,SIZECHK,SNAPMID,SNAPMKT,SNAPREL,STP,STPLMT,TRAIL,TRAILLIT,TRAILLMT,TRAILMIT,WHATIF', validExchanges='SMART,EBS', priceMagnifier=1, underConId=0, longName='APPLE INC', contractMonth='', industry='Technology', category='Computers', subcategory='Computers', timeZoneId='MET', tradingHours='20231102:0900-20231102:1732;20231103:0900-20231103:1732;20231104:CLOSED;20231105:CLOSED;20231106:0900-20231106:1732;20231107:0900-20231107:1732', liquidHours='20231102:0900-20231102:1732;20231103:0900-20231103:1732;20231104:CLOSED;20231105:CLOSED;20231106:0900-20231106:1732;20231107:0900-20231107:1732', evRule='', evMultiplier=0, mdSizeMultiplier=1, aggGroup=6, underSymbol='', underSecType='', marketRuleIds='579,579', secIdList=[TagValue(tag='ISIN', value='US0378331005')], realExpirationDate='', lastTradeTime='', stockType='COMMON', minSize=1.0, sizeIncrement=1.0, suggestedSizeIncrement=1.0, cusip='', ratings='', descAppend='', bondType='', couponType='', callable=False, putable=False, coupon=0, convertible=False, maturity='', issueDate='', nextOptionDate='', nextOptionType='', nextOptionPartial=False, notes=''),\n",
       " ContractDetails(contract=Contract(secType='STK', conId=493546048, symbol='AAPL', exchange='SMART', primaryExchange='LSEETF', currency='GBP', localSymbol='AAPL', tradingClass='ECE2'), marketName='ECE2', minTick=0.0005, orderTypes='ACTIVETIM,AD,ADJUST,ALERT,ALGO,ALGOLTH,ALLOC,AUC,AVGCOST,BASKET,BENCHPX,CASHQTY,COND,CONDORDER,DAY,DEACT,DEACTDIS,DEACTEOD,GAT,GTC,GTD,GTT,HID,IOC,LIT,LMT,LOC,MIT,MKT,MKT2BBO,MTL,NGCOMB,NODARK,NONALGO,OCA,PEGBENCH,RTH,RTH4MKT,SCALE,SCALERST,SIZECHK,SNAPMID,SNAPMKT,SNAPREL,STP,STPLMT,TRAIL,TRAILLIT,TRAILLMT,TRAILMIT,WHATIF', validExchanges='SMART,LSEETF', priceMagnifier=100, underConId=0, longName='LS 1X AAPL', contractMonth='', industry='', category='', subcategory='', timeZoneId='MET', tradingHours='20231102:0900-20231102:1750;20231103:0900-20231103:1750;20231104:CLOSED;20231105:CLOSED;20231106:0900-20231106:1750;20231107:0900-20231107:1750', liquidHours='20231102:0900-20231102:1750;20231103:0900-20231103:1750;20231104:CLOSED;20231105:CLOSED;20231106:0900-20231106:1750;20231107:0900-20231107:1750', evRule='', evMultiplier=0, mdSizeMultiplier=1, aggGroup=3, underSymbol='', underSecType='', marketRuleIds='532,532', secIdList=[TagValue(tag='ISIN', value='XS2337099563')], realExpirationDate='', lastTradeTime='', stockType='ETC', minSize=1.0, sizeIncrement=1.0, suggestedSizeIncrement=1.0, cusip='', ratings='', descAppend='', bondType='', couponType='', callable=False, putable=False, coupon=0, convertible=False, maturity='', issueDate='', nextOptionDate='', nextOptionType='', nextOptionPartial=False, notes=''),\n",
       " ContractDetails(contract=Contract(secType='STK', conId=532640894, symbol='AAPL', exchange='SMART', primaryExchange='AEQLIT', currency='CAD', localSymbol='AAPL', tradingClass='AAPL'), marketName='AAPL', minTick=0.005, orderTypes='ACTIVETIM,AD,ADJUST,ALERT,ALGO,ALLOC,AVGCOST,BASKET,BENCHPX,CASHQTY,COND,CONDORDER,DAY,DEACT,DEACTDIS,DEACTEOD,GAT,GTC,GTD,GTT,HID,ICE,LARGE,LIT,LMT,LOC,MINLOT,MIT,MKT,MOC,MTL,NGCOMB,NONALGO,OCA,OPG,PEGBENCH,REL,RELPCTOFS,RTH,SCALE,SCALERST,SIZECHK,SMARTSTG,SMARTSTGA,SNAPMID,SNAPMKT,SNAPREL,STP,STPLMT,TRAIL,TRAILLIT,TRAILLMT,TRAILMIT,WHATIF', validExchanges='SMART', priceMagnifier=1, underConId=0, longName='APPLE INC-CDR', contractMonth='', industry='Technology', category='Computers', subcategory='Computers', timeZoneId='US/Eastern', tradingHours='20231102:0700-20231102:1700;20231103:0700-20231103:1700;20231104:CLOSED;20231105:CLOSED;20231106:0700-20231106:1700;20231107:0700-20231107:1700', liquidHours='20231102:0930-20231102:1600;20231103:0930-20231103:1600;20231104:CLOSED;20231105:CLOSED;20231106:0930-20231106:1600;20231107:0930-20231107:1600', evRule='', evMultiplier=0, mdSizeMultiplier=1, aggGroup=11, underSymbol='', underSecType='', marketRuleIds='3029', secIdList=[TagValue(tag='ISIN', value='CA03785Y1007')], realExpirationDate='', lastTradeTime='', stockType='CANADIAN DR', minSize=0.0001, sizeIncrement=0.0001, suggestedSizeIncrement=100.0, cusip='', ratings='', descAppend='', bondType='', couponType='', callable=False, putable=False, coupon=0, convertible=False, maturity='', issueDate='', nextOptionDate='', nextOptionType='', nextOptionPartial=False, notes=''),\n",
       " ContractDetails(contract=Contract(secType='STK', conId=265598, symbol='AAPL', exchange='AMEX', primaryExchange='NASDAQ', currency='USD', localSymbol='AAPL', tradingClass='NMS'), marketName='NMS', minTick=0.01, orderTypes='ACTIVETIM,AD,ADJUST,ALERT,ALLOC,AVGCOST,BASKET,BENCHPX,CASHQTY,COND,CONDORDER,DAY,DEACT,DEACTDIS,DEACTEOD,GAT,GTC,GTD,GTT,HID,IOC,LIT,LMT,MIT,MKT,MTL,NGCOMB,NONALGO,OCA,PEGBENCH,SCALE,SCALERST,SNAPMID,SNAPMKT,SNAPREL,STP,STPLMT,TRAIL,TRAILLIT,TRAILLMT,TRAILMIT,WHATIF', validExchanges='SMART,AMEX,NYSE,CBOE,PHLX,ISE,CHX,ARCA,ISLAND,DRCTEDGE,BEX,BATS,EDGEA,JEFFALGO,BYX,IEX,EDGX,FOXRIVER,PEARL,NYSENAT,LTSE,MEMX,IBEOS,OVERNIGHT,PSX', priceMagnifier=1, underConId=0, longName='APPLE INC', contractMonth='', industry='Technology', category='Computers', subcategory='Computers', timeZoneId='US/Eastern', tradingHours='20231102:0700-20231102:2000;20231103:0700-20231103:2000;20231104:CLOSED;20231105:CLOSED;20231106:0700-20231106:2000;20231107:0700-20231107:2000', liquidHours='20231102:0700-20231102:2000;20231103:0700-20231103:2000;20231104:CLOSED;20231105:CLOSED;20231106:0700-20231106:2000;20231107:0700-20231107:2000', evRule='', evMultiplier=0, mdSizeMultiplier=1, aggGroup=1, underSymbol='', underSecType='', marketRuleIds='26,26,26,26,26,26,26,26,26,26,26,26,26,26,26,26,26,26,26,26,26,26,26,26,26', secIdList=[TagValue(tag='ISIN', value='US0378331005')], realExpirationDate='', lastTradeTime='', stockType='COMMON', minSize=0.0001, sizeIncrement=0.0001, suggestedSizeIncrement=100.0, cusip='', ratings='', descAppend='', bondType='', couponType='', callable=False, putable=False, coupon=0, convertible=False, maturity='', issueDate='', nextOptionDate='', nextOptionType='', nextOptionPartial=False, notes='')]"
      ]
     },
     "execution_count": 31,
     "metadata": {},
     "output_type": "execute_result"
    }
   ],
   "source": [
    "cds[:5]"
   ]
  },
  {
   "cell_type": "code",
   "execution_count": 35,
   "metadata": {},
   "outputs": [],
   "source": [
    "contracts = [cd.contract for cd in cds]"
   ]
  },
  {
   "cell_type": "code",
   "execution_count": 36,
   "metadata": {},
   "outputs": [
    {
     "data": {
      "text/html": [
       "<div>\n",
       "<style scoped>\n",
       "    .dataframe tbody tr th:only-of-type {\n",
       "        vertical-align: middle;\n",
       "    }\n",
       "\n",
       "    .dataframe tbody tr th {\n",
       "        vertical-align: top;\n",
       "    }\n",
       "\n",
       "    .dataframe thead th {\n",
       "        text-align: right;\n",
       "    }\n",
       "</style>\n",
       "<table border=\"1\" class=\"dataframe\">\n",
       "  <thead>\n",
       "    <tr style=\"text-align: right;\">\n",
       "      <th></th>\n",
       "      <th>secType</th>\n",
       "      <th>conId</th>\n",
       "      <th>symbol</th>\n",
       "      <th>lastTradeDateOrContractMonth</th>\n",
       "      <th>strike</th>\n",
       "      <th>right</th>\n",
       "      <th>multiplier</th>\n",
       "      <th>exchange</th>\n",
       "      <th>primaryExchange</th>\n",
       "      <th>currency</th>\n",
       "      <th>localSymbol</th>\n",
       "      <th>tradingClass</th>\n",
       "      <th>includeExpired</th>\n",
       "      <th>secIdType</th>\n",
       "      <th>secId</th>\n",
       "      <th>description</th>\n",
       "      <th>issuerId</th>\n",
       "      <th>comboLegsDescrip</th>\n",
       "      <th>comboLegs</th>\n",
       "      <th>deltaNeutralContract</th>\n",
       "    </tr>\n",
       "  </thead>\n",
       "  <tbody>\n",
       "    <tr>\n",
       "      <th>0</th>\n",
       "      <td>STK</td>\n",
       "      <td>265598</td>\n",
       "      <td>AAPL</td>\n",
       "      <td></td>\n",
       "      <td>0.0</td>\n",
       "      <td></td>\n",
       "      <td></td>\n",
       "      <td>SMART</td>\n",
       "      <td>NASDAQ</td>\n",
       "      <td>USD</td>\n",
       "      <td>AAPL</td>\n",
       "      <td>NMS</td>\n",
       "      <td>False</td>\n",
       "      <td></td>\n",
       "      <td></td>\n",
       "      <td></td>\n",
       "      <td></td>\n",
       "      <td></td>\n",
       "      <td>[]</td>\n",
       "      <td>None</td>\n",
       "    </tr>\n",
       "    <tr>\n",
       "      <th>1</th>\n",
       "      <td>STK</td>\n",
       "      <td>273982664</td>\n",
       "      <td>AAPL</td>\n",
       "      <td></td>\n",
       "      <td>0.0</td>\n",
       "      <td></td>\n",
       "      <td></td>\n",
       "      <td>SMART</td>\n",
       "      <td>EBS</td>\n",
       "      <td>CHF</td>\n",
       "      <td>AAPL</td>\n",
       "      <td>AAPL</td>\n",
       "      <td>False</td>\n",
       "      <td></td>\n",
       "      <td></td>\n",
       "      <td></td>\n",
       "      <td></td>\n",
       "      <td></td>\n",
       "      <td>[]</td>\n",
       "      <td>None</td>\n",
       "    </tr>\n",
       "    <tr>\n",
       "      <th>2</th>\n",
       "      <td>STK</td>\n",
       "      <td>493546048</td>\n",
       "      <td>AAPL</td>\n",
       "      <td></td>\n",
       "      <td>0.0</td>\n",
       "      <td></td>\n",
       "      <td></td>\n",
       "      <td>SMART</td>\n",
       "      <td>LSEETF</td>\n",
       "      <td>GBP</td>\n",
       "      <td>AAPL</td>\n",
       "      <td>ECE2</td>\n",
       "      <td>False</td>\n",
       "      <td></td>\n",
       "      <td></td>\n",
       "      <td></td>\n",
       "      <td></td>\n",
       "      <td></td>\n",
       "      <td>[]</td>\n",
       "      <td>None</td>\n",
       "    </tr>\n",
       "    <tr>\n",
       "      <th>3</th>\n",
       "      <td>STK</td>\n",
       "      <td>532640894</td>\n",
       "      <td>AAPL</td>\n",
       "      <td></td>\n",
       "      <td>0.0</td>\n",
       "      <td></td>\n",
       "      <td></td>\n",
       "      <td>SMART</td>\n",
       "      <td>AEQLIT</td>\n",
       "      <td>CAD</td>\n",
       "      <td>AAPL</td>\n",
       "      <td>AAPL</td>\n",
       "      <td>False</td>\n",
       "      <td></td>\n",
       "      <td></td>\n",
       "      <td></td>\n",
       "      <td></td>\n",
       "      <td></td>\n",
       "      <td>[]</td>\n",
       "      <td>None</td>\n",
       "    </tr>\n",
       "    <tr>\n",
       "      <th>4</th>\n",
       "      <td>STK</td>\n",
       "      <td>265598</td>\n",
       "      <td>AAPL</td>\n",
       "      <td></td>\n",
       "      <td>0.0</td>\n",
       "      <td></td>\n",
       "      <td></td>\n",
       "      <td>AMEX</td>\n",
       "      <td>NASDAQ</td>\n",
       "      <td>USD</td>\n",
       "      <td>AAPL</td>\n",
       "      <td>NMS</td>\n",
       "      <td>False</td>\n",
       "      <td></td>\n",
       "      <td></td>\n",
       "      <td></td>\n",
       "      <td></td>\n",
       "      <td></td>\n",
       "      <td>[]</td>\n",
       "      <td>None</td>\n",
       "    </tr>\n",
       "  </tbody>\n",
       "</table>\n",
       "</div>"
      ],
      "text/plain": [
       "  secType      conId symbol lastTradeDateOrContractMonth  strike right  \\\n",
       "0     STK     265598   AAPL                                  0.0         \n",
       "1     STK  273982664   AAPL                                  0.0         \n",
       "2     STK  493546048   AAPL                                  0.0         \n",
       "3     STK  532640894   AAPL                                  0.0         \n",
       "4     STK     265598   AAPL                                  0.0         \n",
       "\n",
       "  multiplier exchange primaryExchange currency localSymbol tradingClass  \\\n",
       "0               SMART          NASDAQ      USD        AAPL          NMS   \n",
       "1               SMART             EBS      CHF        AAPL         AAPL   \n",
       "2               SMART          LSEETF      GBP        AAPL         ECE2   \n",
       "3               SMART          AEQLIT      CAD        AAPL         AAPL   \n",
       "4                AMEX          NASDAQ      USD        AAPL          NMS   \n",
       "\n",
       "   includeExpired secIdType secId description issuerId comboLegsDescrip  \\\n",
       "0           False                                                         \n",
       "1           False                                                         \n",
       "2           False                                                         \n",
       "3           False                                                         \n",
       "4           False                                                         \n",
       "\n",
       "  comboLegs deltaNeutralContract  \n",
       "0        []                 None  \n",
       "1        []                 None  \n",
       "2        []                 None  \n",
       "3        []                 None  \n",
       "4        []                 None  "
      ]
     },
     "execution_count": 36,
     "metadata": {},
     "output_type": "execute_result"
    }
   ],
   "source": [
    "# Convert it to Dataframe\n",
    "util.df(contracts).head()"
   ]
  },
  {
   "cell_type": "markdown",
   "metadata": {},
   "source": [
    "# FOREX and CFD Contracts"
   ]
  },
  {
   "cell_type": "markdown",
   "metadata": {},
   "source": [
    "**FOREX**\n"
   ]
  },
  {
   "cell_type": "code",
   "execution_count": 37,
   "metadata": {},
   "outputs": [],
   "source": [
    "contract = Forex(\"EURUSD\")\n"
   ]
  },
  {
   "cell_type": "code",
   "execution_count": 38,
   "metadata": {},
   "outputs": [
    {
     "data": {
      "text/plain": [
       "Forex('EURUSD', exchange='IDEALPRO')"
      ]
     },
     "execution_count": 38,
     "metadata": {},
     "output_type": "execute_result"
    }
   ],
   "source": [
    "contract"
   ]
  },
  {
   "cell_type": "code",
   "execution_count": 39,
   "metadata": {},
   "outputs": [
    {
     "data": {
      "text/plain": [
       "[Forex('EURUSD', conId=12087792, exchange='IDEALPRO', localSymbol='EUR.USD', tradingClass='EUR.USD')]"
      ]
     },
     "execution_count": 39,
     "metadata": {},
     "output_type": "execute_result"
    }
   ],
   "source": [
    "ib.qualifyContracts(contract)"
   ]
  },
  {
   "cell_type": "code",
   "execution_count": 40,
   "metadata": {},
   "outputs": [],
   "source": [
    "data = ib.reqMktData(contract)"
   ]
  },
  {
   "cell_type": "code",
   "execution_count": 41,
   "metadata": {},
   "outputs": [
    {
     "data": {
      "text/plain": [
       "Ticker(contract=Forex('EURUSD', conId=12087792, exchange='IDEALPRO', localSymbol='EUR.USD', tradingClass='EUR.USD'), time=datetime.datetime(2023, 11, 2, 9, 44, 21, 620527, tzinfo=datetime.timezone.utc), minTick=1e-05, bid=1.06199, bidSize=1500000.0, ask=1.062, askSize=40000.0, prevBidSize=500000.0, prevAsk=1.06202, prevAskSize=3000000.0, high=1.0623, low=1.0568, close=1.057, halted=0.0, ticks=[TickData(time=datetime.datetime(2023, 11, 2, 9, 44, 21, 620527, tzinfo=datetime.timezone.utc), tickType=0, price=1.06199, size=1500000.0)])"
      ]
     },
     "execution_count": 41,
     "metadata": {},
     "output_type": "execute_result"
    }
   ],
   "source": [
    "data"
   ]
  },
  {
   "cell_type": "code",
   "execution_count": 42,
   "metadata": {},
   "outputs": [
    {
     "data": {
      "text/plain": [
       "1.06197"
      ]
     },
     "execution_count": 42,
     "metadata": {},
     "output_type": "execute_result"
    }
   ],
   "source": [
    "data.ask"
   ]
  },
  {
   "cell_type": "code",
   "execution_count": 43,
   "metadata": {},
   "outputs": [
    {
     "data": {
      "text/plain": [
       "1.06191"
      ]
     },
     "execution_count": 43,
     "metadata": {},
     "output_type": "execute_result"
    }
   ],
   "source": [
    "data.bid"
   ]
  },
  {
   "cell_type": "code",
   "execution_count": 44,
   "metadata": {},
   "outputs": [
    {
     "data": {
      "text/plain": [
       "1.06197"
      ]
     },
     "execution_count": 44,
     "metadata": {},
     "output_type": "execute_result"
    }
   ],
   "source": [
    "data.marketPrice()"
   ]
  },
  {
   "cell_type": "markdown",
   "metadata": {},
   "source": [
    "**CFD**"
   ]
  },
  {
   "cell_type": "code",
   "execution_count": 45,
   "metadata": {},
   "outputs": [],
   "source": [
    "contract = CFD(\"EUR\", currency= \"USD\")"
   ]
  },
  {
   "cell_type": "code",
   "execution_count": 46,
   "metadata": {},
   "outputs": [
    {
     "data": {
      "text/plain": [
       "CFD(symbol='EUR', currency='USD')"
      ]
     },
     "execution_count": 46,
     "metadata": {},
     "output_type": "execute_result"
    }
   ],
   "source": [
    "contract"
   ]
  },
  {
   "cell_type": "code",
   "execution_count": 47,
   "metadata": {},
   "outputs": [
    {
     "data": {
      "text/plain": [
       "[CFD(conId=143916318, symbol='EUR', exchange='SMART', currency='USD', localSymbol='EUR.USD', tradingClass='EUR.USD')]"
      ]
     },
     "execution_count": 47,
     "metadata": {},
     "output_type": "execute_result"
    }
   ],
   "source": [
    "ib.qualifyContracts(contract)"
   ]
  },
  {
   "cell_type": "code",
   "execution_count": 48,
   "metadata": {},
   "outputs": [],
   "source": [
    "data = ib.reqMktData(contract)"
   ]
  },
  {
   "cell_type": "code",
   "execution_count": 49,
   "metadata": {},
   "outputs": [
    {
     "data": {
      "text/plain": [
       "Ticker(contract=CFD(conId=143916318, symbol='EUR', exchange='SMART', currency='USD', localSymbol='EUR.USD', tradingClass='EUR.USD'))"
      ]
     },
     "execution_count": 49,
     "metadata": {},
     "output_type": "execute_result"
    }
   ],
   "source": [
    "data"
   ]
  },
  {
   "cell_type": "code",
   "execution_count": 53,
   "metadata": {},
   "outputs": [
    {
     "data": {
      "text/plain": [
       "nan"
      ]
     },
     "execution_count": 53,
     "metadata": {},
     "output_type": "execute_result"
    },
    {
     "name": "stderr",
     "output_type": "stream",
     "text": [
      "Error 10197, reqId 10: No market data during competing live session, contract: CFD(conId=143916318, symbol='EUR', exchange='SMART', currency='USD', localSymbol='EUR.USD', tradingClass='EUR.USD')\n"
     ]
    }
   ],
   "source": [
    "data.ask"
   ]
  },
  {
   "cell_type": "markdown",
   "metadata": {},
   "source": [
    "# Creating Orders (Stock Trading)"
   ]
  },
  {
   "cell_type": "code",
   "execution_count": 55,
   "metadata": {},
   "outputs": [],
   "source": [
    "contract = Stock(\"AAPL\", \"SMART\", \"USD\")"
   ]
  },
  {
   "cell_type": "code",
   "execution_count": 56,
   "metadata": {},
   "outputs": [
    {
     "data": {
      "text/plain": [
       "Stock(symbol='AAPL', exchange='SMART', currency='USD')"
      ]
     },
     "execution_count": 56,
     "metadata": {},
     "output_type": "execute_result"
    }
   ],
   "source": [
    "contract"
   ]
  },
  {
   "cell_type": "code",
   "execution_count": 57,
   "metadata": {},
   "outputs": [
    {
     "data": {
      "text/plain": [
       "[Stock(conId=265598, symbol='AAPL', exchange='SMART', primaryExchange='NASDAQ', currency='USD', localSymbol='AAPL', tradingClass='NMS')]"
      ]
     },
     "execution_count": 57,
     "metadata": {},
     "output_type": "execute_result"
    }
   ],
   "source": [
    "ib.qualifyContracts(contract)"
   ]
  },
  {
   "cell_type": "markdown",
   "metadata": {},
   "source": [
    "**Create an order**"
   ]
  },
  {
   "cell_type": "code",
   "execution_count": 59,
   "metadata": {},
   "outputs": [],
   "source": [
    "# Create the order \n",
    "# here we indicates the action and the quantity.\n",
    "order = MarketOrder(action = \"BUY\", totalQuantity= 1)"
   ]
  },
  {
   "cell_type": "code",
   "execution_count": 61,
   "metadata": {},
   "outputs": [],
   "source": [
    "# Place the order! : \n",
    "# contract -> the stocl, or the entity\n",
    "# order -> the order information\n",
    "trade = ib.placeOrder(contract, order)"
   ]
  },
  {
   "cell_type": "code",
   "execution_count": 63,
   "metadata": {},
   "outputs": [
    {
     "data": {
      "text/plain": [
       "Trade(contract=Stock(conId=265598, symbol='AAPL', exchange='SMART', primaryExchange='NASDAQ', currency='USD', localSymbol='AAPL', tradingClass='NMS'), order=MarketOrder(orderId=12, clientId=1, permId=477927198, action='BUY', totalQuantity=1.0, lmtPrice=0.0, auxPrice=0.0), orderStatus=OrderStatus(orderId=12, status='Submitted', filled=0.0, remaining=1.0, avgFillPrice=0.0, permId=477927198, parentId=0, lastFillPrice=0.0, clientId=1, whyHeld='', mktCapPrice=0.0), fills=[], log=[TradeLogEntry(time=datetime.datetime(2023, 11, 2, 9, 57, 29, 560248, tzinfo=datetime.timezone.utc), status='PendingSubmit', message='', errorCode=0), TradeLogEntry(time=datetime.datetime(2023, 11, 2, 9, 57, 30, 696874, tzinfo=datetime.timezone.utc), status='Submitted', message='', errorCode=0)], advancedError='')"
      ]
     },
     "execution_count": 63,
     "metadata": {},
     "output_type": "execute_result"
    },
    {
     "name": "stderr",
     "output_type": "stream",
     "text": [
      "Error 10197, reqId 10: No market data during competing live session, contract: CFD(conId=143916318, symbol='EUR', exchange='SMART', currency='USD', localSymbol='EUR.USD', tradingClass='EUR.USD')\n",
      "Error 10197, reqId 10: No market data during competing live session, contract: CFD(conId=143916318, symbol='EUR', exchange='SMART', currency='USD', localSymbol='EUR.USD', tradingClass='EUR.USD')\n",
      "Error 10197, reqId 10: No market data during competing live session, contract: CFD(conId=143916318, symbol='EUR', exchange='SMART', currency='USD', localSymbol='EUR.USD', tradingClass='EUR.USD')\n",
      "Error 10197, reqId 10: No market data during competing live session, contract: CFD(conId=143916318, symbol='EUR', exchange='SMART', currency='USD', localSymbol='EUR.USD', tradingClass='EUR.USD')\n"
     ]
    }
   ],
   "source": [
    "trade"
   ]
  },
  {
   "cell_type": "markdown",
   "metadata": {},
   "source": [
    "**Time log until Order is filled**"
   ]
  },
  {
   "cell_type": "code",
   "execution_count": 64,
   "metadata": {},
   "outputs": [
    {
     "name": "stderr",
     "output_type": "stream",
     "text": [
      "Error 10197, reqId 10: No market data during competing live session, contract: CFD(conId=143916318, symbol='EUR', exchange='SMART', currency='USD', localSymbol='EUR.USD', tradingClass='EUR.USD')\n"
     ]
    },
    {
     "data": {
      "text/plain": [
       "[TradeLogEntry(time=datetime.datetime(2023, 11, 2, 9, 57, 29, 560248, tzinfo=datetime.timezone.utc), status='PendingSubmit', message='', errorCode=0),\n",
       " TradeLogEntry(time=datetime.datetime(2023, 11, 2, 9, 57, 30, 696874, tzinfo=datetime.timezone.utc), status='Submitted', message='', errorCode=0),\n",
       " TradeLogEntry(time=datetime.datetime(2023, 11, 2, 9, 58, 17, 664931, tzinfo=datetime.timezone.utc), status='Submitted', message='Fill 1.0@175.5', errorCode=0),\n",
       " TradeLogEntry(time=datetime.datetime(2023, 11, 2, 9, 58, 17, 668931, tzinfo=datetime.timezone.utc), status='Filled', message='', errorCode=0)]"
      ]
     },
     "execution_count": 64,
     "metadata": {},
     "output_type": "execute_result"
    },
    {
     "name": "stderr",
     "output_type": "stream",
     "text": [
      "Error 10197, reqId 10: No market data during competing live session, contract: CFD(conId=143916318, symbol='EUR', exchange='SMART', currency='USD', localSymbol='EUR.USD', tradingClass='EUR.USD')\n",
      "Error 10197, reqId 10: No market data during competing live session, contract: CFD(conId=143916318, symbol='EUR', exchange='SMART', currency='USD', localSymbol='EUR.USD', tradingClass='EUR.USD')\n",
      "Error 10197, reqId 10: No market data during competing live session, contract: CFD(conId=143916318, symbol='EUR', exchange='SMART', currency='USD', localSymbol='EUR.USD', tradingClass='EUR.USD')\n",
      "Error 10197, reqId 10: No market data during competing live session, contract: CFD(conId=143916318, symbol='EUR', exchange='SMART', currency='USD', localSymbol='EUR.USD', tradingClass='EUR.USD')\n",
      "Error 10197, reqId 10: No market data during competing live session, contract: CFD(conId=143916318, symbol='EUR', exchange='SMART', currency='USD', localSymbol='EUR.USD', tradingClass='EUR.USD')\n",
      "Error 10197, reqId 10: No market data during competing live session, contract: CFD(conId=143916318, symbol='EUR', exchange='SMART', currency='USD', localSymbol='EUR.USD', tradingClass='EUR.USD')\n",
      "Error 10197, reqId 10: No market data during competing live session, contract: CFD(conId=143916318, symbol='EUR', exchange='SMART', currency='USD', localSymbol='EUR.USD', tradingClass='EUR.USD')\n",
      "Error 10197, reqId 10: No market data during competing live session, contract: CFD(conId=143916318, symbol='EUR', exchange='SMART', currency='USD', localSymbol='EUR.USD', tradingClass='EUR.USD')\n",
      "Error 10197, reqId 10: No market data during competing live session, contract: CFD(conId=143916318, symbol='EUR', exchange='SMART', currency='USD', localSymbol='EUR.USD', tradingClass='EUR.USD')\n",
      "Error 10197, reqId 10: No market data during competing live session, contract: CFD(conId=143916318, symbol='EUR', exchange='SMART', currency='USD', localSymbol='EUR.USD', tradingClass='EUR.USD')\n"
     ]
    }
   ],
   "source": [
    "ib.sleep(5)\n",
    "trade.log"
   ]
  },
  {
   "cell_type": "code",
   "execution_count": 65,
   "metadata": {},
   "outputs": [
    {
     "data": {
      "text/plain": [
       "Trade(contract=Stock(conId=265598, symbol='AAPL', exchange='SMART', primaryExchange='NASDAQ', currency='USD', localSymbol='AAPL', tradingClass='NMS'), order=MarketOrder(orderId=12, clientId=1, permId=477927198, action='BUY', totalQuantity=1.0, lmtPrice=0.0, auxPrice=0.0), orderStatus=OrderStatus(orderId=12, status='Filled', filled=1.0, remaining=0.0, avgFillPrice=175.5, permId=477927198, parentId=0, lastFillPrice=175.5, clientId=1, whyHeld='', mktCapPrice=0.0), fills=[Fill(contract=Stock(conId=265598, symbol='AAPL', exchange='SMART', primaryExchange='NASDAQ', currency='USD', localSymbol='AAPL', tradingClass='NMS'), execution=Execution(execId='00012ec5.65432d12.01.01', time=datetime.datetime(2023, 11, 2, 9, 58, 19, tzinfo=datetime.timezone.utc), acctNumber='DU8048713', exchange='ISLAND', side='BOT', shares=1.0, price=175.5, permId=477927198, clientId=1, orderId=12, liquidation=0, cumQty=1.0, avgPrice=175.5, orderRef='', evRule='', evMultiplier=0.0, modelCode='', lastLiquidity=1), commissionReport=CommissionReport(execId='00012ec5.65432d12.01.01', commission=1.0, currency='USD', realizedPNL=0.0, yield_=0.0, yieldRedemptionDate=0), time=datetime.datetime(2023, 11, 2, 9, 58, 17, 664931, tzinfo=datetime.timezone.utc))], log=[TradeLogEntry(time=datetime.datetime(2023, 11, 2, 9, 57, 29, 560248, tzinfo=datetime.timezone.utc), status='PendingSubmit', message='', errorCode=0), TradeLogEntry(time=datetime.datetime(2023, 11, 2, 9, 57, 30, 696874, tzinfo=datetime.timezone.utc), status='Submitted', message='', errorCode=0), TradeLogEntry(time=datetime.datetime(2023, 11, 2, 9, 58, 17, 664931, tzinfo=datetime.timezone.utc), status='Submitted', message='Fill 1.0@175.5', errorCode=0), TradeLogEntry(time=datetime.datetime(2023, 11, 2, 9, 58, 17, 668931, tzinfo=datetime.timezone.utc), status='Filled', message='', errorCode=0)], advancedError='')"
      ]
     },
     "execution_count": 65,
     "metadata": {},
     "output_type": "execute_result"
    },
    {
     "name": "stderr",
     "output_type": "stream",
     "text": [
      "Error 10197, reqId 10: No market data during competing live session, contract: CFD(conId=143916318, symbol='EUR', exchange='SMART', currency='USD', localSymbol='EUR.USD', tradingClass='EUR.USD')\n"
     ]
    }
   ],
   "source": [
    "trade"
   ]
  },
  {
   "cell_type": "code",
   "execution_count": 66,
   "metadata": {},
   "outputs": [
    {
     "data": {
      "text/plain": [
       "OrderStatus(orderId=12, status='Filled', filled=1.0, remaining=0.0, avgFillPrice=175.5, permId=477927198, parentId=0, lastFillPrice=175.5, clientId=1, whyHeld='', mktCapPrice=0.0)"
      ]
     },
     "execution_count": 66,
     "metadata": {},
     "output_type": "execute_result"
    }
   ],
   "source": [
    "trade.orderStatus"
   ]
  },
  {
   "cell_type": "code",
   "execution_count": 67,
   "metadata": {},
   "outputs": [
    {
     "data": {
      "text/plain": [
       "[Trade(contract=Stock(conId=265598, symbol='AAPL', exchange='SMART', primaryExchange='NASDAQ', currency='USD', localSymbol='AAPL', tradingClass='NMS'), order=MarketOrder(orderId=12, clientId=1, permId=477927198, action='BUY', totalQuantity=1.0, lmtPrice=0.0, auxPrice=0.0), orderStatus=OrderStatus(orderId=12, status='Filled', filled=1.0, remaining=0.0, avgFillPrice=175.5, permId=477927198, parentId=0, lastFillPrice=175.5, clientId=1, whyHeld='', mktCapPrice=0.0), fills=[Fill(contract=Stock(conId=265598, symbol='AAPL', exchange='SMART', primaryExchange='NASDAQ', currency='USD', localSymbol='AAPL', tradingClass='NMS'), execution=Execution(execId='00012ec5.65432d12.01.01', time=datetime.datetime(2023, 11, 2, 9, 58, 19, tzinfo=datetime.timezone.utc), acctNumber='DU8048713', exchange='ISLAND', side='BOT', shares=1.0, price=175.5, permId=477927198, clientId=1, orderId=12, liquidation=0, cumQty=1.0, avgPrice=175.5, orderRef='', evRule='', evMultiplier=0.0, modelCode='', lastLiquidity=1), commissionReport=CommissionReport(execId='00012ec5.65432d12.01.01', commission=1.0, currency='USD', realizedPNL=0.0, yield_=0.0, yieldRedemptionDate=0), time=datetime.datetime(2023, 11, 2, 9, 58, 17, 664931, tzinfo=datetime.timezone.utc))], log=[TradeLogEntry(time=datetime.datetime(2023, 11, 2, 9, 57, 29, 560248, tzinfo=datetime.timezone.utc), status='PendingSubmit', message='', errorCode=0), TradeLogEntry(time=datetime.datetime(2023, 11, 2, 9, 57, 30, 696874, tzinfo=datetime.timezone.utc), status='Submitted', message='', errorCode=0), TradeLogEntry(time=datetime.datetime(2023, 11, 2, 9, 58, 17, 664931, tzinfo=datetime.timezone.utc), status='Submitted', message='Fill 1.0@175.5', errorCode=0), TradeLogEntry(time=datetime.datetime(2023, 11, 2, 9, 58, 17, 668931, tzinfo=datetime.timezone.utc), status='Filled', message='', errorCode=0)], advancedError='')]"
      ]
     },
     "execution_count": 67,
     "metadata": {},
     "output_type": "execute_result"
    }
   ],
   "source": [
    "# Check the trads.. \n",
    "ib.trades()"
   ]
  },
  {
   "cell_type": "code",
   "execution_count": 68,
   "metadata": {},
   "outputs": [
    {
     "data": {
      "text/plain": [
       "[MarketOrder(orderId=12, clientId=1, permId=477927198, action='BUY', totalQuantity=1.0, lmtPrice=0.0, auxPrice=0.0)]"
      ]
     },
     "execution_count": 68,
     "metadata": {},
     "output_type": "execute_result"
    }
   ],
   "source": [
    "ib.orders()"
   ]
  },
  {
   "cell_type": "markdown",
   "metadata": {},
   "source": [
    "**Market sell order**"
   ]
  },
  {
   "cell_type": "code",
   "execution_count": 69,
   "metadata": {},
   "outputs": [
    {
     "data": {
      "text/plain": [
       "MarketOrder(action='SELL', totalQuantity=1)"
      ]
     },
     "execution_count": 69,
     "metadata": {},
     "output_type": "execute_result"
    }
   ],
   "source": [
    "order = MarketOrder(action=\"SELL\", totalQuantity=1)\n",
    "order"
   ]
  },
  {
   "cell_type": "code",
   "execution_count": 70,
   "metadata": {},
   "outputs": [
    {
     "data": {
      "text/plain": [
       "Trade(contract=Stock(conId=265598, symbol='AAPL', exchange='SMART', primaryExchange='NASDAQ', currency='USD', localSymbol='AAPL', tradingClass='NMS'), order=MarketOrder(orderId=13, clientId=1, permId=477927203, action='SELL', totalQuantity=1.0, lmtPrice=175.52, auxPrice=0.0), orderStatus=OrderStatus(orderId=13, status='Filled', filled=1.0, remaining=0.0, avgFillPrice=175.54, permId=477927203, parentId=0, lastFillPrice=175.54, clientId=1, whyHeld='', mktCapPrice=0.0), fills=[Fill(contract=Stock(conId=265598, symbol='AAPL', exchange='SMART', primaryExchange='NASDAQ', currency='USD', localSymbol='AAPL', tradingClass='NMS'), execution=Execution(execId='00012ec5.65432d47.01.01', time=datetime.datetime(2023, 11, 2, 10, 6, 52, tzinfo=datetime.timezone.utc), acctNumber='DU8048713', exchange='ISLAND', side='SLD', shares=1.0, price=175.54, permId=477927203, clientId=1, orderId=13, liquidation=0, cumQty=1.0, avgPrice=175.54, orderRef='', evRule='', evMultiplier=0.0, modelCode='', lastLiquidity=2), commissionReport=CommissionReport(execId='00012ec5.65432d47.01.01', commission=1.001549, currency='USD', realizedPNL=-1.961549, yield_=0.0, yieldRedemptionDate=0), time=datetime.datetime(2023, 11, 2, 10, 6, 51, 383799, tzinfo=datetime.timezone.utc))], log=[TradeLogEntry(time=datetime.datetime(2023, 11, 2, 10, 6, 51, 158804, tzinfo=datetime.timezone.utc), status='PendingSubmit', message='', errorCode=0), TradeLogEntry(time=datetime.datetime(2023, 11, 2, 10, 6, 51, 377802, tzinfo=datetime.timezone.utc), status='PreSubmitted', message='', errorCode=0), TradeLogEntry(time=datetime.datetime(2023, 11, 2, 10, 6, 51, 383799, tzinfo=datetime.timezone.utc), status='PreSubmitted', message='Fill 1.0@175.54', errorCode=0), TradeLogEntry(time=datetime.datetime(2023, 11, 2, 10, 6, 51, 384810, tzinfo=datetime.timezone.utc), status='Filled', message='', errorCode=0)], advancedError='')"
      ]
     },
     "execution_count": 70,
     "metadata": {},
     "output_type": "execute_result"
    }
   ],
   "source": [
    "trade = ib.placeOrder(contract,order)\n",
    "ib.sleep(1)\n",
    "trade"
   ]
  },
  {
   "cell_type": "code",
   "execution_count": 71,
   "metadata": {},
   "outputs": [
    {
     "data": {
      "text/plain": [
       "[Trade(contract=Stock(conId=265598, symbol='AAPL', exchange='SMART', primaryExchange='NASDAQ', currency='USD', localSymbol='AAPL', tradingClass='NMS'), order=MarketOrder(orderId=12, clientId=1, permId=477927198, action='BUY', totalQuantity=1.0, lmtPrice=0.0, auxPrice=0.0), orderStatus=OrderStatus(orderId=12, status='Filled', filled=1.0, remaining=0.0, avgFillPrice=175.5, permId=477927198, parentId=0, lastFillPrice=175.5, clientId=1, whyHeld='', mktCapPrice=0.0), fills=[Fill(contract=Stock(conId=265598, symbol='AAPL', exchange='SMART', primaryExchange='NASDAQ', currency='USD', localSymbol='AAPL', tradingClass='NMS'), execution=Execution(execId='00012ec5.65432d12.01.01', time=datetime.datetime(2023, 11, 2, 9, 58, 19, tzinfo=datetime.timezone.utc), acctNumber='DU8048713', exchange='ISLAND', side='BOT', shares=1.0, price=175.5, permId=477927198, clientId=1, orderId=12, liquidation=0, cumQty=1.0, avgPrice=175.5, orderRef='', evRule='', evMultiplier=0.0, modelCode='', lastLiquidity=1), commissionReport=CommissionReport(execId='00012ec5.65432d12.01.01', commission=1.0, currency='USD', realizedPNL=0.0, yield_=0.0, yieldRedemptionDate=0), time=datetime.datetime(2023, 11, 2, 9, 58, 17, 664931, tzinfo=datetime.timezone.utc))], log=[TradeLogEntry(time=datetime.datetime(2023, 11, 2, 9, 57, 29, 560248, tzinfo=datetime.timezone.utc), status='PendingSubmit', message='', errorCode=0), TradeLogEntry(time=datetime.datetime(2023, 11, 2, 9, 57, 30, 696874, tzinfo=datetime.timezone.utc), status='Submitted', message='', errorCode=0), TradeLogEntry(time=datetime.datetime(2023, 11, 2, 9, 58, 17, 664931, tzinfo=datetime.timezone.utc), status='Submitted', message='Fill 1.0@175.5', errorCode=0), TradeLogEntry(time=datetime.datetime(2023, 11, 2, 9, 58, 17, 668931, tzinfo=datetime.timezone.utc), status='Filled', message='', errorCode=0)], advancedError=''),\n",
       " Trade(contract=Stock(conId=265598, symbol='AAPL', exchange='SMART', primaryExchange='NASDAQ', currency='USD', localSymbol='AAPL', tradingClass='NMS'), order=MarketOrder(orderId=13, clientId=1, permId=477927203, action='SELL', totalQuantity=1.0, lmtPrice=175.52, auxPrice=0.0), orderStatus=OrderStatus(orderId=13, status='Filled', filled=1.0, remaining=0.0, avgFillPrice=175.54, permId=477927203, parentId=0, lastFillPrice=175.54, clientId=1, whyHeld='', mktCapPrice=0.0), fills=[Fill(contract=Stock(conId=265598, symbol='AAPL', exchange='SMART', primaryExchange='NASDAQ', currency='USD', localSymbol='AAPL', tradingClass='NMS'), execution=Execution(execId='00012ec5.65432d47.01.01', time=datetime.datetime(2023, 11, 2, 10, 6, 52, tzinfo=datetime.timezone.utc), acctNumber='DU8048713', exchange='ISLAND', side='SLD', shares=1.0, price=175.54, permId=477927203, clientId=1, orderId=13, liquidation=0, cumQty=1.0, avgPrice=175.54, orderRef='', evRule='', evMultiplier=0.0, modelCode='', lastLiquidity=2), commissionReport=CommissionReport(execId='00012ec5.65432d47.01.01', commission=1.001549, currency='USD', realizedPNL=-1.961549, yield_=0.0, yieldRedemptionDate=0), time=datetime.datetime(2023, 11, 2, 10, 6, 51, 383799, tzinfo=datetime.timezone.utc))], log=[TradeLogEntry(time=datetime.datetime(2023, 11, 2, 10, 6, 51, 158804, tzinfo=datetime.timezone.utc), status='PendingSubmit', message='', errorCode=0), TradeLogEntry(time=datetime.datetime(2023, 11, 2, 10, 6, 51, 377802, tzinfo=datetime.timezone.utc), status='PreSubmitted', message='', errorCode=0), TradeLogEntry(time=datetime.datetime(2023, 11, 2, 10, 6, 51, 383799, tzinfo=datetime.timezone.utc), status='PreSubmitted', message='Fill 1.0@175.54', errorCode=0), TradeLogEntry(time=datetime.datetime(2023, 11, 2, 10, 6, 51, 384810, tzinfo=datetime.timezone.utc), status='Filled', message='', errorCode=0)], advancedError='')]"
      ]
     },
     "execution_count": 71,
     "metadata": {},
     "output_type": "execute_result"
    },
    {
     "name": "stderr",
     "output_type": "stream",
     "text": [
      "Error 10197, reqId 10: No market data during competing live session, contract: CFD(conId=143916318, symbol='EUR', exchange='SMART', currency='USD', localSymbol='EUR.USD', tradingClass='EUR.USD')\n",
      "Error 10197, reqId 10: No market data during competing live session, contract: CFD(conId=143916318, symbol='EUR', exchange='SMART', currency='USD', localSymbol='EUR.USD', tradingClass='EUR.USD')\n"
     ]
    }
   ],
   "source": [
    "ib.trades()"
   ]
  },
  {
   "cell_type": "markdown",
   "metadata": {},
   "source": [
    "**Wait untill the order is either filled or canceled**"
   ]
  },
  {
   "cell_type": "code",
   "execution_count": 76,
   "metadata": {},
   "outputs": [
    {
     "name": "stdout",
     "output_type": "stream",
     "text": [
      "CPU times: total: 0 ns\n",
      "Wall time: 1.01 ms\n"
     ]
    },
    {
     "name": "stderr",
     "output_type": "stream",
     "text": [
      "Error 10197, reqId 10: No market data during competing live session, contract: CFD(conId=143916318, symbol='EUR', exchange='SMART', currency='USD', localSymbol='EUR.USD', tradingClass='EUR.USD')\n"
     ]
    }
   ],
   "source": [
    "%%time\n",
    "order = MarketOrder(\"BUY\",1)\n",
    "\n",
    "ib.placeOrder(contract,order)\n",
    "while not trade.isDone():\n",
    "    ib.waitOnUpdate()"
   ]
  },
  {
   "cell_type": "code",
   "execution_count": 77,
   "metadata": {},
   "outputs": [
    {
     "data": {
      "text/plain": [
       "Trade(contract=Stock(conId=265598, symbol='AAPL', exchange='SMART', primaryExchange='NASDAQ', currency='USD', localSymbol='AAPL', tradingClass='NMS'), order=MarketOrder(orderId=13, clientId=1, permId=477927203, action='SELL', totalQuantity=1.0, lmtPrice=175.52, auxPrice=0.0), orderStatus=OrderStatus(orderId=13, status='Filled', filled=1.0, remaining=0.0, avgFillPrice=175.54, permId=477927203, parentId=0, lastFillPrice=175.54, clientId=1, whyHeld='', mktCapPrice=0.0), fills=[Fill(contract=Stock(conId=265598, symbol='AAPL', exchange='SMART', primaryExchange='NASDAQ', currency='USD', localSymbol='AAPL', tradingClass='NMS'), execution=Execution(execId='00012ec5.65432d47.01.01', time=datetime.datetime(2023, 11, 2, 10, 6, 52, tzinfo=datetime.timezone.utc), acctNumber='DU8048713', exchange='ISLAND', side='SLD', shares=1.0, price=175.54, permId=477927203, clientId=1, orderId=13, liquidation=0, cumQty=1.0, avgPrice=175.54, orderRef='', evRule='', evMultiplier=0.0, modelCode='', lastLiquidity=2), commissionReport=CommissionReport(execId='00012ec5.65432d47.01.01', commission=1.001549, currency='USD', realizedPNL=-1.961549, yield_=0.0, yieldRedemptionDate=0), time=datetime.datetime(2023, 11, 2, 10, 6, 51, 383799, tzinfo=datetime.timezone.utc))], log=[TradeLogEntry(time=datetime.datetime(2023, 11, 2, 10, 6, 51, 158804, tzinfo=datetime.timezone.utc), status='PendingSubmit', message='', errorCode=0), TradeLogEntry(time=datetime.datetime(2023, 11, 2, 10, 6, 51, 377802, tzinfo=datetime.timezone.utc), status='PreSubmitted', message='', errorCode=0), TradeLogEntry(time=datetime.datetime(2023, 11, 2, 10, 6, 51, 383799, tzinfo=datetime.timezone.utc), status='PreSubmitted', message='Fill 1.0@175.54', errorCode=0), TradeLogEntry(time=datetime.datetime(2023, 11, 2, 10, 6, 51, 384810, tzinfo=datetime.timezone.utc), status='Filled', message='', errorCode=0)], advancedError='')"
      ]
     },
     "execution_count": 77,
     "metadata": {},
     "output_type": "execute_result"
    }
   ],
   "source": [
    "trade"
   ]
  },
  {
   "cell_type": "code",
   "execution_count": 78,
   "metadata": {},
   "outputs": [
    {
     "data": {
      "text/plain": [
       "[Fill(contract=Stock(conId=265598, symbol='AAPL', exchange='SMART', primaryExchange='NASDAQ', currency='USD', localSymbol='AAPL', tradingClass='NMS'), execution=Execution(execId='00012ec5.65432d12.01.01', time=datetime.datetime(2023, 11, 2, 9, 58, 19, tzinfo=datetime.timezone.utc), acctNumber='DU8048713', exchange='ISLAND', side='BOT', shares=1.0, price=175.5, permId=477927198, clientId=1, orderId=12, liquidation=0, cumQty=1.0, avgPrice=175.5, orderRef='', evRule='', evMultiplier=0.0, modelCode='', lastLiquidity=1), commissionReport=CommissionReport(execId='00012ec5.65432d12.01.01', commission=1.0, currency='USD', realizedPNL=0.0, yield_=0.0, yieldRedemptionDate=0), time=datetime.datetime(2023, 11, 2, 9, 58, 17, 664931, tzinfo=datetime.timezone.utc)),\n",
       " Fill(contract=Stock(conId=265598, symbol='AAPL', exchange='SMART', primaryExchange='NASDAQ', currency='USD', localSymbol='AAPL', tradingClass='NMS'), execution=Execution(execId='00012ec5.65432d47.01.01', time=datetime.datetime(2023, 11, 2, 10, 6, 52, tzinfo=datetime.timezone.utc), acctNumber='DU8048713', exchange='ISLAND', side='SLD', shares=1.0, price=175.54, permId=477927203, clientId=1, orderId=13, liquidation=0, cumQty=1.0, avgPrice=175.54, orderRef='', evRule='', evMultiplier=0.0, modelCode='', lastLiquidity=2), commissionReport=CommissionReport(execId='00012ec5.65432d47.01.01', commission=1.001549, currency='USD', realizedPNL=-1.961549, yield_=0.0, yieldRedemptionDate=0), time=datetime.datetime(2023, 11, 2, 10, 6, 51, 383799, tzinfo=datetime.timezone.utc)),\n",
       " Fill(contract=Stock(conId=265598, symbol='AAPL', exchange='SMART', primaryExchange='NASDAQ', currency='USD', localSymbol='AAPL', tradingClass='NMS'), execution=Execution(execId='00012ec5.65432d9e.01.01', time=datetime.datetime(2023, 11, 2, 10, 12, 31, tzinfo=datetime.timezone.utc), acctNumber='DU8048713', exchange='ISLAND', side='BOT', shares=1.0, price=175.6, permId=477927205, clientId=1, orderId=15, liquidation=0, cumQty=1.0, avgPrice=175.6, orderRef='', evRule='', evMultiplier=0.0, modelCode='', lastLiquidity=1), commissionReport=CommissionReport(execId='00012ec5.65432d9e.01.01', commission=1.0, currency='USD', realizedPNL=0.0, yield_=0.0, yieldRedemptionDate=0), time=datetime.datetime(2023, 11, 2, 10, 12, 29, 870136, tzinfo=datetime.timezone.utc)),\n",
       " Fill(contract=Stock(conId=265598, symbol='AAPL', exchange='SMART', primaryExchange='NASDAQ', currency='USD', localSymbol='AAPL', tradingClass='NMS'), execution=Execution(execId='00012ec5.65432da0.01.01', time=datetime.datetime(2023, 11, 2, 10, 12, 36, tzinfo=datetime.timezone.utc), acctNumber='DU8048713', exchange='ISLAND', side='BOT', shares=1.0, price=175.6, permId=477927207, clientId=1, orderId=17, liquidation=0, cumQty=1.0, avgPrice=175.6, orderRef='', evRule='', evMultiplier=0.0, modelCode='', lastLiquidity=1), commissionReport=CommissionReport(execId='00012ec5.65432da0.01.01', commission=1.0, currency='USD', realizedPNL=0.0, yield_=0.0, yieldRedemptionDate=0), time=datetime.datetime(2023, 11, 2, 10, 12, 35, 300994, tzinfo=datetime.timezone.utc)),\n",
       " Fill(contract=Stock(conId=265598, symbol='AAPL', exchange='SMART', primaryExchange='NASDAQ', currency='USD', localSymbol='AAPL', tradingClass='NMS'), execution=Execution(execId='00012ec5.65432da1.01.01', time=datetime.datetime(2023, 11, 2, 10, 12, 45, tzinfo=datetime.timezone.utc), acctNumber='DU8048713', exchange='ISLAND', side='BOT', shares=1.0, price=175.6, permId=477927204, clientId=1, orderId=14, liquidation=0, cumQty=1.0, avgPrice=175.6, orderRef='', evRule='', evMultiplier=0.0, modelCode='', lastLiquidity=1), commissionReport=CommissionReport(execId='00012ec5.65432da1.01.01', commission=1.0, currency='USD', realizedPNL=0.0, yield_=0.0, yieldRedemptionDate=0), time=datetime.datetime(2023, 11, 2, 10, 12, 43, 625373, tzinfo=datetime.timezone.utc)),\n",
       " Fill(contract=Stock(conId=265598, symbol='AAPL', exchange='SMART', primaryExchange='NASDAQ', currency='USD', localSymbol='AAPL', tradingClass='NMS'), execution=Execution(execId='00012ec5.65432da2.01.01', time=datetime.datetime(2023, 11, 2, 10, 12, 48, tzinfo=datetime.timezone.utc), acctNumber='DU8048713', exchange='ISLAND', side='BOT', shares=1.0, price=175.6, permId=477927208, clientId=1, orderId=18, liquidation=0, cumQty=1.0, avgPrice=175.6, orderRef='', evRule='', evMultiplier=0.0, modelCode='', lastLiquidity=1), commissionReport=CommissionReport(execId='00012ec5.65432da2.01.01', commission=1.0, currency='USD', realizedPNL=0.0, yield_=0.0, yieldRedemptionDate=0), time=datetime.datetime(2023, 11, 2, 10, 12, 46, 632133, tzinfo=datetime.timezone.utc)),\n",
       " Fill(contract=Stock(conId=265598, symbol='AAPL', exchange='SMART', primaryExchange='NASDAQ', currency='USD', localSymbol='AAPL', tradingClass='NMS'), execution=Execution(execId='00012ec5.65432da6.01.01', time=datetime.datetime(2023, 11, 2, 10, 13, 8, tzinfo=datetime.timezone.utc), acctNumber='DU8048713', exchange='ISLAND', side='BOT', shares=1.0, price=175.6, permId=477927206, clientId=1, orderId=16, liquidation=0, cumQty=1.0, avgPrice=175.6, orderRef='', evRule='', evMultiplier=0.0, modelCode='', lastLiquidity=1), commissionReport=CommissionReport(execId='00012ec5.65432da6.01.01', commission=1.0, currency='USD', realizedPNL=0.0, yield_=0.0, yieldRedemptionDate=0), time=datetime.datetime(2023, 11, 2, 10, 13, 6, 625744, tzinfo=datetime.timezone.utc))]"
      ]
     },
     "execution_count": 78,
     "metadata": {},
     "output_type": "execute_result"
    }
   ],
   "source": [
    "ib.fills()"
   ]
  },
  {
   "cell_type": "code",
   "execution_count": 79,
   "metadata": {},
   "outputs": [
    {
     "data": {
      "text/html": [
       "<div>\n",
       "<style scoped>\n",
       "    .dataframe tbody tr th:only-of-type {\n",
       "        vertical-align: middle;\n",
       "    }\n",
       "\n",
       "    .dataframe tbody tr th {\n",
       "        vertical-align: top;\n",
       "    }\n",
       "\n",
       "    .dataframe thead th {\n",
       "        text-align: right;\n",
       "    }\n",
       "</style>\n",
       "<table border=\"1\" class=\"dataframe\">\n",
       "  <thead>\n",
       "    <tr style=\"text-align: right;\">\n",
       "      <th></th>\n",
       "      <th>execId</th>\n",
       "      <th>time</th>\n",
       "      <th>acctNumber</th>\n",
       "      <th>exchange</th>\n",
       "      <th>side</th>\n",
       "      <th>shares</th>\n",
       "      <th>price</th>\n",
       "      <th>permId</th>\n",
       "      <th>clientId</th>\n",
       "      <th>orderId</th>\n",
       "      <th>liquidation</th>\n",
       "      <th>cumQty</th>\n",
       "      <th>avgPrice</th>\n",
       "      <th>orderRef</th>\n",
       "      <th>evRule</th>\n",
       "      <th>evMultiplier</th>\n",
       "      <th>modelCode</th>\n",
       "      <th>lastLiquidity</th>\n",
       "    </tr>\n",
       "  </thead>\n",
       "  <tbody>\n",
       "    <tr>\n",
       "      <th>0</th>\n",
       "      <td>00012ec5.65432d12.01.01</td>\n",
       "      <td>2023-11-02 09:58:19+00:00</td>\n",
       "      <td>DU8048713</td>\n",
       "      <td>ISLAND</td>\n",
       "      <td>BOT</td>\n",
       "      <td>1.0</td>\n",
       "      <td>175.50</td>\n",
       "      <td>477927198</td>\n",
       "      <td>1</td>\n",
       "      <td>12</td>\n",
       "      <td>0</td>\n",
       "      <td>1.0</td>\n",
       "      <td>175.50</td>\n",
       "      <td></td>\n",
       "      <td></td>\n",
       "      <td>0.0</td>\n",
       "      <td></td>\n",
       "      <td>1</td>\n",
       "    </tr>\n",
       "    <tr>\n",
       "      <th>1</th>\n",
       "      <td>00012ec5.65432d47.01.01</td>\n",
       "      <td>2023-11-02 10:06:52+00:00</td>\n",
       "      <td>DU8048713</td>\n",
       "      <td>ISLAND</td>\n",
       "      <td>SLD</td>\n",
       "      <td>1.0</td>\n",
       "      <td>175.54</td>\n",
       "      <td>477927203</td>\n",
       "      <td>1</td>\n",
       "      <td>13</td>\n",
       "      <td>0</td>\n",
       "      <td>1.0</td>\n",
       "      <td>175.54</td>\n",
       "      <td></td>\n",
       "      <td></td>\n",
       "      <td>0.0</td>\n",
       "      <td></td>\n",
       "      <td>2</td>\n",
       "    </tr>\n",
       "    <tr>\n",
       "      <th>2</th>\n",
       "      <td>00012ec5.65432d9e.01.01</td>\n",
       "      <td>2023-11-02 10:12:31+00:00</td>\n",
       "      <td>DU8048713</td>\n",
       "      <td>ISLAND</td>\n",
       "      <td>BOT</td>\n",
       "      <td>1.0</td>\n",
       "      <td>175.60</td>\n",
       "      <td>477927205</td>\n",
       "      <td>1</td>\n",
       "      <td>15</td>\n",
       "      <td>0</td>\n",
       "      <td>1.0</td>\n",
       "      <td>175.60</td>\n",
       "      <td></td>\n",
       "      <td></td>\n",
       "      <td>0.0</td>\n",
       "      <td></td>\n",
       "      <td>1</td>\n",
       "    </tr>\n",
       "    <tr>\n",
       "      <th>3</th>\n",
       "      <td>00012ec5.65432da0.01.01</td>\n",
       "      <td>2023-11-02 10:12:36+00:00</td>\n",
       "      <td>DU8048713</td>\n",
       "      <td>ISLAND</td>\n",
       "      <td>BOT</td>\n",
       "      <td>1.0</td>\n",
       "      <td>175.60</td>\n",
       "      <td>477927207</td>\n",
       "      <td>1</td>\n",
       "      <td>17</td>\n",
       "      <td>0</td>\n",
       "      <td>1.0</td>\n",
       "      <td>175.60</td>\n",
       "      <td></td>\n",
       "      <td></td>\n",
       "      <td>0.0</td>\n",
       "      <td></td>\n",
       "      <td>1</td>\n",
       "    </tr>\n",
       "    <tr>\n",
       "      <th>4</th>\n",
       "      <td>00012ec5.65432da1.01.01</td>\n",
       "      <td>2023-11-02 10:12:45+00:00</td>\n",
       "      <td>DU8048713</td>\n",
       "      <td>ISLAND</td>\n",
       "      <td>BOT</td>\n",
       "      <td>1.0</td>\n",
       "      <td>175.60</td>\n",
       "      <td>477927204</td>\n",
       "      <td>1</td>\n",
       "      <td>14</td>\n",
       "      <td>0</td>\n",
       "      <td>1.0</td>\n",
       "      <td>175.60</td>\n",
       "      <td></td>\n",
       "      <td></td>\n",
       "      <td>0.0</td>\n",
       "      <td></td>\n",
       "      <td>1</td>\n",
       "    </tr>\n",
       "    <tr>\n",
       "      <th>5</th>\n",
       "      <td>00012ec5.65432da2.01.01</td>\n",
       "      <td>2023-11-02 10:12:48+00:00</td>\n",
       "      <td>DU8048713</td>\n",
       "      <td>ISLAND</td>\n",
       "      <td>BOT</td>\n",
       "      <td>1.0</td>\n",
       "      <td>175.60</td>\n",
       "      <td>477927208</td>\n",
       "      <td>1</td>\n",
       "      <td>18</td>\n",
       "      <td>0</td>\n",
       "      <td>1.0</td>\n",
       "      <td>175.60</td>\n",
       "      <td></td>\n",
       "      <td></td>\n",
       "      <td>0.0</td>\n",
       "      <td></td>\n",
       "      <td>1</td>\n",
       "    </tr>\n",
       "    <tr>\n",
       "      <th>6</th>\n",
       "      <td>00012ec5.65432da6.01.01</td>\n",
       "      <td>2023-11-02 10:13:08+00:00</td>\n",
       "      <td>DU8048713</td>\n",
       "      <td>ISLAND</td>\n",
       "      <td>BOT</td>\n",
       "      <td>1.0</td>\n",
       "      <td>175.60</td>\n",
       "      <td>477927206</td>\n",
       "      <td>1</td>\n",
       "      <td>16</td>\n",
       "      <td>0</td>\n",
       "      <td>1.0</td>\n",
       "      <td>175.60</td>\n",
       "      <td></td>\n",
       "      <td></td>\n",
       "      <td>0.0</td>\n",
       "      <td></td>\n",
       "      <td>1</td>\n",
       "    </tr>\n",
       "  </tbody>\n",
       "</table>\n",
       "</div>"
      ],
      "text/plain": [
       "                    execId                      time acctNumber exchange side  \\\n",
       "0  00012ec5.65432d12.01.01 2023-11-02 09:58:19+00:00  DU8048713   ISLAND  BOT   \n",
       "1  00012ec5.65432d47.01.01 2023-11-02 10:06:52+00:00  DU8048713   ISLAND  SLD   \n",
       "2  00012ec5.65432d9e.01.01 2023-11-02 10:12:31+00:00  DU8048713   ISLAND  BOT   \n",
       "3  00012ec5.65432da0.01.01 2023-11-02 10:12:36+00:00  DU8048713   ISLAND  BOT   \n",
       "4  00012ec5.65432da1.01.01 2023-11-02 10:12:45+00:00  DU8048713   ISLAND  BOT   \n",
       "5  00012ec5.65432da2.01.01 2023-11-02 10:12:48+00:00  DU8048713   ISLAND  BOT   \n",
       "6  00012ec5.65432da6.01.01 2023-11-02 10:13:08+00:00  DU8048713   ISLAND  BOT   \n",
       "\n",
       "   shares   price     permId  clientId  orderId  liquidation  cumQty  \\\n",
       "0     1.0  175.50  477927198         1       12            0     1.0   \n",
       "1     1.0  175.54  477927203         1       13            0     1.0   \n",
       "2     1.0  175.60  477927205         1       15            0     1.0   \n",
       "3     1.0  175.60  477927207         1       17            0     1.0   \n",
       "4     1.0  175.60  477927204         1       14            0     1.0   \n",
       "5     1.0  175.60  477927208         1       18            0     1.0   \n",
       "6     1.0  175.60  477927206         1       16            0     1.0   \n",
       "\n",
       "   avgPrice orderRef evRule  evMultiplier modelCode  lastLiquidity  \n",
       "0    175.50                           0.0                        1  \n",
       "1    175.54                           0.0                        2  \n",
       "2    175.60                           0.0                        1  \n",
       "3    175.60                           0.0                        1  \n",
       "4    175.60                           0.0                        1  \n",
       "5    175.60                           0.0                        1  \n",
       "6    175.60                           0.0                        1  "
      ]
     },
     "execution_count": 79,
     "metadata": {},
     "output_type": "execute_result"
    }
   ],
   "source": [
    "df = util.df([fs.execution for fs in ib.fills()])\n",
    "df"
   ]
  },
  {
   "cell_type": "markdown",
   "metadata": {},
   "source": [
    "# Creating Orders (CFD Trading)"
   ]
  },
  {
   "cell_type": "code",
   "execution_count": 83,
   "metadata": {},
   "outputs": [
    {
     "data": {
      "text/plain": [
       "MarketOrder(action='BUY', totalQuantity=10000)"
      ]
     },
     "execution_count": 83,
     "metadata": {},
     "output_type": "execute_result"
    }
   ],
   "source": [
    "order = MarketOrder(action=\"BUY\", totalQuantity=10000)\n",
    "order"
   ]
  },
  {
   "cell_type": "code",
   "execution_count": 84,
   "metadata": {},
   "outputs": [
    {
     "data": {
      "text/plain": [
       "CFD(symbol='EUR', currency='USD')"
      ]
     },
     "execution_count": 84,
     "metadata": {},
     "output_type": "execute_result"
    }
   ],
   "source": [
    "contract = CFD(\"EUR\", currency=\"USD\")\n",
    "contract"
   ]
  },
  {
   "cell_type": "markdown",
   "metadata": {},
   "source": [
    "**Going long**"
   ]
  },
  {
   "cell_type": "code",
   "execution_count": null,
   "metadata": {},
   "outputs": [
    {
     "data": {
      "text/plain": [
       "Trade(contract=CFD(symbol='EUR', currency='USD'), order=MarketOrder(orderId=20, clientId=1, action='BUY', totalQuantity=10000), orderStatus=OrderStatus(orderId=20, status='PendingSubmit', filled=0.0, remaining=0.0, avgFillPrice=0.0, permId=0, parentId=0, lastFillPrice=0.0, clientId=0, whyHeld='', mktCapPrice=0.0), fills=[], log=[TradeLogEntry(time=datetime.datetime(2023, 11, 2, 10, 37, 52, 780714, tzinfo=datetime.timezone.utc), status='PendingSubmit', message='', errorCode=0)], advancedError='')"
      ]
     },
     "execution_count": 85,
     "metadata": {},
     "output_type": "execute_result"
    },
    {
     "name": "stderr",
     "output_type": "stream",
     "text": [
      "Error 321, reqId 20: Error validating request.-'bS' : cause - Missing order exchange.\n",
      "Canceled order: Trade(contract=CFD(symbol='EUR', currency='USD'), order=MarketOrder(orderId=20, clientId=1, action='BUY', totalQuantity=10000), orderStatus=OrderStatus(orderId=20, status='Cancelled', filled=0.0, remaining=0.0, avgFillPrice=0.0, permId=0, parentId=0, lastFillPrice=0.0, clientId=0, whyHeld='', mktCapPrice=0.0), fills=[], log=[TradeLogEntry(time=datetime.datetime(2023, 11, 2, 10, 37, 52, 780714, tzinfo=datetime.timezone.utc), status='PendingSubmit', message='', errorCode=0), TradeLogEntry(time=datetime.datetime(2023, 11, 2, 10, 37, 52, 784863, tzinfo=datetime.timezone.utc), status='Cancelled', message=\"Error 321, reqId 20: Error validating request.-'bS' : cause - Missing order exchange.\", errorCode=321)], advancedError='')\n",
      "Error 10197, reqId 10: No market data during competing live session, contract: CFD(conId=143916318, symbol='EUR', exchange='SMART', currency='USD', localSymbol='EUR.USD', tradingClass='EUR.USD')\n",
      "Error 10197, reqId 10: No market data during competing live session, contract: CFD(conId=143916318, symbol='EUR', exchange='SMART', currency='USD', localSymbol='EUR.USD', tradingClass='EUR.USD')\n",
      "Error 10197, reqId 10: No market data during competing live session, contract: CFD(conId=143916318, symbol='EUR', exchange='SMART', currency='USD', localSymbol='EUR.USD', tradingClass='EUR.USD')\n",
      "Error 10197, reqId 10: No market data during competing live session, contract: CFD(conId=143916318, symbol='EUR', exchange='SMART', currency='USD', localSymbol='EUR.USD', tradingClass='EUR.USD')\n"
     ]
    }
   ],
   "source": [
    "trade = ib.placeOrder(contract,order)\n",
    "trade"
   ]
  },
  {
   "cell_type": "markdown",
   "metadata": {},
   "source": [
    "**Close position**"
   ]
  },
  {
   "cell_type": "code",
   "execution_count": 86,
   "metadata": {},
   "outputs": [
    {
     "data": {
      "text/plain": [
       "MarketOrder(action='SELL', totalQuantity=10000)"
      ]
     },
     "execution_count": 86,
     "metadata": {},
     "output_type": "execute_result"
    }
   ],
   "source": [
    "order = MarketOrder(action=\"SELL\", totalQuantity=10000)\n",
    "order"
   ]
  },
  {
   "cell_type": "code",
   "execution_count": null,
   "metadata": {},
   "outputs": [
    {
     "data": {
      "text/plain": [
       "Trade(contract=CFD(symbol='EUR', currency='USD'), order=MarketOrder(orderId=21, clientId=1, action='SELL', totalQuantity=10000), orderStatus=OrderStatus(orderId=21, status='PendingSubmit', filled=0.0, remaining=0.0, avgFillPrice=0.0, permId=0, parentId=0, lastFillPrice=0.0, clientId=0, whyHeld='', mktCapPrice=0.0), fills=[], log=[TradeLogEntry(time=datetime.datetime(2023, 11, 2, 10, 39, 42, 600110, tzinfo=datetime.timezone.utc), status='PendingSubmit', message='', errorCode=0)], advancedError='')"
      ]
     },
     "execution_count": 87,
     "metadata": {},
     "output_type": "execute_result"
    },
    {
     "name": "stderr",
     "output_type": "stream",
     "text": [
      "Error 321, reqId 21: Error validating request.-'bS' : cause - Missing order exchange.\n",
      "Canceled order: Trade(contract=CFD(symbol='EUR', currency='USD'), order=MarketOrder(orderId=21, clientId=1, action='SELL', totalQuantity=10000), orderStatus=OrderStatus(orderId=21, status='Cancelled', filled=0.0, remaining=0.0, avgFillPrice=0.0, permId=0, parentId=0, lastFillPrice=0.0, clientId=0, whyHeld='', mktCapPrice=0.0), fills=[], log=[TradeLogEntry(time=datetime.datetime(2023, 11, 2, 10, 39, 42, 600110, tzinfo=datetime.timezone.utc), status='PendingSubmit', message='', errorCode=0), TradeLogEntry(time=datetime.datetime(2023, 11, 2, 10, 39, 42, 603941, tzinfo=datetime.timezone.utc), status='Cancelled', message=\"Error 321, reqId 21: Error validating request.-'bS' : cause - Missing order exchange.\", errorCode=321)], advancedError='')\n",
      "Error 10197, reqId 10: No market data during competing live session, contract: CFD(conId=143916318, symbol='EUR', exchange='SMART', currency='USD', localSymbol='EUR.USD', tradingClass='EUR.USD')\n",
      "Error 10197, reqId 10: No market data during competing live session, contract: CFD(conId=143916318, symbol='EUR', exchange='SMART', currency='USD', localSymbol='EUR.USD', tradingClass='EUR.USD')\n",
      "Error 10197, reqId 10: No market data during competing live session, contract: CFD(conId=143916318, symbol='EUR', exchange='SMART', currency='USD', localSymbol='EUR.USD', tradingClass='EUR.USD')\n",
      "Error 10197, reqId 10: No market data during competing live session, contract: CFD(conId=143916318, symbol='EUR', exchange='SMART', currency='USD', localSymbol='EUR.USD', tradingClass='EUR.USD')\n",
      "Error 10197, reqId 10: No market data during competing live session, contract: CFD(conId=143916318, symbol='EUR', exchange='SMART', currency='USD', localSymbol='EUR.USD', tradingClass='EUR.USD')\n",
      "Error 10197, reqId 10: No market data during competing live session, contract: CFD(conId=143916318, symbol='EUR', exchange='SMART', currency='USD', localSymbol='EUR.USD', tradingClass='EUR.USD')\n",
      "Error 10197, reqId 10: No market data during competing live session, contract: CFD(conId=143916318, symbol='EUR', exchange='SMART', currency='USD', localSymbol='EUR.USD', tradingClass='EUR.USD')\n",
      "Error 10197, reqId 10: No market data during competing live session, contract: CFD(conId=143916318, symbol='EUR', exchange='SMART', currency='USD', localSymbol='EUR.USD', tradingClass='EUR.USD')\n"
     ]
    }
   ],
   "source": [
    "trade = ib.placeOrder(contract,order)\n",
    "trade"
   ]
  },
  {
   "cell_type": "markdown",
   "metadata": {},
   "source": [
    "# CFD Trade Information"
   ]
  },
  {
   "cell_type": "code",
   "execution_count": 88,
   "metadata": {},
   "outputs": [
    {
     "data": {
      "text/plain": [
       "[Fill(contract=Stock(conId=265598, symbol='AAPL', exchange='SMART', primaryExchange='NASDAQ', currency='USD', localSymbol='AAPL', tradingClass='NMS'), execution=Execution(execId='00012ec5.65432d12.01.01', time=datetime.datetime(2023, 11, 2, 9, 58, 19, tzinfo=datetime.timezone.utc), acctNumber='DU8048713', exchange='ISLAND', side='BOT', shares=1.0, price=175.5, permId=477927198, clientId=1, orderId=12, liquidation=0, cumQty=1.0, avgPrice=175.5, orderRef='', evRule='', evMultiplier=0.0, modelCode='', lastLiquidity=1), commissionReport=CommissionReport(execId='00012ec5.65432d12.01.01', commission=1.0, currency='USD', realizedPNL=0.0, yield_=0.0, yieldRedemptionDate=0), time=datetime.datetime(2023, 11, 2, 9, 58, 17, 664931, tzinfo=datetime.timezone.utc)),\n",
       " Fill(contract=Stock(conId=265598, symbol='AAPL', exchange='SMART', primaryExchange='NASDAQ', currency='USD', localSymbol='AAPL', tradingClass='NMS'), execution=Execution(execId='00012ec5.65432d47.01.01', time=datetime.datetime(2023, 11, 2, 10, 6, 52, tzinfo=datetime.timezone.utc), acctNumber='DU8048713', exchange='ISLAND', side='SLD', shares=1.0, price=175.54, permId=477927203, clientId=1, orderId=13, liquidation=0, cumQty=1.0, avgPrice=175.54, orderRef='', evRule='', evMultiplier=0.0, modelCode='', lastLiquidity=2), commissionReport=CommissionReport(execId='00012ec5.65432d47.01.01', commission=1.001549, currency='USD', realizedPNL=-1.961549, yield_=0.0, yieldRedemptionDate=0), time=datetime.datetime(2023, 11, 2, 10, 6, 51, 383799, tzinfo=datetime.timezone.utc)),\n",
       " Fill(contract=Stock(conId=265598, symbol='AAPL', exchange='SMART', primaryExchange='NASDAQ', currency='USD', localSymbol='AAPL', tradingClass='NMS'), execution=Execution(execId='00012ec5.65432d9e.01.01', time=datetime.datetime(2023, 11, 2, 10, 12, 31, tzinfo=datetime.timezone.utc), acctNumber='DU8048713', exchange='ISLAND', side='BOT', shares=1.0, price=175.6, permId=477927205, clientId=1, orderId=15, liquidation=0, cumQty=1.0, avgPrice=175.6, orderRef='', evRule='', evMultiplier=0.0, modelCode='', lastLiquidity=1), commissionReport=CommissionReport(execId='00012ec5.65432d9e.01.01', commission=1.0, currency='USD', realizedPNL=0.0, yield_=0.0, yieldRedemptionDate=0), time=datetime.datetime(2023, 11, 2, 10, 12, 29, 870136, tzinfo=datetime.timezone.utc)),\n",
       " Fill(contract=Stock(conId=265598, symbol='AAPL', exchange='SMART', primaryExchange='NASDAQ', currency='USD', localSymbol='AAPL', tradingClass='NMS'), execution=Execution(execId='00012ec5.65432da0.01.01', time=datetime.datetime(2023, 11, 2, 10, 12, 36, tzinfo=datetime.timezone.utc), acctNumber='DU8048713', exchange='ISLAND', side='BOT', shares=1.0, price=175.6, permId=477927207, clientId=1, orderId=17, liquidation=0, cumQty=1.0, avgPrice=175.6, orderRef='', evRule='', evMultiplier=0.0, modelCode='', lastLiquidity=1), commissionReport=CommissionReport(execId='00012ec5.65432da0.01.01', commission=1.0, currency='USD', realizedPNL=0.0, yield_=0.0, yieldRedemptionDate=0), time=datetime.datetime(2023, 11, 2, 10, 12, 35, 300994, tzinfo=datetime.timezone.utc)),\n",
       " Fill(contract=Stock(conId=265598, symbol='AAPL', exchange='SMART', primaryExchange='NASDAQ', currency='USD', localSymbol='AAPL', tradingClass='NMS'), execution=Execution(execId='00012ec5.65432da1.01.01', time=datetime.datetime(2023, 11, 2, 10, 12, 45, tzinfo=datetime.timezone.utc), acctNumber='DU8048713', exchange='ISLAND', side='BOT', shares=1.0, price=175.6, permId=477927204, clientId=1, orderId=14, liquidation=0, cumQty=1.0, avgPrice=175.6, orderRef='', evRule='', evMultiplier=0.0, modelCode='', lastLiquidity=1), commissionReport=CommissionReport(execId='00012ec5.65432da1.01.01', commission=1.0, currency='USD', realizedPNL=0.0, yield_=0.0, yieldRedemptionDate=0), time=datetime.datetime(2023, 11, 2, 10, 12, 43, 625373, tzinfo=datetime.timezone.utc)),\n",
       " Fill(contract=Stock(conId=265598, symbol='AAPL', exchange='SMART', primaryExchange='NASDAQ', currency='USD', localSymbol='AAPL', tradingClass='NMS'), execution=Execution(execId='00012ec5.65432da2.01.01', time=datetime.datetime(2023, 11, 2, 10, 12, 48, tzinfo=datetime.timezone.utc), acctNumber='DU8048713', exchange='ISLAND', side='BOT', shares=1.0, price=175.6, permId=477927208, clientId=1, orderId=18, liquidation=0, cumQty=1.0, avgPrice=175.6, orderRef='', evRule='', evMultiplier=0.0, modelCode='', lastLiquidity=1), commissionReport=CommissionReport(execId='00012ec5.65432da2.01.01', commission=1.0, currency='USD', realizedPNL=0.0, yield_=0.0, yieldRedemptionDate=0), time=datetime.datetime(2023, 11, 2, 10, 12, 46, 632133, tzinfo=datetime.timezone.utc)),\n",
       " Fill(contract=Stock(conId=265598, symbol='AAPL', exchange='SMART', primaryExchange='NASDAQ', currency='USD', localSymbol='AAPL', tradingClass='NMS'), execution=Execution(execId='00012ec5.65432da6.01.01', time=datetime.datetime(2023, 11, 2, 10, 13, 8, tzinfo=datetime.timezone.utc), acctNumber='DU8048713', exchange='ISLAND', side='BOT', shares=1.0, price=175.6, permId=477927206, clientId=1, orderId=16, liquidation=0, cumQty=1.0, avgPrice=175.6, orderRef='', evRule='', evMultiplier=0.0, modelCode='', lastLiquidity=1), commissionReport=CommissionReport(execId='00012ec5.65432da6.01.01', commission=1.0, currency='USD', realizedPNL=0.0, yield_=0.0, yieldRedemptionDate=0), time=datetime.datetime(2023, 11, 2, 10, 13, 6, 625744, tzinfo=datetime.timezone.utc))]"
      ]
     },
     "execution_count": 88,
     "metadata": {},
     "output_type": "execute_result"
    }
   ],
   "source": [
    "# The transactions\n",
    "ib.fills()"
   ]
  },
  {
   "cell_type": "code",
   "execution_count": 89,
   "metadata": {},
   "outputs": [
    {
     "data": {
      "text/html": [
       "<div>\n",
       "<style scoped>\n",
       "    .dataframe tbody tr th:only-of-type {\n",
       "        vertical-align: middle;\n",
       "    }\n",
       "\n",
       "    .dataframe tbody tr th {\n",
       "        vertical-align: top;\n",
       "    }\n",
       "\n",
       "    .dataframe thead th {\n",
       "        text-align: right;\n",
       "    }\n",
       "</style>\n",
       "<table border=\"1\" class=\"dataframe\">\n",
       "  <thead>\n",
       "    <tr style=\"text-align: right;\">\n",
       "      <th></th>\n",
       "      <th>execId</th>\n",
       "      <th>time</th>\n",
       "      <th>acctNumber</th>\n",
       "      <th>exchange</th>\n",
       "      <th>side</th>\n",
       "      <th>shares</th>\n",
       "      <th>price</th>\n",
       "      <th>permId</th>\n",
       "      <th>clientId</th>\n",
       "      <th>orderId</th>\n",
       "      <th>liquidation</th>\n",
       "      <th>cumQty</th>\n",
       "      <th>avgPrice</th>\n",
       "      <th>orderRef</th>\n",
       "      <th>evRule</th>\n",
       "      <th>evMultiplier</th>\n",
       "      <th>modelCode</th>\n",
       "      <th>lastLiquidity</th>\n",
       "    </tr>\n",
       "  </thead>\n",
       "  <tbody>\n",
       "    <tr>\n",
       "      <th>0</th>\n",
       "      <td>00012ec5.65432d12.01.01</td>\n",
       "      <td>2023-11-02 09:58:19+00:00</td>\n",
       "      <td>DU8048713</td>\n",
       "      <td>ISLAND</td>\n",
       "      <td>BOT</td>\n",
       "      <td>1.0</td>\n",
       "      <td>175.50</td>\n",
       "      <td>477927198</td>\n",
       "      <td>1</td>\n",
       "      <td>12</td>\n",
       "      <td>0</td>\n",
       "      <td>1.0</td>\n",
       "      <td>175.50</td>\n",
       "      <td></td>\n",
       "      <td></td>\n",
       "      <td>0.0</td>\n",
       "      <td></td>\n",
       "      <td>1</td>\n",
       "    </tr>\n",
       "    <tr>\n",
       "      <th>1</th>\n",
       "      <td>00012ec5.65432d47.01.01</td>\n",
       "      <td>2023-11-02 10:06:52+00:00</td>\n",
       "      <td>DU8048713</td>\n",
       "      <td>ISLAND</td>\n",
       "      <td>SLD</td>\n",
       "      <td>1.0</td>\n",
       "      <td>175.54</td>\n",
       "      <td>477927203</td>\n",
       "      <td>1</td>\n",
       "      <td>13</td>\n",
       "      <td>0</td>\n",
       "      <td>1.0</td>\n",
       "      <td>175.54</td>\n",
       "      <td></td>\n",
       "      <td></td>\n",
       "      <td>0.0</td>\n",
       "      <td></td>\n",
       "      <td>2</td>\n",
       "    </tr>\n",
       "    <tr>\n",
       "      <th>2</th>\n",
       "      <td>00012ec5.65432d9e.01.01</td>\n",
       "      <td>2023-11-02 10:12:31+00:00</td>\n",
       "      <td>DU8048713</td>\n",
       "      <td>ISLAND</td>\n",
       "      <td>BOT</td>\n",
       "      <td>1.0</td>\n",
       "      <td>175.60</td>\n",
       "      <td>477927205</td>\n",
       "      <td>1</td>\n",
       "      <td>15</td>\n",
       "      <td>0</td>\n",
       "      <td>1.0</td>\n",
       "      <td>175.60</td>\n",
       "      <td></td>\n",
       "      <td></td>\n",
       "      <td>0.0</td>\n",
       "      <td></td>\n",
       "      <td>1</td>\n",
       "    </tr>\n",
       "    <tr>\n",
       "      <th>3</th>\n",
       "      <td>00012ec5.65432da0.01.01</td>\n",
       "      <td>2023-11-02 10:12:36+00:00</td>\n",
       "      <td>DU8048713</td>\n",
       "      <td>ISLAND</td>\n",
       "      <td>BOT</td>\n",
       "      <td>1.0</td>\n",
       "      <td>175.60</td>\n",
       "      <td>477927207</td>\n",
       "      <td>1</td>\n",
       "      <td>17</td>\n",
       "      <td>0</td>\n",
       "      <td>1.0</td>\n",
       "      <td>175.60</td>\n",
       "      <td></td>\n",
       "      <td></td>\n",
       "      <td>0.0</td>\n",
       "      <td></td>\n",
       "      <td>1</td>\n",
       "    </tr>\n",
       "    <tr>\n",
       "      <th>4</th>\n",
       "      <td>00012ec5.65432da1.01.01</td>\n",
       "      <td>2023-11-02 10:12:45+00:00</td>\n",
       "      <td>DU8048713</td>\n",
       "      <td>ISLAND</td>\n",
       "      <td>BOT</td>\n",
       "      <td>1.0</td>\n",
       "      <td>175.60</td>\n",
       "      <td>477927204</td>\n",
       "      <td>1</td>\n",
       "      <td>14</td>\n",
       "      <td>0</td>\n",
       "      <td>1.0</td>\n",
       "      <td>175.60</td>\n",
       "      <td></td>\n",
       "      <td></td>\n",
       "      <td>0.0</td>\n",
       "      <td></td>\n",
       "      <td>1</td>\n",
       "    </tr>\n",
       "    <tr>\n",
       "      <th>5</th>\n",
       "      <td>00012ec5.65432da2.01.01</td>\n",
       "      <td>2023-11-02 10:12:48+00:00</td>\n",
       "      <td>DU8048713</td>\n",
       "      <td>ISLAND</td>\n",
       "      <td>BOT</td>\n",
       "      <td>1.0</td>\n",
       "      <td>175.60</td>\n",
       "      <td>477927208</td>\n",
       "      <td>1</td>\n",
       "      <td>18</td>\n",
       "      <td>0</td>\n",
       "      <td>1.0</td>\n",
       "      <td>175.60</td>\n",
       "      <td></td>\n",
       "      <td></td>\n",
       "      <td>0.0</td>\n",
       "      <td></td>\n",
       "      <td>1</td>\n",
       "    </tr>\n",
       "    <tr>\n",
       "      <th>6</th>\n",
       "      <td>00012ec5.65432da6.01.01</td>\n",
       "      <td>2023-11-02 10:13:08+00:00</td>\n",
       "      <td>DU8048713</td>\n",
       "      <td>ISLAND</td>\n",
       "      <td>BOT</td>\n",
       "      <td>1.0</td>\n",
       "      <td>175.60</td>\n",
       "      <td>477927206</td>\n",
       "      <td>1</td>\n",
       "      <td>16</td>\n",
       "      <td>0</td>\n",
       "      <td>1.0</td>\n",
       "      <td>175.60</td>\n",
       "      <td></td>\n",
       "      <td></td>\n",
       "      <td>0.0</td>\n",
       "      <td></td>\n",
       "      <td>1</td>\n",
       "    </tr>\n",
       "  </tbody>\n",
       "</table>\n",
       "</div>"
      ],
      "text/plain": [
       "                    execId                      time acctNumber exchange side  \\\n",
       "0  00012ec5.65432d12.01.01 2023-11-02 09:58:19+00:00  DU8048713   ISLAND  BOT   \n",
       "1  00012ec5.65432d47.01.01 2023-11-02 10:06:52+00:00  DU8048713   ISLAND  SLD   \n",
       "2  00012ec5.65432d9e.01.01 2023-11-02 10:12:31+00:00  DU8048713   ISLAND  BOT   \n",
       "3  00012ec5.65432da0.01.01 2023-11-02 10:12:36+00:00  DU8048713   ISLAND  BOT   \n",
       "4  00012ec5.65432da1.01.01 2023-11-02 10:12:45+00:00  DU8048713   ISLAND  BOT   \n",
       "5  00012ec5.65432da2.01.01 2023-11-02 10:12:48+00:00  DU8048713   ISLAND  BOT   \n",
       "6  00012ec5.65432da6.01.01 2023-11-02 10:13:08+00:00  DU8048713   ISLAND  BOT   \n",
       "\n",
       "   shares   price     permId  clientId  orderId  liquidation  cumQty  \\\n",
       "0     1.0  175.50  477927198         1       12            0     1.0   \n",
       "1     1.0  175.54  477927203         1       13            0     1.0   \n",
       "2     1.0  175.60  477927205         1       15            0     1.0   \n",
       "3     1.0  175.60  477927207         1       17            0     1.0   \n",
       "4     1.0  175.60  477927204         1       14            0     1.0   \n",
       "5     1.0  175.60  477927208         1       18            0     1.0   \n",
       "6     1.0  175.60  477927206         1       16            0     1.0   \n",
       "\n",
       "   avgPrice orderRef evRule  evMultiplier modelCode  lastLiquidity  \n",
       "0    175.50                           0.0                        1  \n",
       "1    175.54                           0.0                        2  \n",
       "2    175.60                           0.0                        1  \n",
       "3    175.60                           0.0                        1  \n",
       "4    175.60                           0.0                        1  \n",
       "5    175.60                           0.0                        1  \n",
       "6    175.60                           0.0                        1  "
      ]
     },
     "execution_count": 89,
     "metadata": {},
     "output_type": "execute_result"
    }
   ],
   "source": [
    "# DataFrame of all trades execution\n",
    "util.df([fs.execution for fs in ib.fills()]) # execution data\n",
    "\n",
    "# BOT -> long (buy)\n",
    "# SLD -> sort (sell)\n"
   ]
  },
  {
   "cell_type": "code",
   "execution_count": 90,
   "metadata": {},
   "outputs": [
    {
     "data": {
      "text/html": [
       "<div>\n",
       "<style scoped>\n",
       "    .dataframe tbody tr th:only-of-type {\n",
       "        vertical-align: middle;\n",
       "    }\n",
       "\n",
       "    .dataframe tbody tr th {\n",
       "        vertical-align: top;\n",
       "    }\n",
       "\n",
       "    .dataframe thead th {\n",
       "        text-align: right;\n",
       "    }\n",
       "</style>\n",
       "<table border=\"1\" class=\"dataframe\">\n",
       "  <thead>\n",
       "    <tr style=\"text-align: right;\">\n",
       "      <th></th>\n",
       "      <th>time</th>\n",
       "      <th>side</th>\n",
       "      <th>cumQty</th>\n",
       "      <th>avgPrice</th>\n",
       "    </tr>\n",
       "    <tr>\n",
       "      <th>execId</th>\n",
       "      <th></th>\n",
       "      <th></th>\n",
       "      <th></th>\n",
       "      <th></th>\n",
       "    </tr>\n",
       "  </thead>\n",
       "  <tbody>\n",
       "    <tr>\n",
       "      <th>00012ec5.65432d12.01.01</th>\n",
       "      <td>2023-11-02 09:58:19+00:00</td>\n",
       "      <td>BOT</td>\n",
       "      <td>1.0</td>\n",
       "      <td>175.50</td>\n",
       "    </tr>\n",
       "    <tr>\n",
       "      <th>00012ec5.65432d47.01.01</th>\n",
       "      <td>2023-11-02 10:06:52+00:00</td>\n",
       "      <td>SLD</td>\n",
       "      <td>1.0</td>\n",
       "      <td>175.54</td>\n",
       "    </tr>\n",
       "    <tr>\n",
       "      <th>00012ec5.65432d9e.01.01</th>\n",
       "      <td>2023-11-02 10:12:31+00:00</td>\n",
       "      <td>BOT</td>\n",
       "      <td>1.0</td>\n",
       "      <td>175.60</td>\n",
       "    </tr>\n",
       "    <tr>\n",
       "      <th>00012ec5.65432da0.01.01</th>\n",
       "      <td>2023-11-02 10:12:36+00:00</td>\n",
       "      <td>BOT</td>\n",
       "      <td>1.0</td>\n",
       "      <td>175.60</td>\n",
       "    </tr>\n",
       "    <tr>\n",
       "      <th>00012ec5.65432da1.01.01</th>\n",
       "      <td>2023-11-02 10:12:45+00:00</td>\n",
       "      <td>BOT</td>\n",
       "      <td>1.0</td>\n",
       "      <td>175.60</td>\n",
       "    </tr>\n",
       "    <tr>\n",
       "      <th>00012ec5.65432da2.01.01</th>\n",
       "      <td>2023-11-02 10:12:48+00:00</td>\n",
       "      <td>BOT</td>\n",
       "      <td>1.0</td>\n",
       "      <td>175.60</td>\n",
       "    </tr>\n",
       "    <tr>\n",
       "      <th>00012ec5.65432da6.01.01</th>\n",
       "      <td>2023-11-02 10:13:08+00:00</td>\n",
       "      <td>BOT</td>\n",
       "      <td>1.0</td>\n",
       "      <td>175.60</td>\n",
       "    </tr>\n",
       "  </tbody>\n",
       "</table>\n",
       "</div>"
      ],
      "text/plain": [
       "                                             time side  cumQty  avgPrice\n",
       "execId                                                                  \n",
       "00012ec5.65432d12.01.01 2023-11-02 09:58:19+00:00  BOT     1.0    175.50\n",
       "00012ec5.65432d47.01.01 2023-11-02 10:06:52+00:00  SLD     1.0    175.54\n",
       "00012ec5.65432d9e.01.01 2023-11-02 10:12:31+00:00  BOT     1.0    175.60\n",
       "00012ec5.65432da0.01.01 2023-11-02 10:12:36+00:00  BOT     1.0    175.60\n",
       "00012ec5.65432da1.01.01 2023-11-02 10:12:45+00:00  BOT     1.0    175.60\n",
       "00012ec5.65432da2.01.01 2023-11-02 10:12:48+00:00  BOT     1.0    175.60\n",
       "00012ec5.65432da6.01.01 2023-11-02 10:13:08+00:00  BOT     1.0    175.60"
      ]
     },
     "execution_count": 90,
     "metadata": {},
     "output_type": "execute_result"
    }
   ],
   "source": [
    "# Create dataFrame with specific columns.  \n",
    "fill_df = util.df([fs.execution for fs in ib.fills()])[[\"execId\", \"time\", \"side\", \"cumQty\",\n",
    "                                                        \"avgPrice\"]].set_index(\"execId\")\n",
    "fill_df"
   ]
  },
  {
   "cell_type": "code",
   "execution_count": 91,
   "metadata": {},
   "outputs": [
    {
     "data": {
      "text/html": [
       "<div>\n",
       "<style scoped>\n",
       "    .dataframe tbody tr th:only-of-type {\n",
       "        vertical-align: middle;\n",
       "    }\n",
       "\n",
       "    .dataframe tbody tr th {\n",
       "        vertical-align: top;\n",
       "    }\n",
       "\n",
       "    .dataframe thead th {\n",
       "        text-align: right;\n",
       "    }\n",
       "</style>\n",
       "<table border=\"1\" class=\"dataframe\">\n",
       "  <thead>\n",
       "    <tr style=\"text-align: right;\">\n",
       "      <th></th>\n",
       "      <th>time</th>\n",
       "      <th>side</th>\n",
       "      <th>cumQty</th>\n",
       "      <th>avgPrice</th>\n",
       "      <th>TradeValue</th>\n",
       "    </tr>\n",
       "    <tr>\n",
       "      <th>execId</th>\n",
       "      <th></th>\n",
       "      <th></th>\n",
       "      <th></th>\n",
       "      <th></th>\n",
       "      <th></th>\n",
       "    </tr>\n",
       "  </thead>\n",
       "  <tbody>\n",
       "    <tr>\n",
       "      <th>00012ec5.65432d12.01.01</th>\n",
       "      <td>2023-11-02 09:58:19+00:00</td>\n",
       "      <td>BOT</td>\n",
       "      <td>1.0</td>\n",
       "      <td>175.50</td>\n",
       "      <td>-175.50</td>\n",
       "    </tr>\n",
       "    <tr>\n",
       "      <th>00012ec5.65432d47.01.01</th>\n",
       "      <td>2023-11-02 10:06:52+00:00</td>\n",
       "      <td>SLD</td>\n",
       "      <td>1.0</td>\n",
       "      <td>175.54</td>\n",
       "      <td>175.54</td>\n",
       "    </tr>\n",
       "    <tr>\n",
       "      <th>00012ec5.65432d9e.01.01</th>\n",
       "      <td>2023-11-02 10:12:31+00:00</td>\n",
       "      <td>BOT</td>\n",
       "      <td>1.0</td>\n",
       "      <td>175.60</td>\n",
       "      <td>-175.60</td>\n",
       "    </tr>\n",
       "    <tr>\n",
       "      <th>00012ec5.65432da0.01.01</th>\n",
       "      <td>2023-11-02 10:12:36+00:00</td>\n",
       "      <td>BOT</td>\n",
       "      <td>1.0</td>\n",
       "      <td>175.60</td>\n",
       "      <td>-175.60</td>\n",
       "    </tr>\n",
       "    <tr>\n",
       "      <th>00012ec5.65432da1.01.01</th>\n",
       "      <td>2023-11-02 10:12:45+00:00</td>\n",
       "      <td>BOT</td>\n",
       "      <td>1.0</td>\n",
       "      <td>175.60</td>\n",
       "      <td>-175.60</td>\n",
       "    </tr>\n",
       "    <tr>\n",
       "      <th>00012ec5.65432da2.01.01</th>\n",
       "      <td>2023-11-02 10:12:48+00:00</td>\n",
       "      <td>BOT</td>\n",
       "      <td>1.0</td>\n",
       "      <td>175.60</td>\n",
       "      <td>-175.60</td>\n",
       "    </tr>\n",
       "    <tr>\n",
       "      <th>00012ec5.65432da6.01.01</th>\n",
       "      <td>2023-11-02 10:13:08+00:00</td>\n",
       "      <td>BOT</td>\n",
       "      <td>1.0</td>\n",
       "      <td>175.60</td>\n",
       "      <td>-175.60</td>\n",
       "    </tr>\n",
       "  </tbody>\n",
       "</table>\n",
       "</div>"
      ],
      "text/plain": [
       "                                             time side  cumQty  avgPrice  \\\n",
       "execId                                                                     \n",
       "00012ec5.65432d12.01.01 2023-11-02 09:58:19+00:00  BOT     1.0    175.50   \n",
       "00012ec5.65432d47.01.01 2023-11-02 10:06:52+00:00  SLD     1.0    175.54   \n",
       "00012ec5.65432d9e.01.01 2023-11-02 10:12:31+00:00  BOT     1.0    175.60   \n",
       "00012ec5.65432da0.01.01 2023-11-02 10:12:36+00:00  BOT     1.0    175.60   \n",
       "00012ec5.65432da1.01.01 2023-11-02 10:12:45+00:00  BOT     1.0    175.60   \n",
       "00012ec5.65432da2.01.01 2023-11-02 10:12:48+00:00  BOT     1.0    175.60   \n",
       "00012ec5.65432da6.01.01 2023-11-02 10:13:08+00:00  BOT     1.0    175.60   \n",
       "\n",
       "                         TradeValue  \n",
       "execId                               \n",
       "00012ec5.65432d12.01.01     -175.50  \n",
       "00012ec5.65432d47.01.01      175.54  \n",
       "00012ec5.65432d9e.01.01     -175.60  \n",
       "00012ec5.65432da0.01.01     -175.60  \n",
       "00012ec5.65432da1.01.01     -175.60  \n",
       "00012ec5.65432da2.01.01     -175.60  \n",
       "00012ec5.65432da6.01.01     -175.60  "
      ]
     },
     "execution_count": 91,
     "metadata": {},
     "output_type": "execute_result"
    }
   ],
   "source": [
    "# Compute the trade value of each transaction\n",
    "fill_df[\"TradeValue\"] = fill_df.side.apply(lambda x: 1 if x == \"SLD\" else -1) * fill_df.cumQty * fill_df.avgPrice\n",
    "fill_df"
   ]
  },
  {
   "cell_type": "code",
   "execution_count": 92,
   "metadata": {},
   "outputs": [
    {
     "data": {
      "text/plain": [
       "-877.96"
      ]
     },
     "execution_count": 92,
     "metadata": {},
     "output_type": "execute_result"
    }
   ],
   "source": [
    "# SUm the total trade value\n",
    "# in that case, we loss -877$\n",
    "fill_df.TradeValue.sum()"
   ]
  },
  {
   "cell_type": "code",
   "execution_count": 93,
   "metadata": {},
   "outputs": [
    {
     "data": {
      "text/html": [
       "<div>\n",
       "<style scoped>\n",
       "    .dataframe tbody tr th:only-of-type {\n",
       "        vertical-align: middle;\n",
       "    }\n",
       "\n",
       "    .dataframe tbody tr th {\n",
       "        vertical-align: top;\n",
       "    }\n",
       "\n",
       "    .dataframe thead th {\n",
       "        text-align: right;\n",
       "    }\n",
       "</style>\n",
       "<table border=\"1\" class=\"dataframe\">\n",
       "  <thead>\n",
       "    <tr style=\"text-align: right;\">\n",
       "      <th></th>\n",
       "      <th>execId</th>\n",
       "      <th>commission</th>\n",
       "      <th>currency</th>\n",
       "      <th>realizedPNL</th>\n",
       "      <th>yield_</th>\n",
       "      <th>yieldRedemptionDate</th>\n",
       "    </tr>\n",
       "  </thead>\n",
       "  <tbody>\n",
       "    <tr>\n",
       "      <th>0</th>\n",
       "      <td>00012ec5.65432d12.01.01</td>\n",
       "      <td>1.000000</td>\n",
       "      <td>USD</td>\n",
       "      <td>0.000000</td>\n",
       "      <td>0.0</td>\n",
       "      <td>0</td>\n",
       "    </tr>\n",
       "    <tr>\n",
       "      <th>1</th>\n",
       "      <td>00012ec5.65432d47.01.01</td>\n",
       "      <td>1.001549</td>\n",
       "      <td>USD</td>\n",
       "      <td>-1.961549</td>\n",
       "      <td>0.0</td>\n",
       "      <td>0</td>\n",
       "    </tr>\n",
       "    <tr>\n",
       "      <th>2</th>\n",
       "      <td>00012ec5.65432d9e.01.01</td>\n",
       "      <td>1.000000</td>\n",
       "      <td>USD</td>\n",
       "      <td>0.000000</td>\n",
       "      <td>0.0</td>\n",
       "      <td>0</td>\n",
       "    </tr>\n",
       "    <tr>\n",
       "      <th>3</th>\n",
       "      <td>00012ec5.65432da0.01.01</td>\n",
       "      <td>1.000000</td>\n",
       "      <td>USD</td>\n",
       "      <td>0.000000</td>\n",
       "      <td>0.0</td>\n",
       "      <td>0</td>\n",
       "    </tr>\n",
       "    <tr>\n",
       "      <th>4</th>\n",
       "      <td>00012ec5.65432da1.01.01</td>\n",
       "      <td>1.000000</td>\n",
       "      <td>USD</td>\n",
       "      <td>0.000000</td>\n",
       "      <td>0.0</td>\n",
       "      <td>0</td>\n",
       "    </tr>\n",
       "    <tr>\n",
       "      <th>5</th>\n",
       "      <td>00012ec5.65432da2.01.01</td>\n",
       "      <td>1.000000</td>\n",
       "      <td>USD</td>\n",
       "      <td>0.000000</td>\n",
       "      <td>0.0</td>\n",
       "      <td>0</td>\n",
       "    </tr>\n",
       "    <tr>\n",
       "      <th>6</th>\n",
       "      <td>00012ec5.65432da6.01.01</td>\n",
       "      <td>1.000000</td>\n",
       "      <td>USD</td>\n",
       "      <td>0.000000</td>\n",
       "      <td>0.0</td>\n",
       "      <td>0</td>\n",
       "    </tr>\n",
       "  </tbody>\n",
       "</table>\n",
       "</div>"
      ],
      "text/plain": [
       "                    execId  commission currency  realizedPNL  yield_  \\\n",
       "0  00012ec5.65432d12.01.01    1.000000      USD     0.000000     0.0   \n",
       "1  00012ec5.65432d47.01.01    1.001549      USD    -1.961549     0.0   \n",
       "2  00012ec5.65432d9e.01.01    1.000000      USD     0.000000     0.0   \n",
       "3  00012ec5.65432da0.01.01    1.000000      USD     0.000000     0.0   \n",
       "4  00012ec5.65432da1.01.01    1.000000      USD     0.000000     0.0   \n",
       "5  00012ec5.65432da2.01.01    1.000000      USD     0.000000     0.0   \n",
       "6  00012ec5.65432da6.01.01    1.000000      USD     0.000000     0.0   \n",
       "\n",
       "   yieldRedemptionDate  \n",
       "0                    0  \n",
       "1                    0  \n",
       "2                    0  \n",
       "3                    0  \n",
       "4                    0  \n",
       "5                    0  \n",
       "6                    0  "
      ]
     },
     "execution_count": 93,
     "metadata": {},
     "output_type": "execute_result"
    }
   ],
   "source": [
    "# the costs.\n",
    "# you can see that each trande - have its cost.  \n",
    "util.df([fs.commissionReport for fs in ib.fills()]) # commission and PNL data"
   ]
  },
  {
   "cell_type": "code",
   "execution_count": 94,
   "metadata": {},
   "outputs": [
    {
     "data": {
      "text/html": [
       "<div>\n",
       "<style scoped>\n",
       "    .dataframe tbody tr th:only-of-type {\n",
       "        vertical-align: middle;\n",
       "    }\n",
       "\n",
       "    .dataframe tbody tr th {\n",
       "        vertical-align: top;\n",
       "    }\n",
       "\n",
       "    .dataframe thead th {\n",
       "        text-align: right;\n",
       "    }\n",
       "</style>\n",
       "<table border=\"1\" class=\"dataframe\">\n",
       "  <thead>\n",
       "    <tr style=\"text-align: right;\">\n",
       "      <th></th>\n",
       "      <th>currency</th>\n",
       "      <th>commission</th>\n",
       "      <th>realizedPNL</th>\n",
       "    </tr>\n",
       "    <tr>\n",
       "      <th>execId</th>\n",
       "      <th></th>\n",
       "      <th></th>\n",
       "      <th></th>\n",
       "    </tr>\n",
       "  </thead>\n",
       "  <tbody>\n",
       "    <tr>\n",
       "      <th>00012ec5.65432d12.01.01</th>\n",
       "      <td>USD</td>\n",
       "      <td>1.000000</td>\n",
       "      <td>0.000000</td>\n",
       "    </tr>\n",
       "    <tr>\n",
       "      <th>00012ec5.65432d47.01.01</th>\n",
       "      <td>USD</td>\n",
       "      <td>1.001549</td>\n",
       "      <td>-1.961549</td>\n",
       "    </tr>\n",
       "    <tr>\n",
       "      <th>00012ec5.65432d9e.01.01</th>\n",
       "      <td>USD</td>\n",
       "      <td>1.000000</td>\n",
       "      <td>0.000000</td>\n",
       "    </tr>\n",
       "    <tr>\n",
       "      <th>00012ec5.65432da0.01.01</th>\n",
       "      <td>USD</td>\n",
       "      <td>1.000000</td>\n",
       "      <td>0.000000</td>\n",
       "    </tr>\n",
       "    <tr>\n",
       "      <th>00012ec5.65432da1.01.01</th>\n",
       "      <td>USD</td>\n",
       "      <td>1.000000</td>\n",
       "      <td>0.000000</td>\n",
       "    </tr>\n",
       "    <tr>\n",
       "      <th>00012ec5.65432da2.01.01</th>\n",
       "      <td>USD</td>\n",
       "      <td>1.000000</td>\n",
       "      <td>0.000000</td>\n",
       "    </tr>\n",
       "    <tr>\n",
       "      <th>00012ec5.65432da6.01.01</th>\n",
       "      <td>USD</td>\n",
       "      <td>1.000000</td>\n",
       "      <td>0.000000</td>\n",
       "    </tr>\n",
       "  </tbody>\n",
       "</table>\n",
       "</div>"
      ],
      "text/plain": [
       "                        currency  commission  realizedPNL\n",
       "execId                                                   \n",
       "00012ec5.65432d12.01.01      USD    1.000000     0.000000\n",
       "00012ec5.65432d47.01.01      USD    1.001549    -1.961549\n",
       "00012ec5.65432d9e.01.01      USD    1.000000     0.000000\n",
       "00012ec5.65432da0.01.01      USD    1.000000     0.000000\n",
       "00012ec5.65432da1.01.01      USD    1.000000     0.000000\n",
       "00012ec5.65432da2.01.01      USD    1.000000     0.000000\n",
       "00012ec5.65432da6.01.01      USD    1.000000     0.000000"
      ]
     },
     "execution_count": 94,
     "metadata": {},
     "output_type": "execute_result"
    }
   ],
   "source": [
    "profit_df = util.df([fs.commissionReport for fs in ib.fills()])[[\"execId\", \"currency\", \"commission\",\n",
    "                                                                 \"realizedPNL\"]].set_index(\"execId\")\n",
    "profit_df"
   ]
  },
  {
   "cell_type": "code",
   "execution_count": 95,
   "metadata": {},
   "outputs": [
    {
     "data": {
      "text/plain": [
       "-1.961549"
      ]
     },
     "execution_count": 95,
     "metadata": {},
     "output_type": "execute_result"
    }
   ],
   "source": [
    "profit_df.realizedPNL.sum()"
   ]
  },
  {
   "cell_type": "markdown",
   "metadata": {},
   "source": [
    "Total Commissions (in USD) + Sum of Trade Values == Total PNL"
   ]
  },
  {
   "cell_type": "code",
   "execution_count": 96,
   "metadata": {},
   "outputs": [
    {
     "data": {
      "text/plain": [
       "-2107.271968994286"
      ]
     },
     "execution_count": 96,
     "metadata": {},
     "output_type": "execute_result"
    }
   ],
   "source": [
    "- profit_df.commission.sum() * fill_df.avgPrice.mean() + fill_df.TradeValue.sum()"
   ]
  },
  {
   "cell_type": "code",
   "execution_count": 97,
   "metadata": {},
   "outputs": [],
   "source": [
    "ib.disconnect()"
   ]
  },
  {
   "cell_type": "markdown",
   "metadata": {},
   "source": [
    "#  Positions and Account Values"
   ]
  },
  {
   "cell_type": "code",
   "execution_count": 98,
   "metadata": {},
   "outputs": [],
   "source": [
    "import pandas as pd\n",
    "from ib_insync import *\n",
    "util.startLoop()"
   ]
  },
  {
   "cell_type": "code",
   "execution_count": 99,
   "metadata": {},
   "outputs": [],
   "source": [
    "ib = IB()"
   ]
  },
  {
   "cell_type": "code",
   "execution_count": 100,
   "metadata": {},
   "outputs": [
    {
     "data": {
      "text/plain": [
       "<IB connected to 127.0.0.1:7497 clientId=1>"
      ]
     },
     "execution_count": 100,
     "metadata": {},
     "output_type": "execute_result"
    }
   ],
   "source": [
    "ib.connect()"
   ]
  },
  {
   "cell_type": "code",
   "execution_count": 112,
   "metadata": {},
   "outputs": [
    {
     "data": {
      "text/plain": [
       "[]"
      ]
     },
     "execution_count": 112,
     "metadata": {},
     "output_type": "execute_result"
    }
   ],
   "source": [
    "pos = ib.positions()\n",
    "pos"
   ]
  },
  {
   "cell_type": "code",
   "execution_count": 113,
   "metadata": {},
   "outputs": [],
   "source": [
    "df = util.df(pos)\n"
   ]
  },
  {
   "cell_type": "code",
   "execution_count": null,
   "metadata": {},
   "outputs": [],
   "source": [
    "df[\"symbol\"] = df.contract.apply(lambda x: x.symbol)\n",
    "df[\"conID\"] = df.contract.apply(lambda x: x.conId)"
   ]
  },
  {
   "cell_type": "code",
   "execution_count": 107,
   "metadata": {},
   "outputs": [],
   "source": [
    "df"
   ]
  },
  {
   "cell_type": "code",
   "execution_count": 108,
   "metadata": {},
   "outputs": [
    {
     "data": {
      "text/plain": [
       "[AccountValue(account='DU8048713', tag='AccountCode', value='DU8048713', currency='', modelCode=''),\n",
       " AccountValue(account='DU8048713', tag='AccountOrGroup', value='DU8048713', currency='BASE', modelCode=''),\n",
       " AccountValue(account='DU8048713', tag='AccountOrGroup', value='DU8048713', currency='USD', modelCode=''),\n",
       " AccountValue(account='DU8048713', tag='AccountReady', value='true', currency='', modelCode=''),\n",
       " AccountValue(account='DU8048713', tag='AccountType', value='INDIVIDUAL', currency='', modelCode=''),\n",
       " AccountValue(account='DU8048713', tag='AccruedCash', value='132.83', currency='BASE', modelCode=''),\n",
       " AccountValue(account='DU8048713', tag='AccruedCash', value='132.83', currency='USD', modelCode=''),\n",
       " AccountValue(account='DU8048713', tag='AccruedCash-C', value='0.00', currency='USD', modelCode=''),\n",
       " AccountValue(account='DU8048713', tag='AccruedCash-P', value='0.00', currency='USD', modelCode=''),\n",
       " AccountValue(account='DU8048713', tag='AccruedCash-S', value='132.83', currency='USD', modelCode=''),\n",
       " AccountValue(account='DU8048713', tag='AccruedDividend', value='0.00', currency='USD', modelCode=''),\n",
       " AccountValue(account='DU8048713', tag='AccruedDividend-C', value='0.00', currency='USD', modelCode=''),\n",
       " AccountValue(account='DU8048713', tag='AccruedDividend-P', value='0.00', currency='USD', modelCode=''),\n",
       " AccountValue(account='DU8048713', tag='AccruedDividend-S', value='0.00', currency='USD', modelCode=''),\n",
       " AccountValue(account='DU8048713', tag='AvailableFunds', value='999837.64', currency='USD', modelCode=''),\n",
       " AccountValue(account='DU8048713', tag='AvailableFunds-C', value='0.00', currency='USD', modelCode=''),\n",
       " AccountValue(account='DU8048713', tag='AvailableFunds-P', value='0.00', currency='USD', modelCode=''),\n",
       " AccountValue(account='DU8048713', tag='AvailableFunds-S', value='999837.64', currency='USD', modelCode=''),\n",
       " AccountValue(account='DU8048713', tag='Billable', value='0.00', currency='USD', modelCode=''),\n",
       " AccountValue(account='DU8048713', tag='Billable-C', value='0.00', currency='USD', modelCode=''),\n",
       " AccountValue(account='DU8048713', tag='Billable-P', value='0.00', currency='USD', modelCode=''),\n",
       " AccountValue(account='DU8048713', tag='Billable-S', value='0.00', currency='USD', modelCode=''),\n",
       " AccountValue(account='DU8048713', tag='BuyingPower', value='3999350.57', currency='USD', modelCode=''),\n",
       " AccountValue(account='DU8048713', tag='CashBalance', value='999828.643', currency='BASE', modelCode=''),\n",
       " AccountValue(account='DU8048713', tag='CashBalance', value='999828.643', currency='USD', modelCode=''),\n",
       " AccountValue(account='DU8048713', tag='ColumnPrio-C', value='2', currency='', modelCode=''),\n",
       " AccountValue(account='DU8048713', tag='ColumnPrio-P', value='5', currency='', modelCode=''),\n",
       " AccountValue(account='DU8048713', tag='ColumnPrio-S', value='1', currency='', modelCode=''),\n",
       " AccountValue(account='DU8048713', tag='CorporateBondValue', value='0.00', currency='BASE', modelCode=''),\n",
       " AccountValue(account='DU8048713', tag='CorporateBondValue', value='0.00', currency='USD', modelCode=''),\n",
       " AccountValue(account='DU8048713', tag='Cryptocurrency', value='0.00', currency='BASE', modelCode=''),\n",
       " AccountValue(account='DU8048713', tag='Cryptocurrency', value='0.00', currency='USD', modelCode=''),\n",
       " AccountValue(account='DU8048713', tag='Currency', value='BASE', currency='BASE', modelCode=''),\n",
       " AccountValue(account='DU8048713', tag='Currency', value='USD', currency='USD', modelCode=''),\n",
       " AccountValue(account='DU8048713', tag='Cushion', value='1', currency='', modelCode=''),\n",
       " AccountValue(account='DU8048713', tag='DayTradesRemaining', value='-1', currency='', modelCode=''),\n",
       " AccountValue(account='DU8048713', tag='DayTradesRemainingT+1', value='-1', currency='', modelCode=''),\n",
       " AccountValue(account='DU8048713', tag='DayTradesRemainingT+2', value='-1', currency='', modelCode=''),\n",
       " AccountValue(account='DU8048713', tag='DayTradesRemainingT+3', value='-1', currency='', modelCode=''),\n",
       " AccountValue(account='DU8048713', tag='DayTradesRemainingT+4', value='-1', currency='', modelCode=''),\n",
       " AccountValue(account='DU8048713', tag='DayTradingStatus-S', value='20231102::true:999837.64:', currency='', modelCode=''),\n",
       " AccountValue(account='DU8048713', tag='EquityWithLoanValue', value='999837.64', currency='USD', modelCode=''),\n",
       " AccountValue(account='DU8048713', tag='EquityWithLoanValue-C', value='0.00', currency='USD', modelCode=''),\n",
       " AccountValue(account='DU8048713', tag='EquityWithLoanValue-P', value='0.00', currency='USD', modelCode=''),\n",
       " AccountValue(account='DU8048713', tag='EquityWithLoanValue-S', value='999837.64', currency='USD', modelCode=''),\n",
       " AccountValue(account='DU8048713', tag='ExcessLiquidity', value='999837.64', currency='USD', modelCode=''),\n",
       " AccountValue(account='DU8048713', tag='ExcessLiquidity-C', value='0.00', currency='USD', modelCode=''),\n",
       " AccountValue(account='DU8048713', tag='ExcessLiquidity-P', value='0.00', currency='USD', modelCode=''),\n",
       " AccountValue(account='DU8048713', tag='ExcessLiquidity-S', value='999837.64', currency='USD', modelCode=''),\n",
       " AccountValue(account='DU8048713', tag='ExchangeRate', value='1.00', currency='BASE', modelCode=''),\n",
       " AccountValue(account='DU8048713', tag='ExchangeRate', value='1.00', currency='USD', modelCode=''),\n",
       " AccountValue(account='DU8048713', tag='FullAvailableFunds', value='999837.64', currency='USD', modelCode=''),\n",
       " AccountValue(account='DU8048713', tag='FullAvailableFunds-C', value='0.00', currency='USD', modelCode=''),\n",
       " AccountValue(account='DU8048713', tag='FullAvailableFunds-P', value='0.00', currency='USD', modelCode=''),\n",
       " AccountValue(account='DU8048713', tag='FullAvailableFunds-S', value='999837.64', currency='USD', modelCode=''),\n",
       " AccountValue(account='DU8048713', tag='FullExcessLiquidity', value='999837.64', currency='USD', modelCode=''),\n",
       " AccountValue(account='DU8048713', tag='FullExcessLiquidity-C', value='0.00', currency='USD', modelCode=''),\n",
       " AccountValue(account='DU8048713', tag='FullExcessLiquidity-P', value='0.00', currency='USD', modelCode=''),\n",
       " AccountValue(account='DU8048713', tag='FullExcessLiquidity-S', value='999837.64', currency='USD', modelCode=''),\n",
       " AccountValue(account='DU8048713', tag='FullInitMarginReq', value='0.00', currency='USD', modelCode=''),\n",
       " AccountValue(account='DU8048713', tag='FullInitMarginReq-C', value='0.00', currency='USD', modelCode=''),\n",
       " AccountValue(account='DU8048713', tag='FullInitMarginReq-P', value='0.00', currency='USD', modelCode=''),\n",
       " AccountValue(account='DU8048713', tag='FullInitMarginReq-S', value='0.00', currency='USD', modelCode=''),\n",
       " AccountValue(account='DU8048713', tag='FullMaintMarginReq', value='0.00', currency='USD', modelCode=''),\n",
       " AccountValue(account='DU8048713', tag='FullMaintMarginReq-C', value='0.00', currency='USD', modelCode=''),\n",
       " AccountValue(account='DU8048713', tag='FullMaintMarginReq-P', value='0.00', currency='USD', modelCode=''),\n",
       " AccountValue(account='DU8048713', tag='FullMaintMarginReq-S', value='0.00', currency='USD', modelCode=''),\n",
       " AccountValue(account='DU8048713', tag='FundValue', value='0.00', currency='BASE', modelCode=''),\n",
       " AccountValue(account='DU8048713', tag='FundValue', value='0.00', currency='USD', modelCode=''),\n",
       " AccountValue(account='DU8048713', tag='FutureOptionValue', value='0.00', currency='BASE', modelCode=''),\n",
       " AccountValue(account='DU8048713', tag='FutureOptionValue', value='0.00', currency='USD', modelCode=''),\n",
       " AccountValue(account='DU8048713', tag='FuturesPNL', value='0.00', currency='BASE', modelCode=''),\n",
       " AccountValue(account='DU8048713', tag='FuturesPNL', value='0.00', currency='USD', modelCode=''),\n",
       " AccountValue(account='DU8048713', tag='FxCashBalance', value='0.00', currency='BASE', modelCode=''),\n",
       " AccountValue(account='DU8048713', tag='FxCashBalance', value='0.00', currency='USD', modelCode=''),\n",
       " AccountValue(account='DU8048713', tag='GrossPositionValue', value='0.00', currency='USD', modelCode=''),\n",
       " AccountValue(account='DU8048713', tag='GrossPositionValue-S', value='0.00', currency='USD', modelCode=''),\n",
       " AccountValue(account='DU8048713', tag='Guarantee', value='0.00', currency='USD', modelCode=''),\n",
       " AccountValue(account='DU8048713', tag='Guarantee-C', value='0.00', currency='USD', modelCode=''),\n",
       " AccountValue(account='DU8048713', tag='Guarantee-P', value='0.00', currency='USD', modelCode=''),\n",
       " AccountValue(account='DU8048713', tag='Guarantee-S', value='0.00', currency='USD', modelCode=''),\n",
       " AccountValue(account='DU8048713', tag='IndianStockHaircut', value='0.00', currency='USD', modelCode=''),\n",
       " AccountValue(account='DU8048713', tag='IndianStockHaircut-C', value='0.00', currency='USD', modelCode=''),\n",
       " AccountValue(account='DU8048713', tag='IndianStockHaircut-P', value='0.00', currency='USD', modelCode=''),\n",
       " AccountValue(account='DU8048713', tag='IndianStockHaircut-S', value='0.00', currency='USD', modelCode=''),\n",
       " AccountValue(account='DU8048713', tag='InitMarginReq', value='0.00', currency='USD', modelCode=''),\n",
       " AccountValue(account='DU8048713', tag='InitMarginReq-C', value='0.00', currency='USD', modelCode=''),\n",
       " AccountValue(account='DU8048713', tag='InitMarginReq-P', value='0.00', currency='USD', modelCode=''),\n",
       " AccountValue(account='DU8048713', tag='InitMarginReq-S', value='0.00', currency='USD', modelCode=''),\n",
       " AccountValue(account='DU8048713', tag='IssuerOptionValue', value='0.00', currency='BASE', modelCode=''),\n",
       " AccountValue(account='DU8048713', tag='IssuerOptionValue', value='0.00', currency='USD', modelCode=''),\n",
       " AccountValue(account='DU8048713', tag='Leverage-S', value='0.00', currency='', modelCode=''),\n",
       " AccountValue(account='DU8048713', tag='LookAheadAvailableFunds', value='999837.64', currency='USD', modelCode=''),\n",
       " AccountValue(account='DU8048713', tag='LookAheadAvailableFunds-C', value='0.00', currency='USD', modelCode=''),\n",
       " AccountValue(account='DU8048713', tag='LookAheadAvailableFunds-P', value='0.00', currency='USD', modelCode=''),\n",
       " AccountValue(account='DU8048713', tag='LookAheadAvailableFunds-S', value='999837.64', currency='USD', modelCode=''),\n",
       " AccountValue(account='DU8048713', tag='LookAheadExcessLiquidity', value='999837.64', currency='USD', modelCode=''),\n",
       " AccountValue(account='DU8048713', tag='LookAheadExcessLiquidity-C', value='0.00', currency='USD', modelCode=''),\n",
       " AccountValue(account='DU8048713', tag='LookAheadExcessLiquidity-P', value='0.00', currency='USD', modelCode=''),\n",
       " AccountValue(account='DU8048713', tag='LookAheadExcessLiquidity-S', value='999837.64', currency='USD', modelCode=''),\n",
       " AccountValue(account='DU8048713', tag='LookAheadInitMarginReq', value='0.00', currency='USD', modelCode=''),\n",
       " AccountValue(account='DU8048713', tag='LookAheadInitMarginReq-C', value='0.00', currency='USD', modelCode=''),\n",
       " AccountValue(account='DU8048713', tag='LookAheadInitMarginReq-P', value='0.00', currency='USD', modelCode=''),\n",
       " AccountValue(account='DU8048713', tag='LookAheadInitMarginReq-S', value='0.00', currency='USD', modelCode=''),\n",
       " AccountValue(account='DU8048713', tag='LookAheadMaintMarginReq', value='0.00', currency='USD', modelCode=''),\n",
       " AccountValue(account='DU8048713', tag='LookAheadMaintMarginReq-C', value='0.00', currency='USD', modelCode=''),\n",
       " AccountValue(account='DU8048713', tag='LookAheadMaintMarginReq-P', value='0.00', currency='USD', modelCode=''),\n",
       " AccountValue(account='DU8048713', tag='LookAheadMaintMarginReq-S', value='0.00', currency='USD', modelCode=''),\n",
       " AccountValue(account='DU8048713', tag='LookAheadNextChange', value='0', currency='', modelCode=''),\n",
       " AccountValue(account='DU8048713', tag='MaintMarginReq', value='0.00', currency='USD', modelCode=''),\n",
       " AccountValue(account='DU8048713', tag='MaintMarginReq-C', value='0.00', currency='USD', modelCode=''),\n",
       " AccountValue(account='DU8048713', tag='MaintMarginReq-P', value='0.00', currency='USD', modelCode=''),\n",
       " AccountValue(account='DU8048713', tag='MaintMarginReq-S', value='0.00', currency='USD', modelCode=''),\n",
       " AccountValue(account='DU8048713', tag='MoneyMarketFundValue', value='0.00', currency='BASE', modelCode=''),\n",
       " AccountValue(account='DU8048713', tag='MoneyMarketFundValue', value='0.00', currency='USD', modelCode=''),\n",
       " AccountValue(account='DU8048713', tag='MutualFundValue', value='0.00', currency='BASE', modelCode=''),\n",
       " AccountValue(account='DU8048713', tag='MutualFundValue', value='0.00', currency='USD', modelCode=''),\n",
       " AccountValue(account='DU8048713', tag='NLVAndMarginInReview', value='false', currency='', modelCode=''),\n",
       " AccountValue(account='DU8048713', tag='NetDividend', value='0.00', currency='BASE', modelCode=''),\n",
       " AccountValue(account='DU8048713', tag='NetDividend', value='0.00', currency='USD', modelCode=''),\n",
       " AccountValue(account='DU8048713', tag='NetLiquidation', value='999970.47', currency='USD', modelCode=''),\n",
       " AccountValue(account='DU8048713', tag='NetLiquidation-C', value='0.00', currency='USD', modelCode=''),\n",
       " AccountValue(account='DU8048713', tag='NetLiquidation-P', value='0.00', currency='USD', modelCode=''),\n",
       " AccountValue(account='DU8048713', tag='NetLiquidation-S', value='999970.47', currency='USD', modelCode=''),\n",
       " AccountValue(account='DU8048713', tag='NetLiquidationByCurrency', value='999970.473', currency='BASE', modelCode=''),\n",
       " AccountValue(account='DU8048713', tag='NetLiquidationByCurrency', value='999970.473', currency='USD', modelCode=''),\n",
       " AccountValue(account='DU8048713', tag='NetLiquidationUncertainty', value='0.00', currency='USD', modelCode=''),\n",
       " AccountValue(account='DU8048713', tag='OptionMarketValue', value='0.00', currency='BASE', modelCode=''),\n",
       " AccountValue(account='DU8048713', tag='OptionMarketValue', value='0.00', currency='USD', modelCode=''),\n",
       " AccountValue(account='DU8048713', tag='PASharesValue', value='0.00', currency='USD', modelCode=''),\n",
       " AccountValue(account='DU8048713', tag='PASharesValue-C', value='0.00', currency='USD', modelCode=''),\n",
       " AccountValue(account='DU8048713', tag='PASharesValue-P', value='0.00', currency='USD', modelCode=''),\n",
       " AccountValue(account='DU8048713', tag='PASharesValue-S', value='0.00', currency='USD', modelCode=''),\n",
       " AccountValue(account='DU8048713', tag='PhysicalCertificateValue', value='0.00', currency='USD', modelCode=''),\n",
       " AccountValue(account='DU8048713', tag='PhysicalCertificateValue-C', value='0.00', currency='USD', modelCode=''),\n",
       " AccountValue(account='DU8048713', tag='PhysicalCertificateValue-P', value='0.00', currency='USD', modelCode=''),\n",
       " AccountValue(account='DU8048713', tag='PhysicalCertificateValue-S', value='0.00', currency='USD', modelCode=''),\n",
       " AccountValue(account='DU8048713', tag='PostExpirationExcess', value='0.00', currency='USD', modelCode=''),\n",
       " AccountValue(account='DU8048713', tag='PostExpirationExcess-C', value='0.00', currency='USD', modelCode=''),\n",
       " AccountValue(account='DU8048713', tag='PostExpirationExcess-P', value='0.00', currency='USD', modelCode=''),\n",
       " AccountValue(account='DU8048713', tag='PostExpirationExcess-S', value='0.00', currency='USD', modelCode=''),\n",
       " AccountValue(account='DU8048713', tag='PostExpirationMargin', value='0.00', currency='USD', modelCode=''),\n",
       " AccountValue(account='DU8048713', tag='PostExpirationMargin-C', value='0.00', currency='USD', modelCode=''),\n",
       " AccountValue(account='DU8048713', tag='PostExpirationMargin-P', value='0.00', currency='USD', modelCode=''),\n",
       " AccountValue(account='DU8048713', tag='PostExpirationMargin-S', value='0.00', currency='USD', modelCode=''),\n",
       " AccountValue(account='DU8048713', tag='PreviousDayEquityWithLoanValue', value='999847.60', currency='USD', modelCode=''),\n",
       " AccountValue(account='DU8048713', tag='PreviousDayEquityWithLoanValue-S', value='999847.60', currency='USD', modelCode=''),\n",
       " AccountValue(account='DU8048713', tag='RealCurrency', value='USD', currency='BASE', modelCode=''),\n",
       " AccountValue(account='DU8048713', tag='RealCurrency', value='USD', currency='USD', modelCode=''),\n",
       " AccountValue(account='DU8048713', tag='RealizedPnL', value='-33.38', currency='BASE', modelCode=''),\n",
       " AccountValue(account='DU8048713', tag='RealizedPnL', value='-33.38', currency='USD', modelCode=''),\n",
       " AccountValue(account='DU8048713', tag='RegTEquity', value='999970.47', currency='USD', modelCode=''),\n",
       " AccountValue(account='DU8048713', tag='RegTEquity-S', value='999970.47', currency='USD', modelCode=''),\n",
       " AccountValue(account='DU8048713', tag='RegTMargin', value='0.00', currency='USD', modelCode=''),\n",
       " AccountValue(account='DU8048713', tag='RegTMargin-S', value='0.00', currency='USD', modelCode=''),\n",
       " AccountValue(account='DU8048713', tag='SMA', value='999970.47', currency='USD', modelCode=''),\n",
       " AccountValue(account='DU8048713', tag='SMA-S', value='999970.47', currency='USD', modelCode=''),\n",
       " AccountValue(account='DU8048713', tag='SegmentTitle-C', value='US Commodities', currency='', modelCode=''),\n",
       " AccountValue(account='DU8048713', tag='SegmentTitle-P', value='Crypto at Paxos', currency='', modelCode=''),\n",
       " AccountValue(account='DU8048713', tag='SegmentTitle-S', value='US Securities', currency='', modelCode=''),\n",
       " AccountValue(account='DU8048713', tag='StockMarketValue', value='0.00', currency='BASE', modelCode=''),\n",
       " AccountValue(account='DU8048713', tag='StockMarketValue', value='0.00', currency='USD', modelCode=''),\n",
       " AccountValue(account='DU8048713', tag='TBillValue', value='0.00', currency='BASE', modelCode=''),\n",
       " AccountValue(account='DU8048713', tag='TBillValue', value='0.00', currency='USD', modelCode=''),\n",
       " AccountValue(account='DU8048713', tag='TBondValue', value='0.00', currency='BASE', modelCode=''),\n",
       " AccountValue(account='DU8048713', tag='TBondValue', value='0.00', currency='USD', modelCode=''),\n",
       " AccountValue(account='DU8048713', tag='TotalCashBalance', value='999828.643', currency='BASE', modelCode=''),\n",
       " AccountValue(account='DU8048713', tag='TotalCashBalance', value='999828.643', currency='USD', modelCode=''),\n",
       " AccountValue(account='DU8048713', tag='TotalCashValue', value='999828.64', currency='USD', modelCode=''),\n",
       " AccountValue(account='DU8048713', tag='TotalCashValue-C', value='0.00', currency='USD', modelCode=''),\n",
       " AccountValue(account='DU8048713', tag='TotalCashValue-P', value='0.00', currency='USD', modelCode=''),\n",
       " AccountValue(account='DU8048713', tag='TotalCashValue-S', value='999828.64', currency='USD', modelCode=''),\n",
       " AccountValue(account='DU8048713', tag='TotalDebitCardPendingCharges', value='0.00', currency='USD', modelCode=''),\n",
       " AccountValue(account='DU8048713', tag='TotalDebitCardPendingCharges-C', value='0.00', currency='USD', modelCode=''),\n",
       " AccountValue(account='DU8048713', tag='TotalDebitCardPendingCharges-P', value='0.00', currency='USD', modelCode=''),\n",
       " AccountValue(account='DU8048713', tag='TotalDebitCardPendingCharges-S', value='0.00', currency='USD', modelCode=''),\n",
       " AccountValue(account='DU8048713', tag='TradingType-S', value='STKNOPT', currency='', modelCode=''),\n",
       " AccountValue(account='DU8048713', tag='UnrealizedPnL', value='0.00', currency='BASE', modelCode=''),\n",
       " AccountValue(account='DU8048713', tag='UnrealizedPnL', value='0.00', currency='USD', modelCode=''),\n",
       " AccountValue(account='DU8048713', tag='WarrantValue', value='0.00', currency='BASE', modelCode=''),\n",
       " AccountValue(account='DU8048713', tag='WarrantValue', value='0.00', currency='USD', modelCode=''),\n",
       " AccountValue(account='DU8048713', tag='WhatIfPMEnabled', value='true', currency='', modelCode='')]"
      ]
     },
     "execution_count": 108,
     "metadata": {},
     "output_type": "execute_result"
    }
   ],
   "source": [
    "av = ib.accountValues()\n",
    "av"
   ]
  },
  {
   "cell_type": "code",
   "execution_count": 109,
   "metadata": {},
   "outputs": [
    {
     "data": {
      "text/html": [
       "<div>\n",
       "<style scoped>\n",
       "    .dataframe tbody tr th:only-of-type {\n",
       "        vertical-align: middle;\n",
       "    }\n",
       "\n",
       "    .dataframe tbody tr th {\n",
       "        vertical-align: top;\n",
       "    }\n",
       "\n",
       "    .dataframe thead th {\n",
       "        text-align: right;\n",
       "    }\n",
       "</style>\n",
       "<table border=\"1\" class=\"dataframe\">\n",
       "  <thead>\n",
       "    <tr style=\"text-align: right;\">\n",
       "      <th></th>\n",
       "      <th>account</th>\n",
       "      <th>tag</th>\n",
       "      <th>value</th>\n",
       "      <th>currency</th>\n",
       "      <th>modelCode</th>\n",
       "    </tr>\n",
       "  </thead>\n",
       "  <tbody>\n",
       "    <tr>\n",
       "      <th>0</th>\n",
       "      <td>DU8048713</td>\n",
       "      <td>AccountCode</td>\n",
       "      <td>DU8048713</td>\n",
       "      <td></td>\n",
       "      <td></td>\n",
       "    </tr>\n",
       "    <tr>\n",
       "      <th>1</th>\n",
       "      <td>DU8048713</td>\n",
       "      <td>AccountOrGroup</td>\n",
       "      <td>DU8048713</td>\n",
       "      <td>BASE</td>\n",
       "      <td></td>\n",
       "    </tr>\n",
       "    <tr>\n",
       "      <th>2</th>\n",
       "      <td>DU8048713</td>\n",
       "      <td>AccountOrGroup</td>\n",
       "      <td>DU8048713</td>\n",
       "      <td>USD</td>\n",
       "      <td></td>\n",
       "    </tr>\n",
       "    <tr>\n",
       "      <th>3</th>\n",
       "      <td>DU8048713</td>\n",
       "      <td>AccountReady</td>\n",
       "      <td>true</td>\n",
       "      <td></td>\n",
       "      <td></td>\n",
       "    </tr>\n",
       "    <tr>\n",
       "      <th>4</th>\n",
       "      <td>DU8048713</td>\n",
       "      <td>AccountType</td>\n",
       "      <td>INDIVIDUAL</td>\n",
       "      <td></td>\n",
       "      <td></td>\n",
       "    </tr>\n",
       "    <tr>\n",
       "      <th>...</th>\n",
       "      <td>...</td>\n",
       "      <td>...</td>\n",
       "      <td>...</td>\n",
       "      <td>...</td>\n",
       "      <td>...</td>\n",
       "    </tr>\n",
       "    <tr>\n",
       "      <th>177</th>\n",
       "      <td>DU8048713</td>\n",
       "      <td>UnrealizedPnL</td>\n",
       "      <td>0.00</td>\n",
       "      <td>BASE</td>\n",
       "      <td></td>\n",
       "    </tr>\n",
       "    <tr>\n",
       "      <th>178</th>\n",
       "      <td>DU8048713</td>\n",
       "      <td>UnrealizedPnL</td>\n",
       "      <td>0.00</td>\n",
       "      <td>USD</td>\n",
       "      <td></td>\n",
       "    </tr>\n",
       "    <tr>\n",
       "      <th>179</th>\n",
       "      <td>DU8048713</td>\n",
       "      <td>WarrantValue</td>\n",
       "      <td>0.00</td>\n",
       "      <td>BASE</td>\n",
       "      <td></td>\n",
       "    </tr>\n",
       "    <tr>\n",
       "      <th>180</th>\n",
       "      <td>DU8048713</td>\n",
       "      <td>WarrantValue</td>\n",
       "      <td>0.00</td>\n",
       "      <td>USD</td>\n",
       "      <td></td>\n",
       "    </tr>\n",
       "    <tr>\n",
       "      <th>181</th>\n",
       "      <td>DU8048713</td>\n",
       "      <td>WhatIfPMEnabled</td>\n",
       "      <td>true</td>\n",
       "      <td></td>\n",
       "      <td></td>\n",
       "    </tr>\n",
       "  </tbody>\n",
       "</table>\n",
       "<p>182 rows × 5 columns</p>\n",
       "</div>"
      ],
      "text/plain": [
       "       account              tag       value currency modelCode\n",
       "0    DU8048713      AccountCode   DU8048713                   \n",
       "1    DU8048713   AccountOrGroup   DU8048713     BASE          \n",
       "2    DU8048713   AccountOrGroup   DU8048713      USD          \n",
       "3    DU8048713     AccountReady        true                   \n",
       "4    DU8048713      AccountType  INDIVIDUAL                   \n",
       "..         ...              ...         ...      ...       ...\n",
       "177  DU8048713    UnrealizedPnL        0.00     BASE          \n",
       "178  DU8048713    UnrealizedPnL        0.00      USD          \n",
       "179  DU8048713     WarrantValue        0.00     BASE          \n",
       "180  DU8048713     WarrantValue        0.00      USD          \n",
       "181  DU8048713  WhatIfPMEnabled        true                   \n",
       "\n",
       "[182 rows x 5 columns]"
      ]
     },
     "execution_count": 109,
     "metadata": {},
     "output_type": "execute_result"
    }
   ],
   "source": [
    "df2 = util.df(av)\n",
    "df2"
   ]
  },
  {
   "cell_type": "code",
   "execution_count": 110,
   "metadata": {},
   "outputs": [
    {
     "data": {
      "text/html": [
       "<div>\n",
       "<style scoped>\n",
       "    .dataframe tbody tr th:only-of-type {\n",
       "        vertical-align: middle;\n",
       "    }\n",
       "\n",
       "    .dataframe tbody tr th {\n",
       "        vertical-align: top;\n",
       "    }\n",
       "\n",
       "    .dataframe thead th {\n",
       "        text-align: right;\n",
       "    }\n",
       "</style>\n",
       "<table border=\"1\" class=\"dataframe\">\n",
       "  <thead>\n",
       "    <tr style=\"text-align: right;\">\n",
       "      <th></th>\n",
       "      <th>account</th>\n",
       "      <th>tag</th>\n",
       "      <th>value</th>\n",
       "      <th>currency</th>\n",
       "      <th>modelCode</th>\n",
       "    </tr>\n",
       "  </thead>\n",
       "  <tbody>\n",
       "    <tr>\n",
       "      <th>23</th>\n",
       "      <td>DU8048713</td>\n",
       "      <td>CashBalance</td>\n",
       "      <td>999828.643</td>\n",
       "      <td>BASE</td>\n",
       "      <td></td>\n",
       "    </tr>\n",
       "    <tr>\n",
       "      <th>24</th>\n",
       "      <td>DU8048713</td>\n",
       "      <td>CashBalance</td>\n",
       "      <td>999828.643</td>\n",
       "      <td>USD</td>\n",
       "      <td></td>\n",
       "    </tr>\n",
       "  </tbody>\n",
       "</table>\n",
       "</div>"
      ],
      "text/plain": [
       "      account          tag       value currency modelCode\n",
       "23  DU8048713  CashBalance  999828.643     BASE          \n",
       "24  DU8048713  CashBalance  999828.643      USD          "
      ]
     },
     "execution_count": 110,
     "metadata": {},
     "output_type": "execute_result"
    }
   ],
   "source": [
    "df2.loc[df2.tag == \"CashBalance\"]"
   ]
  },
  {
   "cell_type": "code",
   "execution_count": 114,
   "metadata": {},
   "outputs": [],
   "source": [
    "ib.disconnect()"
   ]
  },
  {
   "cell_type": "markdown",
   "metadata": {},
   "source": [
    "# Historical Bars"
   ]
  },
  {
   "cell_type": "code",
   "execution_count": 115,
   "metadata": {},
   "outputs": [],
   "source": [
    "from ib_insync import *\n",
    "util.startLoop()"
   ]
  },
  {
   "cell_type": "code",
   "execution_count": 129,
   "metadata": {},
   "outputs": [
    {
     "data": {
      "text/plain": [
       "<IB connected to 127.0.0.1:7497 clientId=1>"
      ]
     },
     "execution_count": 129,
     "metadata": {},
     "output_type": "execute_result"
    }
   ],
   "source": [
    "ib = IB()\n",
    "ib.connect()"
   ]
  },
  {
   "cell_type": "code",
   "execution_count": 117,
   "metadata": {},
   "outputs": [
    {
     "data": {
      "text/plain": [
       "Forex('EURUSD', exchange='IDEALPRO')"
      ]
     },
     "execution_count": 117,
     "metadata": {},
     "output_type": "execute_result"
    }
   ],
   "source": [
    "contract = Forex(\"EURUSD\")\n",
    "contract"
   ]
  },
  {
   "cell_type": "code",
   "execution_count": 118,
   "metadata": {},
   "outputs": [
    {
     "data": {
      "text/plain": [
       "datetime.datetime(2005, 3, 9, 4, 30)"
      ]
     },
     "execution_count": 118,
     "metadata": {},
     "output_type": "execute_result"
    }
   ],
   "source": [
    "# the erliest time step where the data was available.\n",
    "start = ib.reqHeadTimeStamp(contract, whatToShow = \"MIDPOINT\", useRTH = True)\n",
    "start"
   ]
  },
  {
   "cell_type": "code",
   "execution_count": 119,
   "metadata": {},
   "outputs": [
    {
     "data": {
      "text/plain": [
       "[BarData(date=datetime.date(2023, 8, 11), open=1.09825, high=1.10055, low=1.0943, close=1.09475, volume=-1.0, average=-1.0, barCount=-1),\n",
       " BarData(date=datetime.date(2023, 8, 14), open=1.09535, high=1.09605, low=1.08745, close=1.09055, volume=-1.0, average=-1.0, barCount=-1),\n",
       " BarData(date=datetime.date(2023, 8, 15), open=1.091, high=1.09525, low=1.08965, close=1.0906, volume=-1.0, average=-1.0, barCount=-1),\n",
       " BarData(date=datetime.date(2023, 8, 16), open=1.09035, high=1.0935, low=1.08715, close=1.08795, volume=-1.0, average=-1.0, barCount=-1),\n",
       " BarData(date=datetime.date(2023, 8, 17), open=1.08785, high=1.09185, low=1.0856, close=1.08725, volume=-1.0, average=-1.0, barCount=-1),\n",
       " BarData(date=datetime.date(2023, 8, 18), open=1.08675, high=1.0894, low=1.0845, close=1.0873, volume=-1.0, average=-1.0, barCount=-1),\n",
       " BarData(date=datetime.date(2023, 8, 21), open=1.08725, high=1.091385, low=1.086965, close=1.08959, volume=-1.0, average=-1.0, barCount=-1),\n",
       " BarData(date=datetime.date(2023, 8, 22), open=1.08955, high=1.093045, low=1.0833, close=1.084565, volume=-1.0, average=-1.0, barCount=-1),\n",
       " BarData(date=datetime.date(2023, 8, 23), open=1.0844, high=1.087165, low=1.080245, close=1.086295, volume=-1.0, average=-1.0, barCount=-1),\n",
       " BarData(date=datetime.date(2023, 8, 24), open=1.08665, high=1.087675, low=1.080505, close=1.081045, volume=-1.0, average=-1.0, barCount=-1),\n",
       " BarData(date=datetime.date(2023, 8, 25), open=1.081075, high=1.084185, low=1.07658, close=1.07961, volume=-1.0, average=-1.0, barCount=-1),\n",
       " BarData(date=datetime.date(2023, 8, 28), open=1.079625, high=1.08223, low=1.079355, close=1.08189, volume=-1.0, average=-1.0, barCount=-1),\n",
       " BarData(date=datetime.date(2023, 8, 29), open=1.0816, high=1.0892, low=1.078225, close=1.08801, volume=-1.0, average=-1.0, barCount=-1),\n",
       " BarData(date=datetime.date(2023, 8, 30), open=1.0876, high=1.09457, low=1.085515, close=1.09232, volume=-1.0, average=-1.0, barCount=-1),\n",
       " BarData(date=datetime.date(2023, 8, 31), open=1.092505, high=1.093955, low=1.083505, close=1.084345, volume=-1.0, average=-1.0, barCount=-1),\n",
       " BarData(date=datetime.date(2023, 9, 1), open=1.08487, high=1.088215, low=1.077215, close=1.07816, volume=-1.0, average=-1.0, barCount=-1),\n",
       " BarData(date=datetime.date(2023, 9, 4), open=1.07785, high=1.08089, low=1.07716, close=1.079505, volume=-1.0, average=-1.0, barCount=-1),\n",
       " BarData(date=datetime.date(2023, 9, 5), open=1.07925, high=1.079845, low=1.07062, close=1.07222, volume=-1.0, average=-1.0, barCount=-1),\n",
       " BarData(date=datetime.date(2023, 9, 6), open=1.0724, high=1.07489, low=1.07027, close=1.07274, volume=-1.0, average=-1.0, barCount=-1),\n",
       " BarData(date=datetime.date(2023, 9, 7), open=1.072425, high=1.07318, low=1.068605, close=1.069635, volume=-1.0, average=-1.0, barCount=-1),\n",
       " BarData(date=datetime.date(2023, 9, 8), open=1.069775, high=1.074395, low=1.06942, close=1.069915, volume=-1.0, average=-1.0, barCount=-1),\n",
       " BarData(date=datetime.date(2023, 9, 11), open=1.071375, high=1.07594, low=1.07085, close=1.075025, volume=-1.0, average=-1.0, barCount=-1),\n",
       " BarData(date=datetime.date(2023, 9, 12), open=1.074775, high=1.07693, low=1.070555, close=1.075395, volume=-1.0, average=-1.0, barCount=-1),\n",
       " BarData(date=datetime.date(2023, 9, 13), open=1.0754, high=1.0765, low=1.07109, close=1.07296, volume=-1.0, average=-1.0, barCount=-1),\n",
       " BarData(date=datetime.date(2023, 9, 14), open=1.07305, high=1.075215, low=1.063195, close=1.06431, volume=-1.0, average=-1.0, barCount=-1),\n",
       " BarData(date=datetime.date(2023, 9, 15), open=1.064355, high=1.068785, low=1.063335, close=1.065625, volume=-1.0, average=-1.0, barCount=-1),\n",
       " BarData(date=datetime.date(2023, 9, 18), open=1.066325, high=1.069875, low=1.06547, close=1.069185, volume=-1.0, average=-1.0, barCount=-1),\n",
       " BarData(date=datetime.date(2023, 9, 19), open=1.06915, high=1.0718, low=1.067515, close=1.067925, volume=-1.0, average=-1.0, barCount=-1),\n",
       " BarData(date=datetime.date(2023, 9, 20), open=1.06785, high=1.07369, low=1.065015, close=1.066085, volume=-1.0, average=-1.0, barCount=-1),\n",
       " BarData(date=datetime.date(2023, 9, 21), open=1.06603, high=1.067365, low=1.06169, close=1.06616, volume=-1.0, average=-1.0, barCount=-1),\n",
       " BarData(date=datetime.date(2023, 9, 22), open=1.065925, high=1.06719, low=1.06151, close=1.0656, volume=-1.0, average=-1.0, barCount=-1),\n",
       " BarData(date=datetime.date(2023, 9, 25), open=1.0652, high=1.065565, low=1.05754, close=1.05931, volume=-1.0, average=-1.0, barCount=-1),\n",
       " BarData(date=datetime.date(2023, 9, 26), open=1.05942, high=1.060915, low=1.056205, close=1.057255, volume=-1.0, average=-1.0, barCount=-1),\n",
       " BarData(date=datetime.date(2023, 9, 27), open=1.057005, high=1.057435, low=1.04882, close=1.05024, volume=-1.0, average=-1.0, barCount=-1),\n",
       " BarData(date=datetime.date(2023, 9, 28), open=1.0508, high=1.057895, low=1.04911, close=1.056555, volume=-1.0, average=-1.0, barCount=-1),\n",
       " BarData(date=datetime.date(2023, 9, 29), open=1.056225, high=1.06171, low=1.055805, close=1.057405, volume=-1.0, average=-1.0, barCount=-1),\n",
       " BarData(date=datetime.date(2023, 10, 2), open=1.057175, high=1.059195, low=1.0477, close=1.047725, volume=-1.0, average=-1.0, barCount=-1),\n",
       " BarData(date=datetime.date(2023, 10, 3), open=1.047975, high=1.049355, low=1.04483, close=1.04665, volume=-1.0, average=-1.0, barCount=-1),\n",
       " BarData(date=datetime.date(2023, 10, 4), open=1.04685, high=1.053225, low=1.045145, close=1.05039, volume=-1.0, average=-1.0, barCount=-1),\n",
       " BarData(date=datetime.date(2023, 10, 5), open=1.05068, high=1.055185, low=1.050005, close=1.05494, volume=-1.0, average=-1.0, barCount=-1),\n",
       " BarData(date=datetime.date(2023, 10, 6), open=1.054725, high=1.06, low=1.04826, close=1.058535, volume=-1.0, average=-1.0, barCount=-1),\n",
       " BarData(date=datetime.date(2023, 10, 9), open=1.055325, high=1.057445, low=1.05196, close=1.05668, volume=-1.0, average=-1.0, barCount=-1),\n",
       " BarData(date=datetime.date(2023, 10, 10), open=1.05675, high=1.061985, low=1.05544, close=1.060525, volume=-1.0, average=-1.0, barCount=-1),\n",
       " BarData(date=datetime.date(2023, 10, 11), open=1.06045, high=1.063475, low=1.058165, close=1.06196, volume=-1.0, average=-1.0, barCount=-1),\n",
       " BarData(date=datetime.date(2023, 10, 12), open=1.062, high=1.063975, low=1.05258, close=1.052835, volume=-1.0, average=-1.0, barCount=-1),\n",
       " BarData(date=datetime.date(2023, 10, 13), open=1.0529, high=1.055855, low=1.04955, close=1.051105, volume=-1.0, average=-1.0, barCount=-1),\n",
       " BarData(date=datetime.date(2023, 10, 16), open=1.051275, high=1.05628, low=1.051035, close=1.05604, volume=-1.0, average=-1.0, barCount=-1),\n",
       " BarData(date=datetime.date(2023, 10, 17), open=1.05595, high=1.059495, low=1.0533, close=1.05772, volume=-1.0, average=-1.0, barCount=-1),\n",
       " BarData(date=datetime.date(2023, 10, 18), open=1.057705, high=1.059425, low=1.052315, close=1.053665, volume=-1.0, average=-1.0, barCount=-1),\n",
       " BarData(date=datetime.date(2023, 10, 19), open=1.05353, high=1.06166, low=1.05282, close=1.05825, volume=-1.0, average=-1.0, barCount=-1),\n",
       " BarData(date=datetime.date(2023, 10, 20), open=1.058275, high=1.060375, low=1.056495, close=1.05945, volume=-1.0, average=-1.0, barCount=-1),\n",
       " BarData(date=datetime.date(2023, 10, 23), open=1.059675, high=1.067805, low=1.05715, close=1.06699, volume=-1.0, average=-1.0, barCount=-1),\n",
       " BarData(date=datetime.date(2023, 10, 24), open=1.066675, high=1.06945, low=1.058305, close=1.059, volume=-1.0, average=-1.0, barCount=-1),\n",
       " BarData(date=datetime.date(2023, 10, 25), open=1.059425, high=1.060685, low=1.056575, close=1.056645, volume=-1.0, average=-1.0, barCount=-1),\n",
       " BarData(date=datetime.date(2023, 10, 26), open=1.056875, high=1.056925, low=1.05219, close=1.056255, volume=-1.0, average=-1.0, barCount=-1),\n",
       " BarData(date=datetime.date(2023, 10, 27), open=1.056155, high=1.059715, low=1.05354, close=1.05636, volume=-1.0, average=-1.0, barCount=-1),\n",
       " BarData(date=datetime.date(2023, 10, 30), open=1.05642, high=1.062525, low=1.054725, close=1.061525, volume=-1.0, average=-1.0, barCount=-1),\n",
       " BarData(date=datetime.date(2023, 10, 31), open=1.061605, high=1.067505, low=1.055765, close=1.05744, volume=-1.0, average=-1.0, barCount=-1),\n",
       " BarData(date=datetime.date(2023, 11, 1), open=1.057505, high=1.05807, low=1.051675, close=1.05702, volume=-1.0, average=-1.0, barCount=-1),\n",
       " BarData(date=datetime.date(2023, 11, 2), open=1.057045, high=1.06386, low=1.05678, close=1.06371, volume=-1.0, average=-1.0, barCount=-1)]"
      ]
     },
     "execution_count": 119,
     "metadata": {},
     "output_type": "execute_result"
    }
   ],
   "source": [
    "# Show the historical data \n",
    "data = ib.reqHistoricalData(contract, \"\", barSizeSetting = \"1 day\", durationStr = \"60 D\", \n",
    "                whatToShow = \"MIDPOINT\", useRTH = True)\n",
    "data"
   ]
  },
  {
   "cell_type": "code",
   "execution_count": 120,
   "metadata": {},
   "outputs": [
    {
     "data": {
      "text/html": [
       "<div>\n",
       "<style scoped>\n",
       "    .dataframe tbody tr th:only-of-type {\n",
       "        vertical-align: middle;\n",
       "    }\n",
       "\n",
       "    .dataframe tbody tr th {\n",
       "        vertical-align: top;\n",
       "    }\n",
       "\n",
       "    .dataframe thead th {\n",
       "        text-align: right;\n",
       "    }\n",
       "</style>\n",
       "<table border=\"1\" class=\"dataframe\">\n",
       "  <thead>\n",
       "    <tr style=\"text-align: right;\">\n",
       "      <th></th>\n",
       "      <th>date</th>\n",
       "      <th>open</th>\n",
       "      <th>high</th>\n",
       "      <th>low</th>\n",
       "      <th>close</th>\n",
       "      <th>volume</th>\n",
       "      <th>average</th>\n",
       "      <th>barCount</th>\n",
       "    </tr>\n",
       "  </thead>\n",
       "  <tbody>\n",
       "    <tr>\n",
       "      <th>0</th>\n",
       "      <td>2023-08-11</td>\n",
       "      <td>1.098250</td>\n",
       "      <td>1.100550</td>\n",
       "      <td>1.094300</td>\n",
       "      <td>1.094750</td>\n",
       "      <td>-1.0</td>\n",
       "      <td>-1.0</td>\n",
       "      <td>-1</td>\n",
       "    </tr>\n",
       "    <tr>\n",
       "      <th>1</th>\n",
       "      <td>2023-08-14</td>\n",
       "      <td>1.095350</td>\n",
       "      <td>1.096050</td>\n",
       "      <td>1.087450</td>\n",
       "      <td>1.090550</td>\n",
       "      <td>-1.0</td>\n",
       "      <td>-1.0</td>\n",
       "      <td>-1</td>\n",
       "    </tr>\n",
       "    <tr>\n",
       "      <th>2</th>\n",
       "      <td>2023-08-15</td>\n",
       "      <td>1.091000</td>\n",
       "      <td>1.095250</td>\n",
       "      <td>1.089650</td>\n",
       "      <td>1.090600</td>\n",
       "      <td>-1.0</td>\n",
       "      <td>-1.0</td>\n",
       "      <td>-1</td>\n",
       "    </tr>\n",
       "    <tr>\n",
       "      <th>3</th>\n",
       "      <td>2023-08-16</td>\n",
       "      <td>1.090350</td>\n",
       "      <td>1.093500</td>\n",
       "      <td>1.087150</td>\n",
       "      <td>1.087950</td>\n",
       "      <td>-1.0</td>\n",
       "      <td>-1.0</td>\n",
       "      <td>-1</td>\n",
       "    </tr>\n",
       "    <tr>\n",
       "      <th>4</th>\n",
       "      <td>2023-08-17</td>\n",
       "      <td>1.087850</td>\n",
       "      <td>1.091850</td>\n",
       "      <td>1.085600</td>\n",
       "      <td>1.087250</td>\n",
       "      <td>-1.0</td>\n",
       "      <td>-1.0</td>\n",
       "      <td>-1</td>\n",
       "    </tr>\n",
       "    <tr>\n",
       "      <th>5</th>\n",
       "      <td>2023-08-18</td>\n",
       "      <td>1.086750</td>\n",
       "      <td>1.089400</td>\n",
       "      <td>1.084500</td>\n",
       "      <td>1.087300</td>\n",
       "      <td>-1.0</td>\n",
       "      <td>-1.0</td>\n",
       "      <td>-1</td>\n",
       "    </tr>\n",
       "    <tr>\n",
       "      <th>6</th>\n",
       "      <td>2023-08-21</td>\n",
       "      <td>1.087250</td>\n",
       "      <td>1.091385</td>\n",
       "      <td>1.086965</td>\n",
       "      <td>1.089590</td>\n",
       "      <td>-1.0</td>\n",
       "      <td>-1.0</td>\n",
       "      <td>-1</td>\n",
       "    </tr>\n",
       "    <tr>\n",
       "      <th>7</th>\n",
       "      <td>2023-08-22</td>\n",
       "      <td>1.089550</td>\n",
       "      <td>1.093045</td>\n",
       "      <td>1.083300</td>\n",
       "      <td>1.084565</td>\n",
       "      <td>-1.0</td>\n",
       "      <td>-1.0</td>\n",
       "      <td>-1</td>\n",
       "    </tr>\n",
       "    <tr>\n",
       "      <th>8</th>\n",
       "      <td>2023-08-23</td>\n",
       "      <td>1.084400</td>\n",
       "      <td>1.087165</td>\n",
       "      <td>1.080245</td>\n",
       "      <td>1.086295</td>\n",
       "      <td>-1.0</td>\n",
       "      <td>-1.0</td>\n",
       "      <td>-1</td>\n",
       "    </tr>\n",
       "    <tr>\n",
       "      <th>9</th>\n",
       "      <td>2023-08-24</td>\n",
       "      <td>1.086650</td>\n",
       "      <td>1.087675</td>\n",
       "      <td>1.080505</td>\n",
       "      <td>1.081045</td>\n",
       "      <td>-1.0</td>\n",
       "      <td>-1.0</td>\n",
       "      <td>-1</td>\n",
       "    </tr>\n",
       "    <tr>\n",
       "      <th>10</th>\n",
       "      <td>2023-08-25</td>\n",
       "      <td>1.081075</td>\n",
       "      <td>1.084185</td>\n",
       "      <td>1.076580</td>\n",
       "      <td>1.079610</td>\n",
       "      <td>-1.0</td>\n",
       "      <td>-1.0</td>\n",
       "      <td>-1</td>\n",
       "    </tr>\n",
       "    <tr>\n",
       "      <th>11</th>\n",
       "      <td>2023-08-28</td>\n",
       "      <td>1.079625</td>\n",
       "      <td>1.082230</td>\n",
       "      <td>1.079355</td>\n",
       "      <td>1.081890</td>\n",
       "      <td>-1.0</td>\n",
       "      <td>-1.0</td>\n",
       "      <td>-1</td>\n",
       "    </tr>\n",
       "    <tr>\n",
       "      <th>12</th>\n",
       "      <td>2023-08-29</td>\n",
       "      <td>1.081600</td>\n",
       "      <td>1.089200</td>\n",
       "      <td>1.078225</td>\n",
       "      <td>1.088010</td>\n",
       "      <td>-1.0</td>\n",
       "      <td>-1.0</td>\n",
       "      <td>-1</td>\n",
       "    </tr>\n",
       "    <tr>\n",
       "      <th>13</th>\n",
       "      <td>2023-08-30</td>\n",
       "      <td>1.087600</td>\n",
       "      <td>1.094570</td>\n",
       "      <td>1.085515</td>\n",
       "      <td>1.092320</td>\n",
       "      <td>-1.0</td>\n",
       "      <td>-1.0</td>\n",
       "      <td>-1</td>\n",
       "    </tr>\n",
       "    <tr>\n",
       "      <th>14</th>\n",
       "      <td>2023-08-31</td>\n",
       "      <td>1.092505</td>\n",
       "      <td>1.093955</td>\n",
       "      <td>1.083505</td>\n",
       "      <td>1.084345</td>\n",
       "      <td>-1.0</td>\n",
       "      <td>-1.0</td>\n",
       "      <td>-1</td>\n",
       "    </tr>\n",
       "    <tr>\n",
       "      <th>15</th>\n",
       "      <td>2023-09-01</td>\n",
       "      <td>1.084870</td>\n",
       "      <td>1.088215</td>\n",
       "      <td>1.077215</td>\n",
       "      <td>1.078160</td>\n",
       "      <td>-1.0</td>\n",
       "      <td>-1.0</td>\n",
       "      <td>-1</td>\n",
       "    </tr>\n",
       "    <tr>\n",
       "      <th>16</th>\n",
       "      <td>2023-09-04</td>\n",
       "      <td>1.077850</td>\n",
       "      <td>1.080890</td>\n",
       "      <td>1.077160</td>\n",
       "      <td>1.079505</td>\n",
       "      <td>-1.0</td>\n",
       "      <td>-1.0</td>\n",
       "      <td>-1</td>\n",
       "    </tr>\n",
       "    <tr>\n",
       "      <th>17</th>\n",
       "      <td>2023-09-05</td>\n",
       "      <td>1.079250</td>\n",
       "      <td>1.079845</td>\n",
       "      <td>1.070620</td>\n",
       "      <td>1.072220</td>\n",
       "      <td>-1.0</td>\n",
       "      <td>-1.0</td>\n",
       "      <td>-1</td>\n",
       "    </tr>\n",
       "    <tr>\n",
       "      <th>18</th>\n",
       "      <td>2023-09-06</td>\n",
       "      <td>1.072400</td>\n",
       "      <td>1.074890</td>\n",
       "      <td>1.070270</td>\n",
       "      <td>1.072740</td>\n",
       "      <td>-1.0</td>\n",
       "      <td>-1.0</td>\n",
       "      <td>-1</td>\n",
       "    </tr>\n",
       "    <tr>\n",
       "      <th>19</th>\n",
       "      <td>2023-09-07</td>\n",
       "      <td>1.072425</td>\n",
       "      <td>1.073180</td>\n",
       "      <td>1.068605</td>\n",
       "      <td>1.069635</td>\n",
       "      <td>-1.0</td>\n",
       "      <td>-1.0</td>\n",
       "      <td>-1</td>\n",
       "    </tr>\n",
       "    <tr>\n",
       "      <th>20</th>\n",
       "      <td>2023-09-08</td>\n",
       "      <td>1.069775</td>\n",
       "      <td>1.074395</td>\n",
       "      <td>1.069420</td>\n",
       "      <td>1.069915</td>\n",
       "      <td>-1.0</td>\n",
       "      <td>-1.0</td>\n",
       "      <td>-1</td>\n",
       "    </tr>\n",
       "    <tr>\n",
       "      <th>21</th>\n",
       "      <td>2023-09-11</td>\n",
       "      <td>1.071375</td>\n",
       "      <td>1.075940</td>\n",
       "      <td>1.070850</td>\n",
       "      <td>1.075025</td>\n",
       "      <td>-1.0</td>\n",
       "      <td>-1.0</td>\n",
       "      <td>-1</td>\n",
       "    </tr>\n",
       "    <tr>\n",
       "      <th>22</th>\n",
       "      <td>2023-09-12</td>\n",
       "      <td>1.074775</td>\n",
       "      <td>1.076930</td>\n",
       "      <td>1.070555</td>\n",
       "      <td>1.075395</td>\n",
       "      <td>-1.0</td>\n",
       "      <td>-1.0</td>\n",
       "      <td>-1</td>\n",
       "    </tr>\n",
       "    <tr>\n",
       "      <th>23</th>\n",
       "      <td>2023-09-13</td>\n",
       "      <td>1.075400</td>\n",
       "      <td>1.076500</td>\n",
       "      <td>1.071090</td>\n",
       "      <td>1.072960</td>\n",
       "      <td>-1.0</td>\n",
       "      <td>-1.0</td>\n",
       "      <td>-1</td>\n",
       "    </tr>\n",
       "    <tr>\n",
       "      <th>24</th>\n",
       "      <td>2023-09-14</td>\n",
       "      <td>1.073050</td>\n",
       "      <td>1.075215</td>\n",
       "      <td>1.063195</td>\n",
       "      <td>1.064310</td>\n",
       "      <td>-1.0</td>\n",
       "      <td>-1.0</td>\n",
       "      <td>-1</td>\n",
       "    </tr>\n",
       "    <tr>\n",
       "      <th>25</th>\n",
       "      <td>2023-09-15</td>\n",
       "      <td>1.064355</td>\n",
       "      <td>1.068785</td>\n",
       "      <td>1.063335</td>\n",
       "      <td>1.065625</td>\n",
       "      <td>-1.0</td>\n",
       "      <td>-1.0</td>\n",
       "      <td>-1</td>\n",
       "    </tr>\n",
       "    <tr>\n",
       "      <th>26</th>\n",
       "      <td>2023-09-18</td>\n",
       "      <td>1.066325</td>\n",
       "      <td>1.069875</td>\n",
       "      <td>1.065470</td>\n",
       "      <td>1.069185</td>\n",
       "      <td>-1.0</td>\n",
       "      <td>-1.0</td>\n",
       "      <td>-1</td>\n",
       "    </tr>\n",
       "    <tr>\n",
       "      <th>27</th>\n",
       "      <td>2023-09-19</td>\n",
       "      <td>1.069150</td>\n",
       "      <td>1.071800</td>\n",
       "      <td>1.067515</td>\n",
       "      <td>1.067925</td>\n",
       "      <td>-1.0</td>\n",
       "      <td>-1.0</td>\n",
       "      <td>-1</td>\n",
       "    </tr>\n",
       "    <tr>\n",
       "      <th>28</th>\n",
       "      <td>2023-09-20</td>\n",
       "      <td>1.067850</td>\n",
       "      <td>1.073690</td>\n",
       "      <td>1.065015</td>\n",
       "      <td>1.066085</td>\n",
       "      <td>-1.0</td>\n",
       "      <td>-1.0</td>\n",
       "      <td>-1</td>\n",
       "    </tr>\n",
       "    <tr>\n",
       "      <th>29</th>\n",
       "      <td>2023-09-21</td>\n",
       "      <td>1.066030</td>\n",
       "      <td>1.067365</td>\n",
       "      <td>1.061690</td>\n",
       "      <td>1.066160</td>\n",
       "      <td>-1.0</td>\n",
       "      <td>-1.0</td>\n",
       "      <td>-1</td>\n",
       "    </tr>\n",
       "    <tr>\n",
       "      <th>30</th>\n",
       "      <td>2023-09-22</td>\n",
       "      <td>1.065925</td>\n",
       "      <td>1.067190</td>\n",
       "      <td>1.061510</td>\n",
       "      <td>1.065600</td>\n",
       "      <td>-1.0</td>\n",
       "      <td>-1.0</td>\n",
       "      <td>-1</td>\n",
       "    </tr>\n",
       "    <tr>\n",
       "      <th>31</th>\n",
       "      <td>2023-09-25</td>\n",
       "      <td>1.065200</td>\n",
       "      <td>1.065565</td>\n",
       "      <td>1.057540</td>\n",
       "      <td>1.059310</td>\n",
       "      <td>-1.0</td>\n",
       "      <td>-1.0</td>\n",
       "      <td>-1</td>\n",
       "    </tr>\n",
       "    <tr>\n",
       "      <th>32</th>\n",
       "      <td>2023-09-26</td>\n",
       "      <td>1.059420</td>\n",
       "      <td>1.060915</td>\n",
       "      <td>1.056205</td>\n",
       "      <td>1.057255</td>\n",
       "      <td>-1.0</td>\n",
       "      <td>-1.0</td>\n",
       "      <td>-1</td>\n",
       "    </tr>\n",
       "    <tr>\n",
       "      <th>33</th>\n",
       "      <td>2023-09-27</td>\n",
       "      <td>1.057005</td>\n",
       "      <td>1.057435</td>\n",
       "      <td>1.048820</td>\n",
       "      <td>1.050240</td>\n",
       "      <td>-1.0</td>\n",
       "      <td>-1.0</td>\n",
       "      <td>-1</td>\n",
       "    </tr>\n",
       "    <tr>\n",
       "      <th>34</th>\n",
       "      <td>2023-09-28</td>\n",
       "      <td>1.050800</td>\n",
       "      <td>1.057895</td>\n",
       "      <td>1.049110</td>\n",
       "      <td>1.056555</td>\n",
       "      <td>-1.0</td>\n",
       "      <td>-1.0</td>\n",
       "      <td>-1</td>\n",
       "    </tr>\n",
       "    <tr>\n",
       "      <th>35</th>\n",
       "      <td>2023-09-29</td>\n",
       "      <td>1.056225</td>\n",
       "      <td>1.061710</td>\n",
       "      <td>1.055805</td>\n",
       "      <td>1.057405</td>\n",
       "      <td>-1.0</td>\n",
       "      <td>-1.0</td>\n",
       "      <td>-1</td>\n",
       "    </tr>\n",
       "    <tr>\n",
       "      <th>36</th>\n",
       "      <td>2023-10-02</td>\n",
       "      <td>1.057175</td>\n",
       "      <td>1.059195</td>\n",
       "      <td>1.047700</td>\n",
       "      <td>1.047725</td>\n",
       "      <td>-1.0</td>\n",
       "      <td>-1.0</td>\n",
       "      <td>-1</td>\n",
       "    </tr>\n",
       "    <tr>\n",
       "      <th>37</th>\n",
       "      <td>2023-10-03</td>\n",
       "      <td>1.047975</td>\n",
       "      <td>1.049355</td>\n",
       "      <td>1.044830</td>\n",
       "      <td>1.046650</td>\n",
       "      <td>-1.0</td>\n",
       "      <td>-1.0</td>\n",
       "      <td>-1</td>\n",
       "    </tr>\n",
       "    <tr>\n",
       "      <th>38</th>\n",
       "      <td>2023-10-04</td>\n",
       "      <td>1.046850</td>\n",
       "      <td>1.053225</td>\n",
       "      <td>1.045145</td>\n",
       "      <td>1.050390</td>\n",
       "      <td>-1.0</td>\n",
       "      <td>-1.0</td>\n",
       "      <td>-1</td>\n",
       "    </tr>\n",
       "    <tr>\n",
       "      <th>39</th>\n",
       "      <td>2023-10-05</td>\n",
       "      <td>1.050680</td>\n",
       "      <td>1.055185</td>\n",
       "      <td>1.050005</td>\n",
       "      <td>1.054940</td>\n",
       "      <td>-1.0</td>\n",
       "      <td>-1.0</td>\n",
       "      <td>-1</td>\n",
       "    </tr>\n",
       "    <tr>\n",
       "      <th>40</th>\n",
       "      <td>2023-10-06</td>\n",
       "      <td>1.054725</td>\n",
       "      <td>1.060000</td>\n",
       "      <td>1.048260</td>\n",
       "      <td>1.058535</td>\n",
       "      <td>-1.0</td>\n",
       "      <td>-1.0</td>\n",
       "      <td>-1</td>\n",
       "    </tr>\n",
       "    <tr>\n",
       "      <th>41</th>\n",
       "      <td>2023-10-09</td>\n",
       "      <td>1.055325</td>\n",
       "      <td>1.057445</td>\n",
       "      <td>1.051960</td>\n",
       "      <td>1.056680</td>\n",
       "      <td>-1.0</td>\n",
       "      <td>-1.0</td>\n",
       "      <td>-1</td>\n",
       "    </tr>\n",
       "    <tr>\n",
       "      <th>42</th>\n",
       "      <td>2023-10-10</td>\n",
       "      <td>1.056750</td>\n",
       "      <td>1.061985</td>\n",
       "      <td>1.055440</td>\n",
       "      <td>1.060525</td>\n",
       "      <td>-1.0</td>\n",
       "      <td>-1.0</td>\n",
       "      <td>-1</td>\n",
       "    </tr>\n",
       "    <tr>\n",
       "      <th>43</th>\n",
       "      <td>2023-10-11</td>\n",
       "      <td>1.060450</td>\n",
       "      <td>1.063475</td>\n",
       "      <td>1.058165</td>\n",
       "      <td>1.061960</td>\n",
       "      <td>-1.0</td>\n",
       "      <td>-1.0</td>\n",
       "      <td>-1</td>\n",
       "    </tr>\n",
       "    <tr>\n",
       "      <th>44</th>\n",
       "      <td>2023-10-12</td>\n",
       "      <td>1.062000</td>\n",
       "      <td>1.063975</td>\n",
       "      <td>1.052580</td>\n",
       "      <td>1.052835</td>\n",
       "      <td>-1.0</td>\n",
       "      <td>-1.0</td>\n",
       "      <td>-1</td>\n",
       "    </tr>\n",
       "    <tr>\n",
       "      <th>45</th>\n",
       "      <td>2023-10-13</td>\n",
       "      <td>1.052900</td>\n",
       "      <td>1.055855</td>\n",
       "      <td>1.049550</td>\n",
       "      <td>1.051105</td>\n",
       "      <td>-1.0</td>\n",
       "      <td>-1.0</td>\n",
       "      <td>-1</td>\n",
       "    </tr>\n",
       "    <tr>\n",
       "      <th>46</th>\n",
       "      <td>2023-10-16</td>\n",
       "      <td>1.051275</td>\n",
       "      <td>1.056280</td>\n",
       "      <td>1.051035</td>\n",
       "      <td>1.056040</td>\n",
       "      <td>-1.0</td>\n",
       "      <td>-1.0</td>\n",
       "      <td>-1</td>\n",
       "    </tr>\n",
       "    <tr>\n",
       "      <th>47</th>\n",
       "      <td>2023-10-17</td>\n",
       "      <td>1.055950</td>\n",
       "      <td>1.059495</td>\n",
       "      <td>1.053300</td>\n",
       "      <td>1.057720</td>\n",
       "      <td>-1.0</td>\n",
       "      <td>-1.0</td>\n",
       "      <td>-1</td>\n",
       "    </tr>\n",
       "    <tr>\n",
       "      <th>48</th>\n",
       "      <td>2023-10-18</td>\n",
       "      <td>1.057705</td>\n",
       "      <td>1.059425</td>\n",
       "      <td>1.052315</td>\n",
       "      <td>1.053665</td>\n",
       "      <td>-1.0</td>\n",
       "      <td>-1.0</td>\n",
       "      <td>-1</td>\n",
       "    </tr>\n",
       "    <tr>\n",
       "      <th>49</th>\n",
       "      <td>2023-10-19</td>\n",
       "      <td>1.053530</td>\n",
       "      <td>1.061660</td>\n",
       "      <td>1.052820</td>\n",
       "      <td>1.058250</td>\n",
       "      <td>-1.0</td>\n",
       "      <td>-1.0</td>\n",
       "      <td>-1</td>\n",
       "    </tr>\n",
       "    <tr>\n",
       "      <th>50</th>\n",
       "      <td>2023-10-20</td>\n",
       "      <td>1.058275</td>\n",
       "      <td>1.060375</td>\n",
       "      <td>1.056495</td>\n",
       "      <td>1.059450</td>\n",
       "      <td>-1.0</td>\n",
       "      <td>-1.0</td>\n",
       "      <td>-1</td>\n",
       "    </tr>\n",
       "    <tr>\n",
       "      <th>51</th>\n",
       "      <td>2023-10-23</td>\n",
       "      <td>1.059675</td>\n",
       "      <td>1.067805</td>\n",
       "      <td>1.057150</td>\n",
       "      <td>1.066990</td>\n",
       "      <td>-1.0</td>\n",
       "      <td>-1.0</td>\n",
       "      <td>-1</td>\n",
       "    </tr>\n",
       "    <tr>\n",
       "      <th>52</th>\n",
       "      <td>2023-10-24</td>\n",
       "      <td>1.066675</td>\n",
       "      <td>1.069450</td>\n",
       "      <td>1.058305</td>\n",
       "      <td>1.059000</td>\n",
       "      <td>-1.0</td>\n",
       "      <td>-1.0</td>\n",
       "      <td>-1</td>\n",
       "    </tr>\n",
       "    <tr>\n",
       "      <th>53</th>\n",
       "      <td>2023-10-25</td>\n",
       "      <td>1.059425</td>\n",
       "      <td>1.060685</td>\n",
       "      <td>1.056575</td>\n",
       "      <td>1.056645</td>\n",
       "      <td>-1.0</td>\n",
       "      <td>-1.0</td>\n",
       "      <td>-1</td>\n",
       "    </tr>\n",
       "    <tr>\n",
       "      <th>54</th>\n",
       "      <td>2023-10-26</td>\n",
       "      <td>1.056875</td>\n",
       "      <td>1.056925</td>\n",
       "      <td>1.052190</td>\n",
       "      <td>1.056255</td>\n",
       "      <td>-1.0</td>\n",
       "      <td>-1.0</td>\n",
       "      <td>-1</td>\n",
       "    </tr>\n",
       "    <tr>\n",
       "      <th>55</th>\n",
       "      <td>2023-10-27</td>\n",
       "      <td>1.056155</td>\n",
       "      <td>1.059715</td>\n",
       "      <td>1.053540</td>\n",
       "      <td>1.056360</td>\n",
       "      <td>-1.0</td>\n",
       "      <td>-1.0</td>\n",
       "      <td>-1</td>\n",
       "    </tr>\n",
       "    <tr>\n",
       "      <th>56</th>\n",
       "      <td>2023-10-30</td>\n",
       "      <td>1.056420</td>\n",
       "      <td>1.062525</td>\n",
       "      <td>1.054725</td>\n",
       "      <td>1.061525</td>\n",
       "      <td>-1.0</td>\n",
       "      <td>-1.0</td>\n",
       "      <td>-1</td>\n",
       "    </tr>\n",
       "    <tr>\n",
       "      <th>57</th>\n",
       "      <td>2023-10-31</td>\n",
       "      <td>1.061605</td>\n",
       "      <td>1.067505</td>\n",
       "      <td>1.055765</td>\n",
       "      <td>1.057440</td>\n",
       "      <td>-1.0</td>\n",
       "      <td>-1.0</td>\n",
       "      <td>-1</td>\n",
       "    </tr>\n",
       "    <tr>\n",
       "      <th>58</th>\n",
       "      <td>2023-11-01</td>\n",
       "      <td>1.057505</td>\n",
       "      <td>1.058070</td>\n",
       "      <td>1.051675</td>\n",
       "      <td>1.057020</td>\n",
       "      <td>-1.0</td>\n",
       "      <td>-1.0</td>\n",
       "      <td>-1</td>\n",
       "    </tr>\n",
       "    <tr>\n",
       "      <th>59</th>\n",
       "      <td>2023-11-02</td>\n",
       "      <td>1.057045</td>\n",
       "      <td>1.063860</td>\n",
       "      <td>1.056780</td>\n",
       "      <td>1.063710</td>\n",
       "      <td>-1.0</td>\n",
       "      <td>-1.0</td>\n",
       "      <td>-1</td>\n",
       "    </tr>\n",
       "  </tbody>\n",
       "</table>\n",
       "</div>"
      ],
      "text/plain": [
       "          date      open      high       low     close  volume  average  \\\n",
       "0   2023-08-11  1.098250  1.100550  1.094300  1.094750    -1.0     -1.0   \n",
       "1   2023-08-14  1.095350  1.096050  1.087450  1.090550    -1.0     -1.0   \n",
       "2   2023-08-15  1.091000  1.095250  1.089650  1.090600    -1.0     -1.0   \n",
       "3   2023-08-16  1.090350  1.093500  1.087150  1.087950    -1.0     -1.0   \n",
       "4   2023-08-17  1.087850  1.091850  1.085600  1.087250    -1.0     -1.0   \n",
       "5   2023-08-18  1.086750  1.089400  1.084500  1.087300    -1.0     -1.0   \n",
       "6   2023-08-21  1.087250  1.091385  1.086965  1.089590    -1.0     -1.0   \n",
       "7   2023-08-22  1.089550  1.093045  1.083300  1.084565    -1.0     -1.0   \n",
       "8   2023-08-23  1.084400  1.087165  1.080245  1.086295    -1.0     -1.0   \n",
       "9   2023-08-24  1.086650  1.087675  1.080505  1.081045    -1.0     -1.0   \n",
       "10  2023-08-25  1.081075  1.084185  1.076580  1.079610    -1.0     -1.0   \n",
       "11  2023-08-28  1.079625  1.082230  1.079355  1.081890    -1.0     -1.0   \n",
       "12  2023-08-29  1.081600  1.089200  1.078225  1.088010    -1.0     -1.0   \n",
       "13  2023-08-30  1.087600  1.094570  1.085515  1.092320    -1.0     -1.0   \n",
       "14  2023-08-31  1.092505  1.093955  1.083505  1.084345    -1.0     -1.0   \n",
       "15  2023-09-01  1.084870  1.088215  1.077215  1.078160    -1.0     -1.0   \n",
       "16  2023-09-04  1.077850  1.080890  1.077160  1.079505    -1.0     -1.0   \n",
       "17  2023-09-05  1.079250  1.079845  1.070620  1.072220    -1.0     -1.0   \n",
       "18  2023-09-06  1.072400  1.074890  1.070270  1.072740    -1.0     -1.0   \n",
       "19  2023-09-07  1.072425  1.073180  1.068605  1.069635    -1.0     -1.0   \n",
       "20  2023-09-08  1.069775  1.074395  1.069420  1.069915    -1.0     -1.0   \n",
       "21  2023-09-11  1.071375  1.075940  1.070850  1.075025    -1.0     -1.0   \n",
       "22  2023-09-12  1.074775  1.076930  1.070555  1.075395    -1.0     -1.0   \n",
       "23  2023-09-13  1.075400  1.076500  1.071090  1.072960    -1.0     -1.0   \n",
       "24  2023-09-14  1.073050  1.075215  1.063195  1.064310    -1.0     -1.0   \n",
       "25  2023-09-15  1.064355  1.068785  1.063335  1.065625    -1.0     -1.0   \n",
       "26  2023-09-18  1.066325  1.069875  1.065470  1.069185    -1.0     -1.0   \n",
       "27  2023-09-19  1.069150  1.071800  1.067515  1.067925    -1.0     -1.0   \n",
       "28  2023-09-20  1.067850  1.073690  1.065015  1.066085    -1.0     -1.0   \n",
       "29  2023-09-21  1.066030  1.067365  1.061690  1.066160    -1.0     -1.0   \n",
       "30  2023-09-22  1.065925  1.067190  1.061510  1.065600    -1.0     -1.0   \n",
       "31  2023-09-25  1.065200  1.065565  1.057540  1.059310    -1.0     -1.0   \n",
       "32  2023-09-26  1.059420  1.060915  1.056205  1.057255    -1.0     -1.0   \n",
       "33  2023-09-27  1.057005  1.057435  1.048820  1.050240    -1.0     -1.0   \n",
       "34  2023-09-28  1.050800  1.057895  1.049110  1.056555    -1.0     -1.0   \n",
       "35  2023-09-29  1.056225  1.061710  1.055805  1.057405    -1.0     -1.0   \n",
       "36  2023-10-02  1.057175  1.059195  1.047700  1.047725    -1.0     -1.0   \n",
       "37  2023-10-03  1.047975  1.049355  1.044830  1.046650    -1.0     -1.0   \n",
       "38  2023-10-04  1.046850  1.053225  1.045145  1.050390    -1.0     -1.0   \n",
       "39  2023-10-05  1.050680  1.055185  1.050005  1.054940    -1.0     -1.0   \n",
       "40  2023-10-06  1.054725  1.060000  1.048260  1.058535    -1.0     -1.0   \n",
       "41  2023-10-09  1.055325  1.057445  1.051960  1.056680    -1.0     -1.0   \n",
       "42  2023-10-10  1.056750  1.061985  1.055440  1.060525    -1.0     -1.0   \n",
       "43  2023-10-11  1.060450  1.063475  1.058165  1.061960    -1.0     -1.0   \n",
       "44  2023-10-12  1.062000  1.063975  1.052580  1.052835    -1.0     -1.0   \n",
       "45  2023-10-13  1.052900  1.055855  1.049550  1.051105    -1.0     -1.0   \n",
       "46  2023-10-16  1.051275  1.056280  1.051035  1.056040    -1.0     -1.0   \n",
       "47  2023-10-17  1.055950  1.059495  1.053300  1.057720    -1.0     -1.0   \n",
       "48  2023-10-18  1.057705  1.059425  1.052315  1.053665    -1.0     -1.0   \n",
       "49  2023-10-19  1.053530  1.061660  1.052820  1.058250    -1.0     -1.0   \n",
       "50  2023-10-20  1.058275  1.060375  1.056495  1.059450    -1.0     -1.0   \n",
       "51  2023-10-23  1.059675  1.067805  1.057150  1.066990    -1.0     -1.0   \n",
       "52  2023-10-24  1.066675  1.069450  1.058305  1.059000    -1.0     -1.0   \n",
       "53  2023-10-25  1.059425  1.060685  1.056575  1.056645    -1.0     -1.0   \n",
       "54  2023-10-26  1.056875  1.056925  1.052190  1.056255    -1.0     -1.0   \n",
       "55  2023-10-27  1.056155  1.059715  1.053540  1.056360    -1.0     -1.0   \n",
       "56  2023-10-30  1.056420  1.062525  1.054725  1.061525    -1.0     -1.0   \n",
       "57  2023-10-31  1.061605  1.067505  1.055765  1.057440    -1.0     -1.0   \n",
       "58  2023-11-01  1.057505  1.058070  1.051675  1.057020    -1.0     -1.0   \n",
       "59  2023-11-02  1.057045  1.063860  1.056780  1.063710    -1.0     -1.0   \n",
       "\n",
       "    barCount  \n",
       "0         -1  \n",
       "1         -1  \n",
       "2         -1  \n",
       "3         -1  \n",
       "4         -1  \n",
       "5         -1  \n",
       "6         -1  \n",
       "7         -1  \n",
       "8         -1  \n",
       "9         -1  \n",
       "10        -1  \n",
       "11        -1  \n",
       "12        -1  \n",
       "13        -1  \n",
       "14        -1  \n",
       "15        -1  \n",
       "16        -1  \n",
       "17        -1  \n",
       "18        -1  \n",
       "19        -1  \n",
       "20        -1  \n",
       "21        -1  \n",
       "22        -1  \n",
       "23        -1  \n",
       "24        -1  \n",
       "25        -1  \n",
       "26        -1  \n",
       "27        -1  \n",
       "28        -1  \n",
       "29        -1  \n",
       "30        -1  \n",
       "31        -1  \n",
       "32        -1  \n",
       "33        -1  \n",
       "34        -1  \n",
       "35        -1  \n",
       "36        -1  \n",
       "37        -1  \n",
       "38        -1  \n",
       "39        -1  \n",
       "40        -1  \n",
       "41        -1  \n",
       "42        -1  \n",
       "43        -1  \n",
       "44        -1  \n",
       "45        -1  \n",
       "46        -1  \n",
       "47        -1  \n",
       "48        -1  \n",
       "49        -1  \n",
       "50        -1  \n",
       "51        -1  \n",
       "52        -1  \n",
       "53        -1  \n",
       "54        -1  \n",
       "55        -1  \n",
       "56        -1  \n",
       "57        -1  \n",
       "58        -1  \n",
       "59        -1  "
      ]
     },
     "execution_count": 120,
     "metadata": {},
     "output_type": "execute_result"
    }
   ],
   "source": [
    "# Store the data in df\n",
    "df = util.df(data)\n",
    "df"
   ]
  },
  {
   "cell_type": "markdown",
   "metadata": {},
   "source": [
    "durationStr: Time span of all the bars. Examples:\n",
    "        __'60 S', '30 D', '13 W', '6 M', '10 Y'__."
   ]
  },
  {
   "cell_type": "markdown",
   "metadata": {},
   "source": [
    "barSizeSetting: Time period of one bar. Must be one of:\n",
    "        __'1 secs', '5 secs', '10 secs' 15 secs', '30 secs',\n",
    "        '1 min', '2 mins', '3 mins', '5 mins', '10 mins', '15 mins',\n",
    "        '20 mins', '30 mins',\n",
    "        '1 hour', '2 hours', '3 hours', '4 hours', '8 hours',\n",
    "        '1 day', '1 week', '1 month'__."
   ]
  },
  {
   "cell_type": "code",
   "execution_count": 121,
   "metadata": {},
   "outputs": [
    {
     "data": {
      "text/html": [
       "<div>\n",
       "<style scoped>\n",
       "    .dataframe tbody tr th:only-of-type {\n",
       "        vertical-align: middle;\n",
       "    }\n",
       "\n",
       "    .dataframe tbody tr th {\n",
       "        vertical-align: top;\n",
       "    }\n",
       "\n",
       "    .dataframe thead th {\n",
       "        text-align: right;\n",
       "    }\n",
       "</style>\n",
       "<table border=\"1\" class=\"dataframe\">\n",
       "  <thead>\n",
       "    <tr style=\"text-align: right;\">\n",
       "      <th></th>\n",
       "      <th>date</th>\n",
       "      <th>open</th>\n",
       "      <th>high</th>\n",
       "      <th>low</th>\n",
       "      <th>close</th>\n",
       "      <th>volume</th>\n",
       "      <th>average</th>\n",
       "      <th>barCount</th>\n",
       "    </tr>\n",
       "  </thead>\n",
       "  <tbody>\n",
       "    <tr>\n",
       "      <th>0</th>\n",
       "      <td>2023-11-01 21:15:00+00:00</td>\n",
       "      <td>1.057045</td>\n",
       "      <td>1.057100</td>\n",
       "      <td>1.056800</td>\n",
       "      <td>1.056825</td>\n",
       "      <td>-1.0</td>\n",
       "      <td>-1.0</td>\n",
       "      <td>-1</td>\n",
       "    </tr>\n",
       "    <tr>\n",
       "      <th>1</th>\n",
       "      <td>2023-11-01 21:20:00+00:00</td>\n",
       "      <td>1.056825</td>\n",
       "      <td>1.057205</td>\n",
       "      <td>1.056810</td>\n",
       "      <td>1.057020</td>\n",
       "      <td>-1.0</td>\n",
       "      <td>-1.0</td>\n",
       "      <td>-1</td>\n",
       "    </tr>\n",
       "    <tr>\n",
       "      <th>2</th>\n",
       "      <td>2023-11-01 21:25:00+00:00</td>\n",
       "      <td>1.057020</td>\n",
       "      <td>1.057125</td>\n",
       "      <td>1.056980</td>\n",
       "      <td>1.056980</td>\n",
       "      <td>-1.0</td>\n",
       "      <td>-1.0</td>\n",
       "      <td>-1</td>\n",
       "    </tr>\n",
       "    <tr>\n",
       "      <th>3</th>\n",
       "      <td>2023-11-01 21:30:00+00:00</td>\n",
       "      <td>1.056980</td>\n",
       "      <td>1.057030</td>\n",
       "      <td>1.056915</td>\n",
       "      <td>1.057025</td>\n",
       "      <td>-1.0</td>\n",
       "      <td>-1.0</td>\n",
       "      <td>-1</td>\n",
       "    </tr>\n",
       "    <tr>\n",
       "      <th>4</th>\n",
       "      <td>2023-11-01 21:35:00+00:00</td>\n",
       "      <td>1.057025</td>\n",
       "      <td>1.057060</td>\n",
       "      <td>1.057015</td>\n",
       "      <td>1.057055</td>\n",
       "      <td>-1.0</td>\n",
       "      <td>-1.0</td>\n",
       "      <td>-1</td>\n",
       "    </tr>\n",
       "    <tr>\n",
       "      <th>...</th>\n",
       "      <td>...</td>\n",
       "      <td>...</td>\n",
       "      <td>...</td>\n",
       "      <td>...</td>\n",
       "      <td>...</td>\n",
       "      <td>...</td>\n",
       "      <td>...</td>\n",
       "      <td>...</td>\n",
       "    </tr>\n",
       "    <tr>\n",
       "      <th>163</th>\n",
       "      <td>2023-11-02 10:50:00+00:00</td>\n",
       "      <td>1.063195</td>\n",
       "      <td>1.063480</td>\n",
       "      <td>1.063145</td>\n",
       "      <td>1.063350</td>\n",
       "      <td>-1.0</td>\n",
       "      <td>-1.0</td>\n",
       "      <td>-1</td>\n",
       "    </tr>\n",
       "    <tr>\n",
       "      <th>164</th>\n",
       "      <td>2023-11-02 10:55:00+00:00</td>\n",
       "      <td>1.063350</td>\n",
       "      <td>1.063725</td>\n",
       "      <td>1.063280</td>\n",
       "      <td>1.063465</td>\n",
       "      <td>-1.0</td>\n",
       "      <td>-1.0</td>\n",
       "      <td>-1</td>\n",
       "    </tr>\n",
       "    <tr>\n",
       "      <th>165</th>\n",
       "      <td>2023-11-02 11:00:00+00:00</td>\n",
       "      <td>1.063465</td>\n",
       "      <td>1.063740</td>\n",
       "      <td>1.063330</td>\n",
       "      <td>1.063615</td>\n",
       "      <td>-1.0</td>\n",
       "      <td>-1.0</td>\n",
       "      <td>-1</td>\n",
       "    </tr>\n",
       "    <tr>\n",
       "      <th>166</th>\n",
       "      <td>2023-11-02 11:05:00+00:00</td>\n",
       "      <td>1.063615</td>\n",
       "      <td>1.063690</td>\n",
       "      <td>1.063395</td>\n",
       "      <td>1.063630</td>\n",
       "      <td>-1.0</td>\n",
       "      <td>-1.0</td>\n",
       "      <td>-1</td>\n",
       "    </tr>\n",
       "    <tr>\n",
       "      <th>167</th>\n",
       "      <td>2023-11-02 11:10:00+00:00</td>\n",
       "      <td>1.063630</td>\n",
       "      <td>1.063860</td>\n",
       "      <td>1.063630</td>\n",
       "      <td>1.063705</td>\n",
       "      <td>-1.0</td>\n",
       "      <td>-1.0</td>\n",
       "      <td>-1</td>\n",
       "    </tr>\n",
       "  </tbody>\n",
       "</table>\n",
       "<p>168 rows × 8 columns</p>\n",
       "</div>"
      ],
      "text/plain": [
       "                         date      open      high       low     close  volume  \\\n",
       "0   2023-11-01 21:15:00+00:00  1.057045  1.057100  1.056800  1.056825    -1.0   \n",
       "1   2023-11-01 21:20:00+00:00  1.056825  1.057205  1.056810  1.057020    -1.0   \n",
       "2   2023-11-01 21:25:00+00:00  1.057020  1.057125  1.056980  1.056980    -1.0   \n",
       "3   2023-11-01 21:30:00+00:00  1.056980  1.057030  1.056915  1.057025    -1.0   \n",
       "4   2023-11-01 21:35:00+00:00  1.057025  1.057060  1.057015  1.057055    -1.0   \n",
       "..                        ...       ...       ...       ...       ...     ...   \n",
       "163 2023-11-02 10:50:00+00:00  1.063195  1.063480  1.063145  1.063350    -1.0   \n",
       "164 2023-11-02 10:55:00+00:00  1.063350  1.063725  1.063280  1.063465    -1.0   \n",
       "165 2023-11-02 11:00:00+00:00  1.063465  1.063740  1.063330  1.063615    -1.0   \n",
       "166 2023-11-02 11:05:00+00:00  1.063615  1.063690  1.063395  1.063630    -1.0   \n",
       "167 2023-11-02 11:10:00+00:00  1.063630  1.063860  1.063630  1.063705    -1.0   \n",
       "\n",
       "     average  barCount  \n",
       "0       -1.0        -1  \n",
       "1       -1.0        -1  \n",
       "2       -1.0        -1  \n",
       "3       -1.0        -1  \n",
       "4       -1.0        -1  \n",
       "..       ...       ...  \n",
       "163     -1.0        -1  \n",
       "164     -1.0        -1  \n",
       "165     -1.0        -1  \n",
       "166     -1.0        -1  \n",
       "167     -1.0        -1  \n",
       "\n",
       "[168 rows x 8 columns]"
      ]
     },
     "execution_count": 121,
     "metadata": {},
     "output_type": "execute_result"
    }
   ],
   "source": [
    "# Frequency of 5 min\n",
    "df = util.df(ib.reqHistoricalData(contract, # the stock/entity\n",
    "                                  \"\",\n",
    "                                  barSizeSetting = \"5 mins\", # frequency\n",
    "                                  durationStr = \"1 D\",  # history of..\n",
    "                                  whatToShow = \"MIDPOINT\", # the erlier point\n",
    "                                  useRTH = True, \n",
    "                                  formatDate = 2))\n",
    "df"
   ]
  },
  {
   "cell_type": "code",
   "execution_count": 122,
   "metadata": {},
   "outputs": [
    {
     "data": {
      "text/html": [
       "<div>\n",
       "<style scoped>\n",
       "    .dataframe tbody tr th:only-of-type {\n",
       "        vertical-align: middle;\n",
       "    }\n",
       "\n",
       "    .dataframe tbody tr th {\n",
       "        vertical-align: top;\n",
       "    }\n",
       "\n",
       "    .dataframe thead th {\n",
       "        text-align: right;\n",
       "    }\n",
       "</style>\n",
       "<table border=\"1\" class=\"dataframe\">\n",
       "  <thead>\n",
       "    <tr style=\"text-align: right;\">\n",
       "      <th></th>\n",
       "      <th>open</th>\n",
       "      <th>high</th>\n",
       "      <th>low</th>\n",
       "      <th>close</th>\n",
       "      <th>volume</th>\n",
       "      <th>average</th>\n",
       "      <th>barCount</th>\n",
       "    </tr>\n",
       "    <tr>\n",
       "      <th>date</th>\n",
       "      <th></th>\n",
       "      <th></th>\n",
       "      <th></th>\n",
       "      <th></th>\n",
       "      <th></th>\n",
       "      <th></th>\n",
       "      <th></th>\n",
       "    </tr>\n",
       "  </thead>\n",
       "  <tbody>\n",
       "    <tr>\n",
       "      <th>2023-11-01 17:15:00-04:00</th>\n",
       "      <td>1.057045</td>\n",
       "      <td>1.057100</td>\n",
       "      <td>1.056800</td>\n",
       "      <td>1.056825</td>\n",
       "      <td>-1.0</td>\n",
       "      <td>-1.0</td>\n",
       "      <td>-1</td>\n",
       "    </tr>\n",
       "    <tr>\n",
       "      <th>2023-11-01 17:20:00-04:00</th>\n",
       "      <td>1.056825</td>\n",
       "      <td>1.057205</td>\n",
       "      <td>1.056810</td>\n",
       "      <td>1.057020</td>\n",
       "      <td>-1.0</td>\n",
       "      <td>-1.0</td>\n",
       "      <td>-1</td>\n",
       "    </tr>\n",
       "    <tr>\n",
       "      <th>2023-11-01 17:25:00-04:00</th>\n",
       "      <td>1.057020</td>\n",
       "      <td>1.057125</td>\n",
       "      <td>1.056980</td>\n",
       "      <td>1.056980</td>\n",
       "      <td>-1.0</td>\n",
       "      <td>-1.0</td>\n",
       "      <td>-1</td>\n",
       "    </tr>\n",
       "    <tr>\n",
       "      <th>2023-11-01 17:30:00-04:00</th>\n",
       "      <td>1.056980</td>\n",
       "      <td>1.057030</td>\n",
       "      <td>1.056915</td>\n",
       "      <td>1.057025</td>\n",
       "      <td>-1.0</td>\n",
       "      <td>-1.0</td>\n",
       "      <td>-1</td>\n",
       "    </tr>\n",
       "    <tr>\n",
       "      <th>2023-11-01 17:35:00-04:00</th>\n",
       "      <td>1.057025</td>\n",
       "      <td>1.057060</td>\n",
       "      <td>1.057015</td>\n",
       "      <td>1.057055</td>\n",
       "      <td>-1.0</td>\n",
       "      <td>-1.0</td>\n",
       "      <td>-1</td>\n",
       "    </tr>\n",
       "    <tr>\n",
       "      <th>...</th>\n",
       "      <td>...</td>\n",
       "      <td>...</td>\n",
       "      <td>...</td>\n",
       "      <td>...</td>\n",
       "      <td>...</td>\n",
       "      <td>...</td>\n",
       "      <td>...</td>\n",
       "    </tr>\n",
       "    <tr>\n",
       "      <th>2023-11-02 06:50:00-04:00</th>\n",
       "      <td>1.063195</td>\n",
       "      <td>1.063480</td>\n",
       "      <td>1.063145</td>\n",
       "      <td>1.063350</td>\n",
       "      <td>-1.0</td>\n",
       "      <td>-1.0</td>\n",
       "      <td>-1</td>\n",
       "    </tr>\n",
       "    <tr>\n",
       "      <th>2023-11-02 06:55:00-04:00</th>\n",
       "      <td>1.063350</td>\n",
       "      <td>1.063725</td>\n",
       "      <td>1.063280</td>\n",
       "      <td>1.063465</td>\n",
       "      <td>-1.0</td>\n",
       "      <td>-1.0</td>\n",
       "      <td>-1</td>\n",
       "    </tr>\n",
       "    <tr>\n",
       "      <th>2023-11-02 07:00:00-04:00</th>\n",
       "      <td>1.063465</td>\n",
       "      <td>1.063740</td>\n",
       "      <td>1.063330</td>\n",
       "      <td>1.063615</td>\n",
       "      <td>-1.0</td>\n",
       "      <td>-1.0</td>\n",
       "      <td>-1</td>\n",
       "    </tr>\n",
       "    <tr>\n",
       "      <th>2023-11-02 07:05:00-04:00</th>\n",
       "      <td>1.063615</td>\n",
       "      <td>1.063690</td>\n",
       "      <td>1.063395</td>\n",
       "      <td>1.063630</td>\n",
       "      <td>-1.0</td>\n",
       "      <td>-1.0</td>\n",
       "      <td>-1</td>\n",
       "    </tr>\n",
       "    <tr>\n",
       "      <th>2023-11-02 07:10:00-04:00</th>\n",
       "      <td>1.063630</td>\n",
       "      <td>1.063860</td>\n",
       "      <td>1.063630</td>\n",
       "      <td>1.063705</td>\n",
       "      <td>-1.0</td>\n",
       "      <td>-1.0</td>\n",
       "      <td>-1</td>\n",
       "    </tr>\n",
       "  </tbody>\n",
       "</table>\n",
       "<p>168 rows × 7 columns</p>\n",
       "</div>"
      ],
      "text/plain": [
       "                               open      high       low     close  volume  \\\n",
       "date                                                                        \n",
       "2023-11-01 17:15:00-04:00  1.057045  1.057100  1.056800  1.056825    -1.0   \n",
       "2023-11-01 17:20:00-04:00  1.056825  1.057205  1.056810  1.057020    -1.0   \n",
       "2023-11-01 17:25:00-04:00  1.057020  1.057125  1.056980  1.056980    -1.0   \n",
       "2023-11-01 17:30:00-04:00  1.056980  1.057030  1.056915  1.057025    -1.0   \n",
       "2023-11-01 17:35:00-04:00  1.057025  1.057060  1.057015  1.057055    -1.0   \n",
       "...                             ...       ...       ...       ...     ...   \n",
       "2023-11-02 06:50:00-04:00  1.063195  1.063480  1.063145  1.063350    -1.0   \n",
       "2023-11-02 06:55:00-04:00  1.063350  1.063725  1.063280  1.063465    -1.0   \n",
       "2023-11-02 07:00:00-04:00  1.063465  1.063740  1.063330  1.063615    -1.0   \n",
       "2023-11-02 07:05:00-04:00  1.063615  1.063690  1.063395  1.063630    -1.0   \n",
       "2023-11-02 07:10:00-04:00  1.063630  1.063860  1.063630  1.063705    -1.0   \n",
       "\n",
       "                           average  barCount  \n",
       "date                                          \n",
       "2023-11-01 17:15:00-04:00     -1.0        -1  \n",
       "2023-11-01 17:20:00-04:00     -1.0        -1  \n",
       "2023-11-01 17:25:00-04:00     -1.0        -1  \n",
       "2023-11-01 17:30:00-04:00     -1.0        -1  \n",
       "2023-11-01 17:35:00-04:00     -1.0        -1  \n",
       "...                            ...       ...  \n",
       "2023-11-02 06:50:00-04:00     -1.0        -1  \n",
       "2023-11-02 06:55:00-04:00     -1.0        -1  \n",
       "2023-11-02 07:00:00-04:00     -1.0        -1  \n",
       "2023-11-02 07:05:00-04:00     -1.0        -1  \n",
       "2023-11-02 07:10:00-04:00     -1.0        -1  \n",
       "\n",
       "[168 rows x 7 columns]"
      ]
     },
     "execution_count": 122,
     "metadata": {},
     "output_type": "execute_result"
    }
   ],
   "source": [
    "# change the time zone \n",
    "df = df.set_index(\"date\").tz_convert(\"US/Eastern\")\n",
    "df"
   ]
  },
  {
   "cell_type": "code",
   "execution_count": 130,
   "metadata": {},
   "outputs": [
    {
     "data": {
      "text/plain": [
       "Stock(symbol='AAPL', exchange='SMART', currency='USD')"
      ]
     },
     "execution_count": 130,
     "metadata": {},
     "output_type": "execute_result"
    }
   ],
   "source": [
    "contract = Stock(\"AAPL\", \"SMART\", \"USD\")\n",
    "contract"
   ]
  },
  {
   "cell_type": "code",
   "execution_count": 131,
   "metadata": {},
   "outputs": [
    {
     "name": "stderr",
     "output_type": "stream",
     "text": [
      "Error 162, reqId 21: Historical Market Data Service error message:No market data permissions for ISLAND STK. Requested market data requires additional subscription for API. See link in 'Market Data Connections' dialog for more details., contract: Stock(symbol='AAPL', exchange='SMART', currency='USD')\n"
     ]
    },
    {
     "data": {
      "text/plain": [
       "[]"
      ]
     },
     "execution_count": 131,
     "metadata": {},
     "output_type": "execute_result"
    }
   ],
   "source": [
    "# its not in out subscriptions....\n",
    "data = ib.reqHistoricalData(contract, \"\", barSizeSetting = \"1 day\", durationStr = \"60 D\", \n",
    "                whatToShow = \"MIDPOINT\", useRTH = True)\n",
    "data"
   ]
  },
  {
   "cell_type": "code",
   "execution_count": 125,
   "metadata": {},
   "outputs": [],
   "source": [
    "ib.disconnect()"
   ]
  },
  {
   "cell_type": "code",
   "execution_count": null,
   "metadata": {},
   "outputs": [],
   "source": []
  }
 ],
 "metadata": {
  "kernelspec": {
   "display_name": "Python 3",
   "language": "python",
   "name": "python3"
  },
  "language_info": {
   "codemirror_mode": {
    "name": "ipython",
    "version": 3
   },
   "file_extension": ".py",
   "mimetype": "text/x-python",
   "name": "python",
   "nbconvert_exporter": "python",
   "pygments_lexer": "ipython3",
   "version": "3.11.3"
  }
 },
 "nbformat": 4,
 "nbformat_minor": 2
}
