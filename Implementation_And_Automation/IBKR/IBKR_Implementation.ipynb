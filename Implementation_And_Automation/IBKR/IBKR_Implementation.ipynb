{
 "cells": [
  {
   "cell_type": "markdown",
   "id": "959f72e2",
   "metadata": {},
   "source": [
    "# Real-time Implementation and Automation with IBKR"
   ]
  },
  {
   "cell_type": "markdown",
   "id": "00fe4e1f",
   "metadata": {},
   "source": [
    "--------------------------------------------------------------------------------------------------------------------"
   ]
  },
  {
   "cell_type": "markdown",
   "id": "ec4597eb",
   "metadata": {},
   "source": [
    "_Disclaimer: <br>\n",
    "The following illustrative examples are for general information and educational purposes only. <br>\n",
    "It is neither investment advice nor a recommendation to trade, invest or take whatsoever actions.<br>\n",
    "The below code should only be used in combination with an IBKR Practice/Demo Account and NOT with a Live Trading Account._"
   ]
  },
  {
   "cell_type": "markdown",
   "id": "290c7d15",
   "metadata": {},
   "source": [
    "------------------------------------------------------------------------------------"
   ]
  },
  {
   "cell_type": "code",
   "execution_count": null,
   "id": "f347c307",
   "metadata": {},
   "outputs": [],
   "source": []
  },
  {
   "cell_type": "markdown",
   "id": "183c14fc",
   "metadata": {},
   "source": [
    "# IBKR API - Recap"
   ]
  },
  {
   "cell_type": "code",
   "execution_count": 2,
   "id": "996516c5",
   "metadata": {},
   "outputs": [],
   "source": [
    "from ib_insync import *\n",
    "util.startLoop() "
   ]
  },
  {
   "cell_type": "code",
   "execution_count": 3,
   "id": "1b02d8b9",
   "metadata": {},
   "outputs": [],
   "source": [
    "ib = IB()"
   ]
  },
  {
   "cell_type": "code",
   "execution_count": 4,
   "id": "34667272",
   "metadata": {},
   "outputs": [
    {
     "data": {
      "text/plain": [
       "<IB connected to 127.0.0.1:7497 clientId=1>"
      ]
     },
     "execution_count": 4,
     "metadata": {},
     "output_type": "execute_result"
    }
   ],
   "source": [
    "# Connect to iteractive broker!\n",
    "ib.connect()"
   ]
  },
  {
   "cell_type": "code",
   "execution_count": 5,
   "id": "0939789b",
   "metadata": {},
   "outputs": [
    {
     "data": {
      "text/plain": [
       "[]"
      ]
     },
     "execution_count": 5,
     "metadata": {},
     "output_type": "execute_result"
    }
   ],
   "source": [
    "# Check of there is any open position\n",
    "ib.positions()"
   ]
  },
  {
   "cell_type": "code",
   "execution_count": 6,
   "id": "1c3f3e68",
   "metadata": {},
   "outputs": [
    {
     "data": {
      "text/plain": [
       "Forex('EURUSD', exchange='IDEALPRO')"
      ]
     },
     "execution_count": 6,
     "metadata": {},
     "output_type": "execute_result"
    }
   ],
   "source": [
    "contract = Forex('EURUSD')\n",
    "contract"
   ]
  },
  {
   "cell_type": "code",
   "execution_count": 7,
   "id": "bfb6bb30",
   "metadata": {},
   "outputs": [
    {
     "data": {
      "text/plain": [
       "[Forex('EURUSD', conId=12087792, exchange='IDEALPRO', localSymbol='EUR.USD', tradingClass='EUR.USD')]"
      ]
     },
     "execution_count": 7,
     "metadata": {},
     "output_type": "execute_result"
    }
   ],
   "source": [
    "ib.qualifyContracts(contract)"
   ]
  },
  {
   "cell_type": "code",
   "execution_count": 8,
   "id": "5da24b4e",
   "metadata": {},
   "outputs": [
    {
     "data": {
      "text/plain": [
       "Ticker(contract=Forex('EURUSD', conId=12087792, exchange='IDEALPRO', localSymbol='EUR.USD', tradingClass='EUR.USD'))"
      ]
     },
     "execution_count": 8,
     "metadata": {},
     "output_type": "execute_result"
    }
   ],
   "source": [
    "# subscribe to tick data\n",
    "data = ib.reqMktData(contract) "
   ]
  },
  {
   "cell_type": "code",
   "execution_count": 9,
   "id": "a80b0f42",
   "metadata": {},
   "outputs": [
    {
     "data": {
      "text/plain": [
       "Ticker(contract=Forex('EURUSD', conId=12087792, exchange='IDEALPRO', localSymbol='EUR.USD', tradingClass='EUR.USD'), time=datetime.datetime(2023, 11, 6, 12, 4, 15, 762765, tzinfo=datetime.timezone.utc), minTick=1e-05, bid=1.07511, bidSize=1000000.0, ask=1.07512, askSize=250000.0, prevBid=1.07512, prevBidSize=2000000.0, prevAsk=1.07513, prevAskSize=3000000.0, high=1.0756, low=1.0722, close=1.073, ticks=[TickData(time=datetime.datetime(2023, 11, 6, 12, 4, 15, 762765, tzinfo=datetime.timezone.utc), tickType=2, price=1.07512, size=250000.0), TickData(time=datetime.datetime(2023, 11, 6, 12, 4, 15, 762765, tzinfo=datetime.timezone.utc), tickType=0, price=1.07511, size=1000000.0)])"
      ]
     },
     "execution_count": 9,
     "metadata": {},
     "output_type": "execute_result"
    }
   ],
   "source": [
    "data"
   ]
  },
  {
   "cell_type": "code",
   "execution_count": 20,
   "id": "1cd3a77b",
   "metadata": {},
   "outputs": [
    {
     "data": {
      "text/plain": [
       "1.07497"
      ]
     },
     "execution_count": 20,
     "metadata": {},
     "output_type": "execute_result"
    }
   ],
   "source": [
    "# Get the bid price\n",
    "data.bid"
   ]
  },
  {
   "cell_type": "code",
   "execution_count": 21,
   "id": "3b051f73",
   "metadata": {},
   "outputs": [],
   "source": [
    "# unsubscribe market data\n",
    "ib.cancelMktData(contract) "
   ]
  },
  {
   "cell_type": "code",
   "execution_count": 22,
   "id": "3f0d14dc",
   "metadata": {},
   "outputs": [
    {
     "data": {
      "text/plain": [
       "Ticker(contract=Forex('EURUSD', conId=12087792, exchange='IDEALPRO', localSymbol='EUR.USD', tradingClass='EUR.USD'), time=datetime.datetime(2023, 11, 6, 12, 5, 42, 103140, tzinfo=datetime.timezone.utc), minTick=1e-05, bid=1.07509, bidSize=1250000.0, ask=1.07511, askSize=3000000.0, prevBid=1.07508, prevBidSize=1000000.0, prevAsk=1.0751, prevAskSize=2500000.0, high=1.0756, low=1.0722, close=1.073, ticks=[TickData(time=datetime.datetime(2023, 11, 6, 12, 5, 42, 103140, tzinfo=datetime.timezone.utc), tickType=0, price=1.07509, size=1250000.0)])"
      ]
     },
     "execution_count": 22,
     "metadata": {},
     "output_type": "execute_result"
    }
   ],
   "source": [
    "# subsctice the the contract\n",
    "ib.reqMktData(contract)"
   ]
  },
  {
   "cell_type": "code",
   "execution_count": 23,
   "id": "c29e7951",
   "metadata": {},
   "outputs": [
    {
     "data": {
      "text/plain": [
       "Ticker(contract=Forex('EURUSD', conId=12087792, exchange='IDEALPRO', localSymbol='EUR.USD', tradingClass='EUR.USD'), time=datetime.datetime(2023, 11, 6, 12, 6, 7, 783637, tzinfo=datetime.timezone.utc), minTick=1e-05, bid=1.07498, bidSize=1000000.0, ask=1.07499, askSize=250000.0, prevBid=1.07499, prevBidSize=2250000.0, prevAsk=1.075, prevAskSize=1250000.0, high=1.0756, low=1.0722, close=1.073, ticks=[TickData(time=datetime.datetime(2023, 11, 6, 12, 6, 7, 783637, tzinfo=datetime.timezone.utc), tickType=3, price=1.07499, size=250000.0)])"
      ]
     },
     "execution_count": 23,
     "metadata": {},
     "output_type": "execute_result"
    }
   ],
   "source": [
    "# Get ticker of the given contract\n",
    "ticker = ib.ticker(contract)\n",
    "ticker"
   ]
  },
  {
   "cell_type": "code",
   "execution_count": 33,
   "id": "35d5fe9d",
   "metadata": {},
   "outputs": [
    {
     "data": {
      "text/plain": [
       "1.07504"
      ]
     },
     "execution_count": 33,
     "metadata": {},
     "output_type": "execute_result"
    }
   ],
   "source": [
    "# See the bid price\n",
    "ticker.bid"
   ]
  },
  {
   "cell_type": "code",
   "execution_count": 34,
   "id": "532f9b2f",
   "metadata": {},
   "outputs": [],
   "source": [
    "# unsubscribe market data\n",
    "ib.cancelMktData(contract)"
   ]
  },
  {
   "cell_type": "code",
   "execution_count": 35,
   "id": "9d7c6340",
   "metadata": {},
   "outputs": [],
   "source": [
    "# disconnect!\n",
    "ib.disconnect()"
   ]
  },
  {
   "cell_type": "markdown",
   "metadata": {},
   "source": [
    "---"
   ]
  },
  {
   "cell_type": "markdown",
   "id": "ddf18e09",
   "metadata": {},
   "source": [
    "# Streaming Tick Data"
   ]
  },
  {
   "cell_type": "code",
   "execution_count": 36,
   "id": "bde78b8f",
   "metadata": {},
   "outputs": [],
   "source": [
    "from ib_insync import *\n",
    "import pandas as pd\n",
    "util.startLoop() \n",
    "ib = IB()"
   ]
  },
  {
   "cell_type": "code",
   "execution_count": 37,
   "id": "37bda241",
   "metadata": {},
   "outputs": [
    {
     "data": {
      "text/plain": [
       "<IB connected to 127.0.0.1:7497 clientId=1>"
      ]
     },
     "execution_count": 37,
     "metadata": {},
     "output_type": "execute_result"
    }
   ],
   "source": [
    "ib.connect()"
   ]
  },
  {
   "cell_type": "code",
   "execution_count": 38,
   "id": "d4d38d92",
   "metadata": {},
   "outputs": [],
   "source": [
    "# Chose the contract\n",
    "contract = Forex('EURUSD')\n",
    "\n",
    "# subscribe to the contract\n",
    "ib.reqMktData(contract)\n",
    "\n",
    "# take the tiker\n",
    "ticker = ib.ticker(contract)"
   ]
  },
  {
   "cell_type": "code",
   "execution_count": 39,
   "id": "75c4477b",
   "metadata": {},
   "outputs": [
    {
     "data": {
      "text/plain": [
       "Ticker(contract=Forex('EURUSD', exchange='IDEALPRO'), time=datetime.datetime(2023, 11, 6, 12, 11, 50, 180856, tzinfo=datetime.timezone.utc), minTick=1e-05, bid=1.07509, bidSize=3000000.0, ask=1.07511, askSize=2000000.0, prevBid=1.0751, prevBidSize=1000000.0, prevAsk=1.0751, prevAskSize=3000000.0, high=1.0756, low=1.0722, close=1.073, ticks=[TickData(time=datetime.datetime(2023, 11, 6, 12, 11, 50, 180856, tzinfo=datetime.timezone.utc), tickType=1, price=1.07509, size=3000000.0), TickData(time=datetime.datetime(2023, 11, 6, 12, 11, 50, 180856, tzinfo=datetime.timezone.utc), tickType=2, price=1.07511, size=2000000.0)])"
      ]
     },
     "execution_count": 39,
     "metadata": {},
     "output_type": "execute_result"
    }
   ],
   "source": [
    "ticker"
   ]
  },
  {
   "cell_type": "code",
   "execution_count": 40,
   "id": "1dda693a",
   "metadata": {},
   "outputs": [],
   "source": [
    "# what shall happen after receiving a new tick\n",
    "# This function catch when we subscribe to a new tiker\n",
    "def onPendingTickers(tickers): \n",
    "    print(\"time: {} | Bid: {} | Ask:{}\".format(ticker.time, ticker.bid, ticker.ask), end = '\\r')"
   ]
  },
  {
   "cell_type": "code",
   "execution_count": 41,
   "id": "f3700b57",
   "metadata": {},
   "outputs": [
    {
     "name": "stdout",
     "output_type": "stream",
     "text": [
      "time: 2023-11-06 12:17:09.498469+00:00 | Bid: 1.07486 | Ask:1.07488\r"
     ]
    }
   ],
   "source": [
    "# activate onPendingTickers\n",
    "ib.pendingTickersEvent += onPendingTickers \n",
    "\n",
    "# see? its updating automatically each change (of bid/ask/etc)!!!"
   ]
  },
  {
   "cell_type": "code",
   "execution_count": 42,
   "id": "de31ca12",
   "metadata": {},
   "outputs": [],
   "source": [
    "# de-activate onPendingTickers\n",
    "ib.pendingTickersEvent -= onPendingTickers "
   ]
  },
  {
   "cell_type": "code",
   "execution_count": 53,
   "id": "49890b53",
   "metadata": {},
   "outputs": [
    {
     "data": {
      "text/plain": [
       "1.07497"
      ]
     },
     "execution_count": 53,
     "metadata": {},
     "output_type": "execute_result"
    }
   ],
   "source": [
    "ticker.bid"
   ]
  },
  {
   "cell_type": "code",
   "execution_count": 54,
   "id": "529a67c4",
   "metadata": {},
   "outputs": [],
   "source": [
    "# Cancel the subscribation to the contract\n",
    "ib.cancelMktData(contract)"
   ]
  },
  {
   "cell_type": "code",
   "execution_count": 55,
   "id": "6ad1f983",
   "metadata": {},
   "outputs": [],
   "source": [
    "ib.disconnect()"
   ]
  },
  {
   "cell_type": "markdown",
   "metadata": {},
   "source": [
    "---"
   ]
  },
  {
   "cell_type": "markdown",
   "id": "2fc65232",
   "metadata": {},
   "source": [
    "# Streaming Tick Data for multiple Symbols"
   ]
  },
  {
   "cell_type": "code",
   "execution_count": 56,
   "id": "3a7103f2",
   "metadata": {},
   "outputs": [],
   "source": [
    "from ib_insync import *\n",
    "import pandas as pd\n",
    "from IPython.display import display, clear_output\n",
    "util.startLoop() \n",
    "ib = IB()"
   ]
  },
  {
   "cell_type": "code",
   "execution_count": 57,
   "id": "92743702",
   "metadata": {},
   "outputs": [
    {
     "data": {
      "text/plain": [
       "<IB connected to 127.0.0.1:7497 clientId=1>"
      ]
     },
     "execution_count": 57,
     "metadata": {},
     "output_type": "execute_result"
    }
   ],
   "source": [
    "ib.connect()"
   ]
  },
  {
   "cell_type": "code",
   "execution_count": 58,
   "id": "2c1309ef",
   "metadata": {},
   "outputs": [
    {
     "data": {
      "text/plain": [
       "[Forex('EURUSD', conId=12087792, exchange='IDEALPRO', localSymbol='EUR.USD', tradingClass='EUR.USD'),\n",
       " Forex('USDJPY', conId=15016059, exchange='IDEALPRO', localSymbol='USD.JPY', tradingClass='USD.JPY'),\n",
       " Forex('GBPUSD', conId=12087797, exchange='IDEALPRO', localSymbol='GBP.USD', tradingClass='GBP.USD'),\n",
       " Forex('USDCHF', conId=12087820, exchange='IDEALPRO', localSymbol='USD.CHF', tradingClass='USD.CHF'),\n",
       " Forex('USDCAD', conId=15016062, exchange='IDEALPRO', localSymbol='USD.CAD', tradingClass='USD.CAD'),\n",
       " Forex('AUDUSD', conId=14433401, exchange='IDEALPRO', localSymbol='AUD.USD', tradingClass='AUD.USD')]"
      ]
     },
     "execution_count": 58,
     "metadata": {},
     "output_type": "execute_result"
    }
   ],
   "source": [
    "contracts = [Forex(pair) for pair in ('EURUSD', 'USDJPY', 'GBPUSD', 'USDCHF', 'USDCAD', 'AUDUSD')]\n",
    "ib.qualifyContracts(*contracts)"
   ]
  },
  {
   "cell_type": "code",
   "execution_count": 59,
   "id": "2b4e0c5b",
   "metadata": {},
   "outputs": [],
   "source": [
    "# Subscribe to each contract\n",
    "for contract in contracts:\n",
    "    ib.reqMktData(contract)"
   ]
  },
  {
   "cell_type": "code",
   "execution_count": 60,
   "id": "fae56e5e",
   "metadata": {},
   "outputs": [
    {
     "data": {
      "text/html": [
       "<div>\n",
       "<style scoped>\n",
       "    .dataframe tbody tr th:only-of-type {\n",
       "        vertical-align: middle;\n",
       "    }\n",
       "\n",
       "    .dataframe tbody tr th {\n",
       "        vertical-align: top;\n",
       "    }\n",
       "\n",
       "    .dataframe thead th {\n",
       "        text-align: right;\n",
       "    }\n",
       "</style>\n",
       "<table border=\"1\" class=\"dataframe\">\n",
       "  <thead>\n",
       "    <tr style=\"text-align: right;\">\n",
       "      <th></th>\n",
       "      <th>bidSize</th>\n",
       "      <th>bid</th>\n",
       "      <th>ask</th>\n",
       "      <th>askSize</th>\n",
       "      <th>high</th>\n",
       "      <th>low</th>\n",
       "      <th>close</th>\n",
       "    </tr>\n",
       "  </thead>\n",
       "  <tbody>\n",
       "    <tr>\n",
       "      <th>EURUSD</th>\n",
       "      <td>NaN</td>\n",
       "      <td>NaN</td>\n",
       "      <td>NaN</td>\n",
       "      <td>NaN</td>\n",
       "      <td>NaN</td>\n",
       "      <td>NaN</td>\n",
       "      <td>NaN</td>\n",
       "    </tr>\n",
       "    <tr>\n",
       "      <th>USDJPY</th>\n",
       "      <td>NaN</td>\n",
       "      <td>NaN</td>\n",
       "      <td>NaN</td>\n",
       "      <td>NaN</td>\n",
       "      <td>NaN</td>\n",
       "      <td>NaN</td>\n",
       "      <td>NaN</td>\n",
       "    </tr>\n",
       "    <tr>\n",
       "      <th>GBPUSD</th>\n",
       "      <td>NaN</td>\n",
       "      <td>NaN</td>\n",
       "      <td>NaN</td>\n",
       "      <td>NaN</td>\n",
       "      <td>NaN</td>\n",
       "      <td>NaN</td>\n",
       "      <td>NaN</td>\n",
       "    </tr>\n",
       "    <tr>\n",
       "      <th>USDCHF</th>\n",
       "      <td>NaN</td>\n",
       "      <td>NaN</td>\n",
       "      <td>NaN</td>\n",
       "      <td>NaN</td>\n",
       "      <td>NaN</td>\n",
       "      <td>NaN</td>\n",
       "      <td>NaN</td>\n",
       "    </tr>\n",
       "    <tr>\n",
       "      <th>USDCAD</th>\n",
       "      <td>NaN</td>\n",
       "      <td>NaN</td>\n",
       "      <td>NaN</td>\n",
       "      <td>NaN</td>\n",
       "      <td>NaN</td>\n",
       "      <td>NaN</td>\n",
       "      <td>NaN</td>\n",
       "    </tr>\n",
       "    <tr>\n",
       "      <th>AUDUSD</th>\n",
       "      <td>NaN</td>\n",
       "      <td>NaN</td>\n",
       "      <td>NaN</td>\n",
       "      <td>NaN</td>\n",
       "      <td>NaN</td>\n",
       "      <td>NaN</td>\n",
       "      <td>NaN</td>\n",
       "    </tr>\n",
       "  </tbody>\n",
       "</table>\n",
       "</div>"
      ],
      "text/plain": [
       "       bidSize  bid  ask askSize high  low close\n",
       "EURUSD     NaN  NaN  NaN     NaN  NaN  NaN   NaN\n",
       "USDJPY     NaN  NaN  NaN     NaN  NaN  NaN   NaN\n",
       "GBPUSD     NaN  NaN  NaN     NaN  NaN  NaN   NaN\n",
       "USDCHF     NaN  NaN  NaN     NaN  NaN  NaN   NaN\n",
       "USDCAD     NaN  NaN  NaN     NaN  NaN  NaN   NaN\n",
       "AUDUSD     NaN  NaN  NaN     NaN  NaN  NaN   NaN"
      ]
     },
     "execution_count": 60,
     "metadata": {},
     "output_type": "execute_result"
    }
   ],
   "source": [
    "df = pd.DataFrame(\n",
    "    index=[c.pair() for c in contracts],\n",
    "    columns=['bidSize', 'bid', 'ask', 'askSize', 'high', 'low', 'close'])\n",
    "df"
   ]
  },
  {
   "cell_type": "code",
   "execution_count": 61,
   "id": "009763c5",
   "metadata": {},
   "outputs": [],
   "source": [
    "def onPendingTickers(tickers): # what shall happen after receiving a new tick\n",
    "    for t in tickers:\n",
    "        df.loc[t.contract.pair()] = (\n",
    "            t.bidSize, t.bid, t.ask, t.askSize, t.high, t.low, t.close)\n",
    "        clear_output(wait=True)\n",
    "    display(df) "
   ]
  },
  {
   "cell_type": "code",
   "execution_count": null,
   "id": "1edb91f7",
   "metadata": {},
   "outputs": [
    {
     "data": {
      "text/html": [
       "<div>\n",
       "<style scoped>\n",
       "    .dataframe tbody tr th:only-of-type {\n",
       "        vertical-align: middle;\n",
       "    }\n",
       "\n",
       "    .dataframe tbody tr th {\n",
       "        vertical-align: top;\n",
       "    }\n",
       "\n",
       "    .dataframe thead th {\n",
       "        text-align: right;\n",
       "    }\n",
       "</style>\n",
       "<table border=\"1\" class=\"dataframe\">\n",
       "  <thead>\n",
       "    <tr style=\"text-align: right;\">\n",
       "      <th></th>\n",
       "      <th>bidSize</th>\n",
       "      <th>bid</th>\n",
       "      <th>ask</th>\n",
       "      <th>askSize</th>\n",
       "      <th>high</th>\n",
       "      <th>low</th>\n",
       "      <th>close</th>\n",
       "    </tr>\n",
       "  </thead>\n",
       "  <tbody>\n",
       "    <tr>\n",
       "      <th>EURUSD</th>\n",
       "      <td>3500000.0</td>\n",
       "      <td>1.0749</td>\n",
       "      <td>1.07493</td>\n",
       "      <td>4500000.0</td>\n",
       "      <td>1.0756</td>\n",
       "      <td>1.0722</td>\n",
       "      <td>1.073</td>\n",
       "    </tr>\n",
       "    <tr>\n",
       "      <th>USDJPY</th>\n",
       "      <td>3000000.0</td>\n",
       "      <td>149.634</td>\n",
       "      <td>149.635</td>\n",
       "      <td>1000000.0</td>\n",
       "      <td>149.74</td>\n",
       "      <td>149.355</td>\n",
       "      <td>149.38</td>\n",
       "    </tr>\n",
       "    <tr>\n",
       "      <th>GBPUSD</th>\n",
       "      <td>3000000.0</td>\n",
       "      <td>1.24225</td>\n",
       "      <td>1.24229</td>\n",
       "      <td>1000000.0</td>\n",
       "      <td>1.24285</td>\n",
       "      <td>1.2365</td>\n",
       "      <td>1.2379</td>\n",
       "    </tr>\n",
       "    <tr>\n",
       "      <th>USDCHF</th>\n",
       "      <td>1000000.0</td>\n",
       "      <td>0.89768</td>\n",
       "      <td>0.89772</td>\n",
       "      <td>2000000.0</td>\n",
       "      <td>0.89965</td>\n",
       "      <td>0.8954</td>\n",
       "      <td>0.89915</td>\n",
       "    </tr>\n",
       "    <tr>\n",
       "      <th>USDCAD</th>\n",
       "      <td>1000000.0</td>\n",
       "      <td>1.36456</td>\n",
       "      <td>1.36459</td>\n",
       "      <td>1000000.0</td>\n",
       "      <td>1.3667</td>\n",
       "      <td>1.36295</td>\n",
       "      <td>1.3658</td>\n",
       "    </tr>\n",
       "    <tr>\n",
       "      <th>AUDUSD</th>\n",
       "      <td>3000000.0</td>\n",
       "      <td>0.65056</td>\n",
       "      <td>0.6506</td>\n",
       "      <td>5000000.0</td>\n",
       "      <td>0.6523</td>\n",
       "      <td>0.65035</td>\n",
       "      <td>0.65135</td>\n",
       "    </tr>\n",
       "  </tbody>\n",
       "</table>\n",
       "</div>"
      ],
      "text/plain": [
       "          bidSize      bid      ask    askSize     high      low    close\n",
       "EURUSD  3500000.0   1.0749  1.07493  4500000.0   1.0756   1.0722    1.073\n",
       "USDJPY  3000000.0  149.634  149.635  1000000.0   149.74  149.355   149.38\n",
       "GBPUSD  3000000.0  1.24225  1.24229  1000000.0  1.24285   1.2365   1.2379\n",
       "USDCHF  1000000.0  0.89768  0.89772  2000000.0  0.89965   0.8954  0.89915\n",
       "USDCAD  1000000.0  1.36456  1.36459  1000000.0   1.3667  1.36295   1.3658\n",
       "AUDUSD  3000000.0  0.65056   0.6506  5000000.0   0.6523  0.65035  0.65135"
      ]
     },
     "metadata": {},
     "output_type": "display_data"
    }
   ],
   "source": [
    "ib.pendingTickersEvent += onPendingTickers # activate onPendingTickers"
   ]
  },
  {
   "cell_type": "code",
   "execution_count": 63,
   "id": "4375f9d8",
   "metadata": {},
   "outputs": [],
   "source": [
    "ib.pendingTickersEvent -= onPendingTickers # de-activate onPendingTickers"
   ]
  },
  {
   "cell_type": "code",
   "execution_count": 64,
   "id": "909854de",
   "metadata": {},
   "outputs": [],
   "source": [
    "for contract in contracts:\n",
    "    ib.cancelMktData(contract)"
   ]
  },
  {
   "cell_type": "code",
   "execution_count": 80,
   "id": "4525eacd",
   "metadata": {},
   "outputs": [],
   "source": [
    "ib.disconnect()"
   ]
  },
  {
   "cell_type": "code",
   "execution_count": null,
   "id": "43302e4f",
   "metadata": {},
   "outputs": [],
   "source": []
  },
  {
   "cell_type": "markdown",
   "id": "e6766699",
   "metadata": {},
   "source": [
    "## Streaming Real Time Bars (and Historical)"
   ]
  },
  {
   "cell_type": "markdown",
   "id": "71a92b8a",
   "metadata": {},
   "source": [
    "- Trading Stratgies use bar data (uniform time periods with ohlc data), not tick data (non-constant frequency, based on trades and quotes)\n",
    "- An SMA Crossover 50/200 (days) Strategy works with daily bars.\n",
    "- Day Trading Strategies are based on e.g. [1min, 5min, 20min, 1h, 3h, 6h] bars\n",
    "- Bar Size / Frequency itself is a Strategy Parameter (to be optimized)"
   ]
  },
  {
   "cell_type": "code",
   "execution_count": 1,
   "id": "8b95f649",
   "metadata": {},
   "outputs": [],
   "source": [
    "from ib_insync import *\n",
    "import pandas as pd\n",
    "import matplotlib.pyplot as plt\n",
    "from IPython.display import display, clear_output\n",
    "util.startLoop() "
   ]
  },
  {
   "cell_type": "code",
   "execution_count": 2,
   "id": "41e4a270",
   "metadata": {},
   "outputs": [
    {
     "data": {
      "text/plain": [
       "<IB connected to 127.0.0.1:7497 clientId=1>"
      ]
     },
     "execution_count": 2,
     "metadata": {},
     "output_type": "execute_result"
    }
   ],
   "source": [
    "ib = IB()\n",
    "ib.connect()"
   ]
  },
  {
   "cell_type": "code",
   "execution_count": 3,
   "id": "9b9d1c76",
   "metadata": {},
   "outputs": [
    {
     "data": {
      "text/plain": [
       "Forex('EURUSD', exchange='IDEALPRO')"
      ]
     },
     "execution_count": 3,
     "metadata": {},
     "output_type": "execute_result"
    }
   ],
   "source": [
    "contract = Forex('EURUSD')\n",
    "contract"
   ]
  },
  {
   "cell_type": "markdown",
   "id": "da9aaccb",
   "metadata": {},
   "source": [
    "__durationStr__: Time span of all the bars. Examples:\n",
    "        __'60 S', '30 D', '13 W', '6 M', '10 Y'__."
   ]
  },
  {
   "cell_type": "markdown",
   "id": "3a0574a6",
   "metadata": {},
   "source": [
    "__barSizeSetting__: Time period of one bar. Must be one of: <br>\n",
    "        __'1 secs', '5 secs', '10 secs' 15 secs', '30 secs',\n",
    "        '1 min', '2 mins', '3 mins', '5 mins', '10 mins', '15 mins',\n",
    "        '20 mins', '30 mins',\n",
    "        '1 hour', '2 hours', '3 hours', '4 hours', '8 hours',\n",
    "        '1 day', '1 week', '1 month'__."
   ]
  },
  {
   "cell_type": "code",
   "execution_count": 14,
   "id": "f7466dd3",
   "metadata": {},
   "outputs": [],
   "source": [
    "# Get historical data\n",
    "bars = ib.reqHistoricalData(\n",
    "        contract, # the instument(s) that intrested \n",
    "        endDateTime='',\n",
    "        durationStr='100 S', # historical period\n",
    "        barSizeSetting='10 secs', # frequency\n",
    "        whatToShow='MIDPOINT', \n",
    "        useRTH=True,\n",
    "        formatDate=2,\n",
    "        keepUpToDate=True)"
   ]
  },
  {
   "cell_type": "code",
   "execution_count": 15,
   "id": "4974c543",
   "metadata": {},
   "outputs": [
    {
     "data": {
      "text/plain": [
       "[BarData(date=datetime.datetime(2023, 11, 6, 13, 22, 10, tzinfo=datetime.timezone.utc), open=1.07408, high=1.07408, low=1.073995, close=1.074055, volume=-1.0, average=-1.0, barCount=-1),\n",
       " BarData(date=datetime.datetime(2023, 11, 6, 13, 22, 20, tzinfo=datetime.timezone.utc), open=1.074055, high=1.074085, low=1.074005, close=1.07402, volume=-1.0, average=-1.0, barCount=-1),\n",
       " BarData(date=datetime.datetime(2023, 11, 6, 13, 22, 30, tzinfo=datetime.timezone.utc), open=1.07402, high=1.074085, low=1.07402, close=1.074075, volume=-1.0, average=-1.0, barCount=-1),\n",
       " BarData(date=datetime.datetime(2023, 11, 6, 13, 22, 40, tzinfo=datetime.timezone.utc), open=1.074075, high=1.07415, low=1.074075, close=1.07415, volume=-1.0, average=-1.0, barCount=-1),\n",
       " BarData(date=datetime.datetime(2023, 11, 6, 13, 22, 50, tzinfo=datetime.timezone.utc), open=1.07415, high=1.07415, low=1.074085, close=1.07409, volume=-1.0, average=-1.0, barCount=-1),\n",
       " BarData(date=datetime.datetime(2023, 11, 6, 13, 23, tzinfo=datetime.timezone.utc), open=1.07409, high=1.07409, low=1.074045, close=1.074055, volume=-1.0, average=-1.0, barCount=-1),\n",
       " BarData(date=datetime.datetime(2023, 11, 6, 13, 23, 10, tzinfo=datetime.timezone.utc), open=1.074055, high=1.07417, low=1.07405, close=1.07417, volume=-1.0, average=-1.0, barCount=-1),\n",
       " BarData(date=datetime.datetime(2023, 11, 6, 13, 23, 20, tzinfo=datetime.timezone.utc), open=1.07417, high=1.074335, low=1.07417, close=1.074325, volume=-1.0, average=-1.0, barCount=-1),\n",
       " BarData(date=datetime.datetime(2023, 11, 6, 13, 23, 30, tzinfo=datetime.timezone.utc), open=1.074325, high=1.07439, low=1.07432, close=1.07439, volume=-1.0, average=-1.0, barCount=-1),\n",
       " BarData(date=datetime.datetime(2023, 11, 6, 13, 23, 40, tzinfo=datetime.timezone.utc), open=1.07439, high=1.074395, low=1.07436, close=1.07436, volume=-1.0, average=-1.0, barCount=-1),\n",
       " BarData(date=datetime.datetime(2023, 11, 6, 13, 23, 50, tzinfo=datetime.timezone.utc), open=1.07436, high=1.07439, low=1.074355, close=1.07437, volume=-1.0, average=-1.0, barCount=-1),\n",
       " BarData(date=datetime.datetime(2023, 11, 6, 13, 24, tzinfo=datetime.timezone.utc), open=1.07436, high=1.07436, low=1.07436, close=1.07436, volume=-1.0, average=-1.0, barCount=-1)]"
      ]
     },
     "execution_count": 15,
     "metadata": {},
     "output_type": "execute_result"
    }
   ],
   "source": [
    "bars"
   ]
  },
  {
   "cell_type": "code",
   "execution_count": 16,
   "id": "1c79853d",
   "metadata": {},
   "outputs": [
    {
     "data": {
      "text/html": [
       "<div>\n",
       "<style scoped>\n",
       "    .dataframe tbody tr th:only-of-type {\n",
       "        vertical-align: middle;\n",
       "    }\n",
       "\n",
       "    .dataframe tbody tr th {\n",
       "        vertical-align: top;\n",
       "    }\n",
       "\n",
       "    .dataframe thead th {\n",
       "        text-align: right;\n",
       "    }\n",
       "</style>\n",
       "<table border=\"1\" class=\"dataframe\">\n",
       "  <thead>\n",
       "    <tr style=\"text-align: right;\">\n",
       "      <th></th>\n",
       "      <th>date</th>\n",
       "      <th>open</th>\n",
       "      <th>high</th>\n",
       "      <th>low</th>\n",
       "      <th>close</th>\n",
       "      <th>volume</th>\n",
       "      <th>average</th>\n",
       "      <th>barCount</th>\n",
       "    </tr>\n",
       "  </thead>\n",
       "  <tbody>\n",
       "    <tr>\n",
       "      <th>0</th>\n",
       "      <td>2023-11-06 13:22:10+00:00</td>\n",
       "      <td>1.074080</td>\n",
       "      <td>1.074080</td>\n",
       "      <td>1.073995</td>\n",
       "      <td>1.074055</td>\n",
       "      <td>-1.0</td>\n",
       "      <td>-1.0</td>\n",
       "      <td>-1</td>\n",
       "    </tr>\n",
       "    <tr>\n",
       "      <th>1</th>\n",
       "      <td>2023-11-06 13:22:20+00:00</td>\n",
       "      <td>1.074055</td>\n",
       "      <td>1.074085</td>\n",
       "      <td>1.074005</td>\n",
       "      <td>1.074020</td>\n",
       "      <td>-1.0</td>\n",
       "      <td>-1.0</td>\n",
       "      <td>-1</td>\n",
       "    </tr>\n",
       "    <tr>\n",
       "      <th>2</th>\n",
       "      <td>2023-11-06 13:22:30+00:00</td>\n",
       "      <td>1.074020</td>\n",
       "      <td>1.074085</td>\n",
       "      <td>1.074020</td>\n",
       "      <td>1.074075</td>\n",
       "      <td>-1.0</td>\n",
       "      <td>-1.0</td>\n",
       "      <td>-1</td>\n",
       "    </tr>\n",
       "    <tr>\n",
       "      <th>3</th>\n",
       "      <td>2023-11-06 13:22:40+00:00</td>\n",
       "      <td>1.074075</td>\n",
       "      <td>1.074150</td>\n",
       "      <td>1.074075</td>\n",
       "      <td>1.074150</td>\n",
       "      <td>-1.0</td>\n",
       "      <td>-1.0</td>\n",
       "      <td>-1</td>\n",
       "    </tr>\n",
       "    <tr>\n",
       "      <th>4</th>\n",
       "      <td>2023-11-06 13:22:50+00:00</td>\n",
       "      <td>1.074150</td>\n",
       "      <td>1.074150</td>\n",
       "      <td>1.074085</td>\n",
       "      <td>1.074090</td>\n",
       "      <td>-1.0</td>\n",
       "      <td>-1.0</td>\n",
       "      <td>-1</td>\n",
       "    </tr>\n",
       "    <tr>\n",
       "      <th>5</th>\n",
       "      <td>2023-11-06 13:23:00+00:00</td>\n",
       "      <td>1.074090</td>\n",
       "      <td>1.074090</td>\n",
       "      <td>1.074045</td>\n",
       "      <td>1.074055</td>\n",
       "      <td>-1.0</td>\n",
       "      <td>-1.0</td>\n",
       "      <td>-1</td>\n",
       "    </tr>\n",
       "    <tr>\n",
       "      <th>6</th>\n",
       "      <td>2023-11-06 13:23:10+00:00</td>\n",
       "      <td>1.074055</td>\n",
       "      <td>1.074170</td>\n",
       "      <td>1.074050</td>\n",
       "      <td>1.074170</td>\n",
       "      <td>-1.0</td>\n",
       "      <td>-1.0</td>\n",
       "      <td>-1</td>\n",
       "    </tr>\n",
       "    <tr>\n",
       "      <th>7</th>\n",
       "      <td>2023-11-06 13:23:20+00:00</td>\n",
       "      <td>1.074170</td>\n",
       "      <td>1.074335</td>\n",
       "      <td>1.074170</td>\n",
       "      <td>1.074325</td>\n",
       "      <td>-1.0</td>\n",
       "      <td>-1.0</td>\n",
       "      <td>-1</td>\n",
       "    </tr>\n",
       "    <tr>\n",
       "      <th>8</th>\n",
       "      <td>2023-11-06 13:23:30+00:00</td>\n",
       "      <td>1.074325</td>\n",
       "      <td>1.074390</td>\n",
       "      <td>1.074320</td>\n",
       "      <td>1.074390</td>\n",
       "      <td>-1.0</td>\n",
       "      <td>-1.0</td>\n",
       "      <td>-1</td>\n",
       "    </tr>\n",
       "    <tr>\n",
       "      <th>9</th>\n",
       "      <td>2023-11-06 13:23:40+00:00</td>\n",
       "      <td>1.074390</td>\n",
       "      <td>1.074395</td>\n",
       "      <td>1.074360</td>\n",
       "      <td>1.074360</td>\n",
       "      <td>-1.0</td>\n",
       "      <td>-1.0</td>\n",
       "      <td>-1</td>\n",
       "    </tr>\n",
       "    <tr>\n",
       "      <th>10</th>\n",
       "      <td>2023-11-06 13:23:50+00:00</td>\n",
       "      <td>1.074360</td>\n",
       "      <td>1.074390</td>\n",
       "      <td>1.074355</td>\n",
       "      <td>1.074370</td>\n",
       "      <td>-1.0</td>\n",
       "      <td>-1.0</td>\n",
       "      <td>-1</td>\n",
       "    </tr>\n",
       "    <tr>\n",
       "      <th>11</th>\n",
       "      <td>2023-11-06 13:24:00+00:00</td>\n",
       "      <td>1.074370</td>\n",
       "      <td>1.074390</td>\n",
       "      <td>1.074360</td>\n",
       "      <td>1.074360</td>\n",
       "      <td>-1.0</td>\n",
       "      <td>-1.0</td>\n",
       "      <td>-1</td>\n",
       "    </tr>\n",
       "  </tbody>\n",
       "</table>\n",
       "</div>"
      ],
      "text/plain": [
       "                        date      open      high       low     close  volume  \\\n",
       "0  2023-11-06 13:22:10+00:00  1.074080  1.074080  1.073995  1.074055    -1.0   \n",
       "1  2023-11-06 13:22:20+00:00  1.074055  1.074085  1.074005  1.074020    -1.0   \n",
       "2  2023-11-06 13:22:30+00:00  1.074020  1.074085  1.074020  1.074075    -1.0   \n",
       "3  2023-11-06 13:22:40+00:00  1.074075  1.074150  1.074075  1.074150    -1.0   \n",
       "4  2023-11-06 13:22:50+00:00  1.074150  1.074150  1.074085  1.074090    -1.0   \n",
       "5  2023-11-06 13:23:00+00:00  1.074090  1.074090  1.074045  1.074055    -1.0   \n",
       "6  2023-11-06 13:23:10+00:00  1.074055  1.074170  1.074050  1.074170    -1.0   \n",
       "7  2023-11-06 13:23:20+00:00  1.074170  1.074335  1.074170  1.074325    -1.0   \n",
       "8  2023-11-06 13:23:30+00:00  1.074325  1.074390  1.074320  1.074390    -1.0   \n",
       "9  2023-11-06 13:23:40+00:00  1.074390  1.074395  1.074360  1.074360    -1.0   \n",
       "10 2023-11-06 13:23:50+00:00  1.074360  1.074390  1.074355  1.074370    -1.0   \n",
       "11 2023-11-06 13:24:00+00:00  1.074370  1.074390  1.074360  1.074360    -1.0   \n",
       "\n",
       "    average  barCount  \n",
       "0      -1.0        -1  \n",
       "1      -1.0        -1  \n",
       "2      -1.0        -1  \n",
       "3      -1.0        -1  \n",
       "4      -1.0        -1  \n",
       "5      -1.0        -1  \n",
       "6      -1.0        -1  \n",
       "7      -1.0        -1  \n",
       "8      -1.0        -1  \n",
       "9      -1.0        -1  \n",
       "10     -1.0        -1  \n",
       "11     -1.0        -1  "
      ]
     },
     "execution_count": 16,
     "metadata": {},
     "output_type": "execute_result"
    }
   ],
   "source": [
    "pd.DataFrame(bars)"
   ]
  },
  {
   "cell_type": "code",
   "execution_count": null,
   "id": "8ff6d024",
   "metadata": {},
   "outputs": [
    {
     "name": "stderr",
     "output_type": "stream",
     "text": [
      "Error 162, reqId 21: Historical Market Data Service error message:API historical data query cancelled: 21\n"
     ]
    }
   ],
   "source": [
    "# cancel subscription\n",
    "ib.cancelHistoricalData(bars) "
   ]
  },
  {
   "cell_type": "code",
   "execution_count": 17,
   "id": "8e668cef",
   "metadata": {},
   "outputs": [],
   "source": [
    " # what shall happen after receiving a new bar\n",
    "def onBarUpdate(bars, hasNewBar): \n",
    "    df = pd.DataFrame(bars)[[\"date\", \"open\", \"high\", \"low\", \"close\"]]\n",
    "    df.set_index(\"date\", inplace = True)\n",
    "    clear_output(wait=True)\n",
    "    display(df)"
   ]
  },
  {
   "cell_type": "code",
   "execution_count": 23,
   "id": "cae32efd",
   "metadata": {},
   "outputs": [],
   "source": [
    "# start stream\n",
    "bars = ib.reqHistoricalData(\n",
    "        contract,\n",
    "        endDateTime='',\n",
    "        durationStr='50 S',\n",
    "        barSizeSetting='5 secs',\n",
    "        whatToShow='MIDPOINT',\n",
    "        useRTH=True,\n",
    "        formatDate=2,\n",
    "        keepUpToDate=True)"
   ]
  },
  {
   "cell_type": "code",
   "execution_count": 24,
   "id": "48c10737",
   "metadata": {},
   "outputs": [
    {
     "data": {
      "text/html": [
       "<div>\n",
       "<style scoped>\n",
       "    .dataframe tbody tr th:only-of-type {\n",
       "        vertical-align: middle;\n",
       "    }\n",
       "\n",
       "    .dataframe tbody tr th {\n",
       "        vertical-align: top;\n",
       "    }\n",
       "\n",
       "    .dataframe thead th {\n",
       "        text-align: right;\n",
       "    }\n",
       "</style>\n",
       "<table border=\"1\" class=\"dataframe\">\n",
       "  <thead>\n",
       "    <tr style=\"text-align: right;\">\n",
       "      <th></th>\n",
       "      <th>open</th>\n",
       "      <th>high</th>\n",
       "      <th>low</th>\n",
       "      <th>close</th>\n",
       "    </tr>\n",
       "    <tr>\n",
       "      <th>date</th>\n",
       "      <th></th>\n",
       "      <th></th>\n",
       "      <th></th>\n",
       "      <th></th>\n",
       "    </tr>\n",
       "  </thead>\n",
       "  <tbody>\n",
       "    <tr>\n",
       "      <th>2023-11-06 13:29:01+00:00</th>\n",
       "      <td>1.074055</td>\n",
       "      <td>1.074055</td>\n",
       "      <td>1.074045</td>\n",
       "      <td>1.074045</td>\n",
       "    </tr>\n",
       "    <tr>\n",
       "      <th>2023-11-06 13:29:02+00:00</th>\n",
       "      <td>1.074045</td>\n",
       "      <td>1.074045</td>\n",
       "      <td>1.074005</td>\n",
       "      <td>1.074005</td>\n",
       "    </tr>\n",
       "    <tr>\n",
       "      <th>2023-11-06 13:29:03+00:00</th>\n",
       "      <td>1.074005</td>\n",
       "      <td>1.074005</td>\n",
       "      <td>1.074000</td>\n",
       "      <td>1.074000</td>\n",
       "    </tr>\n",
       "    <tr>\n",
       "      <th>2023-11-06 13:29:04+00:00</th>\n",
       "      <td>1.074000</td>\n",
       "      <td>1.074000</td>\n",
       "      <td>1.073995</td>\n",
       "      <td>1.073995</td>\n",
       "    </tr>\n",
       "    <tr>\n",
       "      <th>2023-11-06 13:29:05+00:00</th>\n",
       "      <td>1.073995</td>\n",
       "      <td>1.074025</td>\n",
       "      <td>1.073995</td>\n",
       "      <td>1.074015</td>\n",
       "    </tr>\n",
       "    <tr>\n",
       "      <th>2023-11-06 13:29:06+00:00</th>\n",
       "      <td>1.074015</td>\n",
       "      <td>1.074015</td>\n",
       "      <td>1.074015</td>\n",
       "      <td>1.074015</td>\n",
       "    </tr>\n",
       "    <tr>\n",
       "      <th>2023-11-06 13:29:07+00:00</th>\n",
       "      <td>1.074015</td>\n",
       "      <td>1.074015</td>\n",
       "      <td>1.074010</td>\n",
       "      <td>1.074010</td>\n",
       "    </tr>\n",
       "    <tr>\n",
       "      <th>2023-11-06 13:29:08+00:00</th>\n",
       "      <td>1.074010</td>\n",
       "      <td>1.074050</td>\n",
       "      <td>1.074010</td>\n",
       "      <td>1.074030</td>\n",
       "    </tr>\n",
       "    <tr>\n",
       "      <th>2023-11-06 13:29:09+00:00</th>\n",
       "      <td>1.074030</td>\n",
       "      <td>1.074055</td>\n",
       "      <td>1.074030</td>\n",
       "      <td>1.074055</td>\n",
       "    </tr>\n",
       "    <tr>\n",
       "      <th>2023-11-06 13:29:10+00:00</th>\n",
       "      <td>1.074055</td>\n",
       "      <td>1.074095</td>\n",
       "      <td>1.074055</td>\n",
       "      <td>1.074095</td>\n",
       "    </tr>\n",
       "    <tr>\n",
       "      <th>2023-11-06 13:29:11+00:00</th>\n",
       "      <td>1.074095</td>\n",
       "      <td>1.074105</td>\n",
       "      <td>1.074090</td>\n",
       "      <td>1.074105</td>\n",
       "    </tr>\n",
       "    <tr>\n",
       "      <th>2023-11-06 13:29:12+00:00</th>\n",
       "      <td>1.074105</td>\n",
       "      <td>1.074105</td>\n",
       "      <td>1.074060</td>\n",
       "      <td>1.074060</td>\n",
       "    </tr>\n",
       "    <tr>\n",
       "      <th>2023-11-06 13:29:13+00:00</th>\n",
       "      <td>1.074060</td>\n",
       "      <td>1.074060</td>\n",
       "      <td>1.074050</td>\n",
       "      <td>1.074055</td>\n",
       "    </tr>\n",
       "    <tr>\n",
       "      <th>2023-11-06 13:29:14+00:00</th>\n",
       "      <td>1.074055</td>\n",
       "      <td>1.074055</td>\n",
       "      <td>1.074050</td>\n",
       "      <td>1.074050</td>\n",
       "    </tr>\n",
       "    <tr>\n",
       "      <th>2023-11-06 13:29:15+00:00</th>\n",
       "      <td>1.074050</td>\n",
       "      <td>1.074055</td>\n",
       "      <td>1.074050</td>\n",
       "      <td>1.074055</td>\n",
       "    </tr>\n",
       "    <tr>\n",
       "      <th>2023-11-06 13:29:16+00:00</th>\n",
       "      <td>1.074055</td>\n",
       "      <td>1.074055</td>\n",
       "      <td>1.074055</td>\n",
       "      <td>1.074055</td>\n",
       "    </tr>\n",
       "    <tr>\n",
       "      <th>2023-11-06 13:29:17+00:00</th>\n",
       "      <td>1.074055</td>\n",
       "      <td>1.074055</td>\n",
       "      <td>1.074050</td>\n",
       "      <td>1.074050</td>\n",
       "    </tr>\n",
       "    <tr>\n",
       "      <th>2023-11-06 13:29:18+00:00</th>\n",
       "      <td>1.074050</td>\n",
       "      <td>1.074055</td>\n",
       "      <td>1.074050</td>\n",
       "      <td>1.074055</td>\n",
       "    </tr>\n",
       "    <tr>\n",
       "      <th>2023-11-06 13:29:19+00:00</th>\n",
       "      <td>1.074055</td>\n",
       "      <td>1.074055</td>\n",
       "      <td>1.074055</td>\n",
       "      <td>1.074055</td>\n",
       "    </tr>\n",
       "    <tr>\n",
       "      <th>2023-11-06 13:29:20+00:00</th>\n",
       "      <td>1.074055</td>\n",
       "      <td>1.074055</td>\n",
       "      <td>1.074055</td>\n",
       "      <td>1.074055</td>\n",
       "    </tr>\n",
       "    <tr>\n",
       "      <th>2023-11-06 13:29:21+00:00</th>\n",
       "      <td>1.074055</td>\n",
       "      <td>1.074065</td>\n",
       "      <td>1.074055</td>\n",
       "      <td>1.074055</td>\n",
       "    </tr>\n",
       "    <tr>\n",
       "      <th>2023-11-06 13:29:22+00:00</th>\n",
       "      <td>1.074055</td>\n",
       "      <td>1.074055</td>\n",
       "      <td>1.074055</td>\n",
       "      <td>1.074055</td>\n",
       "    </tr>\n",
       "    <tr>\n",
       "      <th>2023-11-06 13:29:23+00:00</th>\n",
       "      <td>1.074055</td>\n",
       "      <td>1.074055</td>\n",
       "      <td>1.074055</td>\n",
       "      <td>1.074055</td>\n",
       "    </tr>\n",
       "    <tr>\n",
       "      <th>2023-11-06 13:29:24+00:00</th>\n",
       "      <td>1.074055</td>\n",
       "      <td>1.074055</td>\n",
       "      <td>1.074055</td>\n",
       "      <td>1.074055</td>\n",
       "    </tr>\n",
       "    <tr>\n",
       "      <th>2023-11-06 13:29:25+00:00</th>\n",
       "      <td>1.074055</td>\n",
       "      <td>1.074055</td>\n",
       "      <td>1.074055</td>\n",
       "      <td>1.074055</td>\n",
       "    </tr>\n",
       "    <tr>\n",
       "      <th>2023-11-06 13:29:26+00:00</th>\n",
       "      <td>1.074055</td>\n",
       "      <td>1.074055</td>\n",
       "      <td>1.074055</td>\n",
       "      <td>1.074055</td>\n",
       "    </tr>\n",
       "    <tr>\n",
       "      <th>2023-11-06 13:29:27+00:00</th>\n",
       "      <td>1.074055</td>\n",
       "      <td>1.074055</td>\n",
       "      <td>1.074055</td>\n",
       "      <td>1.074055</td>\n",
       "    </tr>\n",
       "    <tr>\n",
       "      <th>2023-11-06 13:29:28+00:00</th>\n",
       "      <td>1.074055</td>\n",
       "      <td>1.074055</td>\n",
       "      <td>1.074055</td>\n",
       "      <td>1.074055</td>\n",
       "    </tr>\n",
       "    <tr>\n",
       "      <th>2023-11-06 13:29:29+00:00</th>\n",
       "      <td>1.074055</td>\n",
       "      <td>1.074065</td>\n",
       "      <td>1.074055</td>\n",
       "      <td>1.074065</td>\n",
       "    </tr>\n",
       "    <tr>\n",
       "      <th>2023-11-06 13:29:30+00:00</th>\n",
       "      <td>1.074065</td>\n",
       "      <td>1.074070</td>\n",
       "      <td>1.074065</td>\n",
       "      <td>1.074065</td>\n",
       "    </tr>\n",
       "    <tr>\n",
       "      <th>2023-11-06 13:29:31+00:00</th>\n",
       "      <td>1.074065</td>\n",
       "      <td>1.074065</td>\n",
       "      <td>1.074050</td>\n",
       "      <td>1.074050</td>\n",
       "    </tr>\n",
       "    <tr>\n",
       "      <th>2023-11-06 13:29:32+00:00</th>\n",
       "      <td>1.074050</td>\n",
       "      <td>1.074050</td>\n",
       "      <td>1.074000</td>\n",
       "      <td>1.074000</td>\n",
       "    </tr>\n",
       "    <tr>\n",
       "      <th>2023-11-06 13:29:33+00:00</th>\n",
       "      <td>1.074000</td>\n",
       "      <td>1.074010</td>\n",
       "      <td>1.074000</td>\n",
       "      <td>1.074010</td>\n",
       "    </tr>\n",
       "    <tr>\n",
       "      <th>2023-11-06 13:29:34+00:00</th>\n",
       "      <td>1.074010</td>\n",
       "      <td>1.074010</td>\n",
       "      <td>1.074005</td>\n",
       "      <td>1.074005</td>\n",
       "    </tr>\n",
       "    <tr>\n",
       "      <th>2023-11-06 13:29:35+00:00</th>\n",
       "      <td>1.074005</td>\n",
       "      <td>1.074005</td>\n",
       "      <td>1.074000</td>\n",
       "      <td>1.074000</td>\n",
       "    </tr>\n",
       "    <tr>\n",
       "      <th>2023-11-06 13:29:36+00:00</th>\n",
       "      <td>1.074000</td>\n",
       "      <td>1.074000</td>\n",
       "      <td>1.074000</td>\n",
       "      <td>1.074000</td>\n",
       "    </tr>\n",
       "    <tr>\n",
       "      <th>2023-11-06 13:29:37+00:00</th>\n",
       "      <td>1.074000</td>\n",
       "      <td>1.074000</td>\n",
       "      <td>1.074000</td>\n",
       "      <td>1.074000</td>\n",
       "    </tr>\n",
       "    <tr>\n",
       "      <th>2023-11-06 13:29:38+00:00</th>\n",
       "      <td>1.074000</td>\n",
       "      <td>1.074005</td>\n",
       "      <td>1.073955</td>\n",
       "      <td>1.073965</td>\n",
       "    </tr>\n",
       "    <tr>\n",
       "      <th>2023-11-06 13:29:39+00:00</th>\n",
       "      <td>1.073965</td>\n",
       "      <td>1.073965</td>\n",
       "      <td>1.073965</td>\n",
       "      <td>1.073965</td>\n",
       "    </tr>\n",
       "    <tr>\n",
       "      <th>2023-11-06 13:29:40+00:00</th>\n",
       "      <td>1.073965</td>\n",
       "      <td>1.074000</td>\n",
       "      <td>1.073965</td>\n",
       "      <td>1.074000</td>\n",
       "    </tr>\n",
       "    <tr>\n",
       "      <th>2023-11-06 13:29:41+00:00</th>\n",
       "      <td>1.074000</td>\n",
       "      <td>1.074000</td>\n",
       "      <td>1.074000</td>\n",
       "      <td>1.074000</td>\n",
       "    </tr>\n",
       "    <tr>\n",
       "      <th>2023-11-06 13:29:42+00:00</th>\n",
       "      <td>1.074000</td>\n",
       "      <td>1.074000</td>\n",
       "      <td>1.074000</td>\n",
       "      <td>1.074000</td>\n",
       "    </tr>\n",
       "    <tr>\n",
       "      <th>2023-11-06 13:29:43+00:00</th>\n",
       "      <td>1.074000</td>\n",
       "      <td>1.074000</td>\n",
       "      <td>1.073960</td>\n",
       "      <td>1.073975</td>\n",
       "    </tr>\n",
       "    <tr>\n",
       "      <th>2023-11-06 13:29:44+00:00</th>\n",
       "      <td>1.073975</td>\n",
       "      <td>1.073975</td>\n",
       "      <td>1.073965</td>\n",
       "      <td>1.073965</td>\n",
       "    </tr>\n",
       "    <tr>\n",
       "      <th>2023-11-06 13:29:45+00:00</th>\n",
       "      <td>1.073965</td>\n",
       "      <td>1.073975</td>\n",
       "      <td>1.073965</td>\n",
       "      <td>1.073975</td>\n",
       "    </tr>\n",
       "    <tr>\n",
       "      <th>2023-11-06 13:29:46+00:00</th>\n",
       "      <td>1.073975</td>\n",
       "      <td>1.074045</td>\n",
       "      <td>1.073975</td>\n",
       "      <td>1.074045</td>\n",
       "    </tr>\n",
       "    <tr>\n",
       "      <th>2023-11-06 13:29:47+00:00</th>\n",
       "      <td>1.074045</td>\n",
       "      <td>1.074050</td>\n",
       "      <td>1.074045</td>\n",
       "      <td>1.074050</td>\n",
       "    </tr>\n",
       "    <tr>\n",
       "      <th>2023-11-06 13:29:48+00:00</th>\n",
       "      <td>1.074050</td>\n",
       "      <td>1.074090</td>\n",
       "      <td>1.074050</td>\n",
       "      <td>1.074090</td>\n",
       "    </tr>\n",
       "    <tr>\n",
       "      <th>2023-11-06 13:29:49+00:00</th>\n",
       "      <td>1.074090</td>\n",
       "      <td>1.074090</td>\n",
       "      <td>1.074090</td>\n",
       "      <td>1.074090</td>\n",
       "    </tr>\n",
       "    <tr>\n",
       "      <th>2023-11-06 13:29:50+00:00</th>\n",
       "      <td>1.074090</td>\n",
       "      <td>1.074120</td>\n",
       "      <td>1.074090</td>\n",
       "      <td>1.074105</td>\n",
       "    </tr>\n",
       "    <tr>\n",
       "      <th>2023-11-06 13:29:55+00:00</th>\n",
       "      <td>1.074105</td>\n",
       "      <td>1.074105</td>\n",
       "      <td>1.074090</td>\n",
       "      <td>1.074095</td>\n",
       "    </tr>\n",
       "    <tr>\n",
       "      <th>2023-11-06 13:30:00+00:00</th>\n",
       "      <td>1.074095</td>\n",
       "      <td>1.074125</td>\n",
       "      <td>1.074095</td>\n",
       "      <td>1.074105</td>\n",
       "    </tr>\n",
       "    <tr>\n",
       "      <th>2023-11-06 13:30:05+00:00</th>\n",
       "      <td>1.074105</td>\n",
       "      <td>1.074160</td>\n",
       "      <td>1.074105</td>\n",
       "      <td>1.074155</td>\n",
       "    </tr>\n",
       "    <tr>\n",
       "      <th>2023-11-06 13:30:10+00:00</th>\n",
       "      <td>1.074155</td>\n",
       "      <td>1.074170</td>\n",
       "      <td>1.074075</td>\n",
       "      <td>1.074075</td>\n",
       "    </tr>\n",
       "    <tr>\n",
       "      <th>2023-11-06 13:30:15+00:00</th>\n",
       "      <td>1.074085</td>\n",
       "      <td>1.074085</td>\n",
       "      <td>1.074085</td>\n",
       "      <td>1.074085</td>\n",
       "    </tr>\n",
       "  </tbody>\n",
       "</table>\n",
       "</div>"
      ],
      "text/plain": [
       "                               open      high       low     close\n",
       "date                                                             \n",
       "2023-11-06 13:29:01+00:00  1.074055  1.074055  1.074045  1.074045\n",
       "2023-11-06 13:29:02+00:00  1.074045  1.074045  1.074005  1.074005\n",
       "2023-11-06 13:29:03+00:00  1.074005  1.074005  1.074000  1.074000\n",
       "2023-11-06 13:29:04+00:00  1.074000  1.074000  1.073995  1.073995\n",
       "2023-11-06 13:29:05+00:00  1.073995  1.074025  1.073995  1.074015\n",
       "2023-11-06 13:29:06+00:00  1.074015  1.074015  1.074015  1.074015\n",
       "2023-11-06 13:29:07+00:00  1.074015  1.074015  1.074010  1.074010\n",
       "2023-11-06 13:29:08+00:00  1.074010  1.074050  1.074010  1.074030\n",
       "2023-11-06 13:29:09+00:00  1.074030  1.074055  1.074030  1.074055\n",
       "2023-11-06 13:29:10+00:00  1.074055  1.074095  1.074055  1.074095\n",
       "2023-11-06 13:29:11+00:00  1.074095  1.074105  1.074090  1.074105\n",
       "2023-11-06 13:29:12+00:00  1.074105  1.074105  1.074060  1.074060\n",
       "2023-11-06 13:29:13+00:00  1.074060  1.074060  1.074050  1.074055\n",
       "2023-11-06 13:29:14+00:00  1.074055  1.074055  1.074050  1.074050\n",
       "2023-11-06 13:29:15+00:00  1.074050  1.074055  1.074050  1.074055\n",
       "2023-11-06 13:29:16+00:00  1.074055  1.074055  1.074055  1.074055\n",
       "2023-11-06 13:29:17+00:00  1.074055  1.074055  1.074050  1.074050\n",
       "2023-11-06 13:29:18+00:00  1.074050  1.074055  1.074050  1.074055\n",
       "2023-11-06 13:29:19+00:00  1.074055  1.074055  1.074055  1.074055\n",
       "2023-11-06 13:29:20+00:00  1.074055  1.074055  1.074055  1.074055\n",
       "2023-11-06 13:29:21+00:00  1.074055  1.074065  1.074055  1.074055\n",
       "2023-11-06 13:29:22+00:00  1.074055  1.074055  1.074055  1.074055\n",
       "2023-11-06 13:29:23+00:00  1.074055  1.074055  1.074055  1.074055\n",
       "2023-11-06 13:29:24+00:00  1.074055  1.074055  1.074055  1.074055\n",
       "2023-11-06 13:29:25+00:00  1.074055  1.074055  1.074055  1.074055\n",
       "2023-11-06 13:29:26+00:00  1.074055  1.074055  1.074055  1.074055\n",
       "2023-11-06 13:29:27+00:00  1.074055  1.074055  1.074055  1.074055\n",
       "2023-11-06 13:29:28+00:00  1.074055  1.074055  1.074055  1.074055\n",
       "2023-11-06 13:29:29+00:00  1.074055  1.074065  1.074055  1.074065\n",
       "2023-11-06 13:29:30+00:00  1.074065  1.074070  1.074065  1.074065\n",
       "2023-11-06 13:29:31+00:00  1.074065  1.074065  1.074050  1.074050\n",
       "2023-11-06 13:29:32+00:00  1.074050  1.074050  1.074000  1.074000\n",
       "2023-11-06 13:29:33+00:00  1.074000  1.074010  1.074000  1.074010\n",
       "2023-11-06 13:29:34+00:00  1.074010  1.074010  1.074005  1.074005\n",
       "2023-11-06 13:29:35+00:00  1.074005  1.074005  1.074000  1.074000\n",
       "2023-11-06 13:29:36+00:00  1.074000  1.074000  1.074000  1.074000\n",
       "2023-11-06 13:29:37+00:00  1.074000  1.074000  1.074000  1.074000\n",
       "2023-11-06 13:29:38+00:00  1.074000  1.074005  1.073955  1.073965\n",
       "2023-11-06 13:29:39+00:00  1.073965  1.073965  1.073965  1.073965\n",
       "2023-11-06 13:29:40+00:00  1.073965  1.074000  1.073965  1.074000\n",
       "2023-11-06 13:29:41+00:00  1.074000  1.074000  1.074000  1.074000\n",
       "2023-11-06 13:29:42+00:00  1.074000  1.074000  1.074000  1.074000\n",
       "2023-11-06 13:29:43+00:00  1.074000  1.074000  1.073960  1.073975\n",
       "2023-11-06 13:29:44+00:00  1.073975  1.073975  1.073965  1.073965\n",
       "2023-11-06 13:29:45+00:00  1.073965  1.073975  1.073965  1.073975\n",
       "2023-11-06 13:29:46+00:00  1.073975  1.074045  1.073975  1.074045\n",
       "2023-11-06 13:29:47+00:00  1.074045  1.074050  1.074045  1.074050\n",
       "2023-11-06 13:29:48+00:00  1.074050  1.074090  1.074050  1.074090\n",
       "2023-11-06 13:29:49+00:00  1.074090  1.074090  1.074090  1.074090\n",
       "2023-11-06 13:29:50+00:00  1.074090  1.074120  1.074090  1.074105\n",
       "2023-11-06 13:29:55+00:00  1.074105  1.074105  1.074090  1.074095\n",
       "2023-11-06 13:30:00+00:00  1.074095  1.074125  1.074095  1.074105\n",
       "2023-11-06 13:30:05+00:00  1.074105  1.074160  1.074105  1.074155\n",
       "2023-11-06 13:30:10+00:00  1.074155  1.074170  1.074075  1.074075\n",
       "2023-11-06 13:30:15+00:00  1.074085  1.074085  1.074085  1.074085"
      ]
     },
     "metadata": {},
     "output_type": "display_data"
    }
   ],
   "source": [
    "bars.updateEvent += onBarUpdate # activate onBarUpdate\n",
    "# see ? its update wach 5 sec on new data point!"
   ]
  },
  {
   "cell_type": "code",
   "execution_count": 25,
   "id": "a7e90440",
   "metadata": {},
   "outputs": [],
   "source": [
    "# de-activate onBarUpdate\n",
    "bars.updateEvent -= onBarUpdate "
   ]
  },
  {
   "cell_type": "code",
   "execution_count": null,
   "id": "2d416f8e",
   "metadata": {},
   "outputs": [
    {
     "name": "stderr",
     "output_type": "stream",
     "text": [
      "Error 366, reqId 24: No historical data query found for ticker id:24\n"
     ]
    }
   ],
   "source": [
    "ib.cancelHistoricalData(bars) # cancel subscription"
   ]
  },
  {
   "cell_type": "markdown",
   "metadata": {},
   "source": [
    "---"
   ]
  },
  {
   "cell_type": "markdown",
   "id": "acdfb0ed",
   "metadata": {},
   "source": [
    "# Application: Creating a live Candle Stick Chart "
   ]
  },
  {
   "cell_type": "code",
   "execution_count": 26,
   "id": "aa74a57a",
   "metadata": {},
   "outputs": [],
   "source": [
    "# Create the event function (on bar update)\n",
    "def onBarUpdate(bars, hasNewBar):\n",
    "    plt.close()\n",
    "    plot = util.barplot(bars, title = \"EURUSD\", upColor = \"green\", downColor = \"red\")\n",
    "    clear_output(wait=True)\n",
    "    display(plot)"
   ]
  },
  {
   "cell_type": "code",
   "execution_count": 27,
   "id": "43d30ff7",
   "metadata": {},
   "outputs": [],
   "source": [
    "# Request the historical data\n",
    "bars = ib.reqHistoricalData(\n",
    "        contract, # the instrument\n",
    "        endDateTime='', \n",
    "        durationStr='1000 S', # time span\n",
    "        barSizeSetting='10 secs', # frequency\n",
    "        whatToShow='MIDPOINT',\n",
    "        useRTH=True,\n",
    "        formatDate=2,\n",
    "        keepUpToDate=True)"
   ]
  },
  {
   "cell_type": "code",
   "execution_count": 28,
   "id": "0c849440",
   "metadata": {},
   "outputs": [
    {
     "data": {
      "image/png": "[encoded data removed]",
      "text/plain": [
       "<Figure size 1000x600 with 1 Axes>"
      ]
     },
     "metadata": {},
     "output_type": "display_data"
    }
   ],
   "source": [
    "bars.updateEvent += onBarUpdate # activate onBarUpdate"
   ]
  },
  {
   "cell_type": "code",
   "execution_count": 29,
   "id": "f3fb8301",
   "metadata": {},
   "outputs": [
    {
     "data": {
      "image/png": "[encoded data removed]",
      "text/plain": [
       "<Figure size 1000x600 with 1 Axes>"
      ]
     },
     "metadata": {},
     "output_type": "display_data"
    }
   ],
   "source": [
    "bars.updateEvent -= onBarUpdate # de-activate onBarUpdate"
   ]
  },
  {
   "cell_type": "code",
   "execution_count": null,
   "id": "356517b4",
   "metadata": {},
   "outputs": [
    {
     "name": "stderr",
     "output_type": "stream",
     "text": [
      "Error 162, reqId 26: Historical Market Data Service error message:API historical data query cancelled: 26\n"
     ]
    }
   ],
   "source": [
    "ib.cancelHistoricalData(bars) # cancel subscription"
   ]
  },
  {
   "cell_type": "code",
   "execution_count": 31,
   "id": "2e92e6a5",
   "metadata": {},
   "outputs": [],
   "source": [
    "ib.disconnect()"
   ]
  },
  {
   "cell_type": "markdown",
   "metadata": {},
   "source": [
    "---"
   ]
  },
  {
   "cell_type": "markdown",
   "id": "8ce61d6b",
   "metadata": {},
   "source": [
    "# Preparing the Data for Day Trading"
   ]
  },
  {
   "cell_type": "markdown",
   "id": "f3f4318a",
   "metadata": {},
   "source": [
    "- Problem: most recent bar is (typically) incomplete (until the end of the bar has been reached)\n",
    "- In Trading: Take actions once a new bar is complete "
   ]
  },
  {
   "cell_type": "code",
   "execution_count": 32,
   "id": "c829ac67",
   "metadata": {},
   "outputs": [],
   "source": [
    "from ib_insync import * \n",
    "import pandas as pd\n",
    "import numpy as np\n",
    "import datetime as dt\n",
    "from IPython.display import display, clear_output\n",
    "util.startLoop() "
   ]
  },
  {
   "cell_type": "code",
   "execution_count": 33,
   "id": "ac9f9b38",
   "metadata": {},
   "outputs": [
    {
     "data": {
      "text/plain": [
       "<IB connected to 127.0.0.1:7497 clientId=1>"
      ]
     },
     "execution_count": 33,
     "metadata": {},
     "output_type": "execute_result"
    }
   ],
   "source": [
    "ib = IB()\n",
    "ib.connect()"
   ]
  },
  {
   "cell_type": "code",
   "execution_count": 34,
   "id": "c59de438",
   "metadata": {},
   "outputs": [
    {
     "data": {
      "text/plain": [
       "Forex('EURUSD', exchange='IDEALPRO')"
      ]
     },
     "execution_count": 34,
     "metadata": {},
     "output_type": "execute_result"
    }
   ],
   "source": [
    "contract = Forex('EURUSD')\n",
    "contract"
   ]
  },
  {
   "cell_type": "code",
   "execution_count": 35,
   "id": "492e08b1",
   "metadata": {},
   "outputs": [],
   "source": [
    "# callback function \n",
    "def onBarUpdate(bars, hasNewBar):\n",
    "    print(dt.datetime.utcnow())"
   ]
  },
  {
   "cell_type": "code",
   "execution_count": 36,
   "id": "47f34569",
   "metadata": {},
   "outputs": [],
   "source": [
    "# Request hostorical data..\n",
    "bars = ib.reqHistoricalData(\n",
    "        contract,\n",
    "        endDateTime='',\n",
    "        durationStr='1 D',\n",
    "        barSizeSetting='1 min',\n",
    "        whatToShow='MIDPOINT',\n",
    "        useRTH=True,\n",
    "        formatDate=2,\n",
    "        keepUpToDate=True)"
   ]
  },
  {
   "cell_type": "code",
   "execution_count": 37,
   "id": "299e74d7",
   "metadata": {},
   "outputs": [
    {
     "name": "stdout",
     "output_type": "stream",
     "text": [
      "2023-11-06 13:39:24.586692\n",
      "2023-11-06 13:39:24.628497\n",
      "2023-11-06 13:39:44.238351\n",
      "2023-11-06 13:39:49.581495\n",
      "2023-11-06 13:39:51.573003\n",
      "2023-11-06 13:39:54.626746\n",
      "2023-11-06 13:39:59.151538\n",
      "2023-11-06 13:39:59.282247\n",
      "2023-11-06 13:40:04.346232\n",
      "2023-11-06 13:40:09.215999\n"
     ]
    }
   ],
   "source": [
    "# subscribe the function \n",
    "bars.updateEvent += onBarUpdate"
   ]
  },
  {
   "cell_type": "code",
   "execution_count": null,
   "id": "57befe9c",
   "metadata": {},
   "outputs": [
    {
     "name": "stderr",
     "output_type": "stream",
     "text": [
      "Error 162, reqId 21: Historical Market Data Service error message:API historical data query cancelled: 21\n"
     ]
    }
   ],
   "source": [
    "ib.cancelHistoricalData(bars) "
   ]
  },
  {
   "cell_type": "code",
   "execution_count": 39,
   "id": "3182e29b",
   "metadata": {},
   "outputs": [],
   "source": [
    "def onBarUpdate(bars, hasNewBar): \n",
    "    global df\n",
    "    # remove current bar (incomplete) \n",
    "    df = pd.DataFrame(bars)[[\"date\", \"open\", \"high\", \"low\", \"close\"]].iloc[:-1] \n",
    "    # add the bar\n",
    "    df.set_index(\"date\", inplace = True)\n",
    "    clear_output(wait=True)\n",
    "    display(df)"
   ]
  },
  {
   "cell_type": "code",
   "execution_count": 40,
   "id": "d7ceff64",
   "metadata": {},
   "outputs": [
    {
     "data": {
      "text/html": [
       "<div>\n",
       "<style scoped>\n",
       "    .dataframe tbody tr th:only-of-type {\n",
       "        vertical-align: middle;\n",
       "    }\n",
       "\n",
       "    .dataframe tbody tr th {\n",
       "        vertical-align: top;\n",
       "    }\n",
       "\n",
       "    .dataframe thead th {\n",
       "        text-align: right;\n",
       "    }\n",
       "</style>\n",
       "<table border=\"1\" class=\"dataframe\">\n",
       "  <thead>\n",
       "    <tr style=\"text-align: right;\">\n",
       "      <th></th>\n",
       "      <th>open</th>\n",
       "      <th>high</th>\n",
       "      <th>low</th>\n",
       "      <th>close</th>\n",
       "    </tr>\n",
       "    <tr>\n",
       "      <th>date</th>\n",
       "      <th></th>\n",
       "      <th></th>\n",
       "      <th></th>\n",
       "      <th></th>\n",
       "    </tr>\n",
       "  </thead>\n",
       "  <tbody>\n",
       "    <tr>\n",
       "      <th>2023-11-05 22:15:00+00:00</th>\n",
       "      <td>1.072600</td>\n",
       "      <td>1.072720</td>\n",
       "      <td>1.072385</td>\n",
       "      <td>1.072475</td>\n",
       "    </tr>\n",
       "    <tr>\n",
       "      <th>2023-11-05 22:16:00+00:00</th>\n",
       "      <td>1.072480</td>\n",
       "      <td>1.072545</td>\n",
       "      <td>1.072475</td>\n",
       "      <td>1.072490</td>\n",
       "    </tr>\n",
       "    <tr>\n",
       "      <th>2023-11-05 22:17:00+00:00</th>\n",
       "      <td>1.072490</td>\n",
       "      <td>1.072545</td>\n",
       "      <td>1.072390</td>\n",
       "      <td>1.072465</td>\n",
       "    </tr>\n",
       "    <tr>\n",
       "      <th>2023-11-05 22:18:00+00:00</th>\n",
       "      <td>1.072465</td>\n",
       "      <td>1.072470</td>\n",
       "      <td>1.072465</td>\n",
       "      <td>1.072470</td>\n",
       "    </tr>\n",
       "    <tr>\n",
       "      <th>2023-11-05 22:19:00+00:00</th>\n",
       "      <td>1.072470</td>\n",
       "      <td>1.072475</td>\n",
       "      <td>1.072470</td>\n",
       "      <td>1.072475</td>\n",
       "    </tr>\n",
       "    <tr>\n",
       "      <th>...</th>\n",
       "      <td>...</td>\n",
       "      <td>...</td>\n",
       "      <td>...</td>\n",
       "      <td>...</td>\n",
       "    </tr>\n",
       "    <tr>\n",
       "      <th>2023-11-06 13:47:00+00:00</th>\n",
       "      <td>1.073745</td>\n",
       "      <td>1.073925</td>\n",
       "      <td>1.073745</td>\n",
       "      <td>1.073895</td>\n",
       "    </tr>\n",
       "    <tr>\n",
       "      <th>2023-11-06 13:48:00+00:00</th>\n",
       "      <td>1.073895</td>\n",
       "      <td>1.073915</td>\n",
       "      <td>1.073690</td>\n",
       "      <td>1.073800</td>\n",
       "    </tr>\n",
       "    <tr>\n",
       "      <th>2023-11-06 13:49:00+00:00</th>\n",
       "      <td>1.073800</td>\n",
       "      <td>1.073840</td>\n",
       "      <td>1.073735</td>\n",
       "      <td>1.073770</td>\n",
       "    </tr>\n",
       "    <tr>\n",
       "      <th>2023-11-06 13:50:00+00:00</th>\n",
       "      <td>1.073770</td>\n",
       "      <td>1.073785</td>\n",
       "      <td>1.073650</td>\n",
       "      <td>1.073650</td>\n",
       "    </tr>\n",
       "    <tr>\n",
       "      <th>2023-11-06 13:51:00+00:00</th>\n",
       "      <td>1.073650</td>\n",
       "      <td>1.073655</td>\n",
       "      <td>1.073515</td>\n",
       "      <td>1.073650</td>\n",
       "    </tr>\n",
       "  </tbody>\n",
       "</table>\n",
       "<p>937 rows × 4 columns</p>\n",
       "</div>"
      ],
      "text/plain": [
       "                               open      high       low     close\n",
       "date                                                             \n",
       "2023-11-05 22:15:00+00:00  1.072600  1.072720  1.072385  1.072475\n",
       "2023-11-05 22:16:00+00:00  1.072480  1.072545  1.072475  1.072490\n",
       "2023-11-05 22:17:00+00:00  1.072490  1.072545  1.072390  1.072465\n",
       "2023-11-05 22:18:00+00:00  1.072465  1.072470  1.072465  1.072470\n",
       "2023-11-05 22:19:00+00:00  1.072470  1.072475  1.072470  1.072475\n",
       "...                             ...       ...       ...       ...\n",
       "2023-11-06 13:47:00+00:00  1.073745  1.073925  1.073745  1.073895\n",
       "2023-11-06 13:48:00+00:00  1.073895  1.073915  1.073690  1.073800\n",
       "2023-11-06 13:49:00+00:00  1.073800  1.073840  1.073735  1.073770\n",
       "2023-11-06 13:50:00+00:00  1.073770  1.073785  1.073650  1.073650\n",
       "2023-11-06 13:51:00+00:00  1.073650  1.073655  1.073515  1.073650\n",
       "\n",
       "[937 rows x 4 columns]"
      ]
     },
     "metadata": {},
     "output_type": "display_data"
    }
   ],
   "source": [
    "bars = ib.reqHistoricalData(\n",
    "        contract,\n",
    "        endDateTime='',\n",
    "        durationStr='1 D',\n",
    "        barSizeSetting='1 min',\n",
    "        whatToShow='MIDPOINT',\n",
    "        useRTH=True,\n",
    "        formatDate=2,\n",
    "        keepUpToDate=True)\n",
    "bars.updateEvent += onBarUpdate "
   ]
  },
  {
   "cell_type": "code",
   "execution_count": null,
   "id": "20e954f6",
   "metadata": {},
   "outputs": [
    {
     "name": "stderr",
     "output_type": "stream",
     "text": [
      "Error 162, reqId 22: Historical Market Data Service error message:API historical data query cancelled: 22\n"
     ]
    }
   ],
   "source": [
    "ib.cancelHistoricalData(bars) "
   ]
  },
  {
   "cell_type": "markdown",
   "metadata": {},
   "source": [
    "---"
   ]
  },
  {
   "cell_type": "markdown",
   "id": "bd123446",
   "metadata": {},
   "source": [
    "# Improving Code Efficiency"
   ]
  },
  {
   "cell_type": "markdown",
   "id": "618049f4",
   "metadata": {},
   "source": [
    "Idea: We need to run major parts of onBarUpdate only if a bar is complete (== new bar has been added)"
   ]
  },
  {
   "cell_type": "code",
   "execution_count": 43,
   "id": "99a0f060",
   "metadata": {},
   "outputs": [
    {
     "data": {
      "text/plain": [
       "[BarData(date=datetime.datetime(2023, 11, 5, 22, 15, tzinfo=datetime.timezone.utc), open=1.0726, high=1.07272, low=1.072385, close=1.072475, volume=-1.0, average=-1.0, barCount=-1),\n",
       " BarData(date=datetime.datetime(2023, 11, 5, 22, 16, tzinfo=datetime.timezone.utc), open=1.07248, high=1.072545, low=1.072475, close=1.07249, volume=-1.0, average=-1.0, barCount=-1),\n",
       " BarData(date=datetime.datetime(2023, 11, 5, 22, 17, tzinfo=datetime.timezone.utc), open=1.07249, high=1.072545, low=1.07239, close=1.072465, volume=-1.0, average=-1.0, barCount=-1),\n",
       " BarData(date=datetime.datetime(2023, 11, 5, 22, 18, tzinfo=datetime.timezone.utc), open=1.072465, high=1.07247, low=1.072465, close=1.07247, volume=-1.0, average=-1.0, barCount=-1),\n",
       " BarData(date=datetime.datetime(2023, 11, 5, 22, 19, tzinfo=datetime.timezone.utc), open=1.07247, high=1.072475, low=1.07247, close=1.072475, volume=-1.0, average=-1.0, barCount=-1)]"
      ]
     },
     "execution_count": 43,
     "metadata": {},
     "output_type": "execute_result"
    }
   ],
   "source": [
    "bars[:5]"
   ]
  },
  {
   "cell_type": "code",
   "execution_count": 44,
   "id": "9777cfb4",
   "metadata": {},
   "outputs": [
    {
     "data": {
      "text/plain": [
       "True"
      ]
     },
     "execution_count": 44,
     "metadata": {},
     "output_type": "execute_result"
    }
   ],
   "source": [
    "# check if current (incomplete) bar is more recent than the last complete bar\n",
    "bars[-1].date > bars[-2].date"
   ]
  },
  {
   "cell_type": "code",
   "execution_count": 45,
   "id": "ac98470f",
   "metadata": {},
   "outputs": [],
   "source": [
    "def onBarUpdate(bars, hasNewBar):  \n",
    "    global df, last_bar\n",
    "    if bars[-1].date > last_bar: # if bar completed / new bar\n",
    "        last_bar = bars[-1].date\n",
    "    \n",
    "        df = pd.DataFrame(bars)[[\"date\", \"open\", \"high\", \"low\", \"close\"]].iloc[:-1] \n",
    "        df.set_index(\"date\", inplace = True)\n",
    "        clear_output(wait=True)\n",
    "        display(df)"
   ]
  },
  {
   "cell_type": "code",
   "execution_count": 46,
   "id": "c38d1167",
   "metadata": {},
   "outputs": [
    {
     "data": {
      "text/html": [
       "<div>\n",
       "<style scoped>\n",
       "    .dataframe tbody tr th:only-of-type {\n",
       "        vertical-align: middle;\n",
       "    }\n",
       "\n",
       "    .dataframe tbody tr th {\n",
       "        vertical-align: top;\n",
       "    }\n",
       "\n",
       "    .dataframe thead th {\n",
       "        text-align: right;\n",
       "    }\n",
       "</style>\n",
       "<table border=\"1\" class=\"dataframe\">\n",
       "  <thead>\n",
       "    <tr style=\"text-align: right;\">\n",
       "      <th></th>\n",
       "      <th>open</th>\n",
       "      <th>high</th>\n",
       "      <th>low</th>\n",
       "      <th>close</th>\n",
       "    </tr>\n",
       "    <tr>\n",
       "      <th>date</th>\n",
       "      <th></th>\n",
       "      <th></th>\n",
       "      <th></th>\n",
       "      <th></th>\n",
       "    </tr>\n",
       "  </thead>\n",
       "  <tbody>\n",
       "    <tr>\n",
       "      <th>2023-11-05 22:15:00+00:00</th>\n",
       "      <td>1.072600</td>\n",
       "      <td>1.072720</td>\n",
       "      <td>1.072385</td>\n",
       "      <td>1.072475</td>\n",
       "    </tr>\n",
       "    <tr>\n",
       "      <th>2023-11-05 22:16:00+00:00</th>\n",
       "      <td>1.072480</td>\n",
       "      <td>1.072545</td>\n",
       "      <td>1.072475</td>\n",
       "      <td>1.072490</td>\n",
       "    </tr>\n",
       "    <tr>\n",
       "      <th>2023-11-05 22:17:00+00:00</th>\n",
       "      <td>1.072490</td>\n",
       "      <td>1.072545</td>\n",
       "      <td>1.072390</td>\n",
       "      <td>1.072465</td>\n",
       "    </tr>\n",
       "    <tr>\n",
       "      <th>2023-11-05 22:18:00+00:00</th>\n",
       "      <td>1.072465</td>\n",
       "      <td>1.072470</td>\n",
       "      <td>1.072465</td>\n",
       "      <td>1.072470</td>\n",
       "    </tr>\n",
       "    <tr>\n",
       "      <th>2023-11-05 22:19:00+00:00</th>\n",
       "      <td>1.072470</td>\n",
       "      <td>1.072475</td>\n",
       "      <td>1.072470</td>\n",
       "      <td>1.072475</td>\n",
       "    </tr>\n",
       "    <tr>\n",
       "      <th>...</th>\n",
       "      <td>...</td>\n",
       "      <td>...</td>\n",
       "      <td>...</td>\n",
       "      <td>...</td>\n",
       "    </tr>\n",
       "    <tr>\n",
       "      <th>2023-11-06 13:53:00+00:00</th>\n",
       "      <td>1.073575</td>\n",
       "      <td>1.073740</td>\n",
       "      <td>1.073550</td>\n",
       "      <td>1.073740</td>\n",
       "    </tr>\n",
       "    <tr>\n",
       "      <th>2023-11-06 13:54:00+00:00</th>\n",
       "      <td>1.073740</td>\n",
       "      <td>1.073995</td>\n",
       "      <td>1.073740</td>\n",
       "      <td>1.073985</td>\n",
       "    </tr>\n",
       "    <tr>\n",
       "      <th>2023-11-06 13:55:00+00:00</th>\n",
       "      <td>1.073985</td>\n",
       "      <td>1.073985</td>\n",
       "      <td>1.073600</td>\n",
       "      <td>1.073605</td>\n",
       "    </tr>\n",
       "    <tr>\n",
       "      <th>2023-11-06 13:56:00+00:00</th>\n",
       "      <td>1.073605</td>\n",
       "      <td>1.073745</td>\n",
       "      <td>1.073600</td>\n",
       "      <td>1.073735</td>\n",
       "    </tr>\n",
       "    <tr>\n",
       "      <th>2023-11-06 13:57:00+00:00</th>\n",
       "      <td>1.073735</td>\n",
       "      <td>1.073735</td>\n",
       "      <td>1.073635</td>\n",
       "      <td>1.073650</td>\n",
       "    </tr>\n",
       "  </tbody>\n",
       "</table>\n",
       "<p>943 rows × 4 columns</p>\n",
       "</div>"
      ],
      "text/plain": [
       "                               open      high       low     close\n",
       "date                                                             \n",
       "2023-11-05 22:15:00+00:00  1.072600  1.072720  1.072385  1.072475\n",
       "2023-11-05 22:16:00+00:00  1.072480  1.072545  1.072475  1.072490\n",
       "2023-11-05 22:17:00+00:00  1.072490  1.072545  1.072390  1.072465\n",
       "2023-11-05 22:18:00+00:00  1.072465  1.072470  1.072465  1.072470\n",
       "2023-11-05 22:19:00+00:00  1.072470  1.072475  1.072470  1.072475\n",
       "...                             ...       ...       ...       ...\n",
       "2023-11-06 13:53:00+00:00  1.073575  1.073740  1.073550  1.073740\n",
       "2023-11-06 13:54:00+00:00  1.073740  1.073995  1.073740  1.073985\n",
       "2023-11-06 13:55:00+00:00  1.073985  1.073985  1.073600  1.073605\n",
       "2023-11-06 13:56:00+00:00  1.073605  1.073745  1.073600  1.073735\n",
       "2023-11-06 13:57:00+00:00  1.073735  1.073735  1.073635  1.073650\n",
       "\n",
       "[943 rows x 4 columns]"
      ]
     },
     "metadata": {},
     "output_type": "display_data"
    }
   ],
   "source": [
    "bars = ib.reqHistoricalData(\n",
    "        contract,\n",
    "        endDateTime='',\n",
    "        durationStr='1 D',\n",
    "        barSizeSetting='1 min',\n",
    "        whatToShow='MIDPOINT',\n",
    "        useRTH=True,\n",
    "        formatDate=2,\n",
    "        keepUpToDate=True)\n",
    "\n",
    "# initialize last_bar\n",
    "last_bar = bars[-1].date \n",
    "bars.updateEvent += onBarUpdate"
   ]
  },
  {
   "cell_type": "code",
   "execution_count": null,
   "id": "106aa277",
   "metadata": {},
   "outputs": [
    {
     "name": "stderr",
     "output_type": "stream",
     "text": [
      "Error 162, reqId 23: Historical Market Data Service error message:API historical data query cancelled: 23\n"
     ]
    }
   ],
   "source": [
    "ib.cancelHistoricalData(bars) "
   ]
  },
  {
   "cell_type": "code",
   "execution_count": 48,
   "id": "382beb6e",
   "metadata": {},
   "outputs": [],
   "source": [
    "ib.disconnect()"
   ]
  },
  {
   "cell_type": "code",
   "execution_count": 49,
   "id": "053dab79",
   "metadata": {},
   "outputs": [
    {
     "data": {
      "text/html": [
       "<div>\n",
       "<style scoped>\n",
       "    .dataframe tbody tr th:only-of-type {\n",
       "        vertical-align: middle;\n",
       "    }\n",
       "\n",
       "    .dataframe tbody tr th {\n",
       "        vertical-align: top;\n",
       "    }\n",
       "\n",
       "    .dataframe thead th {\n",
       "        text-align: right;\n",
       "    }\n",
       "</style>\n",
       "<table border=\"1\" class=\"dataframe\">\n",
       "  <thead>\n",
       "    <tr style=\"text-align: right;\">\n",
       "      <th></th>\n",
       "      <th>open</th>\n",
       "      <th>high</th>\n",
       "      <th>low</th>\n",
       "      <th>close</th>\n",
       "    </tr>\n",
       "    <tr>\n",
       "      <th>date</th>\n",
       "      <th></th>\n",
       "      <th></th>\n",
       "      <th></th>\n",
       "      <th></th>\n",
       "    </tr>\n",
       "  </thead>\n",
       "  <tbody>\n",
       "    <tr>\n",
       "      <th>2023-11-05 22:15:00+00:00</th>\n",
       "      <td>1.072600</td>\n",
       "      <td>1.072720</td>\n",
       "      <td>1.072385</td>\n",
       "      <td>1.072475</td>\n",
       "    </tr>\n",
       "    <tr>\n",
       "      <th>2023-11-05 22:16:00+00:00</th>\n",
       "      <td>1.072480</td>\n",
       "      <td>1.072545</td>\n",
       "      <td>1.072475</td>\n",
       "      <td>1.072490</td>\n",
       "    </tr>\n",
       "    <tr>\n",
       "      <th>2023-11-05 22:17:00+00:00</th>\n",
       "      <td>1.072490</td>\n",
       "      <td>1.072545</td>\n",
       "      <td>1.072390</td>\n",
       "      <td>1.072465</td>\n",
       "    </tr>\n",
       "    <tr>\n",
       "      <th>2023-11-05 22:18:00+00:00</th>\n",
       "      <td>1.072465</td>\n",
       "      <td>1.072470</td>\n",
       "      <td>1.072465</td>\n",
       "      <td>1.072470</td>\n",
       "    </tr>\n",
       "    <tr>\n",
       "      <th>2023-11-05 22:19:00+00:00</th>\n",
       "      <td>1.072470</td>\n",
       "      <td>1.072475</td>\n",
       "      <td>1.072470</td>\n",
       "      <td>1.072475</td>\n",
       "    </tr>\n",
       "    <tr>\n",
       "      <th>...</th>\n",
       "      <td>...</td>\n",
       "      <td>...</td>\n",
       "      <td>...</td>\n",
       "      <td>...</td>\n",
       "    </tr>\n",
       "    <tr>\n",
       "      <th>2023-11-06 13:53:00+00:00</th>\n",
       "      <td>1.073575</td>\n",
       "      <td>1.073740</td>\n",
       "      <td>1.073550</td>\n",
       "      <td>1.073740</td>\n",
       "    </tr>\n",
       "    <tr>\n",
       "      <th>2023-11-06 13:54:00+00:00</th>\n",
       "      <td>1.073740</td>\n",
       "      <td>1.073995</td>\n",
       "      <td>1.073740</td>\n",
       "      <td>1.073985</td>\n",
       "    </tr>\n",
       "    <tr>\n",
       "      <th>2023-11-06 13:55:00+00:00</th>\n",
       "      <td>1.073985</td>\n",
       "      <td>1.073985</td>\n",
       "      <td>1.073600</td>\n",
       "      <td>1.073605</td>\n",
       "    </tr>\n",
       "    <tr>\n",
       "      <th>2023-11-06 13:56:00+00:00</th>\n",
       "      <td>1.073605</td>\n",
       "      <td>1.073745</td>\n",
       "      <td>1.073600</td>\n",
       "      <td>1.073735</td>\n",
       "    </tr>\n",
       "    <tr>\n",
       "      <th>2023-11-06 13:57:00+00:00</th>\n",
       "      <td>1.073735</td>\n",
       "      <td>1.073735</td>\n",
       "      <td>1.073635</td>\n",
       "      <td>1.073650</td>\n",
       "    </tr>\n",
       "  </tbody>\n",
       "</table>\n",
       "<p>943 rows × 4 columns</p>\n",
       "</div>"
      ],
      "text/plain": [
       "                               open      high       low     close\n",
       "date                                                             \n",
       "2023-11-05 22:15:00+00:00  1.072600  1.072720  1.072385  1.072475\n",
       "2023-11-05 22:16:00+00:00  1.072480  1.072545  1.072475  1.072490\n",
       "2023-11-05 22:17:00+00:00  1.072490  1.072545  1.072390  1.072465\n",
       "2023-11-05 22:18:00+00:00  1.072465  1.072470  1.072465  1.072470\n",
       "2023-11-05 22:19:00+00:00  1.072470  1.072475  1.072470  1.072475\n",
       "...                             ...       ...       ...       ...\n",
       "2023-11-06 13:53:00+00:00  1.073575  1.073740  1.073550  1.073740\n",
       "2023-11-06 13:54:00+00:00  1.073740  1.073995  1.073740  1.073985\n",
       "2023-11-06 13:55:00+00:00  1.073985  1.073985  1.073600  1.073605\n",
       "2023-11-06 13:56:00+00:00  1.073605  1.073745  1.073600  1.073735\n",
       "2023-11-06 13:57:00+00:00  1.073735  1.073735  1.073635  1.073650\n",
       "\n",
       "[943 rows x 4 columns]"
      ]
     },
     "execution_count": 49,
     "metadata": {},
     "output_type": "execute_result"
    }
   ],
   "source": [
    "df"
   ]
  },
  {
   "cell_type": "code",
   "execution_count": 50,
   "id": "c38043b2",
   "metadata": {},
   "outputs": [
    {
     "data": {
      "text/plain": [
       "datetime.datetime(2023, 11, 6, 13, 58, tzinfo=datetime.timezone.utc)"
      ]
     },
     "execution_count": 50,
     "metadata": {},
     "output_type": "execute_result"
    }
   ],
   "source": [
    "last_bar"
   ]
  },
  {
   "cell_type": "markdown",
   "metadata": {},
   "source": [
    "---"
   ]
  },
  {
   "cell_type": "markdown",
   "id": "751de213",
   "metadata": {},
   "source": [
    "# Define an SMA Day Trading Strategy"
   ]
  },
  {
   "cell_type": "code",
   "execution_count": 51,
   "id": "0b559ba5",
   "metadata": {},
   "outputs": [],
   "source": [
    "from ib_insync import * \n",
    "import pandas as pd\n",
    "import numpy as np\n",
    "import datetime as dt\n",
    "from IPython.display import display, clear_output\n",
    "util.startLoop() "
   ]
  },
  {
   "cell_type": "code",
   "execution_count": 52,
   "id": "6b99a3bf",
   "metadata": {},
   "outputs": [
    {
     "data": {
      "text/plain": [
       "<IB connected to 127.0.0.1:7497 clientId=1>"
      ]
     },
     "execution_count": 52,
     "metadata": {},
     "output_type": "execute_result"
    }
   ],
   "source": [
    "ib = IB()\n",
    "ib.connect()"
   ]
  },
  {
   "cell_type": "code",
   "execution_count": 53,
   "id": "88415e43",
   "metadata": {},
   "outputs": [
    {
     "data": {
      "text/plain": [
       "Forex('EURUSD', exchange='IDEALPRO')"
      ]
     },
     "execution_count": 53,
     "metadata": {},
     "output_type": "execute_result"
    }
   ],
   "source": [
    "contract = Forex('EURUSD')\n",
    "contract"
   ]
  },
  {
   "cell_type": "markdown",
   "id": "d9b84a39",
   "metadata": {},
   "source": [
    "Strategy: SMA 50/200 (minutes) Crossover (needs to be backtested!!!)"
   ]
  },
  {
   "cell_type": "code",
   "execution_count": 54,
   "id": "c6c29ce1",
   "metadata": {},
   "outputs": [],
   "source": [
    "sma_s = 50\n",
    "sma_l = 200"
   ]
  },
  {
   "cell_type": "code",
   "execution_count": 55,
   "id": "3d564884",
   "metadata": {},
   "outputs": [],
   "source": [
    "# a callback function that call when the bar update. \n",
    "\n",
    "def onBarUpdate(bars, hasNewBar): \n",
    "    global df, last_bar\n",
    "    \n",
    "    if bars[-1].date > last_bar: # if there is a new candle bar \n",
    "        \n",
    "        last_bar = bars[-1].date\n",
    "    \n",
    "        ## Data Processing \n",
    "        # set the new bar on the data frame.\n",
    "        df = pd.DataFrame(bars)[[\"date\", \"open\", \"high\", \"low\", \"close\"]].iloc[:-1]\n",
    "        df.set_index(\"date\", inplace = True)\n",
    "        \n",
    "        ####################### Trading Strategy ###########################\n",
    "        df = df[[\"close\"]].copy()\n",
    "        df[\"sma_s\"] = df.close.rolling(sma_s).mean()\n",
    "        df[\"sma_l\"] = df.close.rolling(sma_l).mean()\n",
    "        df.dropna(inplace = True)\n",
    "        df[\"position\"] = np.where(df[\"sma_s\"] > df[\"sma_l\"], 1, -1 )\n",
    "        ####################################################################\n",
    "        \n",
    "        ## Action\n",
    "        # clear & displat again the data frame.\n",
    "        clear_output(wait=True)\n",
    "        display(df)\n",
    "        "
   ]
  },
  {
   "cell_type": "code",
   "execution_count": 56,
   "id": "6077da72",
   "metadata": {},
   "outputs": [],
   "source": [
    "bars = ib.reqHistoricalData(\n",
    "        contract,\n",
    "        endDateTime='',\n",
    "        durationStr='1 D',\n",
    "        barSizeSetting='1 min',\n",
    "        whatToShow='MIDPOINT',\n",
    "        useRTH=True,\n",
    "        formatDate=2,\n",
    "        keepUpToDate=True)"
   ]
  },
  {
   "cell_type": "code",
   "execution_count": 57,
   "metadata": {},
   "outputs": [
    {
     "data": {
      "text/html": [
       "<div>\n",
       "<style scoped>\n",
       "    .dataframe tbody tr th:only-of-type {\n",
       "        vertical-align: middle;\n",
       "    }\n",
       "\n",
       "    .dataframe tbody tr th {\n",
       "        vertical-align: top;\n",
       "    }\n",
       "\n",
       "    .dataframe thead th {\n",
       "        text-align: right;\n",
       "    }\n",
       "</style>\n",
       "<table border=\"1\" class=\"dataframe\">\n",
       "  <thead>\n",
       "    <tr style=\"text-align: right;\">\n",
       "      <th></th>\n",
       "      <th>close</th>\n",
       "      <th>sma_s</th>\n",
       "      <th>sma_l</th>\n",
       "      <th>position</th>\n",
       "    </tr>\n",
       "    <tr>\n",
       "      <th>date</th>\n",
       "      <th></th>\n",
       "      <th></th>\n",
       "      <th></th>\n",
       "      <th></th>\n",
       "    </tr>\n",
       "  </thead>\n",
       "  <tbody>\n",
       "    <tr>\n",
       "      <th>2023-11-06 01:34:00+00:00</th>\n",
       "      <td>1.072840</td>\n",
       "      <td>1.072516</td>\n",
       "      <td>1.072666</td>\n",
       "      <td>-1</td>\n",
       "    </tr>\n",
       "    <tr>\n",
       "      <th>2023-11-06 01:35:00+00:00</th>\n",
       "      <td>1.072745</td>\n",
       "      <td>1.072518</td>\n",
       "      <td>1.072667</td>\n",
       "      <td>-1</td>\n",
       "    </tr>\n",
       "    <tr>\n",
       "      <th>2023-11-06 01:36:00+00:00</th>\n",
       "      <td>1.072680</td>\n",
       "      <td>1.072519</td>\n",
       "      <td>1.072668</td>\n",
       "      <td>-1</td>\n",
       "    </tr>\n",
       "    <tr>\n",
       "      <th>2023-11-06 01:37:00+00:00</th>\n",
       "      <td>1.072750</td>\n",
       "      <td>1.072523</td>\n",
       "      <td>1.072669</td>\n",
       "      <td>-1</td>\n",
       "    </tr>\n",
       "    <tr>\n",
       "      <th>2023-11-06 01:38:00+00:00</th>\n",
       "      <td>1.072780</td>\n",
       "      <td>1.072525</td>\n",
       "      <td>1.072671</td>\n",
       "      <td>-1</td>\n",
       "    </tr>\n",
       "    <tr>\n",
       "      <th>...</th>\n",
       "      <td>...</td>\n",
       "      <td>...</td>\n",
       "      <td>...</td>\n",
       "      <td>...</td>\n",
       "    </tr>\n",
       "    <tr>\n",
       "      <th>2023-11-06 13:59:00+00:00</th>\n",
       "      <td>1.073745</td>\n",
       "      <td>1.073872</td>\n",
       "      <td>1.074646</td>\n",
       "      <td>-1</td>\n",
       "    </tr>\n",
       "    <tr>\n",
       "      <th>2023-11-06 14:00:00+00:00</th>\n",
       "      <td>1.073855</td>\n",
       "      <td>1.073864</td>\n",
       "      <td>1.074639</td>\n",
       "      <td>-1</td>\n",
       "    </tr>\n",
       "    <tr>\n",
       "      <th>2023-11-06 14:01:00+00:00</th>\n",
       "      <td>1.073815</td>\n",
       "      <td>1.073858</td>\n",
       "      <td>1.074633</td>\n",
       "      <td>-1</td>\n",
       "    </tr>\n",
       "    <tr>\n",
       "      <th>2023-11-06 14:02:00+00:00</th>\n",
       "      <td>1.073955</td>\n",
       "      <td>1.073860</td>\n",
       "      <td>1.074627</td>\n",
       "      <td>-1</td>\n",
       "    </tr>\n",
       "    <tr>\n",
       "      <th>2023-11-06 14:03:00+00:00</th>\n",
       "      <td>1.074025</td>\n",
       "      <td>1.073860</td>\n",
       "      <td>1.074621</td>\n",
       "      <td>-1</td>\n",
       "    </tr>\n",
       "  </tbody>\n",
       "</table>\n",
       "<p>750 rows × 4 columns</p>\n",
       "</div>"
      ],
      "text/plain": [
       "                              close     sma_s     sma_l  position\n",
       "date                                                             \n",
       "2023-11-06 01:34:00+00:00  1.072840  1.072516  1.072666        -1\n",
       "2023-11-06 01:35:00+00:00  1.072745  1.072518  1.072667        -1\n",
       "2023-11-06 01:36:00+00:00  1.072680  1.072519  1.072668        -1\n",
       "2023-11-06 01:37:00+00:00  1.072750  1.072523  1.072669        -1\n",
       "2023-11-06 01:38:00+00:00  1.072780  1.072525  1.072671        -1\n",
       "...                             ...       ...       ...       ...\n",
       "2023-11-06 13:59:00+00:00  1.073745  1.073872  1.074646        -1\n",
       "2023-11-06 14:00:00+00:00  1.073855  1.073864  1.074639        -1\n",
       "2023-11-06 14:01:00+00:00  1.073815  1.073858  1.074633        -1\n",
       "2023-11-06 14:02:00+00:00  1.073955  1.073860  1.074627        -1\n",
       "2023-11-06 14:03:00+00:00  1.074025  1.073860  1.074621        -1\n",
       "\n",
       "[750 rows x 4 columns]"
      ]
     },
     "metadata": {},
     "output_type": "display_data"
    }
   ],
   "source": [
    "last_bar = bars[-1].date\n",
    "bars.updateEvent += onBarUpdate "
   ]
  },
  {
   "cell_type": "code",
   "execution_count": null,
   "id": "29017466",
   "metadata": {},
   "outputs": [
    {
     "name": "stderr",
     "output_type": "stream",
     "text": [
      "Error 162, reqId 21: Historical Market Data Service error message:API historical data query cancelled: 21\n"
     ]
    }
   ],
   "source": [
    "ib.cancelHistoricalData(bars)"
   ]
  },
  {
   "cell_type": "code",
   "execution_count": 59,
   "id": "5a8f72fc",
   "metadata": {},
   "outputs": [],
   "source": [
    "ib.disconnect()"
   ]
  },
  {
   "cell_type": "markdown",
   "metadata": {},
   "source": [
    "---"
   ]
  },
  {
   "cell_type": "markdown",
   "id": "67330e78",
   "metadata": {},
   "source": [
    "# Trading"
   ]
  },
  {
   "cell_type": "markdown",
   "id": "54b121fd",
   "metadata": {},
   "source": [
    "__Please run the following code only with your Paper Trading Account!!!__"
   ]
  },
  {
   "cell_type": "markdown",
   "id": "7c3d17f0",
   "metadata": {},
   "source": [
    "__Check the Regular Trading Hours!!!__"
   ]
  },
  {
   "cell_type": "code",
   "execution_count": 61,
   "id": "fc543c96",
   "metadata": {},
   "outputs": [],
   "source": [
    "from ib_insync import * \n",
    "import pandas as pd\n",
    "import numpy as np\n",
    "import datetime as dt\n",
    "from IPython.display import display, clear_output\n",
    "util.startLoop() "
   ]
  },
  {
   "cell_type": "code",
   "execution_count": 62,
   "id": "fc405333",
   "metadata": {},
   "outputs": [
    {
     "data": {
      "text/plain": [
       "<IB connected to 127.0.0.1:7497 clientId=1>"
      ]
     },
     "execution_count": 62,
     "metadata": {},
     "output_type": "execute_result"
    }
   ],
   "source": [
    "ib = IB()\n",
    "ib.connect()"
   ]
  },
  {
   "cell_type": "code",
   "execution_count": 63,
   "id": "58cab0a4",
   "metadata": {},
   "outputs": [],
   "source": [
    "## strategy parameters\n",
    "\n",
    "# cross SMA \n",
    "sma_s = 50\n",
    "sma_l = 200\n",
    "\n",
    "# frequency\n",
    "freq = \"1 min\"\n",
    "\n",
    "# How much units to trad? \n",
    "units = 1000 \n",
    "\n",
    "# for data streaming\n",
    "contract = Forex('EURUSD') \n",
    "ib.qualifyContracts(contract)\n",
    "\n",
    "# for trading\n",
    "cfd = CFD(\"EUR\", currency = \"USD\") \n",
    "ib.qualifyContracts(cfd)\n",
    "conID = cfd.conId"
   ]
  },
  {
   "cell_type": "code",
   "execution_count": 69,
   "id": "bda6da5f",
   "metadata": {},
   "outputs": [
    {
     "data": {
      "text/plain": [
       "143916318"
      ]
     },
     "execution_count": 69,
     "metadata": {},
     "output_type": "execute_result"
    }
   ],
   "source": [
    "conID"
   ]
  },
  {
   "cell_type": "markdown",
   "id": "8c18c259",
   "metadata": {},
   "source": [
    "__barSizeSetting__: Time period of one bar. Must be one of:\n",
    "        __'1 secs', '5 secs', '10 secs' 15 secs', '30 secs',\n",
    "        '1 min', '2 mins', '3 mins', '5 mins', '10 mins', '15 mins',\n",
    "        '20 mins', '30 mins',\n",
    "        '1 hour', '2 hours', '3 hours', '4 hours', '8 hours',\n",
    "        '1 day', '1 week', '1 month'__."
   ]
  },
  {
   "cell_type": "code",
   "execution_count": 71,
   "id": "238ec94d",
   "metadata": {},
   "outputs": [],
   "source": [
    "# Callback function (on bat update)\n",
    "def onBarUpdate(bars, hasNewBar):  \n",
    "    global df, last_bar\n",
    "    \n",
    "    if bars[-1].date > last_bar: # if there is a new bar \n",
    "        last_bar = bars[-1].date\n",
    "    \n",
    "        ## Data Processing \n",
    "        # add the new bar to the data frame\n",
    "        df = pd.DataFrame(bars)[[\"date\", \"open\", \"high\", \"low\", \"close\"]].iloc[:-1] \n",
    "        df.set_index(\"date\", inplace = True)\n",
    "        \n",
    "        ####################### Trading Strategy ###########################\n",
    "        df = df[[\"close\"]].copy()\n",
    "        df[\"sma_s\"] = df.close.rolling(sma_s).mean()\n",
    "        df[\"sma_l\"] = df.close.rolling(sma_l).mean()\n",
    "        df.dropna(inplace = True)\n",
    "        df[\"position\"] = np.where(df[\"sma_s\"] > df[\"sma_l\"], 1, -1 )\n",
    "        ####################################################################\n",
    "        \n",
    "        ## Trading \n",
    "        # target = how many buy/sell?\n",
    "        # e.g.,  1 * 1000 = buy , -1 * 1000 = sell \n",
    "        target = df[\"position\"][-1] * units\n",
    "        # execute the trade\n",
    "        execute_trade(target = target)\n",
    "        \n",
    "        # Display\n",
    "        clear_output(wait=True)\n",
    "        display(df)\n",
    "    else:\n",
    "        pass\n",
    "\n",
    "\n",
    "# Function for execute trade! \n",
    "def execute_trade(target):\n",
    "    global current_pos\n",
    "    \n",
    "    ## 1. get current Position of this instrument!\n",
    "    try:\n",
    "        current_pos = [pos.position for pos in ib.positions() if pos.contract.conId == conID][0]\n",
    "    except: # if we dont have position\n",
    "        current_pos = 0 \n",
    "         \n",
    "    ## 2. identify required trades\n",
    "    # target -> the units that we want to trade (e.g: 1000 or -1000)\n",
    "    # current_pos -> the units from the current position (is we already in trade)\n",
    "    # we substruct the current position from the target position\n",
    "   \n",
    "    # Note**: if you dont understand what going on, run in your head \n",
    "    #         a simulation that the algorithem buy 1000 units, then sell\n",
    "    #         1000 units, and then buy again. run it in your haed. it\n",
    "    #         will make sance, i promiss.   \n",
    "    trades = target - current_pos\n",
    "        \n",
    "    ## 3. trade execution\n",
    "    # is the trades is positive, we should buy the contracts\n",
    "    if trades > 0:\n",
    "        side = \"BUY\"\n",
    "        order = MarketOrder(side, abs(trades))\n",
    "        trade = ib.placeOrder(cfd, order)  \n",
    "\n",
    "    # is the trades is negative, we should sell the contracts    \n",
    "    elif trades < 0:\n",
    "        side = \"SELL\"\n",
    "        order = MarketOrder(side, abs(trades))\n",
    "        trade = ib.placeOrder(cfd, order)\n",
    "    else:\n",
    "        pass"
   ]
  },
  {
   "cell_type": "markdown",
   "metadata": {},
   "source": [
    "if you didnt understend about `2. identify required trades`, let's run the simulation:\n",
    "\n",
    "1. we want to buy 1000 units.\n",
    "2. current_position = 0 (we dont have a position). so let'e take a long position:\n",
    "3. trades = units - current_position => 1000 - 0 = 1000\n",
    "4. 1000 >. 0, so we take a long position. \n",
    "5. now we want to take a short position, we sell 1000\n",
    "6. current position = 1000 (we trade 1000  units in long position)\n",
    "7. trades = units - current_position = -1000 - 1000 = -2000\n",
    "8. -2000 < 0, so we take a sell position\n",
    "9. current position = -1000 (becase we had 1000 - 2000 = -1000)\n",
    "10. now we want to take a long position of 1000 units.\n",
    "11. current position = -1000 (we've taken a short position!)\n",
    "12. trades = units - current_position = 1000 - (-1000) = 2000\n",
    "13. trades(2000) > 0, so we take long position.\n",
    "14. we'va -1000 from the prevuis tred (the short), so:\n",
    "15. we buy 2000, but we had -1000 in short, so we now in a long position of 1000\n",
    "\n",
    "Did you understood?"
   ]
  },
  {
   "cell_type": "code",
   "execution_count": 72,
   "id": "5285dd5e",
   "metadata": {},
   "outputs": [
    {
     "data": {
      "text/html": [
       "<div>\n",
       "<style scoped>\n",
       "    .dataframe tbody tr th:only-of-type {\n",
       "        vertical-align: middle;\n",
       "    }\n",
       "\n",
       "    .dataframe tbody tr th {\n",
       "        vertical-align: top;\n",
       "    }\n",
       "\n",
       "    .dataframe thead th {\n",
       "        text-align: right;\n",
       "    }\n",
       "</style>\n",
       "<table border=\"1\" class=\"dataframe\">\n",
       "  <thead>\n",
       "    <tr style=\"text-align: right;\">\n",
       "      <th></th>\n",
       "      <th>close</th>\n",
       "      <th>sma_s</th>\n",
       "      <th>sma_l</th>\n",
       "      <th>position</th>\n",
       "    </tr>\n",
       "    <tr>\n",
       "      <th>date</th>\n",
       "      <th></th>\n",
       "      <th></th>\n",
       "      <th></th>\n",
       "      <th></th>\n",
       "    </tr>\n",
       "  </thead>\n",
       "  <tbody>\n",
       "    <tr>\n",
       "      <th>2023-11-06 01:34:00+00:00</th>\n",
       "      <td>1.072840</td>\n",
       "      <td>1.072516</td>\n",
       "      <td>1.072666</td>\n",
       "      <td>-1</td>\n",
       "    </tr>\n",
       "    <tr>\n",
       "      <th>2023-11-06 01:35:00+00:00</th>\n",
       "      <td>1.072745</td>\n",
       "      <td>1.072518</td>\n",
       "      <td>1.072667</td>\n",
       "      <td>-1</td>\n",
       "    </tr>\n",
       "    <tr>\n",
       "      <th>2023-11-06 01:36:00+00:00</th>\n",
       "      <td>1.072680</td>\n",
       "      <td>1.072519</td>\n",
       "      <td>1.072668</td>\n",
       "      <td>-1</td>\n",
       "    </tr>\n",
       "    <tr>\n",
       "      <th>2023-11-06 01:37:00+00:00</th>\n",
       "      <td>1.072750</td>\n",
       "      <td>1.072523</td>\n",
       "      <td>1.072669</td>\n",
       "      <td>-1</td>\n",
       "    </tr>\n",
       "    <tr>\n",
       "      <th>2023-11-06 01:38:00+00:00</th>\n",
       "      <td>1.072780</td>\n",
       "      <td>1.072525</td>\n",
       "      <td>1.072671</td>\n",
       "      <td>-1</td>\n",
       "    </tr>\n",
       "    <tr>\n",
       "      <th>...</th>\n",
       "      <td>...</td>\n",
       "      <td>...</td>\n",
       "      <td>...</td>\n",
       "      <td>...</td>\n",
       "    </tr>\n",
       "    <tr>\n",
       "      <th>2023-11-06 14:33:00+00:00</th>\n",
       "      <td>1.074315</td>\n",
       "      <td>1.073902</td>\n",
       "      <td>1.074466</td>\n",
       "      <td>-1</td>\n",
       "    </tr>\n",
       "    <tr>\n",
       "      <th>2023-11-06 14:34:00+00:00</th>\n",
       "      <td>1.074195</td>\n",
       "      <td>1.073914</td>\n",
       "      <td>1.074463</td>\n",
       "      <td>-1</td>\n",
       "    </tr>\n",
       "    <tr>\n",
       "      <th>2023-11-06 14:35:00+00:00</th>\n",
       "      <td>1.074115</td>\n",
       "      <td>1.073923</td>\n",
       "      <td>1.074460</td>\n",
       "      <td>-1</td>\n",
       "    </tr>\n",
       "    <tr>\n",
       "      <th>2023-11-06 14:36:00+00:00</th>\n",
       "      <td>1.074235</td>\n",
       "      <td>1.073933</td>\n",
       "      <td>1.074458</td>\n",
       "      <td>-1</td>\n",
       "    </tr>\n",
       "    <tr>\n",
       "      <th>2023-11-06 14:37:00+00:00</th>\n",
       "      <td>1.074460</td>\n",
       "      <td>1.073944</td>\n",
       "      <td>1.074456</td>\n",
       "      <td>-1</td>\n",
       "    </tr>\n",
       "  </tbody>\n",
       "</table>\n",
       "<p>784 rows × 4 columns</p>\n",
       "</div>"
      ],
      "text/plain": [
       "                              close     sma_s     sma_l  position\n",
       "date                                                             \n",
       "2023-11-06 01:34:00+00:00  1.072840  1.072516  1.072666        -1\n",
       "2023-11-06 01:35:00+00:00  1.072745  1.072518  1.072667        -1\n",
       "2023-11-06 01:36:00+00:00  1.072680  1.072519  1.072668        -1\n",
       "2023-11-06 01:37:00+00:00  1.072750  1.072523  1.072669        -1\n",
       "2023-11-06 01:38:00+00:00  1.072780  1.072525  1.072671        -1\n",
       "...                             ...       ...       ...       ...\n",
       "2023-11-06 14:33:00+00:00  1.074315  1.073902  1.074466        -1\n",
       "2023-11-06 14:34:00+00:00  1.074195  1.073914  1.074463        -1\n",
       "2023-11-06 14:35:00+00:00  1.074115  1.073923  1.074460        -1\n",
       "2023-11-06 14:36:00+00:00  1.074235  1.073933  1.074458        -1\n",
       "2023-11-06 14:37:00+00:00  1.074460  1.073944  1.074456        -1\n",
       "\n",
       "[784 rows x 4 columns]"
      ]
     },
     "metadata": {},
     "output_type": "display_data"
    }
   ],
   "source": [
    "bars = ib.reqHistoricalData(\n",
    "        contract,\n",
    "        endDateTime='',\n",
    "        durationStr='1 D', # must be sufficiently long!!! (200 * 1 min)\n",
    "        barSizeSetting=freq,\n",
    "        whatToShow='MIDPOINT',\n",
    "        useRTH=True,\n",
    "        formatDate=2,\n",
    "        keepUpToDate=True)\n",
    "\n",
    "last_bar = bars[-1].date\n",
    "\n",
    "bars.updateEvent += onBarUpdate"
   ]
  },
  {
   "cell_type": "code",
   "execution_count": null,
   "id": "8c6b2059",
   "metadata": {},
   "outputs": [
    {
     "name": "stderr",
     "output_type": "stream",
     "text": [
      "Error 162, reqId 23: Historical Market Data Service error message:API historical data query cancelled: 23\n"
     ]
    }
   ],
   "source": [
    "ib.cancelHistoricalData(bars)"
   ]
  },
  {
   "cell_type": "code",
   "execution_count": 79,
   "id": "112f01d2",
   "metadata": {},
   "outputs": [
    {
     "data": {
      "text/html": [
       "<div>\n",
       "<style scoped>\n",
       "    .dataframe tbody tr th:only-of-type {\n",
       "        vertical-align: middle;\n",
       "    }\n",
       "\n",
       "    .dataframe tbody tr th {\n",
       "        vertical-align: top;\n",
       "    }\n",
       "\n",
       "    .dataframe thead th {\n",
       "        text-align: right;\n",
       "    }\n",
       "</style>\n",
       "<table border=\"1\" class=\"dataframe\">\n",
       "  <thead>\n",
       "    <tr style=\"text-align: right;\">\n",
       "      <th></th>\n",
       "      <th>close</th>\n",
       "      <th>sma_s</th>\n",
       "      <th>sma_l</th>\n",
       "      <th>position</th>\n",
       "    </tr>\n",
       "    <tr>\n",
       "      <th>date</th>\n",
       "      <th></th>\n",
       "      <th></th>\n",
       "      <th></th>\n",
       "      <th></th>\n",
       "    </tr>\n",
       "  </thead>\n",
       "  <tbody>\n",
       "    <tr>\n",
       "      <th>2023-11-06 01:34:00+00:00</th>\n",
       "      <td>1.072840</td>\n",
       "      <td>1.072516</td>\n",
       "      <td>1.072666</td>\n",
       "      <td>-1</td>\n",
       "    </tr>\n",
       "    <tr>\n",
       "      <th>2023-11-06 01:35:00+00:00</th>\n",
       "      <td>1.072745</td>\n",
       "      <td>1.072518</td>\n",
       "      <td>1.072667</td>\n",
       "      <td>-1</td>\n",
       "    </tr>\n",
       "    <tr>\n",
       "      <th>2023-11-06 01:36:00+00:00</th>\n",
       "      <td>1.072680</td>\n",
       "      <td>1.072519</td>\n",
       "      <td>1.072668</td>\n",
       "      <td>-1</td>\n",
       "    </tr>\n",
       "    <tr>\n",
       "      <th>2023-11-06 01:37:00+00:00</th>\n",
       "      <td>1.072750</td>\n",
       "      <td>1.072523</td>\n",
       "      <td>1.072669</td>\n",
       "      <td>-1</td>\n",
       "    </tr>\n",
       "    <tr>\n",
       "      <th>2023-11-06 01:38:00+00:00</th>\n",
       "      <td>1.072780</td>\n",
       "      <td>1.072525</td>\n",
       "      <td>1.072671</td>\n",
       "      <td>-1</td>\n",
       "    </tr>\n",
       "    <tr>\n",
       "      <th>...</th>\n",
       "      <td>...</td>\n",
       "      <td>...</td>\n",
       "      <td>...</td>\n",
       "      <td>...</td>\n",
       "    </tr>\n",
       "    <tr>\n",
       "      <th>2023-11-06 15:08:00+00:00</th>\n",
       "      <td>1.073600</td>\n",
       "      <td>1.074072</td>\n",
       "      <td>1.074323</td>\n",
       "      <td>-1</td>\n",
       "    </tr>\n",
       "    <tr>\n",
       "      <th>2023-11-06 15:09:00+00:00</th>\n",
       "      <td>1.073420</td>\n",
       "      <td>1.074062</td>\n",
       "      <td>1.074313</td>\n",
       "      <td>-1</td>\n",
       "    </tr>\n",
       "    <tr>\n",
       "      <th>2023-11-06 15:10:00+00:00</th>\n",
       "      <td>1.073145</td>\n",
       "      <td>1.074050</td>\n",
       "      <td>1.074302</td>\n",
       "      <td>-1</td>\n",
       "    </tr>\n",
       "    <tr>\n",
       "      <th>2023-11-06 15:11:00+00:00</th>\n",
       "      <td>1.072935</td>\n",
       "      <td>1.074033</td>\n",
       "      <td>1.074291</td>\n",
       "      <td>-1</td>\n",
       "    </tr>\n",
       "    <tr>\n",
       "      <th>2023-11-06 15:12:00+00:00</th>\n",
       "      <td>1.072870</td>\n",
       "      <td>1.074013</td>\n",
       "      <td>1.074279</td>\n",
       "      <td>-1</td>\n",
       "    </tr>\n",
       "  </tbody>\n",
       "</table>\n",
       "<p>819 rows × 4 columns</p>\n",
       "</div>"
      ],
      "text/plain": [
       "                              close     sma_s     sma_l  position\n",
       "date                                                             \n",
       "2023-11-06 01:34:00+00:00  1.072840  1.072516  1.072666        -1\n",
       "2023-11-06 01:35:00+00:00  1.072745  1.072518  1.072667        -1\n",
       "2023-11-06 01:36:00+00:00  1.072680  1.072519  1.072668        -1\n",
       "2023-11-06 01:37:00+00:00  1.072750  1.072523  1.072669        -1\n",
       "2023-11-06 01:38:00+00:00  1.072780  1.072525  1.072671        -1\n",
       "...                             ...       ...       ...       ...\n",
       "2023-11-06 15:08:00+00:00  1.073600  1.074072  1.074323        -1\n",
       "2023-11-06 15:09:00+00:00  1.073420  1.074062  1.074313        -1\n",
       "2023-11-06 15:10:00+00:00  1.073145  1.074050  1.074302        -1\n",
       "2023-11-06 15:11:00+00:00  1.072935  1.074033  1.074291        -1\n",
       "2023-11-06 15:12:00+00:00  1.072870  1.074013  1.074279        -1\n",
       "\n",
       "[819 rows x 4 columns]"
      ]
     },
     "execution_count": 79,
     "metadata": {},
     "output_type": "execute_result"
    }
   ],
   "source": [
    "df"
   ]
  },
  {
   "cell_type": "code",
   "execution_count": 80,
   "id": "cb0a88d1",
   "metadata": {},
   "outputs": [],
   "source": [
    "ib.disconnect()"
   ]
  },
  {
   "cell_type": "markdown",
   "metadata": {},
   "source": [
    "---"
   ]
  },
  {
   "cell_type": "markdown",
   "id": "a91b9644",
   "metadata": {},
   "source": [
    "# Trade Reporting\n",
    "- We can pull trade information "
   ]
  },
  {
   "cell_type": "code",
   "execution_count": 92,
   "id": "80e0e12b",
   "metadata": {},
   "outputs": [],
   "source": [
    "from ib_insync import * \n",
    "import pandas as pd\n",
    "import numpy as np\n",
    "import datetime as dt\n",
    "from IPython.display import display, clear_output\n",
    "util.startLoop()"
   ]
  },
  {
   "cell_type": "code",
   "execution_count": 93,
   "id": "d2a0a2c0",
   "metadata": {},
   "outputs": [
    {
     "data": {
      "text/plain": [
       "<IB connected to 127.0.0.1:7497 clientId=1>"
      ]
     },
     "execution_count": 93,
     "metadata": {},
     "output_type": "execute_result"
    }
   ],
   "source": [
    "ib = IB()\n",
    "ib.connect()"
   ]
  },
  {
   "cell_type": "code",
   "execution_count": 94,
   "id": "ee4b2599",
   "metadata": {},
   "outputs": [
    {
     "data": {
      "text/plain": [
       "[Fill(contract=CFD(conId=143916318, symbol='EUR', right='?', exchange='SMART', currency='USD', localSymbol='EUR.USD', tradingClass='EUR.USD'), execution=Execution(execId='000132a9.65487408.01.01', time=datetime.datetime(2023, 11, 6, 14, 35, 1, tzinfo=datetime.timezone.utc), acctNumber='DU8048713', exchange='SMART', side='SLD', shares=1000.0, price=1.07415, permId=150415978, clientId=1, orderId=24, liquidation=0, cumQty=1000.0, avgPrice=1.07415, orderRef='', evRule='', evMultiplier=0.0, modelCode='', lastLiquidity=2), commissionReport=CommissionReport(execId='000132a9.65487408.01.01', commission=2.0, currency='USD', realizedPNL=0.0, yield_=0.0, yieldRedemptionDate=0), time=datetime.datetime(2023, 11, 6, 14, 35, 1, tzinfo=datetime.timezone.utc)),\n",
       " Fill(contract=CFD(conId=143916318, symbol='EUR', right='?', exchange='SMART', currency='USD', localSymbol='EUR.USD', tradingClass='EUR.USD'), execution=Execution(execId='000132a9.654883be.01.01', time=datetime.datetime(2023, 11, 6, 15, 28, tzinfo=datetime.timezone.utc), acctNumber='DU8048713', exchange='SMART', side='BOT', shares=1000.0, price=1.0733, permId=150415981, clientId=1, orderId=30, liquidation=0, cumQty=1000.0, avgPrice=1.0733, orderRef='', evRule='', evMultiplier=0.0, modelCode='', lastLiquidity=2), commissionReport=CommissionReport(execId='000132a9.654883be.01.01', commission=2.0, currency='USD', realizedPNL=-3.15, yield_=0.0, yieldRedemptionDate=0), time=datetime.datetime(2023, 11, 6, 15, 28, tzinfo=datetime.timezone.utc)),\n",
       " Fill(contract=CFD(conId=143916318, symbol='EUR', right='?', exchange='SMART', currency='USD', localSymbol='EUR.USD', tradingClass='EUR.USD'), execution=Execution(execId='000132a9.654883bf.01.01', time=datetime.datetime(2023, 11, 6, 15, 28, tzinfo=datetime.timezone.utc), acctNumber='DU8048713', exchange='SMART', side='BOT', shares=1000.0, price=1.0733, permId=150415981, clientId=1, orderId=30, liquidation=0, cumQty=2000.0, avgPrice=1.0733, orderRef='', evRule='', evMultiplier=0.0, modelCode='', lastLiquidity=2), commissionReport=CommissionReport(execId='000132a9.654883bf.01.01', commission=0.0, currency='USD', realizedPNL=0.0, yield_=0.0, yieldRedemptionDate=0), time=datetime.datetime(2023, 11, 6, 15, 28, tzinfo=datetime.timezone.utc)),\n",
       " Fill(contract=CFD(conId=143916318, symbol='EUR', right='?', exchange='SMART', currency='USD', localSymbol='EUR.USD', tradingClass='EUR.USD'), execution=Execution(execId='000132a9.654884a0.01.01', time=datetime.datetime(2023, 11, 6, 15, 32, 2, tzinfo=datetime.timezone.utc), acctNumber='DU8048713', exchange='SMART', side='SLD', shares=1000.0, price=1.07325, permId=150415982, clientId=1, orderId=31, liquidation=0, cumQty=1000.0, avgPrice=1.07325, orderRef='', evRule='', evMultiplier=0.0, modelCode='', lastLiquidity=2), commissionReport=CommissionReport(execId='000132a9.654884a0.01.01', commission=2.0, currency='USD', realizedPNL=-2.05, yield_=0.0, yieldRedemptionDate=0), time=datetime.datetime(2023, 11, 6, 15, 32, 2, tzinfo=datetime.timezone.utc)),\n",
       " Fill(contract=CFD(conId=143916318, symbol='EUR', right='?', exchange='SMART', currency='USD', localSymbol='EUR.USD', tradingClass='EUR.USD'), execution=Execution(execId='000132a9.654884a1.01.01', time=datetime.datetime(2023, 11, 6, 15, 32, 2, tzinfo=datetime.timezone.utc), acctNumber='DU8048713', exchange='SMART', side='SLD', shares=1000.0, price=1.07325, permId=150415982, clientId=1, orderId=31, liquidation=0, cumQty=2000.0, avgPrice=1.07325, orderRef='', evRule='', evMultiplier=0.0, modelCode='', lastLiquidity=2), commissionReport=CommissionReport(execId='000132a9.654884a1.01.01', commission=0.0, currency='USD', realizedPNL=0.0, yield_=0.0, yieldRedemptionDate=0), time=datetime.datetime(2023, 11, 6, 15, 32, 2, tzinfo=datetime.timezone.utc)),\n",
       " Fill(contract=CFD(conId=143916318, symbol='EUR', right='?', exchange='SMART', currency='USD', localSymbol='EUR.USD', tradingClass='EUR.USD'), execution=Execution(execId='000132a9.65488530.01.01', time=datetime.datetime(2023, 11, 6, 15, 38, tzinfo=datetime.timezone.utc), acctNumber='DU8048713', exchange='SMART', side='BOT', shares=1000.0, price=1.0732, permId=150415983, clientId=1, orderId=32, liquidation=0, cumQty=1000.0, avgPrice=1.0732, orderRef='', evRule='', evMultiplier=0.0, modelCode='', lastLiquidity=2), commissionReport=CommissionReport(execId='000132a9.65488530.01.01', commission=2.0, currency='USD', realizedPNL=-1.95, yield_=0.0, yieldRedemptionDate=0), time=datetime.datetime(2023, 11, 6, 15, 38, tzinfo=datetime.timezone.utc)),\n",
       " Fill(contract=CFD(conId=143916318, symbol='EUR', right='?', exchange='SMART', currency='USD', localSymbol='EUR.USD', tradingClass='EUR.USD'), execution=Execution(execId='000132a9.65488531.01.01', time=datetime.datetime(2023, 11, 6, 15, 38, tzinfo=datetime.timezone.utc), acctNumber='DU8048713', exchange='SMART', side='BOT', shares=1000.0, price=1.0732, permId=150415983, clientId=1, orderId=32, liquidation=0, cumQty=2000.0, avgPrice=1.0732, orderRef='', evRule='', evMultiplier=0.0, modelCode='', lastLiquidity=2), commissionReport=CommissionReport(execId='000132a9.65488531.01.01', commission=0.0, currency='USD', realizedPNL=0.0, yield_=0.0, yieldRedemptionDate=0), time=datetime.datetime(2023, 11, 6, 15, 38, tzinfo=datetime.timezone.utc))]"
      ]
     },
     "execution_count": 94,
     "metadata": {},
     "output_type": "execute_result"
    }
   ],
   "source": [
    "# List of all fills from this session.\n",
    "ib.fills()"
   ]
  },
  {
   "cell_type": "code",
   "execution_count": 95,
   "id": "bb5d1924",
   "metadata": {},
   "outputs": [
    {
     "data": {
      "text/html": [
       "<div>\n",
       "<style scoped>\n",
       "    .dataframe tbody tr th:only-of-type {\n",
       "        vertical-align: middle;\n",
       "    }\n",
       "\n",
       "    .dataframe tbody tr th {\n",
       "        vertical-align: top;\n",
       "    }\n",
       "\n",
       "    .dataframe thead th {\n",
       "        text-align: right;\n",
       "    }\n",
       "</style>\n",
       "<table border=\"1\" class=\"dataframe\">\n",
       "  <thead>\n",
       "    <tr style=\"text-align: right;\">\n",
       "      <th></th>\n",
       "      <th>time</th>\n",
       "      <th>side</th>\n",
       "      <th>cumQty</th>\n",
       "      <th>avgPrice</th>\n",
       "    </tr>\n",
       "    <tr>\n",
       "      <th>execId</th>\n",
       "      <th></th>\n",
       "      <th></th>\n",
       "      <th></th>\n",
       "      <th></th>\n",
       "    </tr>\n",
       "  </thead>\n",
       "  <tbody>\n",
       "    <tr>\n",
       "      <th>000132a9.65487408.01.01</th>\n",
       "      <td>2023-11-06 14:35:01+00:00</td>\n",
       "      <td>SLD</td>\n",
       "      <td>1000.0</td>\n",
       "      <td>1.07415</td>\n",
       "    </tr>\n",
       "    <tr>\n",
       "      <th>000132a9.654883be.01.01</th>\n",
       "      <td>2023-11-06 15:28:00+00:00</td>\n",
       "      <td>BOT</td>\n",
       "      <td>1000.0</td>\n",
       "      <td>1.07330</td>\n",
       "    </tr>\n",
       "    <tr>\n",
       "      <th>000132a9.654883bf.01.01</th>\n",
       "      <td>2023-11-06 15:28:00+00:00</td>\n",
       "      <td>BOT</td>\n",
       "      <td>2000.0</td>\n",
       "      <td>1.07330</td>\n",
       "    </tr>\n",
       "    <tr>\n",
       "      <th>000132a9.654884a0.01.01</th>\n",
       "      <td>2023-11-06 15:32:02+00:00</td>\n",
       "      <td>SLD</td>\n",
       "      <td>1000.0</td>\n",
       "      <td>1.07325</td>\n",
       "    </tr>\n",
       "    <tr>\n",
       "      <th>000132a9.654884a1.01.01</th>\n",
       "      <td>2023-11-06 15:32:02+00:00</td>\n",
       "      <td>SLD</td>\n",
       "      <td>2000.0</td>\n",
       "      <td>1.07325</td>\n",
       "    </tr>\n",
       "    <tr>\n",
       "      <th>000132a9.65488530.01.01</th>\n",
       "      <td>2023-11-06 15:38:00+00:00</td>\n",
       "      <td>BOT</td>\n",
       "      <td>1000.0</td>\n",
       "      <td>1.07320</td>\n",
       "    </tr>\n",
       "    <tr>\n",
       "      <th>000132a9.65488531.01.01</th>\n",
       "      <td>2023-11-06 15:38:00+00:00</td>\n",
       "      <td>BOT</td>\n",
       "      <td>2000.0</td>\n",
       "      <td>1.07320</td>\n",
       "    </tr>\n",
       "  </tbody>\n",
       "</table>\n",
       "</div>"
      ],
      "text/plain": [
       "                                             time side  cumQty  avgPrice\n",
       "execId                                                                  \n",
       "000132a9.65487408.01.01 2023-11-06 14:35:01+00:00  SLD  1000.0   1.07415\n",
       "000132a9.654883be.01.01 2023-11-06 15:28:00+00:00  BOT  1000.0   1.07330\n",
       "000132a9.654883bf.01.01 2023-11-06 15:28:00+00:00  BOT  2000.0   1.07330\n",
       "000132a9.654884a0.01.01 2023-11-06 15:32:02+00:00  SLD  1000.0   1.07325\n",
       "000132a9.654884a1.01.01 2023-11-06 15:32:02+00:00  SLD  2000.0   1.07325\n",
       "000132a9.65488530.01.01 2023-11-06 15:38:00+00:00  BOT  1000.0   1.07320\n",
       "000132a9.65488531.01.01 2023-11-06 15:38:00+00:00  BOT  2000.0   1.07320"
      ]
     },
     "execution_count": 95,
     "metadata": {},
     "output_type": "execute_result"
    }
   ],
   "source": [
    "# show that in data frame \n",
    "util.df([fs.execution for fs in ib.fills()])[[\"execId\", \"time\", \"side\", \"cumQty\", \"avgPrice\"]].set_index(\"execId\")\n",
    "\n",
    "# This is all the fills that we made."
   ]
  },
  {
   "cell_type": "code",
   "execution_count": 96,
   "id": "3e076ba5",
   "metadata": {},
   "outputs": [
    {
     "data": {
      "text/html": [
       "<div>\n",
       "<style scoped>\n",
       "    .dataframe tbody tr th:only-of-type {\n",
       "        vertical-align: middle;\n",
       "    }\n",
       "\n",
       "    .dataframe tbody tr th {\n",
       "        vertical-align: top;\n",
       "    }\n",
       "\n",
       "    .dataframe thead th {\n",
       "        text-align: right;\n",
       "    }\n",
       "</style>\n",
       "<table border=\"1\" class=\"dataframe\">\n",
       "  <thead>\n",
       "    <tr style=\"text-align: right;\">\n",
       "      <th></th>\n",
       "      <th>realizedPNL</th>\n",
       "    </tr>\n",
       "    <tr>\n",
       "      <th>execId</th>\n",
       "      <th></th>\n",
       "    </tr>\n",
       "  </thead>\n",
       "  <tbody>\n",
       "    <tr>\n",
       "      <th>000132a9.65487408.01.01</th>\n",
       "      <td>0.00</td>\n",
       "    </tr>\n",
       "    <tr>\n",
       "      <th>000132a9.654883be.01.01</th>\n",
       "      <td>-3.15</td>\n",
       "    </tr>\n",
       "    <tr>\n",
       "      <th>000132a9.654883bf.01.01</th>\n",
       "      <td>0.00</td>\n",
       "    </tr>\n",
       "    <tr>\n",
       "      <th>000132a9.654884a0.01.01</th>\n",
       "      <td>-2.05</td>\n",
       "    </tr>\n",
       "    <tr>\n",
       "      <th>000132a9.654884a1.01.01</th>\n",
       "      <td>0.00</td>\n",
       "    </tr>\n",
       "    <tr>\n",
       "      <th>000132a9.65488530.01.01</th>\n",
       "      <td>-1.95</td>\n",
       "    </tr>\n",
       "    <tr>\n",
       "      <th>000132a9.65488531.01.01</th>\n",
       "      <td>0.00</td>\n",
       "    </tr>\n",
       "  </tbody>\n",
       "</table>\n",
       "</div>"
      ],
      "text/plain": [
       "                         realizedPNL\n",
       "execId                              \n",
       "000132a9.65487408.01.01         0.00\n",
       "000132a9.654883be.01.01        -3.15\n",
       "000132a9.654883bf.01.01         0.00\n",
       "000132a9.654884a0.01.01        -2.05\n",
       "000132a9.654884a1.01.01         0.00\n",
       "000132a9.65488530.01.01        -1.95\n",
       "000132a9.65488531.01.01         0.00"
      ]
     },
     "execution_count": 96,
     "metadata": {},
     "output_type": "execute_result"
    }
   ],
   "source": [
    "util.df([fs.commissionReport for fs in ib.fills()])[[\"execId\", \"realizedPNL\"]].set_index(\"execId\")"
   ]
  },
  {
   "cell_type": "code",
   "execution_count": 97,
   "id": "a4cf5a6e",
   "metadata": {},
   "outputs": [],
   "source": [
    "# strategy parameters\n",
    "sma_s = 2\n",
    "sma_l = 5\n",
    "freq = \"1 min\"\n",
    "units = 1000\n",
    "contract = Forex('EURUSD') \n",
    "ib.qualifyContracts(contract)\n",
    "cfd = CFD(\"EUR\", currency = \"USD\")\n",
    "ib.qualifyContracts(cfd)\n",
    "conID = cfd.conId"
   ]
  },
  {
   "cell_type": "code",
   "execution_count": 98,
   "id": "0f800229",
   "metadata": {},
   "outputs": [],
   "source": [
    "def onBarUpdate(bars, hasNewBar):  \n",
    "    global df, last_bar\n",
    "    \n",
    "    if bars[-1].date > last_bar: \n",
    "        last_bar = bars[-1].date\n",
    "    \n",
    "        # Data Processing\n",
    "        df = pd.DataFrame(bars)[[\"date\", \"open\", \"high\", \"low\", \"close\"]].iloc[:-1] \n",
    "        df.set_index(\"date\", inplace = True)\n",
    "        \n",
    "        ####################### Trading Strategy ###########################\n",
    "        df = df[[\"close\"]].copy()\n",
    "        df[\"sma_s\"] = df.close.rolling(sma_s).mean()\n",
    "        df[\"sma_l\"] = df.close.rolling(sma_l).mean()\n",
    "        df.dropna(inplace = True)\n",
    "        df[\"position\"] = np.where(df[\"sma_s\"] > df[\"sma_l\"], 1, -1 )\n",
    "        ####################################################################\n",
    "        \n",
    "        # Trading\n",
    "        target = df[\"position\"][-1] * units\n",
    "        execute_trade(target = target)\n",
    "        \n",
    "        # Display\n",
    "        clear_output(wait=True)\n",
    "        display(df)\n",
    "    else:\n",
    "        try:\n",
    "            trade_reporting()\n",
    "        except:\n",
    "            pass\n",
    "\n",
    "def execute_trade(target):\n",
    "    global current_pos\n",
    "    \n",
    "    # 1. get current Position\n",
    "    try:\n",
    "        current_pos = [pos.position for pos in ib.positions() if pos.contract.conId == conID][0]\n",
    "    except:\n",
    "        current_pos = 0\n",
    "         \n",
    "    # 2. identify required trades\n",
    "    trades = target - current_pos\n",
    "        \n",
    "    # 3. trade execution\n",
    "    if trades > 0:\n",
    "        side = \"BUY\"\n",
    "        order = MarketOrder(side, abs(trades))\n",
    "        trade = ib.placeOrder(cfd, order)  \n",
    "    elif trades < 0:\n",
    "        side = \"SELL\"\n",
    "        order = MarketOrder(side, abs(trades))\n",
    "        trade = ib.placeOrder(cfd, order)\n",
    "    else:\n",
    "        pass\n",
    "\n",
    "# Function for recive information on the repost\n",
    "def trade_reporting():\n",
    "    global report\n",
    "    \n",
    "    # get information on the execution\n",
    "    fill_df = util.df([fs.execution for fs in ib.fills()])[[\"execId\", \"time\", \"side\", \"cumQty\", \"avgPrice\"]].set_index(\"execId\")\n",
    "    # get commision report (realizedPNL -> profit/loss)\n",
    "    profit_df = util.df([fs.commissionReport for fs in ib.fills()])[[\"execId\", \"realizedPNL\"]].set_index(\"execId\")\n",
    "    \n",
    "    # concatinate between `fill_df` and `profit_df` data frames\n",
    "    report = pd.concat([fill_df, profit_df], axis = 1).set_index(\"time\").loc[session_start:]\n",
    "    # group by time! \n",
    "    report = report.groupby(\"time\").agg({\"side\":\"first\", \"cumQty\":\"max\", \"avgPrice\":\"mean\", \"realizedPNL\":\"sum\"})\n",
    "    # add a new column of the cummelative sum \n",
    "    report[\"cumPNL\"] = report.realizedPNL.cumsum()\n",
    "        \n",
    "    clear_output(wait=True)\n",
    "    display(df, report)"
   ]
  },
  {
   "cell_type": "code",
   "execution_count": null,
   "id": "6a624a53",
   "metadata": {},
   "outputs": [
    {
     "data": {
      "text/html": [
       "<div>\n",
       "<style scoped>\n",
       "    .dataframe tbody tr th:only-of-type {\n",
       "        vertical-align: middle;\n",
       "    }\n",
       "\n",
       "    .dataframe tbody tr th {\n",
       "        vertical-align: top;\n",
       "    }\n",
       "\n",
       "    .dataframe thead th {\n",
       "        text-align: right;\n",
       "    }\n",
       "</style>\n",
       "<table border=\"1\" class=\"dataframe\">\n",
       "  <thead>\n",
       "    <tr style=\"text-align: right;\">\n",
       "      <th></th>\n",
       "      <th>close</th>\n",
       "      <th>sma_s</th>\n",
       "      <th>sma_l</th>\n",
       "      <th>position</th>\n",
       "    </tr>\n",
       "    <tr>\n",
       "      <th>date</th>\n",
       "      <th></th>\n",
       "      <th></th>\n",
       "      <th></th>\n",
       "      <th></th>\n",
       "    </tr>\n",
       "  </thead>\n",
       "  <tbody>\n",
       "    <tr>\n",
       "      <th>2023-11-05 22:15:20+00:00</th>\n",
       "      <td>1.072490</td>\n",
       "      <td>1.072490</td>\n",
       "      <td>1.072478</td>\n",
       "      <td>1</td>\n",
       "    </tr>\n",
       "    <tr>\n",
       "      <th>2023-11-05 22:15:25+00:00</th>\n",
       "      <td>1.072490</td>\n",
       "      <td>1.072490</td>\n",
       "      <td>1.072480</td>\n",
       "      <td>1</td>\n",
       "    </tr>\n",
       "    <tr>\n",
       "      <th>2023-11-05 22:15:30+00:00</th>\n",
       "      <td>1.072490</td>\n",
       "      <td>1.072490</td>\n",
       "      <td>1.072490</td>\n",
       "      <td>-1</td>\n",
       "    </tr>\n",
       "    <tr>\n",
       "      <th>2023-11-05 22:15:35+00:00</th>\n",
       "      <td>1.072490</td>\n",
       "      <td>1.072490</td>\n",
       "      <td>1.072490</td>\n",
       "      <td>-1</td>\n",
       "    </tr>\n",
       "    <tr>\n",
       "      <th>2023-11-05 22:15:40+00:00</th>\n",
       "      <td>1.072490</td>\n",
       "      <td>1.072490</td>\n",
       "      <td>1.072490</td>\n",
       "      <td>-1</td>\n",
       "    </tr>\n",
       "    <tr>\n",
       "      <th>...</th>\n",
       "      <td>...</td>\n",
       "      <td>...</td>\n",
       "      <td>...</td>\n",
       "      <td>...</td>\n",
       "    </tr>\n",
       "    <tr>\n",
       "      <th>2023-11-06 15:42:05+00:00</th>\n",
       "      <td>1.073715</td>\n",
       "      <td>1.073717</td>\n",
       "      <td>1.073735</td>\n",
       "      <td>-1</td>\n",
       "    </tr>\n",
       "    <tr>\n",
       "      <th>2023-11-06 15:42:10+00:00</th>\n",
       "      <td>1.073745</td>\n",
       "      <td>1.073730</td>\n",
       "      <td>1.073741</td>\n",
       "      <td>-1</td>\n",
       "    </tr>\n",
       "    <tr>\n",
       "      <th>2023-11-06 15:42:15+00:00</th>\n",
       "      <td>1.073740</td>\n",
       "      <td>1.073742</td>\n",
       "      <td>1.073737</td>\n",
       "      <td>1</td>\n",
       "    </tr>\n",
       "    <tr>\n",
       "      <th>2023-11-06 15:42:20+00:00</th>\n",
       "      <td>1.073785</td>\n",
       "      <td>1.073762</td>\n",
       "      <td>1.073741</td>\n",
       "      <td>1</td>\n",
       "    </tr>\n",
       "    <tr>\n",
       "      <th>2023-11-06 15:42:25+00:00</th>\n",
       "      <td>1.073725</td>\n",
       "      <td>1.073755</td>\n",
       "      <td>1.073742</td>\n",
       "      <td>1</td>\n",
       "    </tr>\n",
       "  </tbody>\n",
       "</table>\n",
       "<p>12566 rows × 4 columns</p>\n",
       "</div>"
      ],
      "text/plain": [
       "                              close     sma_s     sma_l  position\n",
       "date                                                             \n",
       "2023-11-05 22:15:20+00:00  1.072490  1.072490  1.072478         1\n",
       "2023-11-05 22:15:25+00:00  1.072490  1.072490  1.072480         1\n",
       "2023-11-05 22:15:30+00:00  1.072490  1.072490  1.072490        -1\n",
       "2023-11-05 22:15:35+00:00  1.072490  1.072490  1.072490        -1\n",
       "2023-11-05 22:15:40+00:00  1.072490  1.072490  1.072490        -1\n",
       "...                             ...       ...       ...       ...\n",
       "2023-11-06 15:42:05+00:00  1.073715  1.073717  1.073735        -1\n",
       "2023-11-06 15:42:10+00:00  1.073745  1.073730  1.073741        -1\n",
       "2023-11-06 15:42:15+00:00  1.073740  1.073742  1.073737         1\n",
       "2023-11-06 15:42:20+00:00  1.073785  1.073762  1.073741         1\n",
       "2023-11-06 15:42:25+00:00  1.073725  1.073755  1.073742         1\n",
       "\n",
       "[12566 rows x 4 columns]"
      ]
     },
     "metadata": {},
     "output_type": "display_data"
    }
   ],
   "source": [
    "session_start = pd.to_datetime(dt.datetime.utcnow()).tz_localize(\"utc\")\n",
    "bars = ib.reqHistoricalData(\n",
    "        contract,\n",
    "        endDateTime='',\n",
    "        durationStr='1 D',\n",
    "        barSizeSetting=freq,\n",
    "        whatToShow='MIDPOINT',\n",
    "        useRTH=True,\n",
    "        formatDate=2,\n",
    "        keepUpToDate=True)\n",
    "\n",
    "last_bar = bars[-1].date\n",
    "bars.updateEvent += onBarUpdate"
   ]
  },
  {
   "cell_type": "code",
   "execution_count": null,
   "id": "317e0639",
   "metadata": {},
   "outputs": [
    {
     "name": "stderr",
     "output_type": "stream",
     "text": [
      "Error 162, reqId 37: Historical Market Data Service error message:API historical data query cancelled: 37\n"
     ]
    }
   ],
   "source": [
    "ib.cancelHistoricalData(bars) "
   ]
  },
  {
   "cell_type": "code",
   "execution_count": 109,
   "id": "c7641a58",
   "metadata": {},
   "outputs": [],
   "source": [
    "ib.disconnect()"
   ]
  },
  {
   "cell_type": "markdown",
   "metadata": {},
   "source": [
    "---"
   ]
  },
  {
   "cell_type": "markdown",
   "id": "279ce160",
   "metadata": {},
   "source": [
    "# Stop the Trading Session"
   ]
  },
  {
   "cell_type": "markdown",
   "id": "608c22a7",
   "metadata": {},
   "source": [
    "Potential Triggers:\n",
    "- stop at a certain time (e.g. 21:59 UTC time)\n",
    "- stop once a certain profit/loss limit has been reached\n",
    "- etc."
   ]
  },
  {
   "cell_type": "markdown",
   "id": "834a81fb",
   "metadata": {},
   "source": [
    "Required Actions:\n",
    "- Stop Stream/Session\n",
    "- Close Open Position (go neutral)"
   ]
  },
  {
   "cell_type": "code",
   "execution_count": 1,
   "id": "797e866a",
   "metadata": {},
   "outputs": [],
   "source": [
    "from ib_insync import * \n",
    "import pandas as pd\n",
    "import numpy as np\n",
    "import datetime as dt\n",
    "from IPython.display import display, clear_output\n",
    "util.startLoop()"
   ]
  },
  {
   "cell_type": "code",
   "execution_count": 2,
   "id": "f7d265a7",
   "metadata": {},
   "outputs": [
    {
     "data": {
      "text/plain": [
       "<IB connected to 127.0.0.1:7497 clientId=1>"
      ]
     },
     "execution_count": 2,
     "metadata": {},
     "output_type": "execute_result"
    }
   ],
   "source": [
    "ib = IB()\n",
    "ib.connect()"
   ]
  },
  {
   "cell_type": "code",
   "execution_count": 13,
   "id": "2865a698",
   "metadata": {},
   "outputs": [],
   "source": [
    "# strategy parameters\n",
    "sma_s = 2\n",
    "sma_l = 5\n",
    "freq = \"1 min\"\n",
    "units = 1000\n",
    "end_time = dt.time(15, 56, 0) # stop condition 15:54:00\n",
    "contract = Forex('EURUSD') \n",
    "ib.qualifyContracts(contract)\n",
    "cfd = CFD(\"EUR\", currency = \"USD\")\n",
    "ib.qualifyContracts(cfd)\n",
    "conID = cfd.conId"
   ]
  },
  {
   "cell_type": "code",
   "execution_count": 14,
   "id": "747e2f6f",
   "metadata": {},
   "outputs": [
    {
     "data": {
      "text/plain": [
       "datetime.time(15, 55, 35, 50635)"
      ]
     },
     "execution_count": 14,
     "metadata": {},
     "output_type": "execute_result"
    }
   ],
   "source": [
    "dt.datetime.utcnow().time()"
   ]
  },
  {
   "cell_type": "code",
   "execution_count": 15,
   "id": "0d99d25d",
   "metadata": {},
   "outputs": [
    {
     "data": {
      "text/plain": [
       "False"
      ]
     },
     "execution_count": 15,
     "metadata": {},
     "output_type": "execute_result"
    }
   ],
   "source": [
    "dt.datetime.utcnow().time() >= end_time"
   ]
  },
  {
   "cell_type": "code",
   "execution_count": 16,
   "id": "2c18795b",
   "metadata": {},
   "outputs": [],
   "source": [
    "def onBarUpdate(bars, hasNewBar):  \n",
    "    global df, last_bar\n",
    "    \n",
    "    if bars[-1].date > last_bar: \n",
    "        last_bar = bars[-1].date\n",
    "    \n",
    "        # Data Processing\n",
    "        df = pd.DataFrame(bars)[[\"date\", \"open\", \"high\", \"low\", \"close\"]].iloc[:-1] \n",
    "        df.set_index(\"date\", inplace = True)\n",
    "        \n",
    "        ####################### Trading Strategy ###########################\n",
    "        df = df[[\"close\"]].copy()\n",
    "        df[\"sma_s\"] = df.close.rolling(sma_s).mean()\n",
    "        df[\"sma_l\"] = df.close.rolling(sma_l).mean()\n",
    "        df.dropna(inplace = True)\n",
    "        df[\"position\"] = np.where(df[\"sma_s\"] > df[\"sma_l\"], 1, -1 )\n",
    "        ####################################################################\n",
    "        \n",
    "        # Trading\n",
    "        target = df[\"position\"][-1] * units\n",
    "        execute_trade(target = target)\n",
    "        \n",
    "        # Display\n",
    "        clear_output(wait=True)\n",
    "        display(df)\n",
    "    else:\n",
    "        try:\n",
    "            trade_reporting()\n",
    "        except:\n",
    "            pass\n",
    "\n",
    "def execute_trade(target):\n",
    "    global current_pos\n",
    "    \n",
    "    # 1. get current Position\n",
    "    try:\n",
    "        current_pos = [pos.position for pos in ib.positions() if pos.contract.conId == conID][0]\n",
    "    except:\n",
    "        current_pos = 0\n",
    "         \n",
    "    # 2. identify required trades\n",
    "    trades = target - current_pos\n",
    "        \n",
    "    # 3. trade execution\n",
    "    if trades > 0:\n",
    "        side = \"BUY\"\n",
    "        order = MarketOrder(side, abs(trades))\n",
    "        trade = ib.placeOrder(cfd, order)  \n",
    "    elif trades < 0:\n",
    "        side = \"SELL\"\n",
    "        order = MarketOrder(side, abs(trades))\n",
    "        trade = ib.placeOrder(cfd, order)\n",
    "    else:\n",
    "        pass\n",
    "\n",
    "def trade_reporting():\n",
    "    global report\n",
    "    \n",
    "    fill_df = util.df([fs.execution for fs in ib.fills()])[[\"execId\", \"time\", \"side\", \"cumQty\", \"avgPrice\"]].set_index(\"execId\")\n",
    "    profit_df = util.df([fs.commissionReport for fs in ib.fills()])[[\"execId\", \"realizedPNL\"]].set_index(\"execId\")\n",
    "    report = pd.concat([fill_df, profit_df], axis = 1).set_index(\"time\").loc[session_start:]\n",
    "    report = report.groupby(\"time\").agg({\"side\":\"first\", \"cumQty\":\"max\", \"avgPrice\":\"mean\", \"realizedPNL\":\"sum\"})\n",
    "    report[\"cumPNL\"] = report.realizedPNL.cumsum()\n",
    "        \n",
    "    clear_output(wait=True)\n",
    "    display(df, report)\n",
    "  "
   ]
  },
  {
   "cell_type": "code",
   "execution_count": 17,
   "id": "d7e6a365",
   "metadata": {},
   "outputs": [
    {
     "data": {
      "text/html": [
       "<div>\n",
       "<style scoped>\n",
       "    .dataframe tbody tr th:only-of-type {\n",
       "        vertical-align: middle;\n",
       "    }\n",
       "\n",
       "    .dataframe tbody tr th {\n",
       "        vertical-align: top;\n",
       "    }\n",
       "\n",
       "    .dataframe thead th {\n",
       "        text-align: right;\n",
       "    }\n",
       "</style>\n",
       "<table border=\"1\" class=\"dataframe\">\n",
       "  <thead>\n",
       "    <tr style=\"text-align: right;\">\n",
       "      <th></th>\n",
       "      <th>close</th>\n",
       "      <th>sma_s</th>\n",
       "      <th>sma_l</th>\n",
       "      <th>position</th>\n",
       "    </tr>\n",
       "    <tr>\n",
       "      <th>date</th>\n",
       "      <th></th>\n",
       "      <th></th>\n",
       "      <th></th>\n",
       "      <th></th>\n",
       "    </tr>\n",
       "  </thead>\n",
       "  <tbody>\n",
       "    <tr>\n",
       "      <th>2023-11-05 22:19:00+00:00</th>\n",
       "      <td>1.072475</td>\n",
       "      <td>1.072472</td>\n",
       "      <td>1.072475</td>\n",
       "      <td>-1</td>\n",
       "    </tr>\n",
       "    <tr>\n",
       "      <th>2023-11-05 22:20:00+00:00</th>\n",
       "      <td>1.072460</td>\n",
       "      <td>1.072468</td>\n",
       "      <td>1.072472</td>\n",
       "      <td>-1</td>\n",
       "    </tr>\n",
       "    <tr>\n",
       "      <th>2023-11-05 22:21:00+00:00</th>\n",
       "      <td>1.072485</td>\n",
       "      <td>1.072472</td>\n",
       "      <td>1.072471</td>\n",
       "      <td>1</td>\n",
       "    </tr>\n",
       "    <tr>\n",
       "      <th>2023-11-05 22:22:00+00:00</th>\n",
       "      <td>1.072505</td>\n",
       "      <td>1.072495</td>\n",
       "      <td>1.072479</td>\n",
       "      <td>1</td>\n",
       "    </tr>\n",
       "    <tr>\n",
       "      <th>2023-11-05 22:23:00+00:00</th>\n",
       "      <td>1.072505</td>\n",
       "      <td>1.072505</td>\n",
       "      <td>1.072486</td>\n",
       "      <td>1</td>\n",
       "    </tr>\n",
       "    <tr>\n",
       "      <th>...</th>\n",
       "      <td>...</td>\n",
       "      <td>...</td>\n",
       "      <td>...</td>\n",
       "      <td>...</td>\n",
       "    </tr>\n",
       "    <tr>\n",
       "      <th>2023-11-06 15:51:00+00:00</th>\n",
       "      <td>1.074295</td>\n",
       "      <td>1.074183</td>\n",
       "      <td>1.074023</td>\n",
       "      <td>1</td>\n",
       "    </tr>\n",
       "    <tr>\n",
       "      <th>2023-11-06 15:52:00+00:00</th>\n",
       "      <td>1.074270</td>\n",
       "      <td>1.074283</td>\n",
       "      <td>1.074082</td>\n",
       "      <td>1</td>\n",
       "    </tr>\n",
       "    <tr>\n",
       "      <th>2023-11-06 15:53:00+00:00</th>\n",
       "      <td>1.074270</td>\n",
       "      <td>1.074270</td>\n",
       "      <td>1.074152</td>\n",
       "      <td>1</td>\n",
       "    </tr>\n",
       "    <tr>\n",
       "      <th>2023-11-06 15:54:00+00:00</th>\n",
       "      <td>1.074170</td>\n",
       "      <td>1.074220</td>\n",
       "      <td>1.074215</td>\n",
       "      <td>1</td>\n",
       "    </tr>\n",
       "    <tr>\n",
       "      <th>2023-11-06 15:55:00+00:00</th>\n",
       "      <td>1.074220</td>\n",
       "      <td>1.074195</td>\n",
       "      <td>1.074245</td>\n",
       "      <td>-1</td>\n",
       "    </tr>\n",
       "  </tbody>\n",
       "</table>\n",
       "<p>1057 rows × 4 columns</p>\n",
       "</div>"
      ],
      "text/plain": [
       "                              close     sma_s     sma_l  position\n",
       "date                                                             \n",
       "2023-11-05 22:19:00+00:00  1.072475  1.072472  1.072475        -1\n",
       "2023-11-05 22:20:00+00:00  1.072460  1.072468  1.072472        -1\n",
       "2023-11-05 22:21:00+00:00  1.072485  1.072472  1.072471         1\n",
       "2023-11-05 22:22:00+00:00  1.072505  1.072495  1.072479         1\n",
       "2023-11-05 22:23:00+00:00  1.072505  1.072505  1.072486         1\n",
       "...                             ...       ...       ...       ...\n",
       "2023-11-06 15:51:00+00:00  1.074295  1.074183  1.074023         1\n",
       "2023-11-06 15:52:00+00:00  1.074270  1.074283  1.074082         1\n",
       "2023-11-06 15:53:00+00:00  1.074270  1.074270  1.074152         1\n",
       "2023-11-06 15:54:00+00:00  1.074170  1.074220  1.074215         1\n",
       "2023-11-06 15:55:00+00:00  1.074220  1.074195  1.074245        -1\n",
       "\n",
       "[1057 rows x 4 columns]"
      ]
     },
     "metadata": {},
     "output_type": "display_data"
    },
    {
     "data": {
      "text/html": [
       "<div>\n",
       "<style scoped>\n",
       "    .dataframe tbody tr th:only-of-type {\n",
       "        vertical-align: middle;\n",
       "    }\n",
       "\n",
       "    .dataframe tbody tr th {\n",
       "        vertical-align: top;\n",
       "    }\n",
       "\n",
       "    .dataframe thead th {\n",
       "        text-align: right;\n",
       "    }\n",
       "</style>\n",
       "<table border=\"1\" class=\"dataframe\">\n",
       "  <thead>\n",
       "    <tr style=\"text-align: right;\">\n",
       "      <th></th>\n",
       "      <th>side</th>\n",
       "      <th>cumQty</th>\n",
       "      <th>avgPrice</th>\n",
       "      <th>realizedPNL</th>\n",
       "      <th>cumPNL</th>\n",
       "    </tr>\n",
       "    <tr>\n",
       "      <th>time</th>\n",
       "      <th></th>\n",
       "      <th></th>\n",
       "      <th></th>\n",
       "      <th></th>\n",
       "      <th></th>\n",
       "    </tr>\n",
       "  </thead>\n",
       "  <tbody>\n",
       "    <tr>\n",
       "      <th>2023-11-06 15:56:00+00:00</th>\n",
       "      <td>SLD</td>\n",
       "      <td>2000.0</td>\n",
       "      <td>1.07415</td>\n",
       "      <td>-1.60</td>\n",
       "      <td>-1.60</td>\n",
       "    </tr>\n",
       "    <tr>\n",
       "      <th>2023-11-06 15:56:02+00:00</th>\n",
       "      <td>BOT</td>\n",
       "      <td>1000.0</td>\n",
       "      <td>1.07420</td>\n",
       "      <td>-2.05</td>\n",
       "      <td>-3.65</td>\n",
       "    </tr>\n",
       "  </tbody>\n",
       "</table>\n",
       "</div>"
      ],
      "text/plain": [
       "                          side  cumQty  avgPrice  realizedPNL  cumPNL\n",
       "time                                                                 \n",
       "2023-11-06 15:56:00+00:00  SLD  2000.0   1.07415        -1.60   -1.60\n",
       "2023-11-06 15:56:02+00:00  BOT  1000.0   1.07420        -2.05   -3.65"
      ]
     },
     "metadata": {},
     "output_type": "display_data"
    },
    {
     "name": "stdout",
     "output_type": "stream",
     "text": [
      "Session Stopped.\n"
     ]
    }
   ],
   "source": [
    "# start trading session\n",
    "session_start = pd.to_datetime(dt.datetime.utcnow()).tz_localize(\"utc\")\n",
    "bars = ib.reqHistoricalData(\n",
    "        contract,\n",
    "        endDateTime='',\n",
    "        durationStr='1 D',\n",
    "        barSizeSetting=freq,\n",
    "        whatToShow='MIDPOINT',\n",
    "        useRTH=True,\n",
    "        formatDate=2,\n",
    "        keepUpToDate=True)\n",
    "last_bar = bars[-1].date\n",
    "bars.updateEvent += onBarUpdate\n",
    "\n",
    "## stop trading session\n",
    "# if the time pass the time limit that we defined, its stop the session. \n",
    "while True:\n",
    "    ib.sleep(5) # check every 5 seconds\n",
    "    if dt.datetime.utcnow().time() >= end_time: # if stop conditions has been met\n",
    "        execute_trade(target = 0) # close open position \n",
    "        ib.cancelHistoricalData(bars) # stop stream\n",
    "        ib.sleep(10)\n",
    "        try:\n",
    "            trade_reporting() # final reporting\n",
    "        except:\n",
    "            pass\n",
    "        print(\"Session Stopped.\")\n",
    "        ib.disconnect()\n",
    "        break\n",
    "    else:\n",
    "        pass"
   ]
  },
  {
   "cell_type": "markdown",
   "metadata": {},
   "source": [
    "---"
   ]
  },
  {
   "cell_type": "markdown",
   "id": "16a02a34",
   "metadata": {},
   "source": [
    "# **Trading other Strategies**"
   ]
  },
  {
   "cell_type": "markdown",
   "id": "67b877d5",
   "metadata": {},
   "source": [
    "## __Strategy 1__: Simple Contrarian Strategy (1min / window = 1)"
   ]
  },
  {
   "cell_type": "code",
   "execution_count": null,
   "id": "ece36f56",
   "metadata": {},
   "outputs": [],
   "source": [
    "from ib_insync import * \n",
    "import pandas as pd\n",
    "import numpy as np\n",
    "import datetime as dt\n",
    "from IPython.display import display, clear_output\n",
    "util.startLoop()"
   ]
  },
  {
   "cell_type": "code",
   "execution_count": null,
   "id": "d67af75f",
   "metadata": {},
   "outputs": [],
   "source": [
    "ib = IB()\n",
    "ib.connect()"
   ]
  },
  {
   "cell_type": "code",
   "execution_count": null,
   "id": "890541cc",
   "metadata": {},
   "outputs": [],
   "source": [
    "# strategy parameters\n",
    "freq = \"1 min\"\n",
    "window = 1\n",
    "units = 1000\n",
    "end_time = dt.time(21, 59, 0) # stop condition\n",
    "contract = Forex('EURUSD') \n",
    "ib.qualifyContracts(contract)\n",
    "cfd = CFD(\"EUR\", currency = \"USD\")\n",
    "ib.qualifyContracts(cfd)\n",
    "conID = cfd.conId"
   ]
  },
  {
   "cell_type": "code",
   "execution_count": null,
   "id": "b1ef525b",
   "metadata": {},
   "outputs": [],
   "source": [
    "def onBarUpdate(bars, hasNewBar):  \n",
    "    global df, last_bar\n",
    "    \n",
    "    if bars[-1].date > last_bar: \n",
    "        last_bar = bars[-1].date\n",
    "    \n",
    "        # Data Processing\n",
    "        df = pd.DataFrame(bars)[[\"date\", \"open\", \"high\", \"low\", \"close\"]].iloc[:-1] \n",
    "        df.set_index(\"date\", inplace = True)\n",
    "        \n",
    "        ####################### Trading Strategy ###########################\n",
    "        df = df[[\"close\"]].copy()\n",
    "        df[\"returns\"] = np.log(df[\"close\"] / df[\"close\"].shift())\n",
    "        df[\"position\"] = -np.sign(df.returns.rolling(window).mean())\n",
    "        ####################################################################\n",
    "        \n",
    "        # Trading\n",
    "        target = df[\"position\"][-1] * units\n",
    "        execute_trade(target = target)\n",
    "        \n",
    "        # Display\n",
    "        clear_output(wait=True)\n",
    "        display(df)\n",
    "    else:\n",
    "        try:\n",
    "            trade_reporting()\n",
    "        except:\n",
    "            pass\n",
    "\n",
    "def execute_trade(target):\n",
    "    global current_pos\n",
    "    \n",
    "    # 1. get current Position\n",
    "    try:\n",
    "        current_pos = [pos.position for pos in ib.positions() if pos.contract.conId == conID][0]\n",
    "    except:\n",
    "        current_pos = 0\n",
    "         \n",
    "    # 2. identify required trades\n",
    "    trades = target - current_pos\n",
    "        \n",
    "    # 3. trade execution\n",
    "    if trades > 0:\n",
    "        side = \"BUY\"\n",
    "        order = MarketOrder(side, abs(trades))\n",
    "        trade = ib.placeOrder(cfd, order)  \n",
    "    elif trades < 0:\n",
    "        side = \"SELL\"\n",
    "        order = MarketOrder(side, abs(trades))\n",
    "        trade = ib.placeOrder(cfd, order)\n",
    "    else:\n",
    "        pass\n",
    "\n",
    "def trade_reporting():\n",
    "    global report\n",
    "    \n",
    "    fill_df = util.df([fs.execution for fs in ib.fills()])[[\"execId\", \"time\", \"side\", \"cumQty\", \"avgPrice\"]].set_index(\"execId\")\n",
    "    profit_df = util.df([fs.commissionReport for fs in ib.fills()])[[\"execId\", \"realizedPNL\"]].set_index(\"execId\")\n",
    "    report = pd.concat([fill_df, profit_df], axis = 1).set_index(\"time\").loc[session_start:]\n",
    "    report = report.groupby(\"time\").agg({\"side\":\"first\", \"cumQty\":\"max\", \"avgPrice\":\"mean\", \"realizedPNL\":\"sum\"})\n",
    "    report[\"cumPNL\"] = report.realizedPNL.cumsum()\n",
    "        \n",
    "    clear_output(wait=True)\n",
    "    display(df, report)\n",
    "  "
   ]
  },
  {
   "cell_type": "code",
   "execution_count": null,
   "id": "dcab5fe7",
   "metadata": {},
   "outputs": [],
   "source": [
    "# start trading session\n",
    "session_start = pd.to_datetime(dt.datetime.utcnow()).tz_localize(\"utc\")\n",
    "bars = ib.reqHistoricalData(\n",
    "        contract,\n",
    "        endDateTime='',\n",
    "        durationStr='1 D',\n",
    "        barSizeSetting=freq,\n",
    "        whatToShow='MIDPOINT',\n",
    "        useRTH=True,\n",
    "        formatDate=2,\n",
    "        keepUpToDate=True)\n",
    "last_bar = bars[-1].date\n",
    "bars.updateEvent += onBarUpdate\n",
    "\n",
    "# stop trading session\n",
    "while True:\n",
    "    ib.sleep(5) # check every 5 seconds\n",
    "    if dt.datetime.utcnow().time() >= end_time: # if stop conditions has been met\n",
    "        execute_trade(target = 0) # close open position \n",
    "        ib.cancelHistoricalData(bars) # stop stream\n",
    "        ib.sleep(10)\n",
    "        try:\n",
    "            trade_reporting() # final reporting\n",
    "        except:\n",
    "            pass\n",
    "        print(\"Session Stopped.\")\n",
    "        ib.disconnect()\n",
    "        break\n",
    "    else:\n",
    "        pass"
   ]
  },
  {
   "cell_type": "markdown",
   "metadata": {},
   "source": [
    "---"
   ]
  },
  {
   "cell_type": "markdown",
   "id": "de5186e0",
   "metadata": {},
   "source": [
    "## __Strategy 2__: Bollinger Bands SMA 20 (minutes) / 1 Standard Deviation"
   ]
  },
  {
   "cell_type": "code",
   "execution_count": null,
   "id": "0c6f0b00",
   "metadata": {},
   "outputs": [],
   "source": [
    "from ib_insync import * \n",
    "import pandas as pd\n",
    "import numpy as np\n",
    "import datetime as dt\n",
    "from IPython.display import display, clear_output\n",
    "util.startLoop()"
   ]
  },
  {
   "cell_type": "code",
   "execution_count": null,
   "id": "0eacaab3",
   "metadata": {},
   "outputs": [],
   "source": [
    "ib = IB()\n",
    "ib.connect()"
   ]
  },
  {
   "cell_type": "code",
   "execution_count": null,
   "id": "3f3ce757",
   "metadata": {},
   "outputs": [],
   "source": [
    "# strategy parameters\n",
    "freq = \"1 min\"\n",
    "sma = 20\n",
    "dev = 1\n",
    "units = 1000\n",
    "end_time = dt.time(13, 35, 0) # stop condition\n",
    "contract = Forex('EURUSD') \n",
    "ib.qualifyContracts(contract)\n",
    "cfd = CFD(\"EUR\", currency = \"USD\")\n",
    "ib.qualifyContracts(cfd)\n",
    "conID = cfd.conId"
   ]
  },
  {
   "cell_type": "code",
   "execution_count": null,
   "id": "ce0ffcf6",
   "metadata": {},
   "outputs": [],
   "source": [
    "def onBarUpdate(bars, hasNewBar):  \n",
    "    global df, last_bar\n",
    "    \n",
    "    if bars[-1].date > last_bar: \n",
    "        last_bar = bars[-1].date\n",
    "    \n",
    "        # Data Processing\n",
    "        df = pd.DataFrame(bars)[[\"date\", \"open\", \"high\", \"low\", \"close\"]].iloc[:-1] \n",
    "        df.set_index(\"date\", inplace = True)\n",
    "        \n",
    "        ####################### Trading Strategy ###########################\n",
    "        df = df[[\"close\"]].copy()\n",
    "        df[\"SMA\"] = df[\"close\"].rolling(sma).mean()\n",
    "        df[\"Lower\"] = df[\"SMA\"] - df[\"close\"].rolling(sma).std() * dev\n",
    "        df[\"Upper\"] = df[\"SMA\"] + df[\"close\"].rolling(sma).std() * dev\n",
    "        df[\"distance\"] = df[\"close\"] - df.SMA\n",
    "        df[\"position\"] = np.where(df[\"close\"] < df.Lower, 1, np.nan)\n",
    "        df[\"position\"] = np.where(df[\"close\"] > df.Upper, -1, df[\"position\"])\n",
    "        df[\"position\"] = np.where(df.distance * df.distance.shift(1) < 0, 0, df[\"position\"])\n",
    "        df[\"position\"] = df.position.ffill().fillna(0)\n",
    "        ####################################################################\n",
    "        \n",
    "        # Trading\n",
    "        target = df[\"position\"][-1] * units\n",
    "        execute_trade(target = target)\n",
    "        \n",
    "        # Display\n",
    "        clear_output(wait=True)\n",
    "        display(df)\n",
    "    else:\n",
    "        try:\n",
    "            trade_reporting()\n",
    "        except:\n",
    "            pass\n",
    "\n",
    "def execute_trade(target):\n",
    "    global current_pos\n",
    "    \n",
    "    # 1. get current Position\n",
    "    try:\n",
    "        current_pos = [pos.position for pos in ib.positions() if pos.contract.conId == conID][0]\n",
    "    except:\n",
    "        current_pos = 0\n",
    "         \n",
    "    # 2. identify required trades\n",
    "    trades = target - current_pos\n",
    "        \n",
    "    # 3. trade execution\n",
    "    if trades > 0:\n",
    "        side = \"BUY\"\n",
    "        order = MarketOrder(side, abs(trades))\n",
    "        trade = ib.placeOrder(cfd, order)  \n",
    "    elif trades < 0:\n",
    "        side = \"SELL\"\n",
    "        order = MarketOrder(side, abs(trades))\n",
    "        trade = ib.placeOrder(cfd, order)\n",
    "    else:\n",
    "        pass\n",
    "\n",
    "def trade_reporting():\n",
    "    global report\n",
    "    \n",
    "    fill_df = util.df([fs.execution for fs in ib.fills()])[[\"execId\", \"time\", \"side\", \"cumQty\", \"avgPrice\"]].set_index(\"execId\")\n",
    "    profit_df = util.df([fs.commissionReport for fs in ib.fills()])[[\"execId\", \"realizedPNL\"]].set_index(\"execId\")\n",
    "    report = pd.concat([fill_df, profit_df], axis = 1).set_index(\"time\").loc[session_start:]\n",
    "    report = report.groupby(\"time\").agg({\"side\":\"first\", \"cumQty\":\"max\", \"avgPrice\":\"mean\", \"realizedPNL\":\"sum\"})\n",
    "    report[\"cumPNL\"] = report.realizedPNL.cumsum()\n",
    "        \n",
    "    clear_output(wait=True)\n",
    "    display(df, report)\n",
    "  "
   ]
  },
  {
   "cell_type": "code",
   "execution_count": null,
   "id": "38b2681f",
   "metadata": {},
   "outputs": [],
   "source": [
    "# start trading session\n",
    "session_start = pd.to_datetime(dt.datetime.utcnow()).tz_localize(\"utc\")\n",
    "bars = ib.reqHistoricalData(\n",
    "        contract,\n",
    "        endDateTime='',\n",
    "        durationStr='1 D',\n",
    "        barSizeSetting=freq,\n",
    "        whatToShow='MIDPOINT',\n",
    "        useRTH=True,\n",
    "        formatDate=2,\n",
    "        keepUpToDate=True)\n",
    "last_bar = bars[-1].date\n",
    "bars.updateEvent += onBarUpdate\n",
    "\n",
    "# stop trading session\n",
    "while True:\n",
    "    ib.sleep(5) # check every 5 seconds\n",
    "    if dt.datetime.utcnow().time() >= end_time: # if stop conditions has been met\n",
    "        execute_trade(target = 0) # close open position \n",
    "        ib.cancelHistoricalData(bars) # stop stream\n",
    "        ib.sleep(10)\n",
    "        try:\n",
    "            trade_reporting() # final reporting\n",
    "        except:\n",
    "            pass\n",
    "        print(\"Session Stopped.\")\n",
    "        ib.disconnect()\n",
    "        break\n",
    "    else:\n",
    "        pass"
   ]
  },
  {
   "cell_type": "code",
   "execution_count": null,
   "id": "b269846d",
   "metadata": {},
   "outputs": [],
   "source": []
  }
 ],
 "metadata": {
  "kernelspec": {
   "display_name": "Python 3 (ipykernel)",
   "language": "python",
   "name": "python3"
  },
  "language_info": {
   "codemirror_mode": {
    "name": "ipython",
    "version": 3
   },
   "file_extension": ".py",
   "mimetype": "text/x-python",
   "name": "python",
   "nbconvert_exporter": "python",
   "pygments_lexer": "ipython3",
   "version": "3.11.3"
  }
 },
 "nbformat": 4,
 "nbformat_minor": 5
}
